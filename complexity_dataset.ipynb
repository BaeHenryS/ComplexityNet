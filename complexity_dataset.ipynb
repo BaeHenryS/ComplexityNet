{
 "cells": [
  {
   "cell_type": "code",
   "execution_count": 1,
   "metadata": {},
   "outputs": [
    {
     "name": "stdout",
     "output_type": "stream",
     "text": [
      "Requirement already satisfied: openai in /Users/henrybae/miniconda3/envs/tensorflow/lib/python3.10/site-packages (1.3.3)\n",
      "Requirement already satisfied: anyio<4,>=3.5.0 in /Users/henrybae/miniconda3/envs/tensorflow/lib/python3.10/site-packages (from openai) (3.7.1)\n",
      "Requirement already satisfied: distro<2,>=1.7.0 in /Users/henrybae/miniconda3/envs/tensorflow/lib/python3.10/site-packages (from openai) (1.8.0)\n",
      "Requirement already satisfied: httpx<1,>=0.23.0 in /Users/henrybae/miniconda3/envs/tensorflow/lib/python3.10/site-packages (from openai) (0.25.1)\n",
      "Requirement already satisfied: pydantic<3,>=1.9.0 in /Users/henrybae/miniconda3/envs/tensorflow/lib/python3.10/site-packages (from openai) (2.5.1)\n",
      "Requirement already satisfied: tqdm>4 in /Users/henrybae/miniconda3/envs/tensorflow/lib/python3.10/site-packages (from openai) (4.66.1)\n",
      "Requirement already satisfied: typing-extensions<5,>=4.5 in /Users/henrybae/miniconda3/envs/tensorflow/lib/python3.10/site-packages (from openai) (4.8.0)\n",
      "Requirement already satisfied: idna>=2.8 in /Users/henrybae/miniconda3/envs/tensorflow/lib/python3.10/site-packages (from anyio<4,>=3.5.0->openai) (3.4)\n",
      "Requirement already satisfied: sniffio>=1.1 in /Users/henrybae/miniconda3/envs/tensorflow/lib/python3.10/site-packages (from anyio<4,>=3.5.0->openai) (1.3.0)\n",
      "Requirement already satisfied: exceptiongroup in /Users/henrybae/miniconda3/envs/tensorflow/lib/python3.10/site-packages (from anyio<4,>=3.5.0->openai) (1.1.2)\n",
      "Requirement already satisfied: certifi in /Users/henrybae/miniconda3/envs/tensorflow/lib/python3.10/site-packages (from httpx<1,>=0.23.0->openai) (2023.7.22)\n",
      "Requirement already satisfied: httpcore in /Users/henrybae/miniconda3/envs/tensorflow/lib/python3.10/site-packages (from httpx<1,>=0.23.0->openai) (1.0.2)\n",
      "Requirement already satisfied: annotated-types>=0.4.0 in /Users/henrybae/miniconda3/envs/tensorflow/lib/python3.10/site-packages (from pydantic<3,>=1.9.0->openai) (0.6.0)\n",
      "Requirement already satisfied: pydantic-core==2.14.3 in /Users/henrybae/miniconda3/envs/tensorflow/lib/python3.10/site-packages (from pydantic<3,>=1.9.0->openai) (2.14.3)\n",
      "Requirement already satisfied: h11<0.15,>=0.13 in /Users/henrybae/miniconda3/envs/tensorflow/lib/python3.10/site-packages (from httpcore->httpx<1,>=0.23.0->openai) (0.14.0)\n"
     ]
    }
   ],
   "source": [
    "!pip install openai"
   ]
  },
  {
   "cell_type": "code",
   "execution_count": null,
   "metadata": {},
   "outputs": [],
   "source": [
    "def generateCode(model): \n",
    "    "
   ]
  },
  {
   "cell_type": "code",
   "execution_count": 10,
   "metadata": {},
   "outputs": [],
   "source": [
    "import time \n",
    "import jsonlines\n",
    "import os\n",
    "import openai\n",
    "from openai import OpenAI\n",
    "\n",
    "openai.api_key = os.environ.get('OPENAI_API_KEY',\"\")\n",
    "client = OpenAI(api_key=os.environ.get('OPENAI_API_KEY',\"\"), )"
   ]
  },
  {
   "cell_type": "code",
   "execution_count": 25,
   "metadata": {},
   "outputs": [],
   "source": [
    "def getCodeFormat(code_input):\n",
    "    # Make an OPENAI API Call to only return the function call and its inputs\n",
    "    '''EXAMPLE:\n",
    "    INPUT: class Pair(object): def __init__(self, a, b): self.a = a self.b = b def max_chain_length(arr, n): max = 0 mcl = [1 for i in range(n)] for i in range(1, n): for j in range(0, i): if (arr[i].a > arr[j].b and mcl[i] < mcl[j] + 1): mcl[i] = mcl[j] + 1 for i in range(n): if (max < mcl[i]): max = mcl[i] return max\n",
    "    \n",
    "    OUTPUT: Class Pair(object) def max_chain_length(arr, n)\n",
    "    '''\n",
    "\n",
    "    response = client.chat.completions.create(\n",
    "        model=\"gpt-3.5-turbo-1106\",\n",
    "        messages=[\n",
    "            {\n",
    "                \"role\": \"system\",\n",
    "                \"content\": \"Return only the function definition and its inputs from the code given by the user. Example: INPUT: class Pair(object): def __init__(self, a, b): self.a = a self.b = b def max_chain_length(arr, n): max = 0 mcl = [1 for i in range(n)] for i in range(1, n): for j in range(0, i): if (arr[i].a > arr[j].b and mcl[i] < mcl[j] + 1): mcl[i] = mcl[j] + 1 for i in range(n): if (max < mcl[i]): max = mcl[i] return max OUTPUT: Class Pair(object) def max_chain_length(arr, n) \"\n",
    "            },\n",
    "            {\n",
    "                \"role\": \"user\",\n",
    "                \"content\": code_input\n",
    "            }\n",
    "        ],\n",
    "        temperature=1,\n",
    "        max_tokens=1024,\n",
    "        top_p=1,\n",
    "        frequency_penalty=0,\n",
    "        presence_penalty=0\n",
    "    )\n",
    "    \n",
    "    responseText = response.choices[0].message.content\n",
    "\n",
    "    # Remove the ```python and ``` from the response\n",
    "    responseText = responseText.replace(\"```python\", \"\")\n",
    "    responseText = responseText.replace(\"```\", \"\")\n",
    "\n",
    "    return responseText\n",
    "\n",
    "    "
   ]
  },
  {
   "cell_type": "code",
   "execution_count": 30,
   "metadata": {},
   "outputs": [],
   "source": [
    "def generateCode(modelType): \n",
    "    # Models: \"gpt-4-1106-preview\", \"gpt-3.5-turbo-1106\"\n",
    "    response = client.chat.completions.create(\n",
    "    model=modelType,\n",
    "    messages=[\n",
    "        {\n",
    "            \"role\": \"system\",\n",
    "            \"content\": \"You are an expert in writing Python code. You will generate a Python Script that will complete the task outlined by the user. You will not provide any explanations, and only return the Python Script without the explanation of the code. \"\n",
    "        },\n",
    "        {\n",
    "            \"role\": \"user\",\n",
    "            \"content\": userPrompt\n",
    "        }\n",
    "    ],\n",
    "    temperature=1,\n",
    "    max_tokens=2047,\n",
    "    top_p=1,\n",
    "    frequency_penalty=0,\n",
    "    presence_penalty=0\n",
    "    )\n",
    "    responseText = response.choices[0].message.content\n",
    "\n",
    "    # Remove the ```python and ``` from the response\n",
    "    responseText = responseText.replace(\"```python\", \"\")\n",
    "    responseText = responseText.replace(\"```\", \"\")\n",
    "\n",
    "\n",
    "    return responseText\n",
    "\n",
    "\n",
    "\n",
    "    "
   ]
  },
  {
   "cell_type": "code",
   "execution_count": null,
   "metadata": {},
   "outputs": [],
   "source": []
  },
  {
   "cell_type": "code",
   "execution_count": 37,
   "metadata": {},
   "outputs": [],
   "source": [
    "def checkCorrectness(output, obj):\n",
    "    # Execute the code:\n",
    "    exec(output)\n",
    "    \n",
    "    assertion_code = obj['test_list']\n",
    "\n",
    "    success = True\n",
    "    for assertion in assertion_code:\n",
    "        try:\n",
    "            exec(assertion)\n",
    "            print(\"Code Passed Assertions\")\n",
    "        except:\n",
    "            # Continue to the next example and print the error\n",
    "            print(\"Code Failed Assertions\")\n",
    "            print(assertion)\n",
    "            success = False\n",
    "\n",
    "    return success\n",
    "    \n",
    "\n",
    "    "
   ]
  },
  {
   "cell_type": "code",
   "execution_count": 38,
   "metadata": {},
   "outputs": [
    {
     "name": "stdout",
     "output_type": "stream",
     "text": [
      "Running Example: 0\n",
      "Function Call\n",
      "def min_cost(cost, m, n)\n"
     ]
    }
   ],
   "source": [
    "max_loop = 10\n",
    "i = 0\n",
    "\n",
    "# GPT4 Model\n",
    "# Open JSONL File:\n",
    "with jsonlines.open('mbpp.jsonl') as reader: \n",
    "    # Loop through each example\n",
    "    for obj in reader:\n",
    "        print(\"Running Example: \" + str(i))\n",
    "        prompt = obj['text']\n",
    "        code = obj['code']\n",
    "        #print(obj['code'])\n",
    "        # Call the getCodeFormat function to get the function call and its inputs\n",
    "        function_call = getCodeFormat(code)\n",
    "        print(\"Function Call\")\n",
    "        print(function_call)\n",
    "        userPrompt =  prompt + \" The name of the function should be \"  + function_call + \"\\n\\n\"\n",
    "\n",
    "\n",
    "        responseText_gpt4 = generateCode(\"gpt-4-1106-preview\")\n",
    "        responseText_gpt3_5 = generateCode(\"gpt-3.5-turbo-1106\")\n",
    "\n",
    "        # Check the correctness of the code\n",
    "        success_gpt4 = checkCorrectness(responseText_gpt4, obj)\n",
    "        success_gpt3_5 = checkCorrectness(responseText_gpt3_5, obj)\n",
    "        \n",
    "    \n",
    "\n",
    "        # Write to JSONL File\n",
    "        obj[\"method2_gpt4_output\"] = responseText_gpt4\n",
    "        obj[\"method2_gpt3_5_output\"] = responseText_gpt3_5\n",
    "        obj[\"method2_gpt4_success\"] = success_gpt4\n",
    "        obj[\"method2_gpt3_5_success\"] = success_gpt3_5\n",
    "\n",
    "        with jsonlines.open('mbpp_method2.jsonl', mode='a') as writer:\n",
    "            writer.write(obj)\n",
    "        \n",
    "        \n",
    "        \n",
    "        time.sleep(5)\n",
    "\n",
    "        \n",
    "        # terminate loop for testing\n",
    "        i += 1\n",
    "        if i == max_loop:\n",
    "            break\n"
   ]
  },
  {
   "cell_type": "code",
   "execution_count": 74,
   "metadata": {},
   "outputs": [
    {
     "name": "stdout",
     "output_type": "stream",
     "text": [
      "Success: 16 out of 10\n"
     ]
    }
   ],
   "source": [
    "print(\"Success: \" + str(success) + \" out of \" + str(i))"
   ]
  },
  {
   "cell_type": "code",
   "execution_count": 76,
   "metadata": {},
   "outputs": [
    {
     "name": "stdout",
     "output_type": "stream",
     "text": [
      "Success: 21 out of 10\n"
     ]
    }
   ],
   "source": [
    "print(\"Success: \" + str(success) + \" out of \" + str(i))"
   ]
  },
  {
   "cell_type": "code",
   "execution_count": 77,
   "metadata": {},
   "outputs": [
    {
     "name": "stdout",
     "output_type": "stream",
     "text": [
      "Number of Examples: 974\n"
     ]
    }
   ],
   "source": [
    "# See number of examples in the JSONL file\n",
    "\n",
    "with jsonlines.open('mbpp.jsonl') as reader:\n",
    "    i = 0\n",
    "    for obj in reader:\n",
    "        i += 1\n",
    "print(\"Number of Examples: \" + str(i))"
   ]
  },
  {
   "cell_type": "code",
   "execution_count": 33,
   "metadata": {},
   "outputs": [
    {
     "name": "stdout",
     "output_type": "stream",
     "text": [
      "\u001b[31mERROR: Could not find a version that satisfies the requirement maxsize (from versions: none)\u001b[0m\u001b[31m\n",
      "\u001b[0m\u001b[31mERROR: No matching distribution found for maxsize\u001b[0m\u001b[31m\n",
      "\u001b[0m\u001b[31mERROR: Could not find a version that satisfies the requirement itemgetter (from versions: none)\u001b[0m\u001b[31m\n",
      "\u001b[0m\u001b[31mERROR: No matching distribution found for itemgetter\u001b[0m\u001b[31m\n",
      "\u001b[0m\u001b[31mERROR: Could not find a version that satisfies the requirement array (from versions: none)\u001b[0m\u001b[31m\n",
      "\u001b[0m\u001b[31mERROR: No matching distribution found for array\u001b[0m\u001b[31m\n",
      "\u001b[0m\u001b[31mERROR: Could not find a version that satisfies the requirement collections (from versions: none)\u001b[0m\u001b[31m\n",
      "\u001b[0m\u001b[31mERROR: No matching distribution found for collections\u001b[0m\u001b[31m\n",
      "\u001b[0m\u001b[31mERROR: Could not find a version that satisfies the requirement bisect (from versions: none)\u001b[0m\u001b[31m\n",
      "\u001b[0m\u001b[31mERROR: No matching distribution found for bisect\u001b[0m\u001b[31m\n",
      "\u001b[0mCollecting eq\n",
      "  Downloading eq-0.0.10.tar.gz (28 kB)\n",
      "  Preparing metadata (setup.py) ... \u001b[?25ldone\n",
      "\u001b[?25hBuilding wheels for collected packages: eq\n",
      "  Building wheel for eq (setup.py) ... \u001b[?25ldone\n",
      "\u001b[?25h  Created wheel for eq: filename=eq-0.0.10-py3-none-any.whl size=31906 sha256=95e38dc31f26b636acc74176b0782dd2da148c3fcd26aed53a91f4e1d4ceefb5\n",
      "  Stored in directory: /Users/henrybae/Library/Caches/pip/wheels/eb/86/0b/f87c419524c84b0ceaff9cfe7dcdd7f41fa9ad95b026608c1d\n",
      "Successfully built eq\n",
      "Installing collected packages: eq\n",
      "Successfully installed eq-0.0.10\n",
      "\u001b[31mERROR: Could not find a version that satisfies the requirement cmath (from versions: none)\u001b[0m\u001b[31m\n",
      "\u001b[0m\u001b[31mERROR: No matching distribution found for cmath\u001b[0m\u001b[31m\n",
      "\u001b[0m\u001b[31mERROR: Could not find a version that satisfies the requirement combinations (from versions: none)\u001b[0m\u001b[31m\n",
      "\u001b[0m\u001b[31mERROR: No matching distribution found for combinations\u001b[0m\u001b[31m\n",
      "\u001b[0m\u001b[31mERROR: Could not find a version that satisfies the requirement groupby (from versions: none)\u001b[0m\u001b[31m\n",
      "\u001b[0m\u001b[31mERROR: No matching distribution found for groupby\u001b[0m\u001b[31m\n",
      "\u001b[0m\u001b[31mERROR: Could not find a version that satisfies the requirement combinations_with_replacement (from versions: none)\u001b[0m\u001b[31m\n",
      "\u001b[0m\u001b[31mERROR: No matching distribution found for combinations_with_replacement\u001b[0m\u001b[31m\n",
      "\u001b[0mCollecting Counter\n",
      "  Downloading Counter-1.0.0.tar.gz (5.2 kB)\n",
      "  Preparing metadata (setup.py) ... \u001b[?25ldone\n",
      "\u001b[?25hBuilding wheels for collected packages: Counter\n",
      "  Building wheel for Counter (setup.py) ... \u001b[?25ldone\n",
      "\u001b[?25h  Created wheel for Counter: filename=Counter-1.0.0-py3-none-any.whl size=5394 sha256=22296e05b09e4dcf72a81ae88952ef2221711d489e7acf4858f47145fc1a7190\n",
      "  Stored in directory: /Users/henrybae/Library/Caches/pip/wheels/e3/02/6d/d5c0838427a060718c6060ae4d24da95a0e0df0d7a3dab8040\n",
      "Successfully built Counter\n",
      "Installing collected packages: Counter\n",
      "Successfully installed Counter-1.0.0\n",
      "Collecting OrderedDict\n",
      "  Downloading ordereddict-1.1.tar.gz (2.1 kB)\n",
      "  Preparing metadata (setup.py) ... \u001b[?25ldone\n",
      "\u001b[?25hBuilding wheels for collected packages: OrderedDict\n",
      "  Building wheel for OrderedDict (setup.py) ... \u001b[?25ldone\n",
      "\u001b[?25h  Created wheel for OrderedDict: filename=ordereddict-1.1-py3-none-any.whl size=3509 sha256=c5cae3b4f17b5994fbc9224714b0bdd6f535d94a1f20ed9eb14bec1641f627ab\n",
      "  Stored in directory: /Users/henrybae/Library/Caches/pip/wheels/40/fb/87/4202399f8bbef929a0fc53944f251b67cfb1af6b39348a588c\n",
      "Successfully built OrderedDict\n",
      "Installing collected packages: OrderedDict\n",
      "Successfully installed OrderedDict-1.1\n",
      "\u001b[31mERROR: Could not find a version that satisfies the requirement heappop (from versions: none)\u001b[0m\u001b[31m\n",
      "\u001b[0m\u001b[31mERROR: No matching distribution found for heappop\u001b[0m\u001b[31m\n",
      "\u001b[0mCollecting merge\n",
      "  Downloading merge-1.0.0.zip (1.1 kB)\n",
      "  Preparing metadata (setup.py) ... \u001b[?25ldone\n",
      "\u001b[?25hBuilding wheels for collected packages: merge\n",
      "  Building wheel for merge (setup.py) ... \u001b[?25ldone\n",
      "\u001b[?25h  Created wheel for merge: filename=merge-1.0.0-py3-none-any.whl size=1466 sha256=86f9bf27732c9e6c3b3f639577181d52457ed1eb578825c1ae5d99795af43087\n",
      "  Stored in directory: /Users/henrybae/Library/Caches/pip/wheels/05/dd/d8/def14d2e509c76947b5c561b30a68602ebdbb6d4c985618743\n",
      "Successfully built merge\n",
      "Installing collected packages: merge\n",
      "Successfully installed merge-1.0.0\n",
      "\u001b[31mERROR: Could not find a version that satisfies the requirement heapq (from versions: none)\u001b[0m\u001b[31m\n",
      "\u001b[0m\u001b[31mERROR: No matching distribution found for heapq\u001b[0m\u001b[31m\n",
      "\u001b[0m\u001b[31mERROR: Could not find a version that satisfies the requirement re (from versions: none)\u001b[0m\u001b[31m\n",
      "\u001b[0m\u001b[31mERROR: No matching distribution found for re\u001b[0m\u001b[31m\n",
      "\u001b[0m\u001b[31mERROR: Could not find a version that satisfies the requirement itertools (from versions: none)\u001b[0m\u001b[31m\n",
      "\u001b[0m\u001b[31mERROR: No matching distribution found for itertools\u001b[0m\u001b[31m\n",
      "\u001b[0m\u001b[31mERROR: Could not find a version that satisfies the requirement sys (from versions: none)\u001b[0m\u001b[31m\n",
      "\u001b[0m\u001b[31mERROR: No matching distribution found for sys\u001b[0m\u001b[31m\n",
      "\u001b[0m\u001b[31mERROR: Could not find a version that satisfies the requirement defaultdict (from versions: none)\u001b[0m\u001b[31m\n",
      "\u001b[0m\u001b[31mERROR: No matching distribution found for defaultdict\u001b[0m\u001b[31m\n",
      "\u001b[0m\u001b[31mERROR: Could not find a version that satisfies the requirement math (from versions: none)\u001b[0m\u001b[31m\n",
      "\u001b[0m\u001b[31mERROR: No matching distribution found for math\u001b[0m\u001b[31m\n",
      "\u001b[0m\u001b[31mERROR: Could not find a version that satisfies the requirement radians (from versions: none)\u001b[0m\u001b[31m\n",
      "\u001b[0m\u001b[31mERROR: No matching distribution found for radians\u001b[0m\u001b[31m\n",
      "\u001b[0mCollecting datetime\n",
      "  Obtaining dependency information for datetime from https://files.pythonhosted.org/packages/d3/63/dced85cf2970b5d363e501a10aa051e71caea3ad10a60b7a57794f43a4b8/DateTime-5.3-py3-none-any.whl.metadata\n",
      "  Downloading DateTime-5.3-py3-none-any.whl.metadata (33 kB)\n",
      "Collecting zope.interface (from datetime)\n",
      "  Obtaining dependency information for zope.interface from https://files.pythonhosted.org/packages/f7/0b/12f269ad049fc40a7a3ab85445d7855b6bc6f1e774c5ca9dd6f5c32becb3/zope.interface-6.1-cp310-cp310-macosx_11_0_arm64.whl.metadata\n",
      "  Downloading zope.interface-6.1-cp310-cp310-macosx_11_0_arm64.whl.metadata (41 kB)\n",
      "\u001b[2K     \u001b[90m━━━━━━━━━━━━━━━━━━━━━━━━━━━━━━━━━━━━━━━━\u001b[0m \u001b[32m41.7/41.7 kB\u001b[0m \u001b[31m2.6 MB/s\u001b[0m eta \u001b[36m0:00:00\u001b[0m\n",
      "\u001b[?25hRequirement already satisfied: pytz in /Users/henrybae/miniconda3/envs/tensorflow/lib/python3.10/site-packages (from datetime) (2023.3)\n",
      "Requirement already satisfied: setuptools in /Users/henrybae/miniconda3/envs/tensorflow/lib/python3.10/site-packages (from zope.interface->datetime) (68.0.0)\n",
      "Downloading DateTime-5.3-py3-none-any.whl (52 kB)\n",
      "\u001b[2K   \u001b[90m━━━━━━━━━━━━━━━━━━━━━━━━━━━━━━━━━━━━━━━━\u001b[0m \u001b[32m52.2/52.2 kB\u001b[0m \u001b[31m4.2 MB/s\u001b[0m eta \u001b[36m0:00:00\u001b[0m\n",
      "\u001b[?25hDownloading zope.interface-6.1-cp310-cp310-macosx_11_0_arm64.whl (202 kB)\n",
      "\u001b[2K   \u001b[90m━━━━━━━━━━━━━━━━━━━━━━━━━━━━━━━━━━━━━━━━\u001b[0m \u001b[32m202.5/202.5 kB\u001b[0m \u001b[31m5.4 MB/s\u001b[0m eta \u001b[36m0:00:00\u001b[0m\n",
      "\u001b[?25hInstalling collected packages: zope.interface, datetime\n",
      "Successfully installed datetime-5.3 zope.interface-6.1\n",
      "\u001b[31mERROR: Could not find a version that satisfies the requirement deque (from versions: none)\u001b[0m\u001b[31m\n",
      "\u001b[0m\u001b[31mERROR: No matching distribution found for deque\u001b[0m\u001b[31m\n",
      "\u001b[0mCollecting tan\n",
      "  Obtaining dependency information for tan from https://files.pythonhosted.org/packages/e5/d8/967bd9b7e0ef258a281f55fa4a83621494abd11eecb8679322b5b30bb7b8/tan-23.7.0-py3-none-any.whl.metadata\n",
      "  Downloading tan-23.7.0-py3-none-any.whl.metadata (63 kB)\n",
      "\u001b[2K     \u001b[90m━━━━━━━━━━━━━━━━━━━━━━━━━━━━━━━━━━━━━━━━\u001b[0m \u001b[32m63.4/63.4 kB\u001b[0m \u001b[31m2.9 MB/s\u001b[0m eta \u001b[36m0:00:00\u001b[0m\n",
      "\u001b[?25hRequirement already satisfied: click>=8.0.0 in /Users/henrybae/miniconda3/envs/tensorflow/lib/python3.10/site-packages (from tan) (8.1.6)\n",
      "Collecting mypy-extensions>=0.4.3 (from tan)\n",
      "  Downloading mypy_extensions-1.0.0-py3-none-any.whl (4.7 kB)\n",
      "Requirement already satisfied: packaging>=22.0 in /Users/henrybae/miniconda3/envs/tensorflow/lib/python3.10/site-packages (from tan) (23.1)\n",
      "Collecting pathspec>=0.9.0 (from tan)\n",
      "  Obtaining dependency information for pathspec>=0.9.0 from https://files.pythonhosted.org/packages/b4/2a/9b1be29146139ef459188f5e420a66e835dda921208db600b7037093891f/pathspec-0.11.2-py3-none-any.whl.metadata\n",
      "  Downloading pathspec-0.11.2-py3-none-any.whl.metadata (19 kB)\n",
      "Requirement already satisfied: platformdirs>=2 in /Users/henrybae/miniconda3/envs/tensorflow/lib/python3.10/site-packages (from tan) (3.10.0)\n",
      "Requirement already satisfied: tomli>=1.1.0 in /Users/henrybae/miniconda3/envs/tensorflow/lib/python3.10/site-packages (from tan) (2.0.1)\n",
      "Downloading tan-23.7.0-py3-none-any.whl (181 kB)\n",
      "\u001b[2K   \u001b[90m━━━━━━━━━━━━━━━━━━━━━━━━━━━━━━━━━━━━━━━━\u001b[0m \u001b[32m181.4/181.4 kB\u001b[0m \u001b[31m5.9 MB/s\u001b[0m eta \u001b[36m0:00:00\u001b[0m\n",
      "\u001b[?25hDownloading pathspec-0.11.2-py3-none-any.whl (29 kB)\n",
      "Installing collected packages: pathspec, mypy-extensions, tan\n",
      "Successfully installed mypy-extensions-1.0.0 pathspec-0.11.2 tan-23.7.0\n",
      "\u001b[31mERROR: Could not find a version that satisfies the requirement deepcopy (from versions: none)\u001b[0m\u001b[31m\n",
      "\u001b[0m\u001b[31mERROR: No matching distribution found for deepcopy\u001b[0m\u001b[31m\n",
      "\u001b[0m\u001b[31mERROR: Could not find a version that satisfies the requirement zip_longest (from versions: none)\u001b[0m\u001b[31m\n",
      "\u001b[0m\u001b[31mERROR: No matching distribution found for zip_longest\u001b[0m\u001b[31m\n",
      "\u001b[0mCollecting chain\n",
      "  Downloading chain-1.0.tar.gz (2.9 kB)\n",
      "  Preparing metadata (setup.py) ... \u001b[?25ldone\n",
      "\u001b[?25hBuilding wheels for collected packages: chain\n",
      "  Building wheel for chain (setup.py) ... \u001b[?25ldone\n",
      "\u001b[?25h  Created wheel for chain: filename=chain-1.0-py3-none-any.whl size=3502 sha256=88d00168c4447b089975de51b47567efe9aab3a078da37d10ca9b48f7f491e0b\n",
      "  Stored in directory: /Users/henrybae/Library/Caches/pip/wheels/8f/8f/e2/e2da3cabcfc5fed7c972d140ac81b74b740dee478456a06e92\n",
      "Successfully built chain\n",
      "Installing collected packages: chain\n",
      "Successfully installed chain-1.0\n"
     ]
    }
   ],
   "source": [
    "import re\n",
    "\n",
    "# Read the \"code\" mbpp.jsonl file\n",
    "with open('mbpp.jsonl', 'r') as file:\n",
    "    # Initialize a set to store the unique package names\n",
    "    packages = set()\n",
    "\n",
    "    # Loop through each line in the file\n",
    "    for line in file:\n",
    "        # Use regular expressions to find the package names\n",
    "        matches = re.findall(r'import\\s+(\\w+)', line)\n",
    "        \n",
    "        # Add the package names to the set\n",
    "        packages.update(matches)\n",
    "\n",
    "# Install the packages\n",
    "for package in packages:\n",
    "    !pip install {package}\n"
   ]
  },
  {
   "cell_type": "code",
   "execution_count": null,
   "metadata": {},
   "outputs": [],
   "source": []
  }
 ],
 "metadata": {
  "kernelspec": {
   "display_name": "physics286",
   "language": "python",
   "name": "python3"
  },
  "language_info": {
   "codemirror_mode": {
    "name": "ipython",
    "version": 3
   },
   "file_extension": ".py",
   "mimetype": "text/x-python",
   "name": "python",
   "nbconvert_exporter": "python",
   "pygments_lexer": "ipython3",
   "version": "3.10.12"
  }
 },
 "nbformat": 4,
 "nbformat_minor": 2
}
