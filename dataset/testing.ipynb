{
 "cells": [
  {
   "cell_type": "code",
   "execution_count": 17,
   "metadata": {},
   "outputs": [],
   "source": [
    "# open label.jsonl\n",
    "\n",
    "import jsonlines\n",
    "\n",
    "\n",
    "counter = 0\n",
    "\n",
    "with jsonlines.open('label.jsonl') as reader1, jsonlines.open('mbpp_label_llama.jsonl') as reader2:\n",
    "    for obj1, obj2 in zip(reader1, reader2):\n",
    "        if obj1['method2_gpt4_success'] == True and obj1['method2_gpt3_5_success'] == False and obj2['method2_llama_success'] == False:\n",
    "            # Open mbpp_refined.jsonl\n",
    "            obj1['method2_llama_success'] = False\n",
    "            obj1['method2_llama_output'] = obj2['method2_llama_output']\n",
    "            obj1['complexity'] = 2\n",
    "            # Make it so after 40 examples obj1['data_split'] = 'val' and before that obj1['data_split'] = 'train'\n",
    "            if counter < 40:\n",
    "                obj1['data_split'] = 'train'\n",
    "            else:\n",
    "                obj1['data_split'] = 'val'\n",
    "            with jsonlines.open('mbpp_refined.jsonl', mode='a') as writer:\n",
    "                writer.write(obj1)\n",
    "            counter += 1\n",
    "            if counter == 50:\n",
    "                break\n",
    "\n",
    "counter = 0\n",
    "# open label.jsonl\n",
    "\n",
    "\n",
    "counter = 0\n",
    "\n",
    "with jsonlines.open('label.jsonl') as reader1, jsonlines.open('mbpp_label_llama.jsonl') as reader2:\n",
    "    for obj1, obj2 in zip(reader1, reader2):\n",
    "        if obj1['method2_gpt4_success'] == True and obj1['method2_gpt3_5_success'] == True and obj2['method2_llama_success'] == True:\n",
    "            # Open mbpp_refined.jsonl\n",
    "            obj1['method2_llama_success'] = True\n",
    "            obj1['method2_llama_output'] = obj2['method2_llama_output']\n",
    "            obj1['complexity'] = 0\n",
    "            # Make it so after 40 examples obj1['data_split'] = 'val' and before that obj1['data_split'] = 'train'\n",
    "            if counter < 40:\n",
    "                obj1['data_split'] = 'train'\n",
    "            else:\n",
    "                obj1['data_split'] = 'val'\n",
    "            with jsonlines.open('mbpp_refined.jsonl', mode='a') as writer:\n",
    "                writer.write(obj1)\n",
    "            counter += 1\n",
    "            if counter == 50:\n",
    "                break\n",
    "\n",
    "counter = 0\n",
    "\n",
    "with jsonlines.open('label.jsonl') as reader1, jsonlines.open('mbpp_label_llama.jsonl') as reader2:\n",
    "    for obj1, obj2 in zip(reader1, reader2):\n",
    "        if obj1['method2_gpt4_success'] == True and obj1['method2_gpt3_5_success'] == True and obj2['method2_llama_success'] == False:\n",
    "            # Open mbpp_refined.jsonl\n",
    "            obj1['method2_llama_success'] = False\n",
    "            obj1['method2_llama_output'] = obj2['method2_llama_output']\n",
    "            obj1['complexity'] = 1\n",
    "            # Make it so after 40 examples obj1['data_split'] = 'val' and before that obj1['data_split'] = 'train'\n",
    "            if counter < 40:\n",
    "                obj1['data_split'] = 'train'\n",
    "            else:\n",
    "                obj1['data_split'] = 'val'\n",
    "            with jsonlines.open('mbpp_refined.jsonl', mode='a') as writer:\n",
    "                writer.write(obj1)\n",
    "            counter += 1\n",
    "            if counter == 50:\n",
    "                break\n"
   ]
  },
  {
   "cell_type": "code",
   "execution_count": 18,
   "metadata": {},
   "outputs": [],
   "source": [
    "from openai import OpenAI"
   ]
  },
  {
   "cell_type": "code",
   "execution_count": null,
   "metadata": {},
   "outputs": [],
   "source": []
  }
 ],
 "metadata": {
  "kernelspec": {
   "display_name": "tensorflow",
   "language": "python",
   "name": "python3"
  },
  "language_info": {
   "codemirror_mode": {
    "name": "ipython",
    "version": 3
   },
   "file_extension": ".py",
   "mimetype": "text/x-python",
   "name": "python",
   "nbconvert_exporter": "python",
   "pygments_lexer": "ipython3",
   "version": "3.10.12"
  }
 },
 "nbformat": 4,
 "nbformat_minor": 2
}
