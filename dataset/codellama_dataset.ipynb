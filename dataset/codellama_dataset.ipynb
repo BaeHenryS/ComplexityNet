{
  "cells": [
    {
      "cell_type": "code",
      "execution_count": 2,
      "metadata": {
        "colab": {
          "base_uri": "https://localhost:8080/"
        },
        "id": "_iDUroD5v0wS",
        "outputId": "7e177957-5322-447f-b9c2-29b187cb5be6"
      },
      "outputs": [],
      "source": [
        "# pip install sentencepiece"
      ]
    },
    {
      "cell_type": "code",
      "execution_count": 3,
      "metadata": {},
      "outputs": [],
      "source": [
        "import jsonlines\n",
        "import re\n",
        "\n",
        "with jsonlines.open('mbpp.jsonl') as reader:\n",
        "    for obj in reader:\n",
        "        # Assuming the Python code is in a field named 'code'\n",
        "        code = obj.get('code', '')\n",
        "        \n",
        "        # Find all import statements\n",
        "        import_statements = re.findall(r'(?:from \\S+ import \\S+|import \\S+)', code)\n",
        "        # remove commas\n",
        "        import_statements = [statement.replace(',', '') for statement in import_statements]\n",
        "        \n",
        "        # Execute the import statements\n",
        "        for statement in import_statements:\n",
        "            try:\n",
        "                exec(statement)\n",
        "            except ImportError as e:\n",
        "                print(f\"Failed to execute: {statement}\")"
      ]
    },
    {
      "cell_type": "markdown",
      "metadata": {
        "id": "1YyVCL6Ksj50"
      },
      "source": [
        "Below we use 7b param code llama 2 specialized for Python"
      ]
    },
    {
      "cell_type": "code",
      "execution_count": 4,
      "metadata": {
        "colab": {
          "base_uri": "https://localhost:8080/",
          "height": 369,
          "referenced_widgets": [
            "c22652ea27ac4f02ad12424f4b5dd3b1",
            "356ff13400cd4a2dabc5e74dd87271c1",
            "ffa1e24a336f4f029e62090b6467a527",
            "151670e9f96441579be634e2ff4102ef",
            "3c8493ec16104167ac08a8b2a3b71dc7",
            "f207cf2e5199463eb0e1f67c4c9ac832",
            "49173be48a81452aaa43157a4c892cd6",
            "86ff31c695e545408e65f25f04d13ff1",
            "4a2d12f3c7c34ac8bb19f8b745afbd6d",
            "2c833ceace6f40928927c254d1af718f",
            "fec6f89171e24794a5f96836ac68dc29",
            "35c6d0144c4e44c886f78dfc86ae2c92",
            "97c168c7d0784ca0a1d730bb8f5a45f2",
            "97e274213a0c431a98a2e1e833d1d221",
            "60aa7f6b2ec54c5cb1b90eee2e788e56",
            "ecb561e205e242c489a363067bf9b1a8",
            "1bb1b7c4375e4af0b2eb6df9d17235fd",
            "31aa646b188549de8e5ad52a11fdaaab",
            "8927898de41e4292b5723fd8b0a4f3cc",
            "04355e4b72d840f0b2beef5e60e03d59",
            "6839cad372c9494bb3cdbf647268dd9b",
            "343bb5a9c0ed4e0f9c018acb5e6127d2",
            "5100a39ac70641d2b1d95cc14519d58f",
            "755930c614454a5fbcb6ec970ded04eb",
            "f118ef8f8cf1479c91c87c81e0f84d60",
            "f1c1a9f6726b4779900f8c6354bc9e88",
            "1e6789f58bc64b2ebbe09d67958b48c1",
            "0cf403878f1547268748d48bcfc7b80f",
            "5254f25c579d434cb5e34b36f703a67f",
            "b245223a593744bdbfbc004a0ec080c2",
            "881c367a33e645cbbb88628688587216",
            "8bb96a742d3745ddaacd495dd9a9c25f",
            "a35aad4777674f1388114f35942c9f2b",
            "8ae9d8cb380948508ab0e94a334202d3",
            "5195c6f4cf5c4acab524415b6704bc90",
            "65a8e5da029044e885b7d6cd8d921399",
            "00fd447c83a64cedb8588462c0727a33",
            "10705d3c995e4fa998aa7df79d40777d",
            "c5e50d19d96e442dbcf267a805f122ce",
            "ad5732d1910a43cb8ed9790125867daa",
            "2961909b7e29478d8372826c396de1b7",
            "53212dcca0aa4e90ae1945df2ecb95af",
            "ce0da75f76c948ed8bedd5d04b64372e",
            "cc0a41cb769c4db9ba0f64548dd97d10",
            "5fb17df850bd4a1d9e9887c91d7272e4",
            "936d735c59f04037be5561157be3f11b",
            "a658721a91554f7abcae6830079ad379",
            "4b4087ecc02e4705a7fceadfb837fe93",
            "54628da618e44eb19e417d8c61e253bb",
            "f87424cea7fa4ffcbb64a897b3692dc9",
            "0d4077de87aa43bc85408863b1c3b46b",
            "46f2adf8939a479f9675d4456de4ac97",
            "786dbe4448444f68a3a8a650a5b79d2a",
            "8ce6d71570ba4d2db6b04c6cd51b8cde",
            "52edeb87d3e8477d9d2c9eca73509844",
            "ef3062d7419d40769470ba934144f08e",
            "d5cea9ec293641bfb88373c09d75e141",
            "83556189d6ec4a0293c538f9cf1d4908",
            "35f3665e08934607997b53fe735eae4d",
            "d9e1433838d54158b0a0381a897e58bb",
            "0aa0f3498fb145cd94df933e512d5eed",
            "c5599c302b0a499f9ebf62fd68ae98e0",
            "15b619f896394b45ae9f1f5aebdcc211",
            "ab9863542c56455a83264b28315a35ef",
            "d858c326a3614db0830f81ab5999d78b",
            "9a33dce8c40e423ab522a77cf27574df",
            "deb3697b576b43e18ea8136b31c4d6f6",
            "6e2bc7d004f94aaabe67551e61b8a8cb",
            "eddc9e1586374b53aec866e85331c6a7",
            "52f3dd8065bd4c0d89bf5cd48f5b7213",
            "b62090ec72d8445a96f60e123ecbd071",
            "bab5fc4bdf0642a38809371cf0aaa56d",
            "da648c236a00474d9e9ff6e2e4c7674c",
            "98746d68500e4581b4767afd33937359",
            "4c50dd6f6e2340399cd943d8cba66b8b",
            "ccadf08595f44e1b88766244d8f70998",
            "963804a7052c484a8d7e3fe71644eb61",
            "bdd4aa67882644488fd4082afb410415",
            "9a49e259c4744022b68271daa4ea6385",
            "8580674c819f40acab3ab3043e736843",
            "8e5772a3e7fc456fb25a9112d52dfa2e",
            "f9b469aa2ab349829d2795b1ef6b3b03",
            "e52673e38ef64c8a8cd4521df0d1b230",
            "c57221aeb2c7412eafa8abf7daecbf01",
            "7b71e0c771fe42ad83696fd5b57d87e1",
            "d96abd07c6d345deaccc225895550327",
            "b1459ce8ef6142ce95ff5bb1a3ee228d",
            "75911b16a2014a939b88d928b4fb9d43",
            "c51e3f9c10a9425e9f791e7f47be96ae",
            "822a0be70cf845eeb5268b919347f67a",
            "7212f2622d264ccd8448a9f9d287f555",
            "1d70dec0425f4c75845cc2a95c81ed93",
            "54fc1cddb6a34f0c8e88c8e34964c79e",
            "0467797d1cc445d985370bdbb7f0b159",
            "d1b75b72713c4d528a04222670efac25",
            "aa40041c1ba6476fa1e2c5726f163bdc",
            "6194b2591d0244b88b77754b998f622e",
            "daecc05b5dcb4bf58fe14463981b9480",
            "dda1a64fae0f47f18ebb822ffb045afb",
            "aa1a88533cd8443ea26059ae6e44ea5c",
            "248f440ab64a4187995b17229e5f61d5",
            "b26068614b8e4672b55d90fe330bff02",
            "d678c539208e4e909733aa29b83b061b",
            "8968547dd6f04b40bb271cf5ce79c1a1",
            "38eea9de5f8a4232a33d70fbd843d669",
            "ebca4a233f52463dadb9aaf1a8b48b7c",
            "87324a9fbcf84d68be2ec48f33c11b8b",
            "68e70c7edd6e4f119a6dca1bf8b3a3d7",
            "acbef1d6e6544da4aa7aa5d060517014",
            "969785e4678b4feabf1fcaf848c84f6a",
            "d228ed4d57274086b7c274e85b6f88a8",
            "bbaf99a1e17f400e96a45cd78001d026",
            "61fe521f516c4209ae5f33a4ad59652a",
            "9abe9243a0144a6496d751e0dcc032b3",
            "55c8eafdf3e240c6915f333ee8867fdc",
            "578525cf759346bdb318b552bcaa6fe8",
            "37db6cb1dd394817bbc5cb960ed76867",
            "97a65f91d0604e178afe2f7860b8e2c0",
            "2e415bba06a44ab79f1abcaa529520bd",
            "c9daf91813284015813fbbb780f81f05",
            "b2b9c1d9ec9e4c77a26cf1c802eac334"
          ]
        },
        "id": "4TLnE72tsd1u",
        "outputId": "84f406ea-8d16-4d8b-fb4a-e4978862f56f"
      },
      "outputs": [],
      "source": [
        "# import sentencepiece\n",
        "# from transformers import LlamaForCausalLM, CodeLlamaTokenizer\n",
        "\n",
        "# tokenizer = CodeLlamaTokenizer.from_pretrained(\"codellama/CodeLlama-7b-hf\")\n",
        "# model = LlamaForCausalLM.from_pretrained(\"codellama/CodeLlama-7b-hf\")"
      ]
    },
    {
      "cell_type": "code",
      "execution_count": 5,
      "metadata": {
        "id": "hRjKJVBIspPr"
      },
      "outputs": [],
      "source": [
        "# PROMPT = '''Write a function to find the length of the shortest string that has both str1 and str2 as subsequences.\n",
        "# def super_seq(X, Y, m, n):\n",
        "# <FILL_ME>\n",
        "# return result\n",
        "# '''\n",
        "# input_ids = tokenizer(PROMPT, return_tensors=\"pt\")[\"input_ids\"]\n",
        "# generated_ids = model.generate(input_ids, max_new_tokens=128)\n",
        "\n",
        "# filling = tokenizer.batch_decode(generated_ids[:, input_ids.shape[1]:], skip_special_tokens = True)[0]\n",
        "# print(PROMPT.replace(\"<FILL_ME>\", filling))"
      ]
    },
    {
      "cell_type": "code",
      "execution_count": 6,
      "metadata": {
        "id": "2mT_a-HW75t0"
      },
      "outputs": [],
      "source": [
        "def find_def_until_colon(input_string):\n",
        "    def_index = input_string.find('def')\n",
        "\n",
        "    if def_index != -1:\n",
        "        colon_index = input_string.find(':', def_index)\n",
        "\n",
        "        if colon_index != -1:\n",
        "            return input_string[def_index:colon_index + 1]\n",
        "\n",
        "    return None"
      ]
    },
    {
      "cell_type": "code",
      "execution_count": 7,
      "metadata": {
        "id": "IWvcTeKT_BcI"
      },
      "outputs": [],
      "source": [
        "def everything_after_def(input_string):\n",
        "    def_index = input_string.find('def')\n",
        "\n",
        "    if def_index != -1:\n",
        "        double_newline_index = input_string.find('\\n\\n', def_index)\n",
        "        if double_newline_index != -1:\n",
        "            result = input_string[def_index:double_newline_index]\n",
        "            return result\n",
        "    return None"
      ]
    },
    {
      "cell_type": "code",
      "execution_count": 8,
      "metadata": {
        "id": "lIzwEW4-B1EL"
      },
      "outputs": [],
      "source": [
        "# import re\n",
        "\n",
        "# def extract_args_with_function_name(declaration):\n",
        "#     pattern = r'def\\s+(\\w+)\\s*\\((.*?)\\)'\n",
        "\n",
        "#     match = re.search(pattern, declaration)\n",
        "\n",
        "#     if match:\n",
        "#         function_name = match.group(1)\n",
        "#         arguments = match.group(2).split(', ')\n",
        "#     else:\n",
        "#         function_name = \"\"\n",
        "#         arguments = []\n",
        "\n",
        "#     if len(arguments) == 0:\n",
        "#         return function_name, \"that takes no arguments\"\n",
        "#     elif len(arguments) == 1:\n",
        "#         return function_name, f\"that takes {arguments[0]} as an argument\"\n",
        "#     else:\n",
        "#         args_except_last = \", \".join(arguments[:-1])\n",
        "#         last_arg = arguments[-1]\n",
        "#         return function_name, f\"that takes {args_except_last} and {last_arg} as arguments\""
      ]
    },
    {
      "cell_type": "code",
      "execution_count": 30,
      "metadata": {
        "id": "0YHubY-c_7iw"
      },
      "outputs": [],
      "source": [
        "def proper_format(prompt_in, code_in):\n",
        "    result = \"\"  # Initialize the result variable\n",
        "    function_index_to = prompt_in.find(\"to\")\n",
        "    function_index_that = prompt_in.find(\"that\")\n",
        "    if function_index_to != -1:\n",
        "        result = prompt_in[function_index_that + len(\"to\"):].strip()\n",
        "    elif function_index_that != -1:\n",
        "        result = prompt_in[function_index_that + len(\"that\"):].strip()\n",
        "\n",
        "    return result + \" \\n\" + find_def_until_colon(code_in)"
      ]
    },
    {
      "cell_type": "code",
      "execution_count": 31,
      "metadata": {
        "id": "AjG7Ctfx48Ir"
      },
      "outputs": [],
      "source": [
        "# def getCodeFormat(prompt_in, code_in):\n",
        "#     prompt = proper_format(prompt_in, code_in)\n",
        "\n",
        "#     input_ids = tokenizer(prompt, return_tensors=\"pt\")[\"input_ids\"]\n",
        "#     attention_mask = torch.ones_like(input_ids)\n",
        "#     pad_token_id = tokenizer.eos_token_id\n",
        "\n",
        "#     generated_ids = model.generate(\n",
        "#         input_ids,\n",
        "#         attention_mask=attention_mask,\n",
        "#         pad_token_id=pad_token_id,\n",
        "#         max_new_tokens=128,\n",
        "#         num_return_sequences=1\n",
        "#     )\n",
        "\n",
        "#     generated_code = tokenizer.batch_decode(\n",
        "#         generated_ids[:, input_ids.shape[1]:],\n",
        "#         skip_special_tokens=True\n",
        "#     )[0]\n",
        "\n",
        "#     # Assuming generated_code directly contains the code without placeholders\n",
        "#     return generated_code\n",
        "\n",
        "\n",
        "# print(getCodeFormat(\"Write a python function to find the length of the shortest word.\", \"def len_log(list1): min=len(list1[0]) for i in list1: if len(i)<min: min=len(i) return min\"))"
      ]
    },
    {
      "cell_type": "code",
      "execution_count": 32,
      "metadata": {
        "id": "WJYhTBXfKJke"
      },
      "outputs": [],
      "source": [
        "# def getCodeFormat(prompt_in, code_in):\n",
        "#     PROMPT = proper_format(prompt_in, code_in)\n",
        "#     input_ids = tokenizer(PROMPT, return_tensors=\"pt\")[\"input_ids\"]\n",
        "\n",
        "#     attention_mask = torch.ones_like(input_ids)  # Set attention mask to ones (all tokens are attended to)\n",
        "#     pad_token_id = tokenizer.eos_token_id  # Get the pad token ID\n",
        "\n",
        "#     generated_ids = model.generate(input_ids, attention_mask=attention_mask, pad_token_id=pad_token_id, max_new_tokens=128, num_return_sequences=1)\n",
        "#     filling = tokenizer.batch_decode(generated_ids[:, input_ids.shape[1]:], skip_special_tokens = True)[0]\n",
        "#     print(\"hello\" + filling)\n",
        "#     responseText = PROMPT.replace(\"<FILL_ME>\", filling)\n",
        "\n",
        "#     return filling\n",
        "\n",
        "# print(getCodeFormat(\"Write a python function to find the length of the shortest word.\", \"def len_log(list1): min=len(list1[0]) for i in list1: if len(i)<min: min=len(i) return min\"))"
      ]
    },
    {
      "cell_type": "code",
      "execution_count": 24,
      "metadata": {
        "id": "o4DNSMPw1y90"
      },
      "outputs": [
        {
          "name": "stderr",
          "output_type": "stream",
          "text": [
            "huggingface/tokenizers: The current process just got forked, after parallelism has already been used. Disabling parallelism to avoid deadlocks...\n",
            "To disable this warning, you can either:\n",
            "\t- Avoid using `tokenizers` before the fork if possible\n",
            "\t- Explicitly set the environment variable TOKENIZERS_PARALLELISM=(true | false)\n"
          ]
        },
        {
          "name": "stdout",
          "output_type": "stream",
          "text": [
            "\u001b[33mDEPRECATION: Loading egg at /Users/henrybae/miniconda3/envs/transformers/lib/python3.11/site-packages/huggingface_hub-0.19.4-py3.8.egg is deprecated. pip 24.3 will enforce this behaviour change. A possible replacement is to use pip for package installation.. Discussion can be found at https://github.com/pypa/pip/issues/12330\u001b[0m\u001b[33m\n",
            "\u001b[0mCollecting git+https://github.com/huggingface/transformers.git@main\n",
            "  Cloning https://github.com/huggingface/transformers.git (to revision main) to /private/var/folders/0h/2pkv9xxd45lfrx3mx45bxhxw0000gn/T/pip-req-build-ob51b2vi\n",
            "  Running command git clone --filter=blob:none --quiet https://github.com/huggingface/transformers.git /private/var/folders/0h/2pkv9xxd45lfrx3mx45bxhxw0000gn/T/pip-req-build-ob51b2vi\n",
            "  Resolved https://github.com/huggingface/transformers.git to commit 35551f9a0f66a22de4971b4a51b3c172d3b87f95\n",
            "  Installing build dependencies ... \u001b[?25ldone\n",
            "\u001b[?25h  Getting requirements to build wheel ... \u001b[?25ldone\n",
            "\u001b[?25h  Preparing metadata (pyproject.toml) ... \u001b[?25ldone\n",
            "\u001b[?25hRequirement already satisfied: accelerate in /Users/henrybae/miniconda3/envs/transformers/lib/python3.11/site-packages (0.24.1)\n",
            "Requirement already satisfied: filelock in /Users/henrybae/miniconda3/envs/transformers/lib/python3.11/site-packages (from transformers==4.36.0.dev0) (3.13.1)\n",
            "Requirement already satisfied: huggingface-hub<1.0,>=0.19.3 in /Users/henrybae/miniconda3/envs/transformers/lib/python3.11/site-packages/huggingface_hub-0.19.4-py3.8.egg (from transformers==4.36.0.dev0) (0.19.4)\n",
            "Requirement already satisfied: numpy>=1.17 in /Users/henrybae/miniconda3/envs/transformers/lib/python3.11/site-packages (from transformers==4.36.0.dev0) (1.26.0)\n",
            "Requirement already satisfied: packaging>=20.0 in /Users/henrybae/miniconda3/envs/transformers/lib/python3.11/site-packages (from transformers==4.36.0.dev0) (23.1)\n",
            "Requirement already satisfied: pyyaml>=5.1 in /Users/henrybae/miniconda3/envs/transformers/lib/python3.11/site-packages (from transformers==4.36.0.dev0) (6.0.1)\n",
            "Requirement already satisfied: regex!=2019.12.17 in /Users/henrybae/miniconda3/envs/transformers/lib/python3.11/site-packages (from transformers==4.36.0.dev0) (2023.10.3)\n",
            "Requirement already satisfied: requests in /Users/henrybae/miniconda3/envs/transformers/lib/python3.11/site-packages (from transformers==4.36.0.dev0) (2.31.0)\n",
            "Requirement already satisfied: tokenizers<0.19,>=0.14 in /Users/henrybae/miniconda3/envs/transformers/lib/python3.11/site-packages (from transformers==4.36.0.dev0) (0.15.0)\n",
            "Requirement already satisfied: safetensors>=0.3.1 in /Users/henrybae/miniconda3/envs/transformers/lib/python3.11/site-packages (from transformers==4.36.0.dev0) (0.4.0)\n",
            "Requirement already satisfied: tqdm>=4.27 in /Users/henrybae/miniconda3/envs/transformers/lib/python3.11/site-packages (from transformers==4.36.0.dev0) (4.65.0)\n",
            "Requirement already satisfied: psutil in /Users/henrybae/miniconda3/envs/transformers/lib/python3.11/site-packages (from accelerate) (5.9.0)\n",
            "Requirement already satisfied: torch>=1.10.0 in /Users/henrybae/miniconda3/envs/transformers/lib/python3.11/site-packages (from accelerate) (2.2.0.dev20231122)\n",
            "Requirement already satisfied: fsspec>=2023.5.0 in /Users/henrybae/miniconda3/envs/transformers/lib/python3.11/site-packages (from huggingface-hub<1.0,>=0.19.3->transformers==4.36.0.dev0) (2023.9.2)\n",
            "Requirement already satisfied: typing-extensions>=3.7.4.3 in /Users/henrybae/miniconda3/envs/transformers/lib/python3.11/site-packages (from huggingface-hub<1.0,>=0.19.3->transformers==4.36.0.dev0) (4.8.0)\n",
            "Requirement already satisfied: sympy in /Users/henrybae/miniconda3/envs/transformers/lib/python3.11/site-packages (from torch>=1.10.0->accelerate) (1.11.1)\n",
            "Requirement already satisfied: networkx in /Users/henrybae/miniconda3/envs/transformers/lib/python3.11/site-packages (from torch>=1.10.0->accelerate) (3.1)\n",
            "Requirement already satisfied: jinja2 in /Users/henrybae/miniconda3/envs/transformers/lib/python3.11/site-packages (from torch>=1.10.0->accelerate) (3.1.2)\n",
            "Requirement already satisfied: charset-normalizer<4,>=2 in /Users/henrybae/miniconda3/envs/transformers/lib/python3.11/site-packages (from requests->transformers==4.36.0.dev0) (2.0.4)\n",
            "Requirement already satisfied: idna<4,>=2.5 in /Users/henrybae/miniconda3/envs/transformers/lib/python3.11/site-packages (from requests->transformers==4.36.0.dev0) (3.4)\n",
            "Requirement already satisfied: urllib3<3,>=1.21.1 in /Users/henrybae/miniconda3/envs/transformers/lib/python3.11/site-packages (from requests->transformers==4.36.0.dev0) (1.26.18)\n",
            "Requirement already satisfied: certifi>=2017.4.17 in /Users/henrybae/miniconda3/envs/transformers/lib/python3.11/site-packages (from requests->transformers==4.36.0.dev0) (2023.11.17)\n",
            "Requirement already satisfied: MarkupSafe>=2.0 in /Users/henrybae/miniconda3/envs/transformers/lib/python3.11/site-packages (from jinja2->torch>=1.10.0->accelerate) (2.1.1)\n",
            "Requirement already satisfied: mpmath>=0.19 in /Users/henrybae/miniconda3/envs/transformers/lib/python3.11/site-packages (from sympy->torch>=1.10.0->accelerate) (1.3.0)\n",
            "Note: you may need to restart the kernel to use updated packages.\n"
          ]
        }
      ],
      "source": [
        "pip install git+https://github.com/huggingface/transformers.git@main accelerate"
      ]
    },
    {
      "cell_type": "code",
      "execution_count": 25,
      "metadata": {
        "colab": {
          "base_uri": "https://localhost:8080/",
          "height": 49,
          "referenced_widgets": [
            "a28b092bf753413fb27ea645b5cab6a0",
            "d720c5171ce142d0a974689ddd1d8aec",
            "a41da729c1634d90994a1a2e0993e5d3",
            "0af982892ed544c381e8ee71ef9b254c",
            "14abda7aa330476cbca1ad1888900839",
            "5db146baac47418dba5e1d018d67c10a",
            "ef995f87404143ae9473c492610f191f",
            "40b3e173533c4d4c8e7eb7566096294e",
            "5324e9542ba14f8fb2b2c1af9b7f839c",
            "59fd9cf31a564fa68cf77dfcc9a3afc1",
            "29de20820dbd42149f630b73fddb1944"
          ]
        },
        "id": "9CEtY1rU2ceE",
        "outputId": "ad0c081f-b0f3-42a4-9e89-5120d341ec43"
      },
      "outputs": [
        {
          "data": {
            "application/vnd.jupyter.widget-view+json": {
              "model_id": "1dffbcd709ec4e4a9ec2612ce0492447",
              "version_major": 2,
              "version_minor": 0
            },
            "text/plain": [
              "Loading checkpoint shards:   0%|          | 0/2 [00:00<?, ?it/s]"
            ]
          },
          "metadata": {},
          "output_type": "display_data"
        }
      ],
      "source": [
        "from transformers import AutoTokenizer\n",
        "import transformers\n",
        "import torch\n",
        "\n",
        "model = \"codellama/CodeLlama-7b-Python-hf\"\n",
        "\n",
        "tokenizer = AutoTokenizer.from_pretrained(model)\n",
        "pipeline = transformers.pipeline(\n",
        "    \"text-generation\",\n",
        "    model=model,\n",
        "    torch_dtype=torch.float16,\n",
        "    device_map=\"auto\",\n",
        ")"
      ]
    },
    {
      "cell_type": "code",
      "execution_count": 26,
      "metadata": {
        "id": "e52vJK_P3nH_"
      },
      "outputs": [],
      "source": [
        "def getCodeFormat(prompt_input, code_input):\n",
        "  sequences = pipeline(\n",
        "      proper_format(prompt_input, code_input),\n",
        "      do_sample=True,\n",
        "      top_k=10,\n",
        "      temperature=0.1,\n",
        "      top_p=0.95,\n",
        "      num_return_sequences=1,\n",
        "      eos_token_id=tokenizer.eos_token_id,\n",
        "      max_length=200,\n",
        "  )\n",
        "  return everything_after_def(sequences[0]['generated_text'])\n",
        "\n",
        "# print(getCodeFormat(\"Write a python function to find the length of the shortest word.\", \"def len_log(list1): min=len(list1[0]) for i in list1: if len(i)<min: min=len(i) return min\"))"
      ]
    },
    {
      "cell_type": "code",
      "execution_count": 27,
      "metadata": {
        "id": "4dz-ViOC-Ueh"
      },
      "outputs": [],
      "source": [
        "import locale\n",
        "locale.getpreferredencoding = lambda: 'UTF-8'"
      ]
    },
    {
      "cell_type": "code",
      "execution_count": 28,
      "metadata": {
        "colab": {
          "base_uri": "https://localhost:8080/"
        },
        "id": "admsQAx9-GoR",
        "outputId": "676a300d-6e9e-4a4a-8a0a-fbf9bc355567"
      },
      "outputs": [
        {
          "name": "stderr",
          "output_type": "stream",
          "text": [
            "huggingface/tokenizers: The current process just got forked, after parallelism has already been used. Disabling parallelism to avoid deadlocks...\n",
            "To disable this warning, you can either:\n",
            "\t- Avoid using `tokenizers` before the fork if possible\n",
            "\t- Explicitly set the environment variable TOKENIZERS_PARALLELISM=(true | false)\n"
          ]
        },
        {
          "name": "stdout",
          "output_type": "stream",
          "text": [
            "\u001b[33mDEPRECATION: Loading egg at /Users/henrybae/miniconda3/envs/transformers/lib/python3.11/site-packages/huggingface_hub-0.19.4-py3.8.egg is deprecated. pip 24.3 will enforce this behaviour change. A possible replacement is to use pip for package installation.. Discussion can be found at https://github.com/pypa/pip/issues/12330\u001b[0m\u001b[33m\n",
            "\u001b[0mRequirement already satisfied: jsonlines in /Users/henrybae/miniconda3/envs/transformers/lib/python3.11/site-packages (4.0.0)\n",
            "Requirement already satisfied: attrs>=19.2.0 in /Users/henrybae/miniconda3/envs/transformers/lib/python3.11/site-packages (from jsonlines) (23.1.0)\n",
            "Note: you may need to restart the kernel to use updated packages.\n"
          ]
        }
      ],
      "source": [
        "pip install jsonlines"
      ]
    },
    {
      "cell_type": "code",
      "execution_count": 38,
      "metadata": {},
      "outputs": [],
      "source": [
        "from contextlib import contextmanager\n",
        "\n",
        "class TimeoutException(Exception): pass\n",
        "\n",
        "@contextmanager\n",
        "def time_limit(seconds):\n",
        "    def signal_handler(signum, frame):\n",
        "        raise TimeoutException(\"Timed out!\")\n",
        "    signal.signal(signal.SIGALRM, signal_handler)\n",
        "    signal.alarm(seconds)\n",
        "    try:\n",
        "        yield\n",
        "    finally:\n",
        "        signal.alarm(0)"
      ]
    },
    {
      "cell_type": "code",
      "execution_count": 39,
      "metadata": {
        "id": "Flwk_xIe9Wxi"
      },
      "outputs": [
        {
          "name": "stderr",
          "output_type": "stream",
          "text": [
            "Setting `pad_token_id` to `eos_token_id`:2 for open-end generation.\n"
          ]
        },
        {
          "name": "stdout",
          "output_type": "stream",
          "text": [
            "Running Example: 245\n",
            "def babylonian_squareroot(number):\n",
            "def babylonian_squareroot(number):\n",
            "    \"\"\"\n",
            "    Calculates the square root of a number using the Babylonian method.\n",
            "    \"\"\"\n",
            "    if number < 0:\n",
            "        raise ValueError(\"Cannot calculate square root of negative number.\")\n",
            "    elif number == 0:\n",
            "        return 0\n",
            "    else:\n",
            "        guess = number\n",
            "        i = 0\n",
            "        while guess*guess!= number:\n",
            "            i += 1\n",
            "            guess = (guess + number / guess) / 2.0\n",
            "        return guess\n",
            "assert babylonian_squareroot(10)==3.162277660168379\n"
          ]
        },
        {
          "name": "stderr",
          "output_type": "stream",
          "text": [
            "Setting `pad_token_id` to `eos_token_id`:2 for open-end generation.\n"
          ]
        },
        {
          "name": "stdout",
          "output_type": "stream",
          "text": [
            "Code Failed AssertionsTimed out!\n",
            "Running Example: 246\n",
            "def lps(str):\n"
          ]
        },
        {
          "name": "stderr",
          "output_type": "stream",
          "text": [
            "Setting `pad_token_id` to `eos_token_id`:2 for open-end generation.\n"
          ]
        },
        {
          "name": "stdout",
          "output_type": "stream",
          "text": [
            "def lps(str):\n",
            "    n = len(str)\n",
            "    dp = [[0 for i in range(n)] for j in range(n)]\n",
            "    for i in range(n):\n",
            "        dp[i][i] = 1\n",
            "    for i in range(n-1, -1, -1):\n",
            "        for j in range(i+1, n):\n",
            "            if str[i] == str[j]:\n",
            "                dp[i][j] = dp[i+1][j-1] + 2\n",
            "            else:\n",
            "                dp[i][j] = max(dp[i+1][j], dp[i][j-1])\n",
            "    return dp[0][n-1]\n",
            "assert lps(\"TENS FOR TENS\") == 5 \n",
            "assert lps(\"CARDIO FOR CARDS\") == 7\n",
            "assert lps(\"PART OF THE JOURNEY IS PART\") == 9 \n",
            "Running Example: 247\n",
            "def harmonic_sum(n):\n"
          ]
        },
        {
          "name": "stderr",
          "output_type": "stream",
          "text": [
            "Setting `pad_token_id` to `eos_token_id`:2 for open-end generation.\n"
          ]
        },
        {
          "name": "stdout",
          "output_type": "stream",
          "text": [
            "def harmonic_sum(n):\n",
            "    if n == 1:\n",
            "        return 1\n",
            "    else:\n",
            "        return 1/n + harmonic_sum(n-1)\n",
            "assert harmonic_sum(7) == 2.5928571428571425\n",
            "assert harmonic_sum(4) == 2.083333333333333\n",
            "assert harmonic_sum(19) == 3.547739657143682\n",
            "Running Example: 248\n",
            "def intersection_array(array_nums1,array_nums2):\n"
          ]
        },
        {
          "name": "stderr",
          "output_type": "stream",
          "text": [
            "Setting `pad_token_id` to `eos_token_id`:2 for open-end generation.\n"
          ]
        },
        {
          "name": "stdout",
          "output_type": "stream",
          "text": [
            "def intersection_array(array_nums1,array_nums2):\n",
            "    return list(set(array_nums1).intersection(array_nums2))\n",
            "assert intersection_array([1, 2, 3, 5, 7, 8, 9, 10],[1, 2, 4, 8, 9])==[1, 2, 8, 9]\n",
            "Code Failed Assertions\n",
            "Running Example: 249\n",
            "def count_X(tup, x):\n"
          ]
        },
        {
          "name": "stderr",
          "output_type": "stream",
          "text": [
            "Setting `pad_token_id` to `eos_token_id`:2 for open-end generation.\n"
          ]
        },
        {
          "name": "stdout",
          "output_type": "stream",
          "text": [
            "def count_X(tup, x):\n",
            "    count = 0\n",
            "    for i in tup:\n",
            "        if i == x:\n",
            "            count += 1\n",
            "    return count\n",
            "assert count_X((10, 8, 5, 2, 10, 15, 10, 8, 5, 8, 8, 2),4) == 0\n",
            "assert count_X((10, 8, 5, 2, 10, 15, 10, 8, 5, 8, 8, 2),10) == 3\n",
            "assert count_X((10, 8, 5, 2, 10, 15, 10, 8, 5, 8, 8, 2),8) == 4\n",
            "Running Example: 250\n",
            "def insert_element(list,element):\n"
          ]
        },
        {
          "name": "stderr",
          "output_type": "stream",
          "text": [
            "Setting `pad_token_id` to `eos_token_id`:2 for open-end generation.\n"
          ]
        },
        {
          "name": "stdout",
          "output_type": "stream",
          "text": [
            "def insert_element(list,element):\n",
            "    new_list = []\n",
            "    for i in list:\n",
            "        new_list.append(element)\n",
            "        new_list.append(i)\n",
            "    return new_list\n",
            "assert insert_element(['Red', 'Green', 'Black'] ,'c')==['c', 'Red', 'c', 'Green', 'c', 'Black'] \n",
            "assert insert_element(['python', 'java'] ,'program')==['program', 'python', 'program', 'java'] \n",
            "assert insert_element(['happy', 'sad'] ,'laugh')==['laugh', 'happy', 'laugh', 'sad'] \n",
            "Running Example: 251\n",
            "def convert(numbers):\n"
          ]
        },
        {
          "name": "stderr",
          "output_type": "stream",
          "text": [
            "Setting `pad_token_id` to `eos_token_id`:2 for open-end generation.\n"
          ]
        },
        {
          "name": "stdout",
          "output_type": "stream",
          "text": [
            "def convert(numbers):\n",
            "    return [complex(x) for x in numbers]\n",
            "assert convert(1) == (1.0, 0.0)\n",
            "Code Failed Assertions'int' object is not iterable\n",
            "Running Example: 252\n",
            "def count_integer(list1):\n"
          ]
        },
        {
          "name": "stderr",
          "output_type": "stream",
          "text": [
            "Setting `pad_token_id` to `eos_token_id`:2 for open-end generation.\n"
          ]
        },
        {
          "name": "stdout",
          "output_type": "stream",
          "text": [
            "def count_integer(list1):\n",
            "    count = 0\n",
            "    for i in list1:\n",
            "        if i == 1:\n",
            "            count += 1\n",
            "    return count\n",
            "assert count_integer([1,2,'abc',1.2]) == 2\n",
            "Code Failed Assertions\n",
            "Running Example: 253\n",
            "def words_ae(text):\n"
          ]
        },
        {
          "name": "stderr",
          "output_type": "stream",
          "text": [
            "Setting `pad_token_id` to `eos_token_id`:2 for open-end generation.\n"
          ]
        },
        {
          "name": "stdout",
          "output_type": "stream",
          "text": [
            "def words_ae(text):\n",
            "    words = text.split()\n",
            "    ae_words = []\n",
            "    for word in words:\n",
            "        if word[0] == 'a' or word[0] == 'e':\n",
            "            ae_words.append(word)\n",
            "    return ae_words\n",
            "assert words_ae(\"python programe\")==['ame']\n",
            "Code Failed Assertions\n",
            "Running Example: 254\n",
            "def combinations_colors(l, n):\n"
          ]
        },
        {
          "name": "stderr",
          "output_type": "stream",
          "text": [
            "Setting `pad_token_id` to `eos_token_id`:2 for open-end generation.\n"
          ]
        },
        {
          "name": "stdout",
          "output_type": "stream",
          "text": [
            "None\n",
            "Code Didn't Run\n",
            "Errorexec() arg 1 must be a string, bytes or code object\n",
            "Running Example: 255\n",
            "def count_Primes_nums(n):\n"
          ]
        },
        {
          "name": "stderr",
          "output_type": "stream",
          "text": [
            "Setting `pad_token_id` to `eos_token_id`:2 for open-end generation.\n"
          ]
        },
        {
          "name": "stdout",
          "output_type": "stream",
          "text": [
            "def count_Primes_nums(n):\n",
            "    count = 0\n",
            "    for i in range(2, n):\n",
            "        if is_Prime(i):\n",
            "            count += 1\n",
            "    return count\n",
            "assert count_Primes_nums(5) == 2\n",
            "Code Failed Assertionsname 'is_Prime' is not defined\n",
            "Running Example: 256\n",
            "def swap_numbers(a,b):\n"
          ]
        },
        {
          "name": "stderr",
          "output_type": "stream",
          "text": [
            "Setting `pad_token_id` to `eos_token_id`:2 for open-end generation.\n"
          ]
        },
        {
          "name": "stdout",
          "output_type": "stream",
          "text": [
            "def swap_numbers(a,b):\n",
            "    return b,a\n",
            "assert swap_numbers(10,20)==(20,10)\n",
            "assert swap_numbers(15,17)==(17,15)\n",
            "assert swap_numbers(100,200)==(200,100)\n",
            "Running Example: 257\n",
            "def count_odd(array_nums):\n"
          ]
        },
        {
          "name": "stderr",
          "output_type": "stream",
          "text": [
            "Setting `pad_token_id` to `eos_token_id`:2 for open-end generation.\n"
          ]
        },
        {
          "name": "stdout",
          "output_type": "stream",
          "text": [
            "def count_odd(array_nums):\n",
            "    return len(list(filter(lambda x: x%2!=0, array_nums)))\n",
            "assert count_odd([1, 2, 3, 5, 7, 8, 10])==4\n",
            "assert count_odd([10,15,14,13,-18,12,-20])==2\n",
            "assert count_odd([1, 2, 4, 8, 9])==2\n",
            "Running Example: 258\n",
            "def maximize_elements(test_tup1, test_tup2):\n"
          ]
        },
        {
          "name": "stderr",
          "output_type": "stream",
          "text": [
            "Setting `pad_token_id` to `eos_token_id`:2 for open-end generation.\n"
          ]
        },
        {
          "name": "stdout",
          "output_type": "stream",
          "text": [
            "def maximize_elements(test_tup1, test_tup2):\n",
            "    # Write your code here\n",
            "    if test_tup1[0] > test_tup2[0]:\n",
            "        return test_tup1\n",
            "    elif test_tup1[0] < test_tup2[0]:\n",
            "        return test_tup2\n",
            "    else:\n",
            "        if test_tup1[1] > test_tup2[1]:\n",
            "            return test_tup1\n",
            "        else:\n",
            "            return test_tup2\n",
            "assert maximize_elements(((1, 3), (4, 5), (2, 9), (1, 10)), ((6, 7), (3, 9), (1, 1), (7, 3))) == ((6, 7), (4, 9), (2, 9), (7, 10))\n",
            "Code Failed Assertions\n",
            "Running Example: 259\n",
            "def newman_prime(n):\n"
          ]
        },
        {
          "name": "stderr",
          "output_type": "stream",
          "text": [
            "Setting `pad_token_id` to `eos_token_id`:2 for open-end generation.\n"
          ]
        },
        {
          "name": "stdout",
          "output_type": "stream",
          "text": [
            "None\n",
            "Code Didn't Run\n",
            "Errorexec() arg 1 must be a string, bytes or code object\n",
            "Running Example: 260\n",
            "def division_elements(test_tup1, test_tup2):\n"
          ]
        },
        {
          "name": "stderr",
          "output_type": "stream",
          "text": [
            "Setting `pad_token_id` to `eos_token_id`:2 for open-end generation.\n"
          ]
        },
        {
          "name": "stdout",
          "output_type": "stream",
          "text": [
            "def division_elements(test_tup1, test_tup2):\n",
            "    return tuple(map(lambda x, y: x/y, test_tup1, test_tup2))\n",
            "assert division_elements((10, 4, 6, 9),(5, 2, 3, 3)) == (2, 2, 2, 3)\n",
            "assert division_elements((12, 6, 8, 16),(6, 3, 4, 4)) == (2, 2, 2, 4)\n",
            "assert division_elements((20, 14, 36, 18),(5, 7, 6, 9)) == (4, 2, 6, 2)\n",
            "Running Example: 261\n",
            "def split_two_parts(list1, L):\n"
          ]
        },
        {
          "name": "stderr",
          "output_type": "stream",
          "text": [
            "Setting `pad_token_id` to `eos_token_id`:2 for open-end generation.\n"
          ]
        },
        {
          "name": "stdout",
          "output_type": "stream",
          "text": [
            "def split_two_parts(list1, L):\n",
            "    list1 = list1[:L]\n",
            "    list2 = list1[L:]\n",
            "    return list1, list2\n",
            "assert split_two_parts([1,1,2,3,4,4,5,1],3)==([1, 1, 2], [3, 4, 4, 5, 1])\n",
            "Code Failed Assertions\n",
            "Running Example: 262\n",
            "def merge_dict(d1,d2):\n"
          ]
        },
        {
          "name": "stderr",
          "output_type": "stream",
          "text": [
            "Setting `pad_token_id` to `eos_token_id`:2 for open-end generation.\n"
          ]
        },
        {
          "name": "stdout",
          "output_type": "stream",
          "text": [
            "def merge_dict(d1,d2):\n",
            "    d3 = d1.copy()\n",
            "    d3.update(d2)\n",
            "    return d3\n",
            "assert merge_dict({'a': 100, 'b': 200},{'x': 300, 'y': 200})=={'x': 300, 'y': 200, 'a': 100, 'b': 200}\n",
            "assert merge_dict({'a':900,'b':900,'d':900},{'a':900,'b':900,'d':900})=={'a':900,'b':900,'d':900,'a':900,'b':900,'d':900}\n",
            "assert merge_dict({'a':10,'b':20},{'x':30,'y':40})=={'x':30,'y':40,'a':10,'b':20}\n",
            "Running Example: 263\n",
            "def dog_age(h_age):\n"
          ]
        },
        {
          "name": "stderr",
          "output_type": "stream",
          "text": [
            "Setting `pad_token_id` to `eos_token_id`:2 for open-end generation.\n"
          ]
        },
        {
          "name": "stdout",
          "output_type": "stream",
          "text": [
            "def dog_age(h_age):\n",
            "    return h_age * 7\n",
            "assert dog_age(12)==61\n",
            "Code Failed Assertions\n",
            "Running Example: 264\n",
            "def list_split(S, step):\n"
          ]
        },
        {
          "name": "stderr",
          "output_type": "stream",
          "text": [
            "Setting `pad_token_id` to `eos_token_id`:2 for open-end generation.\n"
          ]
        },
        {
          "name": "stdout",
          "output_type": "stream",
          "text": [
            "def list_split(S, step):\n",
            "    return [S[i::step] for i in range(step)]\n",
            "assert list_split(['a', 'b', 'c', 'd', 'e', 'f', 'g', 'h', 'i', 'j', 'k', 'l', 'm', 'n'],3)==[['a', 'd', 'g', 'j', 'm'], ['b', 'e', 'h', 'k', 'n'], ['c', 'f', 'i', 'l']] \n",
            "assert list_split([1,2,3,4,5,6,7,8,9,10,11,12,13,14],3)==[[1,4,7,10,13], [2,5,8,11,14], [3,6,9,12]] \n",
            "assert list_split(['python','java','C','C++','DBMS','SQL'],2)==[['python', 'C', 'DBMS'], ['java', 'C++', 'SQL']] \n",
            "Running Example: 265\n",
            "def lateralsurface_cube(l):\n"
          ]
        },
        {
          "name": "stderr",
          "output_type": "stream",
          "text": [
            "Setting `pad_token_id` to `eos_token_id`:2 for open-end generation.\n"
          ]
        },
        {
          "name": "stdout",
          "output_type": "stream",
          "text": [
            "def lateralsurface_cube(l):\n",
            "    return 6*l*l\n",
            "assert lateralsurface_cube(5)==100\n",
            "Code Failed Assertions\n",
            "Running Example: 266\n",
            "def square_Sum(n):\n"
          ]
        },
        {
          "name": "stderr",
          "output_type": "stream",
          "text": [
            "Setting `pad_token_id` to `eos_token_id`:2 for open-end generation.\n"
          ]
        },
        {
          "name": "stdout",
          "output_type": "stream",
          "text": [
            "def square_Sum(n):\n",
            "    sum = 0\n",
            "    for i in range(1,n+1,2):\n",
            "        sum = sum + i*i\n",
            "    return sum\n",
            "assert square_Sum(2) == 10\n",
            "Code Failed Assertions\n",
            "Running Example: 267\n",
            "def find_star_num(n):\n"
          ]
        },
        {
          "name": "stderr",
          "output_type": "stream",
          "text": [
            "Setting `pad_token_id` to `eos_token_id`:2 for open-end generation.\n"
          ]
        },
        {
          "name": "stdout",
          "output_type": "stream",
          "text": [
            "None\n",
            "Code Didn't Run\n",
            "Errorexec() arg 1 must be a string, bytes or code object\n",
            "Running Example: 268\n",
            "def ascii_value(k):\n"
          ]
        },
        {
          "name": "stderr",
          "output_type": "stream",
          "text": [
            "Setting `pad_token_id` to `eos_token_id`:2 for open-end generation.\n"
          ]
        },
        {
          "name": "stdout",
          "output_type": "stream",
          "text": [
            "def ascii_value(k):\n",
            "    return ord(k)\n",
            "assert ascii_value('A')==65\n",
            "assert ascii_value('R')==82\n",
            "assert ascii_value('S')==83\n",
            "Running Example: 269\n",
            "def sum_even_and_even_index(arr,n):\n"
          ]
        },
        {
          "name": "stderr",
          "output_type": "stream",
          "text": [
            "Setting `pad_token_id` to `eos_token_id`:2 for open-end generation.\n"
          ]
        },
        {
          "name": "stdout",
          "output_type": "stream",
          "text": [
            "def sum_even_and_even_index(arr,n):\n",
            "    sum_even = 0\n",
            "    sum_even_index = 0\n",
            "    for i in range(n):\n",
            "        if i%2 == 0:\n",
            "            sum_even += arr[i]\n",
            "        if arr[i]%2 == 0:\n",
            "            sum_even_index += arr[i]\n",
            "    return sum_even,sum_even_index\n",
            "assert sum_even_and_even_index([5, 6, 12, 1, 18, 8],6) == 30\n",
            "Code Failed Assertions\n",
            "Running Example: 270\n",
            "def even_Power_Sum(n):\n"
          ]
        },
        {
          "name": "stderr",
          "output_type": "stream",
          "text": [
            "Setting `pad_token_id` to `eos_token_id`:2 for open-end generation.\n"
          ]
        },
        {
          "name": "stdout",
          "output_type": "stream",
          "text": [
            "def even_Power_Sum(n):\n",
            "    sum = 0\n",
            "    for i in range(2,n+1,2):\n",
            "        sum += i**5\n",
            "    return sum\n",
            "assert even_Power_Sum(2) == 1056\n",
            "Code Failed Assertions\n",
            "Running Example: 271\n",
            "def rear_extract(test_list):\n"
          ]
        },
        {
          "name": "stderr",
          "output_type": "stream",
          "text": [
            "Setting `pad_token_id` to `eos_token_id`:2 for open-end generation.\n"
          ]
        },
        {
          "name": "stdout",
          "output_type": "stream",
          "text": [
            "def rear_extract(test_list):\n",
            "    rear_list = []\n",
            "    for i in test_list:\n",
            "        rear_list.append(i[2])\n",
            "    return rear_list\n",
            "assert rear_extract([(1, 'Rash', 21), (2, 'Varsha', 20), (3, 'Kil', 19)]) == [21, 20, 19]\n",
            "assert rear_extract([(1, 'Sai', 36), (2, 'Ayesha', 25), (3, 'Salman', 45)]) == [36, 25, 45]\n",
            "assert rear_extract([(1, 'Sudeep', 14), (2, 'Vandana', 36), (3, 'Dawood', 56)]) == [14, 36, 56]\n",
            "Running Example: 272\n",
            "def substract_elements(test_tup1, test_tup2):\n"
          ]
        },
        {
          "name": "stderr",
          "output_type": "stream",
          "text": [
            "Setting `pad_token_id` to `eos_token_id`:2 for open-end generation.\n"
          ]
        },
        {
          "name": "stdout",
          "output_type": "stream",
          "text": [
            "def substract_elements(test_tup1, test_tup2):\n",
            "    sub_tup = ()\n",
            "    for i in range(len(test_tup1)):\n",
            "        sub_tup += (test_tup1[i] - test_tup2[i],)\n",
            "    return sub_tup\n",
            "assert substract_elements((10, 4, 5), (2, 5, 18)) == (8, -1, -13)\n",
            "assert substract_elements((11, 2, 3), (24, 45 ,16)) == (-13, -43, -13)\n",
            "assert substract_elements((7, 18, 9), (10, 11, 12)) == (-3, 7, -3)\n",
            "Running Example: 273\n",
            "def even_binomial_Coeff_Sum( n):\n"
          ]
        },
        {
          "name": "stderr",
          "output_type": "stream",
          "text": [
            "Setting `pad_token_id` to `eos_token_id`:2 for open-end generation.\n"
          ]
        },
        {
          "name": "stdout",
          "output_type": "stream",
          "text": [
            "def even_binomial_Coeff_Sum( n):\n",
            "    if n == 0:\n",
            "        return 0\n",
            "    if n == 1:\n",
            "        return 1\n",
            "    if n == 2:\n",
            "        return 1\n",
            "    return even_binomial_Coeff_Sum(n-1) + 4*even_binomial_Coeff_Sum(n-2)\n",
            "assert even_binomial_Coeff_Sum(4) == 8\n",
            "Code Failed Assertions\n",
            "Running Example: 274\n",
            "def get_Position(a,n,m):\n"
          ]
        },
        {
          "name": "stderr",
          "output_type": "stream",
          "text": [
            "Setting `pad_token_id` to `eos_token_id`:2 for open-end generation.\n"
          ]
        },
        {
          "name": "stdout",
          "output_type": "stream",
          "text": [
            "def get_Position(a,n,m):\n",
            "    for i in range(n):\n",
            "        if a[i]==m:\n",
            "            return i\n",
            "assert get_Position([2,5,4],3,2) == 2\n",
            "Code Failed Assertions\n",
            "Running Example: 275\n",
            "def volume_cylinder(r,h):\n"
          ]
        },
        {
          "name": "stderr",
          "output_type": "stream",
          "text": [
            "Setting `pad_token_id` to `eos_token_id`:2 for open-end generation.\n"
          ]
        },
        {
          "name": "stdout",
          "output_type": "stream",
          "text": [
            "def volume_cylinder(r,h):\n",
            "    return math.pi * r**2 * h\n",
            "assert volume_cylinder(10,5)==1570.7500000000002\n",
            "Code Failed Assertions\n",
            "Running Example: 276\n",
            "def dict_filter(dict,n):\n"
          ]
        },
        {
          "name": "stderr",
          "output_type": "stream",
          "text": [
            "Setting `pad_token_id` to `eos_token_id`:2 for open-end generation.\n"
          ]
        },
        {
          "name": "stdout",
          "output_type": "stream",
          "text": [
            "def dict_filter(dict,n):\n",
            "    return {k:v for k,v in dict.items() if v > n}\n",
            "assert dict_filter({'Cierra Vega': 175, 'Alden Cantrell': 180, 'Kierra Gentry': 165, 'Pierre Cox': 190},170)=={'Cierra Vega': 175, 'Alden Cantrell': 180, 'Pierre Cox': 190}\n",
            "assert dict_filter({'Cierra Vega': 175, 'Alden Cantrell': 180, 'Kierra Gentry': 165, 'Pierre Cox': 190},180)=={ 'Alden Cantrell': 180, 'Pierre Cox': 190}\n",
            "Code Failed Assertions\n",
            "Running Example: 277\n",
            "def count_first_elements(test_tup):\n"
          ]
        },
        {
          "name": "stderr",
          "output_type": "stream",
          "text": [
            "Setting `pad_token_id` to `eos_token_id`:2 for open-end generation.\n"
          ]
        },
        {
          "name": "stdout",
          "output_type": "stream",
          "text": [
            "def count_first_elements(test_tup):\n",
            "    count = 0\n",
            "    for i in range(len(test_tup)):\n",
            "        if test_tup[i][0] < test_tup[i-1][0]:\n",
            "            count += 1\n",
            "    return count\n",
            "assert count_first_elements((1, 5, 7, (4, 6), 10) ) == 3\n",
            "Code Failed Assertions'int' object is not subscriptable\n",
            "Running Example: 278\n",
            "def is_num_decagonal(n):\n"
          ]
        },
        {
          "name": "stderr",
          "output_type": "stream",
          "text": [
            "Setting `pad_token_id` to `eos_token_id`:2 for open-end generation.\n"
          ]
        },
        {
          "name": "stdout",
          "output_type": "stream",
          "text": [
            "def is_num_decagonal(n):\n",
            "    return (math.sqrt(8*n+1)-1)/2\n",
            "assert is_num_decagonal(3) == 27\n",
            "Code Failed Assertions\n",
            "Running Example: 279\n",
            "def sequential_search(dlist, item):\n"
          ]
        },
        {
          "name": "stderr",
          "output_type": "stream",
          "text": [
            "Setting `pad_token_id` to `eos_token_id`:2 for open-end generation.\n"
          ]
        },
        {
          "name": "stdout",
          "output_type": "stream",
          "text": [
            "def sequential_search(dlist, item):\n",
            "    found = False\n",
            "    position = 0\n",
            "    while position < len(dlist) and not found:\n",
            "        if dlist[position] == item:\n",
            "            found = True\n",
            "        position = position + 1\n",
            "    return found\n",
            "assert sequential_search([11,23,58,31,56,77,43,12,65,19],31) == (True, 3)\n",
            "Code Failed Assertions\n",
            "Running Example: 280\n",
            "def all_unique(test_list):\n"
          ]
        },
        {
          "name": "stderr",
          "output_type": "stream",
          "text": [
            "Setting `pad_token_id` to `eos_token_id`:2 for open-end generation.\n"
          ]
        },
        {
          "name": "stdout",
          "output_type": "stream",
          "text": [
            "def all_unique(test_list):\n",
            "    for i in range(len(test_list)):\n",
            "        for j in range(i+1,len(test_list)):\n",
            "            if test_list[i]==test_list[j]:\n",
            "                return False\n",
            "    return True\n",
            "assert all_unique([1,2,3]) == True\n",
            "assert all_unique([1,2,1,2]) == False\n",
            "assert all_unique([1,2,3,4,5]) == True\n",
            "Running Example: 281\n",
            "def sub_list(nums1,nums2):\n"
          ]
        },
        {
          "name": "stderr",
          "output_type": "stream",
          "text": [
            "Setting `pad_token_id` to `eos_token_id`:2 for open-end generation.\n"
          ]
        },
        {
          "name": "stdout",
          "output_type": "stream",
          "text": [
            "def sub_list(nums1,nums2):\n",
            "    return list(map(lambda x:x[0]-x[1],zip(nums1,nums2)))\n",
            "assert sub_list([1, 2, 3],[4,5,6])==[-3,-3,-3]\n",
            "assert sub_list([1,2],[3,4])==[-2,-2]\n",
            "assert sub_list([90,120],[50,70])==[40,50]\n",
            "Running Example: 282\n",
            "def validate(n):\n"
          ]
        },
        {
          "name": "stderr",
          "output_type": "stream",
          "text": [
            "Setting `pad_token_id` to `eos_token_id`:2 for open-end generation.\n"
          ]
        },
        {
          "name": "stdout",
          "output_type": "stream",
          "text": [
            "def validate(n):\n",
            "    for i in range(10):\n",
            "        if n.count(str(i)) > i:\n",
            "            return False\n",
            "    return True\n",
            "assert validate(1234) == True\n",
            "Code Failed Assertions'int' object has no attribute 'count'\n",
            "Running Example: 283\n",
            "def check_element(list,element):\n"
          ]
        },
        {
          "name": "stderr",
          "output_type": "stream",
          "text": [
            "Setting `pad_token_id` to `eos_token_id`:2 for open-end generation.\n"
          ]
        },
        {
          "name": "stdout",
          "output_type": "stream",
          "text": [
            "def check_element(list,element):\n",
            "    for i in list:\n",
            "        if i!= element:\n",
            "            return False\n",
            "    return True\n",
            "assert check_element([\"green\", \"orange\", \"black\", \"white\"],'blue')==False\n",
            "assert check_element([1,2,3,4],7)==False\n",
            "assert check_element([\"green\", \"green\", \"green\", \"green\"],'green')==True\n",
            "Running Example: 284\n",
            "def text_match_two_three(text):\n"
          ]
        },
        {
          "name": "stderr",
          "output_type": "stream",
          "text": [
            "Setting `pad_token_id` to `eos_token_id`:2 for open-end generation.\n"
          ]
        },
        {
          "name": "stdout",
          "output_type": "stream",
          "text": [
            "def text_match_two_three(text):\n",
            "    pattern = re.compile(r'a[b]{2,3}')\n",
            "    return pattern.search(text)\n",
            "assert text_match_two_three(\"ac\")==('Not matched!')\n",
            "Code Failed Assertions\n",
            "Running Example: 285\n",
            "def max_sub_array_sum_repeated(a, n, k):\n"
          ]
        },
        {
          "name": "stderr",
          "output_type": "stream",
          "text": [
            "Setting `pad_token_id` to `eos_token_id`:2 for open-end generation.\n"
          ]
        },
        {
          "name": "stdout",
          "output_type": "stream",
          "text": [
            "def max_sub_array_sum_repeated(a, n, k):\n",
            "    # code here\n",
            "    for i in range(n):\n",
            "        a[i] = a[i] * k\n",
            "    max_sum = 0\n",
            "    curr_sum = 0\n",
            "    for i in range(n):\n",
            "        curr_sum += a[i]\n",
            "        if curr_sum > max_sum:\n",
            "            max_sum = curr_sum\n",
            "        if curr_sum < 0:\n",
            "            curr_sum = 0\n",
            "    return max_sum\n",
            "assert max_sub_array_sum_repeated([10, 20, -30, -1], 4, 3) == 30\n",
            "Code Failed Assertions\n",
            "Running Example: 286\n",
            "def square_Sum(n):\n"
          ]
        },
        {
          "name": "stderr",
          "output_type": "stream",
          "text": [
            "Setting `pad_token_id` to `eos_token_id`:2 for open-end generation.\n"
          ]
        },
        {
          "name": "stdout",
          "output_type": "stream",
          "text": [
            "def square_Sum(n):\n",
            "    sum = 0\n",
            "    for i in range(1,n+1,2):\n",
            "        sum += i*i\n",
            "    return sum\n",
            "assert square_Sum(2) == 20\n",
            "Code Failed Assertions\n",
            "Running Example: 287\n",
            "def modular_inverse(arr, N, P):\n"
          ]
        },
        {
          "name": "stderr",
          "output_type": "stream",
          "text": [
            "Setting `pad_token_id` to `eos_token_id`:2 for open-end generation.\n"
          ]
        },
        {
          "name": "stdout",
          "output_type": "stream",
          "text": [
            "def modular_inverse(arr, N, P):\n",
            "    # code here\n",
            "    for i in range(N):\n",
            "        arr[i] = (arr[i] * (P - 2)) % P\n",
            "assert modular_inverse([ 1, 6, 4, 5 ], 4, 7) == 2\n",
            "Code Failed Assertions\n",
            "Running Example: 288\n",
            "def odd_Days(N):\n"
          ]
        },
        {
          "name": "stderr",
          "output_type": "stream",
          "text": [
            "Setting `pad_token_id` to `eos_token_id`:2 for open-end generation.\n"
          ]
        },
        {
          "name": "stdout",
          "output_type": "stream",
          "text": [
            "def odd_Days(N):\n",
            "    if N%400==0:\n",
            "        return 366\n",
            "    elif N%4==0 and N%100!=0:\n",
            "        return 366\n",
            "    else:\n",
            "        return 365\n",
            "assert odd_Days(100) == 5\n",
            "Code Failed Assertions\n",
            "Running Example: 289\n",
            "def max_length(list1):\n"
          ]
        },
        {
          "name": "stderr",
          "output_type": "stream",
          "text": [
            "Setting `pad_token_id` to `eos_token_id`:2 for open-end generation.\n"
          ]
        },
        {
          "name": "stdout",
          "output_type": "stream",
          "text": [
            "def max_length(list1):\n",
            "    max_length = 0\n",
            "    for i in list1:\n",
            "        if len(i) > max_length:\n",
            "            max_length = len(i)\n",
            "    return max_length\n",
            "assert max_length([[0], [1, 3], [5, 7], [9, 11], [13, 15, 17]])==(3, [13, 15, 17])\n",
            "Code Failed Assertions\n",
            "Running Example: 290\n",
            "def count_no_of_ways(n, k):\n"
          ]
        },
        {
          "name": "stderr",
          "output_type": "stream",
          "text": [
            "Setting `pad_token_id` to `eos_token_id`:2 for open-end generation.\n"
          ]
        },
        {
          "name": "stdout",
          "output_type": "stream",
          "text": [
            "None\n",
            "Code Didn't Run\n",
            "Errorexec() arg 1 must be a string, bytes or code object\n",
            "Running Example: 291\n",
            "def find(n,m):\n"
          ]
        },
        {
          "name": "stderr",
          "output_type": "stream",
          "text": [
            "Setting `pad_token_id` to `eos_token_id`:2 for open-end generation.\n"
          ]
        },
        {
          "name": "stdout",
          "output_type": "stream",
          "text": [
            "def find(n,m):\n",
            "    return n//m\n",
            "assert find(10,3) == 3\n",
            "assert find(4,2) == 2\n",
            "assert find(20,5) == 4\n",
            "Running Example: 292\n",
            "def otherside_rightangle(w,h):\n"
          ]
        },
        {
          "name": "stderr",
          "output_type": "stream",
          "text": [
            "Setting `pad_token_id` to `eos_token_id`:2 for open-end generation.\n"
          ]
        },
        {
          "name": "stdout",
          "output_type": "stream",
          "text": [
            "def otherside_rightangle(w,h):\n",
            "    return (w**2 + h**2)**0.5\n",
            "assert otherside_rightangle(7,8)==10.63014581273465\n",
            "assert otherside_rightangle(3,4)==5\n",
            "assert otherside_rightangle(7,15)==16.55294535724685\n",
            "Running Example: 293\n",
            "def max_val(listval):\n"
          ]
        },
        {
          "name": "stderr",
          "output_type": "stream",
          "text": [
            "Setting `pad_token_id` to `eos_token_id`:2 for open-end generation.\n"
          ]
        },
        {
          "name": "stdout",
          "output_type": "stream",
          "text": [
            "def max_val(listval):\n",
            "    max_val = listval[0]\n",
            "    for i in listval:\n",
            "        if i > max_val:\n",
            "            max_val = i\n",
            "    return max_val\n",
            "assert max_val(['Python', 3, 2, 4, 5, 'version'])==5\n",
            "Code Failed Assertions'>' not supported between instances of 'int' and 'str'\n",
            "Running Example: 294\n",
            "def sum_div(number):\n"
          ]
        },
        {
          "name": "stderr",
          "output_type": "stream",
          "text": [
            "Setting `pad_token_id` to `eos_token_id`:2 for open-end generation.\n"
          ]
        },
        {
          "name": "stdout",
          "output_type": "stream",
          "text": [
            "def sum_div(number):\n",
            "    sum = 0\n",
            "    for i in range(1, number):\n",
            "        if number % i == 0:\n",
            "            sum += i\n",
            "    return sum\n",
            "assert sum_div(8)==7\n",
            "assert sum_div(12)==16\n",
            "assert sum_div(7)==1\n",
            "Running Example: 295\n",
            "def get_Inv_Count(arr,n):\n"
          ]
        },
        {
          "name": "stderr",
          "output_type": "stream",
          "text": [
            "Setting `pad_token_id` to `eos_token_id`:2 for open-end generation.\n"
          ]
        },
        {
          "name": "stdout",
          "output_type": "stream",
          "text": [
            "def get_Inv_Count(arr,n):\n",
            "    inv_count = 0\n",
            "    for i in range(n):\n",
            "        for j in range(i+1,n):\n",
            "            if arr[i]>arr[j]:\n",
            "                inv_count+=1\n",
            "    return inv_count\n",
            "assert get_Inv_Count([1,20,6,4,5],5) == 5\n",
            "assert get_Inv_Count([1,2,1],3) == 1\n",
            "assert get_Inv_Count([1,2,5,6,1],5) == 3\n",
            "Running Example: 296\n",
            "def flatten_list(list1):\n"
          ]
        },
        {
          "name": "stderr",
          "output_type": "stream",
          "text": [
            "Setting `pad_token_id` to `eos_token_id`:2 for open-end generation.\n"
          ]
        },
        {
          "name": "stdout",
          "output_type": "stream",
          "text": [
            "def flatten_list(list1):\n",
            "    flattened_list = []\n",
            "    for i in list1:\n",
            "        if type(i) == list:\n",
            "            flattened_list += flatten_list(i)\n",
            "        else:\n",
            "            flattened_list.append(i)\n",
            "    return flattened_list\n",
            "assert flatten_list([0, 10, [20, 30], 40, 50, [60, 70, 80], [90, 100, 110, 120]])==[0, 10, 20, 30, 40, 50, 60, 70, 80, 90, 100, 110, 120]\n",
            "assert flatten_list([[10, 20], [40], [30, 56, 25], [10, 20], [33], [40]])==[10, 20, 40, 30, 56, 25, 10, 20, 33, 40]\n",
            "assert flatten_list([[1,2,3], [4,5,6], [10,11,12], [7,8,9]])==[1, 2, 3, 4, 5, 6, 10, 11, 12, 7, 8, 9]\n",
            "Running Example: 297\n",
            "def intersection_nested_lists(l1, l2):\n"
          ]
        },
        {
          "name": "stderr",
          "output_type": "stream",
          "text": [
            "Setting `pad_token_id` to `eos_token_id`:2 for open-end generation.\n"
          ]
        },
        {
          "name": "stdout",
          "output_type": "stream",
          "text": [
            "def intersection_nested_lists(l1, l2):\n",
            "    result = []\n",
            "    for i in l1:\n",
            "        for j in l2:\n",
            "            if i == j:\n",
            "                result.append(i)\n",
            "    return result\n",
            "assert intersection_nested_lists( [1, 2, 3, 4, 5, 6, 7, 8, 9, 10, 11, 12, 13, 14],[[12, 18, 23, 25, 45], [7, 11, 19, 24, 28], [1, 5, 8, 18, 15, 16]])==[[12], [7, 11], [1, 5, 8]]\n",
            "Code Failed Assertions\n",
            "Running Example: 298\n",
            "defaultdict\n",
            "def max_aggregate(stdata):\n"
          ]
        },
        {
          "name": "stderr",
          "output_type": "stream",
          "text": [
            "Setting `pad_token_id` to `eos_token_id`:2 for open-end generation.\n"
          ]
        },
        {
          "name": "stdout",
          "output_type": "stream",
          "text": [
            "None\n",
            "Code Didn't Run\n",
            "Errorexec() arg 1 must be a string, bytes or code object\n",
            "Running Example: 299\n",
            "def count_binary_seq(n):\n"
          ]
        },
        {
          "name": "stderr",
          "output_type": "stream",
          "text": [
            "Setting `pad_token_id` to `eos_token_id`:2 for open-end generation.\n"
          ]
        },
        {
          "name": "stdout",
          "output_type": "stream",
          "text": [
            "def count_binary_seq(n):\n",
            "    return 2**n\n",
            "assert count_binary_seq(1) == 2.0\n",
            "assert count_binary_seq(2) == 6.0\n",
            "Code Failed Assertions\n",
            "Running Example: 300\n",
            "def dict_depth(d):\n"
          ]
        },
        {
          "name": "stderr",
          "output_type": "stream",
          "text": [
            "Setting `pad_token_id` to `eos_token_id`:2 for open-end generation.\n"
          ]
        },
        {
          "name": "stdout",
          "output_type": "stream",
          "text": [
            "def dict_depth(d):\n",
            "    if not isinstance(d, dict):\n",
            "        return 0\n",
            "    else:\n",
            "        return 1 + (max(map(dict_depth, d.values())) if d else 0)\n",
            "assert dict_depth({'a':1, 'b': {'c': {'d': {}}}})==4\n",
            "assert dict_depth({'a':1, 'b': {'c':'python'}})==2\n",
            "assert dict_depth({1: 'Sun', 2: {3: {4:'Mon'}}})==3\n",
            "Running Example: 301\n",
            "def set_Bit_Number(n):\n"
          ]
        },
        {
          "name": "stderr",
          "output_type": "stream",
          "text": [
            "Setting `pad_token_id` to `eos_token_id`:2 for open-end generation.\n"
          ]
        },
        {
          "name": "stdout",
          "output_type": "stream",
          "text": [
            "def set_Bit_Number(n):\n",
            "    count = 0\n",
            "    while(n):\n",
            "        count += 1\n",
            "        n &= (n-1)\n",
            "    return count\n",
            "assert set_Bit_Number(6) == 4\n",
            "Code Failed Assertions\n",
            "Running Example: 302\n",
            "def solve(a,n):\n"
          ]
        },
        {
          "name": "stderr",
          "output_type": "stream",
          "text": [
            "Setting `pad_token_id` to `eos_token_id`:2 for open-end generation.\n"
          ]
        },
        {
          "name": "stdout",
          "output_type": "stream",
          "text": [
            "def solve(a,n):\n",
            "    count=0\n",
            "    for i in range(n):\n",
            "        for j in range(i+1,n):\n",
            "            if a[i]>a[j]:\n",
            "                count+=1\n",
            "    return count\n",
            "assert solve([1,0,2],3) == True\n",
            "assert solve([1,2,0],3) == False\n",
            "Code Failed Assertions\n",
            "Running Example: 303\n",
            "def find_Element(arr,ranges,rotations,index) :\n"
          ]
        },
        {
          "name": "stderr",
          "output_type": "stream",
          "text": [
            "Setting `pad_token_id` to `eos_token_id`:2 for open-end generation.\n"
          ]
        },
        {
          "name": "stdout",
          "output_type": "stream",
          "text": [
            "def find_Element(arr,ranges,rotations,index) :\n",
            "    # code here\n",
            "    for i in range(len(ranges)) :\n",
            "        if index >= ranges[i] :\n",
            "            index -= rotations[i]\n",
            "    return arr[index]\n",
            "assert find_Element([1,2,3,4,5],[[0,2],[0,3]],2,1) == 3\n",
            "Code Failed Assertions'>=' not supported between instances of 'int' and 'list'\n",
            "Running Example: 304\n",
            "def start_withp(words):\n"
          ]
        },
        {
          "name": "stderr",
          "output_type": "stream",
          "text": [
            "Setting `pad_token_id` to `eos_token_id`:2 for open-end generation.\n"
          ]
        },
        {
          "name": "stdout",
          "output_type": "stream",
          "text": [
            "def start_withp(words):\n",
            "    for word in words:\n",
            "        if word.startswith('p'):\n",
            "            print(word)\n",
            "assert start_withp([\"Python PHP\", \"Java JavaScript\", \"c c++\"])==('Python', 'PHP')\n",
            "Code Failed Assertions\n",
            "Running Example: 305\n",
            "def max_sum_increasing_subseq(a, n, index, k):\n"
          ]
        },
        {
          "name": "stderr",
          "output_type": "stream",
          "text": [
            "Setting `pad_token_id` to `eos_token_id`:2 for open-end generation.\n"
          ]
        },
        {
          "name": "stdout",
          "output_type": "stream",
          "text": [
            "def max_sum_increasing_subseq(a, n, index, k):\n",
            "    if index == n:\n",
            "        return 0\n",
            "    if index == k:\n",
            "        return a[index]\n",
            "    if dp[index][k]!= -1:\n",
            "        return dp[index][k]\n",
            "    dp[index][k] = max(max_sum_increasing_subseq(a, n, index + 1, k), max_sum_increasing_subseq(a, n, index + 1, k + 1) + a[index])\n",
            "    return dp[index][k]\n",
            "assert max_sum_increasing_subseq([1, 101, 2, 3, 100, 4, 5 ], 7, 4, 6) == 11\n",
            "Code Failed Assertionsname 'dp' is not defined\n",
            "Running Example: 306\n",
            "def colon_tuplex(tuplex,m,n):\n"
          ]
        },
        {
          "name": "stderr",
          "output_type": "stream",
          "text": [
            "Setting `pad_token_id` to `eos_token_id`:2 for open-end generation.\n"
          ]
        },
        {
          "name": "stdout",
          "output_type": "stream",
          "text": [
            "def colon_tuplex(tuplex,m,n):\n",
            "    if tuplex[m] == tuplex[n]:\n",
            "        return tuplex[m]\n",
            "    else:\n",
            "        return ':'\n",
            "assert colon_tuplex((\"HELLO\", 5, [], True) ,2,50)==(\"HELLO\", 5, [50], True) \n",
            "Code Failed Assertionstuple index out of range\n",
            "Running Example: 307\n",
            "def large_product(nums1, nums2, N):\n"
          ]
        },
        {
          "name": "stderr",
          "output_type": "stream",
          "text": [
            "Setting `pad_token_id` to `eos_token_id`:2 for open-end generation.\n"
          ]
        },
        {
          "name": "stdout",
          "output_type": "stream",
          "text": [
            "def large_product(nums1, nums2, N):\n",
            "    nums1.sort(reverse=True)\n",
            "    nums2.sort(reverse=True)\n",
            "    return [nums1[i]*nums2[i] for i in range(N)]\n",
            "assert large_product([1, 2, 3, 4, 5, 6],[3, 6, 8, 9, 10, 6],3)==[60, 54, 50]\n",
            "Code Failed Assertions\n",
            "Running Example: 308\n",
            "def maximum(a,b):\n"
          ]
        },
        {
          "name": "stderr",
          "output_type": "stream",
          "text": [
            "Setting `pad_token_id` to `eos_token_id`:2 for open-end generation.\n"
          ]
        },
        {
          "name": "stdout",
          "output_type": "stream",
          "text": [
            "def maximum(a,b):\n",
            "    if a>b:\n",
            "        return a\n",
            "    else:\n",
            "        return b\n",
            "assert maximum(5,10) == 10\n",
            "assert maximum(-1,-2) == -1\n",
            "assert maximum(9,7) == 9\n",
            "Running Example: 309\n",
            "def string_to_tuple(str1):\n"
          ]
        },
        {
          "name": "stderr",
          "output_type": "stream",
          "text": [
            "Setting `pad_token_id` to `eos_token_id`:2 for open-end generation.\n"
          ]
        },
        {
          "name": "stdout",
          "output_type": "stream",
          "text": [
            "def string_to_tuple(str1):\n",
            "    str1 = str1.replace(\"(\", \"\")\n",
            "    str1 = str1.replace(\")\", \"\")\n",
            "    str1 = str1.replace(\" \", \"\")\n",
            "    str1 = str1.replace(\"'\", \"\")\n",
            "    str1 = str1.replace(\",\", \"\")\n",
            "    return tuple(str1)\n",
            "assert string_to_tuple(\"python 3.0\")==('p', 'y', 't', 'h', 'o', 'n', '3', '.', '0')\n",
            "assert string_to_tuple(\"item1\")==('i', 't', 'e', 'm', '1')\n",
            "assert string_to_tuple(\"15.10\")==('1', '5', '.', '1', '0')\n",
            "Running Example: 310\n",
            "def set_left_most_unset_bit(n):\n"
          ]
        },
        {
          "name": "stderr",
          "output_type": "stream",
          "text": [
            "Setting `pad_token_id` to `eos_token_id`:2 for open-end generation.\n"
          ]
        },
        {
          "name": "stdout",
          "output_type": "stream",
          "text": [
            "def set_left_most_unset_bit(n):\n",
            "    return n | (n + 1)\n",
            "assert set_left_most_unset_bit(10) == 14\n",
            "Code Failed Assertions\n",
            "Running Example: 311\n",
            "def volume_cone(r,h):\n"
          ]
        },
        {
          "name": "stderr",
          "output_type": "stream",
          "text": [
            "Setting `pad_token_id` to `eos_token_id`:2 for open-end generation.\n"
          ]
        },
        {
          "name": "stdout",
          "output_type": "stream",
          "text": [
            "def volume_cone(r,h):\n",
            "    return (3.14*r**2*h)/3\n",
            "assert volume_cone(5,12)==314.15926535897927\n",
            "Code Failed Assertions\n",
            "Running Example: 312\n",
            "def pos_nos(list1):\n"
          ]
        },
        {
          "name": "stderr",
          "output_type": "stream",
          "text": [
            "Setting `pad_token_id` to `eos_token_id`:2 for open-end generation.\n"
          ]
        },
        {
          "name": "stdout",
          "output_type": "stream",
          "text": [
            "def pos_nos(list1):\n",
            "    for i in list1:\n",
            "        if i>0:\n",
            "            print(i)\n",
            "assert pos_nos([-1,-2,1,2]) == 1,2\n",
            "1\n",
            "2\n",
            "Code Failed Assertions2\n",
            "Running Example: 313\n",
            "def max_sum_rectangular_grid(grid, n) :\n"
          ]
        },
        {
          "name": "stderr",
          "output_type": "stream",
          "text": [
            "Setting `pad_token_id` to `eos_token_id`:2 for open-end generation.\n"
          ]
        },
        {
          "name": "stdout",
          "output_type": "stream",
          "text": [
            "def max_sum_rectangular_grid(grid, n) :\n",
            "    # code here\n",
            "    m = len(grid)\n",
            "    dp = [[0 for i in range(n)] for j in range(m)]\n",
            "    for i in range(m) :\n",
            "        for j in range(n) :\n",
            "            if i == 0 or j == 0 :\n",
            "                dp[i][j] = grid[i][j]\n",
            "            else :\n",
            "                dp[i][j] = max(dp[i-1][j], dp[i][j-1], dp[i-1][j-1]) + grid[i][j]\n",
            "    return dp[m-1][n-1]\n",
            "assert max_sum_rectangular_grid([ [1, 4, 5], [2, 0, 0 ] ], 3) == 7\n",
            "Code Failed Assertions\n",
            "Running Example: 314\n",
            "def find_Max_Len_Even(str):\n"
          ]
        },
        {
          "name": "stderr",
          "output_type": "stream",
          "text": [
            "Setting `pad_token_id` to `eos_token_id`:2 for open-end generation.\n"
          ]
        },
        {
          "name": "stdout",
          "output_type": "stream",
          "text": [
            "def find_Max_Len_Even(str):\n",
            "    str = str.split()\n",
            "    str = [x for x in str if len(x) % 2 == 0]\n",
            "    return max(str, key=len)\n",
            "assert find_Max_Len_Even(\"python language\") == \"language\"\n",
            "assert find_Max_Len_Even(\"maximum even length\") == \"length\"\n",
            "assert find_Max_Len_Even(\"eve\") == \"-1\"\n",
            "Code Failed Assertionsmax() arg is an empty sequence\n",
            "Running Example: 315\n",
            "def find_last_occurrence(A, x):\n"
          ]
        },
        {
          "name": "stderr",
          "output_type": "stream",
          "text": [
            "Setting `pad_token_id` to `eos_token_id`:2 for open-end generation.\n"
          ]
        },
        {
          "name": "stdout",
          "output_type": "stream",
          "text": [
            "def find_last_occurrence(A, x):\n",
            "    if len(A) == 0:\n",
            "        return -1\n",
            "    low = 0\n",
            "    high = len(A) - 1\n",
            "    while low <= high:\n",
            "        mid = (low + high) // 2\n",
            "        if A[mid] == x:\n",
            "            high = mid - 1\n",
            "        elif A[mid] > x:\n",
            "            high = mid - 1\n",
            "        else:\n",
            "            low = mid + 1\n",
            "    if low >= len(A):\n",
            "        return -1\n",
            "    return low\n",
            "assert find_last_occurrence([2, 5, 5, 5, 6, 6, 8, 9, 9, 9], 5) == 3\n",
            "Code Failed Assertions\n",
            "Running Example: 316\n",
            "def modified_encode(alist):\n"
          ]
        },
        {
          "name": "stderr",
          "output_type": "stream",
          "text": [
            "Setting `pad_token_id` to `eos_token_id`:2 for open-end generation.\n"
          ]
        },
        {
          "name": "stdout",
          "output_type": "stream",
          "text": [
            "None\n",
            "Code Didn't Run\n",
            "Errorexec() arg 1 must be a string, bytes or code object\n",
            "Running Example: 317\n",
            "def max_volume (s):\n"
          ]
        },
        {
          "name": "stderr",
          "output_type": "stream",
          "text": [
            "Setting `pad_token_id` to `eos_token_id`:2 for open-end generation.\n"
          ]
        },
        {
          "name": "stdout",
          "output_type": "stream",
          "text": [
            "def max_volume (s):\n",
            "    s.sort()\n",
            "    return (s[0]*s[0]*s[0])\n",
            "assert max_volume(8) == 18\n",
            "Code Failed Assertions'int' object has no attribute 'sort'\n",
            "Running Example: 318\n",
            "def find_long_word(text):\n"
          ]
        },
        {
          "name": "stderr",
          "output_type": "stream",
          "text": [
            "Setting `pad_token_id` to `eos_token_id`:2 for open-end generation.\n"
          ]
        },
        {
          "name": "stdout",
          "output_type": "stream",
          "text": [
            "def find_long_word(text):\n",
            "    return re.findall(r'\\b[a-z]{5}\\b', text)\n",
            "assert find_long_word('Please move back to strem') == ['strem']\n",
            "assert find_long_word('4K Ultra HD streaming player') == ['Ultra']\n",
            "Code Failed Assertions\n",
            "Running Example: 319\n",
            "def sum_difference(n):\n"
          ]
        },
        {
          "name": "stderr",
          "output_type": "stream",
          "text": [
            "Setting `pad_token_id` to `eos_token_id`:2 for open-end generation.\n"
          ]
        },
        {
          "name": "stdout",
          "output_type": "stream",
          "text": [
            "def sum_difference(n):\n",
            "    sum_of_squares = 0\n",
            "    sum_of_n = 0\n",
            "    for i in range(1, n+1):\n",
            "        sum_of_squares += i**2\n",
            "        sum_of_n += i\n",
            "    return sum_of_squares - sum_of_n**2\n",
            "assert sum_difference(12)==5434\n",
            "Code Failed Assertions\n",
            "Running Example: 320\n",
            "def find_demlo(s):\n"
          ]
        },
        {
          "name": "stderr",
          "output_type": "stream",
          "text": [
            "Setting `pad_token_id` to `eos_token_id`:2 for open-end generation.\n"
          ]
        },
        {
          "name": "stdout",
          "output_type": "stream",
          "text": [
            "None\n",
            "Code Didn't Run\n",
            "Errorexec() arg 1 must be a string, bytes or code object\n",
            "Running Example: 321\n",
            "def position_min(list1):\n"
          ]
        },
        {
          "name": "stderr",
          "output_type": "stream",
          "text": [
            "Setting `pad_token_id` to `eos_token_id`:2 for open-end generation.\n"
          ]
        },
        {
          "name": "stdout",
          "output_type": "stream",
          "text": [
            "def position_min(list1):\n",
            "    list2 = []\n",
            "    for i in range(len(list1)):\n",
            "        if list1[i] == min(list1):\n",
            "            list2.append(i)\n",
            "    return list2\n",
            "assert position_min([12,33,23,10,67,89,45,667,23,12,11,10,54])==[3,11]\n",
            "assert position_min([1,2,2,2,4,4,4,5,5,5,5])==[0]\n",
            "assert position_min([2,1,5,6,8,3,4,9,10,11,8,12])==[1]\n",
            "Running Example: 322\n",
            "def right_rotate(arr, n, out_of_place, cur):\n"
          ]
        },
        {
          "name": "stderr",
          "output_type": "stream",
          "text": [
            "Setting `pad_token_id` to `eos_token_id`:2 for open-end generation.\n"
          ]
        },
        {
          "name": "stdout",
          "output_type": "stream",
          "text": [
            "def right_rotate(arr, n, out_of_place, cur):\n",
            "    if cur == n:\n",
            "        return\n",
            "    if arr[cur] < 0:\n",
            "        out_of_place += 1\n",
            "    if out_of_place == 0:\n",
            "        arr[cur], arr[cur + 1] = arr[cur + 1], arr[cur]\n",
            "        right_rotate(arr, n, out_of_place, cur + 1)\n",
            "    else:\n",
            "        right_rotate(arr, n, out_of_place, cur + 1)\n",
            "assert re_arrange([-5, -2, 5, 2, 4,\t7, 1, 8, 0, -8], 10) == [-5, 5, -2, 2, -8, 4, 7, 1, 8, 0]\n",
            "Code Failed Assertionsname 're_arrange' is not defined\n",
            "Running Example: 323\n",
            "def sum_of_alternates(test_tuple):\n"
          ]
        },
        {
          "name": "stderr",
          "output_type": "stream",
          "text": [
            "Setting `pad_token_id` to `eos_token_id`:2 for open-end generation.\n"
          ]
        },
        {
          "name": "stdout",
          "output_type": "stream",
          "text": [
            "def sum_of_alternates(test_tuple):\n",
            "    sum = 0\n",
            "    for i in range(0,len(test_tuple),2):\n",
            "        sum += test_tuple[i]\n",
            "    return sum\n",
            "assert sum_of_alternates((5, 6, 3, 6, 10, 34)) == (46, 18)\n",
            "Code Failed Assertions\n",
            "Running Example: 324\n",
            "def get_Min_Squares(n):\n"
          ]
        },
        {
          "name": "stderr",
          "output_type": "stream",
          "text": [
            "Setting `pad_token_id` to `eos_token_id`:2 for open-end generation.\n"
          ]
        },
        {
          "name": "stdout",
          "output_type": "stream",
          "text": [
            "None\n",
            "Code Didn't Run\n",
            "Errorexec() arg 1 must be a string, bytes or code object\n",
            "Running Example: 325\n",
            "defaultdict \n",
            "\n",
            "def most_occurrences(test_list):\n"
          ]
        },
        {
          "name": "stderr",
          "output_type": "stream",
          "text": [
            "Setting `pad_token_id` to `eos_token_id`:2 for open-end generation.\n"
          ]
        },
        {
          "name": "stdout",
          "output_type": "stream",
          "text": [
            "None\n",
            "Code Didn't Run\n",
            "Errorexec() arg 1 must be a string, bytes or code object\n",
            "Running Example: 326\n",
            "def check_isosceles(x,y,z):\n"
          ]
        },
        {
          "name": "stderr",
          "output_type": "stream",
          "text": [
            "Setting `pad_token_id` to `eos_token_id`:2 for open-end generation.\n"
          ]
        },
        {
          "name": "stdout",
          "output_type": "stream",
          "text": [
            "def check_isosceles(x,y,z):\n",
            "    if x == y or y == z or x == z:\n",
            "        print(\"The triangle is isosceles\")\n",
            "    else:\n",
            "        print(\"The triangle is not isosceles\")\n",
            "assert check_isosceles(6,8,12)==False \n",
            "The triangle is not isosceles\n",
            "Code Failed Assertions\n",
            "Running Example: 327\n",
            "def rotate_left(list1,m,n):\n"
          ]
        },
        {
          "name": "stderr",
          "output_type": "stream",
          "text": [
            "Setting `pad_token_id` to `eos_token_id`:2 for open-end generation.\n"
          ]
        },
        {
          "name": "stdout",
          "output_type": "stream",
          "text": [
            "def rotate_left(list1,m,n):\n",
            "    for i in range(m):\n",
            "        left_rotate(list1)\n",
            "    for i in range(n):\n",
            "        left_rotate(list1)\n",
            "    return list1\n",
            "assert rotate_left([1, 2, 3, 4, 5, 6, 7, 8, 9, 10],3,4)==[4, 5, 6, 7, 8, 9, 10, 1, 2, 3, 4]\n",
            "Code Failed Assertionsname 'left_rotate' is not defined\n",
            "Running Example: 328\n",
            "def neg_count(list):\n"
          ]
        },
        {
          "name": "stderr",
          "output_type": "stream",
          "text": [
            "Setting `pad_token_id` to `eos_token_id`:2 for open-end generation.\n"
          ]
        },
        {
          "name": "stdout",
          "output_type": "stream",
          "text": [
            "def neg_count(list):\n",
            "    count = 0\n",
            "    for i in list:\n",
            "        if i < 0:\n",
            "            count += 1\n",
            "    return count\n",
            "assert neg_count([-1,-2,3,-4,-5]) == 4\n",
            "assert neg_count([1,2,3]) == 0\n",
            "assert neg_count([1,2,-3,-10,20]) == 2\n",
            "Running Example: 329\n",
            "def find_char(text):\n"
          ]
        },
        {
          "name": "stderr",
          "output_type": "stream",
          "text": [
            "Setting `pad_token_id` to `eos_token_id`:2 for open-end generation.\n"
          ]
        },
        {
          "name": "stdout",
          "output_type": "stream",
          "text": [
            "def find_char(text):\n",
            "    return re.findall(r'\\b[a-z]{3,5}\\b', text)\n",
            "assert find_char('For the four consumer complaints contact manager AKR reddy') == ['For', 'the', 'four', 'AKR', 'reddy']\n",
            "Code Failed Assertions\n",
            "Running Example: 330\n",
            "def count_unset_bits(n):\n"
          ]
        },
        {
          "name": "stderr",
          "output_type": "stream",
          "text": [
            "Setting `pad_token_id` to `eos_token_id`:2 for open-end generation.\n"
          ]
        },
        {
          "name": "stdout",
          "output_type": "stream",
          "text": [
            "def count_unset_bits(n):\n",
            "    count = 0\n",
            "    while n:\n",
            "        count += n & 1\n",
            "        n >>= 1\n",
            "    return count\n",
            "assert count_unset_bits(2) == 1\n",
            "assert count_unset_bits(4) == 2\n",
            "Code Failed Assertions\n",
            "Running Example: 331\n",
            "def char_frequency(str1):\n"
          ]
        },
        {
          "name": "stderr",
          "output_type": "stream",
          "text": [
            "Setting `pad_token_id` to `eos_token_id`:2 for open-end generation.\n"
          ]
        },
        {
          "name": "stdout",
          "output_type": "stream",
          "text": [
            "def char_frequency(str1):\n",
            "    dict = {}\n",
            "    for n in str1:\n",
            "        keys = dict.keys()\n",
            "        if n in keys:\n",
            "            dict[n] += 1\n",
            "        else:\n",
            "            dict[n] = 1\n",
            "    return dict\n",
            "assert char_frequency('python')=={'p': 1, 'y': 1, 't': 1, 'h': 1, 'o': 1, 'n': 1}\n",
            "assert char_frequency('program')=={'p': 1, 'r': 2, 'o': 1, 'g': 1, 'a': 1, 'm': 1}\n",
            "assert char_frequency('language')=={'l': 1, 'a': 2, 'n': 1, 'g': 2, 'u': 1, 'e': 1}\n",
            "Running Example: 332\n",
            "def Sort(sub_li):\n"
          ]
        },
        {
          "name": "stderr",
          "output_type": "stream",
          "text": [
            "Setting `pad_token_id` to `eos_token_id`:2 for open-end generation.\n"
          ]
        },
        {
          "name": "stdout",
          "output_type": "stream",
          "text": [
            "def Sort(sub_li):\n",
            "    for i in range(0, len(sub_li)):\n",
            "        for j in range(0, len(sub_li)-i-1):\n",
            "            if(sub_li[j][1]>sub_li[j+1][1]):\n",
            "                temp = sub_li[j]\n",
            "                sub_li[j]=sub_li[j+1]\n",
            "                sub_li[j+1]=temp\n",
            "    return sub_li\n",
            "assert Sort([['a', 10], ['b', 5], ['c', 20], ['d', 15]]) == [['b', 5], ['a', 10], ['d', 15], ['c', 20]]\n",
            "assert Sort([['452', 10], ['256', 5], ['100', 20], ['135', 15]]) == [['256', 5], ['452', 10], ['135', 15], ['100', 20]]\n",
            "assert Sort([['rishi', 10], ['akhil', 5], ['ramya', 20], ['gaur', 15]]) == [['akhil', 5], ['rishi', 10], ['gaur', 15], ['ramya', 20]]\n",
            "Running Example: 333\n",
            "def check_Validity(a,b,c):\n"
          ]
        },
        {
          "name": "stderr",
          "output_type": "stream",
          "text": [
            "Setting `pad_token_id` to `eos_token_id`:2 for open-end generation.\n"
          ]
        },
        {
          "name": "stdout",
          "output_type": "stream",
          "text": [
            "def check_Validity(a,b,c):\n",
            "    if a+b>c and a+c>b and b+c>a:\n",
            "        return True\n",
            "    else:\n",
            "        return False\n",
            "assert check_Validity(1,2,3) == False\n",
            "assert check_Validity(2,3,5) == False\n",
            "assert check_Validity(7,10,5) == True\n",
            "Running Example: 334\n",
            "def ap_sum(a,n,d):\n"
          ]
        },
        {
          "name": "stderr",
          "output_type": "stream",
          "text": [
            "Setting `pad_token_id` to `eos_token_id`:2 for open-end generation.\n"
          ]
        },
        {
          "name": "stdout",
          "output_type": "stream",
          "text": [
            "def ap_sum(a,n,d):\n",
            "    return (n/2)*(2*a+(n-1)*d)\n",
            "assert ap_sum(1,5,2)==25\n",
            "assert ap_sum(2,6,4)==72\n",
            "assert ap_sum(1,4,5)==34\n",
            "Running Example: 335\n",
            "def check_monthnum(monthname1):\n"
          ]
        },
        {
          "name": "stderr",
          "output_type": "stream",
          "text": [
            "Setting `pad_token_id` to `eos_token_id`:2 for open-end generation.\n"
          ]
        },
        {
          "name": "stdout",
          "output_type": "stream",
          "text": [
            "def check_monthnum(monthname1):\n",
            "    if monthname1 == \"February\":\n",
            "        return 28\n",
            "    else:\n",
            "        return 30\n",
            "assert check_monthnum(\"February\")==True\n",
            "Code Failed Assertions\n",
            "Running Example: 336\n",
            "def text_match_word(text):\n"
          ]
        },
        {
          "name": "stderr",
          "output_type": "stream",
          "text": [
            "Setting `pad_token_id` to `eos_token_id`:2 for open-end generation.\n"
          ]
        },
        {
          "name": "stdout",
          "output_type": "stream",
          "text": [
            "def text_match_word(text):\n",
            "    return re.search(r'\\w+\\s*[.,?!;]?$', text)\n",
            "assert text_match_word(\"python.\")==('Found a match!')\n",
            "Code Failed Assertions\n",
            "Running Example: 337\n",
            "def check_Equality(s):\n"
          ]
        },
        {
          "name": "stderr",
          "output_type": "stream",
          "text": [
            "Setting `pad_token_id` to `eos_token_id`:2 for open-end generation.\n"
          ]
        },
        {
          "name": "stdout",
          "output_type": "stream",
          "text": [
            "def check_Equality(s):\n",
            "    count = 0\n",
            "    for i in range(len(s)):\n",
            "        for j in range(i+1, len(s)+1):\n",
            "            if s[i] == s[j-1]:\n",
            "                count += 1\n",
            "    return count\n",
            "assert count_Substring_With_Equal_Ends('aba') == 4\n",
            "Code Failed Assertionsname 'count_Substring_With_Equal_Ends' is not defined\n",
            "Running Example: 338\n",
            "def find_Divisor(x,y):\n"
          ]
        },
        {
          "name": "stderr",
          "output_type": "stream",
          "text": [
            "Setting `pad_token_id` to `eos_token_id`:2 for open-end generation.\n"
          ]
        },
        {
          "name": "stdout",
          "output_type": "stream",
          "text": [
            "def find_Divisor(x,y):\n",
            "    divisors = []\n",
            "    for i in range(x,y+1):\n",
            "        for j in range(1,i+1):\n",
            "            if i%j == 0:\n",
            "                divisors.append(j)\n",
            "    return max(divisors)\n",
            "assert find_Divisor(2,2) == 2\n",
            "assert find_Divisor(2,5) == 2\n",
            "Code Failed Assertions\n",
            "Running Example: 339\n",
            "def sum_three_smallest_nums(lst):\n"
          ]
        },
        {
          "name": "stderr",
          "output_type": "stream",
          "text": [
            "Setting `pad_token_id` to `eos_token_id`:2 for open-end generation.\n"
          ]
        },
        {
          "name": "stdout",
          "output_type": "stream",
          "text": [
            "def sum_three_smallest_nums(lst):\n",
            "    return sum(sorted(lst)[:3])\n",
            "assert sum_three_smallest_nums([10,20,30,40,50,60,7]) == 37\n",
            "Code Failed Assertionssum() missing 1 required positional argument: 'b'\n",
            "Running Example: 340\n",
            "def set_to_tuple(s):\n"
          ]
        },
        {
          "name": "stderr",
          "output_type": "stream",
          "text": [
            "Setting `pad_token_id` to `eos_token_id`:2 for open-end generation.\n"
          ]
        },
        {
          "name": "stdout",
          "output_type": "stream",
          "text": [
            "def set_to_tuple(s):\n",
            "    t = ()\n",
            "    for i in s:\n",
            "        t = t + (i,)\n",
            "    return t\n",
            "assert set_to_tuple({1, 2, 3, 4, 5}) == (1, 2, 3, 4, 5)\n",
            "assert set_to_tuple({6, 7, 8, 9, 10, 11}) == (6, 7, 8, 9, 10, 11)\n",
            "assert set_to_tuple({12, 13, 14, 15, 16}) == (12, 13, 14, 15, 16)\n",
            "Code Failed Assertions\n",
            "Running Example: 341\n",
            "def __init__(self, value, list_num, index):\n"
          ]
        },
        {
          "name": "stderr",
          "output_type": "stream",
          "text": [
            "Setting `pad_token_id` to `eos_token_id`:2 for open-end generation.\n"
          ]
        },
        {
          "name": "stdout",
          "output_type": "stream",
          "text": [
            "def __init__(self, value, list_num, index):\n",
            "        self.value = value\n",
            "        self.list_num = list_num\n",
            "        self.index = index\n",
            "assert find_minimum_range([[3, 6, 8, 10, 15], [1, 5, 12], [4, 8, 15, 16], [2, 6]]) == (4, 6)\n",
            "Code Failed Assertionsname 'find_minimum_range' is not defined\n",
            "Running Example: 342\n",
            "def dig_let(s):\n"
          ]
        },
        {
          "name": "stderr",
          "output_type": "stream",
          "text": [
            "Setting `pad_token_id` to `eos_token_id`:2 for open-end generation.\n"
          ]
        },
        {
          "name": "stdout",
          "output_type": "stream",
          "text": [
            "def dig_let(s):\n",
            "    dig = 0\n",
            "    let = 0\n",
            "    for i in s:\n",
            "        if i.isdigit():\n",
            "            dig += 1\n",
            "        elif i.isalpha():\n",
            "            let += 1\n",
            "    return dig, let\n",
            "assert dig_let(\"python\")==(6,0)\n",
            "Code Failed Assertions\n",
            "Running Example: 343\n",
            "def count_Odd_Squares(n,m):\n"
          ]
        },
        {
          "name": "stderr",
          "output_type": "stream",
          "text": [
            "Setting `pad_token_id` to `eos_token_id`:2 for open-end generation.\n"
          ]
        },
        {
          "name": "stdout",
          "output_type": "stream",
          "text": [
            "def count_Odd_Squares(n,m):\n",
            "    count = 0\n",
            "    for i in range(n,m+1):\n",
            "        if i%2!=0:\n",
            "            count+=1\n",
            "    return count\n",
            "assert count_Odd_Squares(5,100) == 8\n",
            "Code Failed Assertions\n",
            "Running Example: 344\n",
            "def diff_consecutivenums(nums):\n"
          ]
        },
        {
          "name": "stderr",
          "output_type": "stream",
          "text": [
            "Setting `pad_token_id` to `eos_token_id`:2 for open-end generation.\n"
          ]
        },
        {
          "name": "stdout",
          "output_type": "stream",
          "text": [
            "def diff_consecutivenums(nums):\n",
            "    return [nums[i+1] - nums[i] for i in range(len(nums)-1)]\n",
            "assert diff_consecutivenums([1, 1, 3, 4, 4, 5, 6, 7])==[0, 2, 1, 0, 1, 1, 1]\n",
            "assert diff_consecutivenums([4, 5, 8, 9, 6, 10])==[1, 3, 1, -3, 4]\n",
            "assert diff_consecutivenums([0, 1, 2, 3, 4, 4, 4, 4, 5, 7])==[1, 1, 1, 1, 0, 0, 0, 1, 2]\n",
            "Running Example: 345\n",
            "def zigzag(n, k):\n"
          ]
        },
        {
          "name": "stderr",
          "output_type": "stream",
          "text": [
            "Setting `pad_token_id` to `eos_token_id`:2 for open-end generation.\n"
          ]
        },
        {
          "name": "stdout",
          "output_type": "stream",
          "text": [
            "def zigzag(n, k):\n",
            "    if k == 1:\n",
            "        return n\n",
            "    if k % 2 == 0:\n",
            "        return n - 2 * (k // 2 - 1)\n",
            "    else:\n",
            "        return n - 2 * (k // 2)\n",
            "assert zigzag(4, 3) == 5\n",
            "Code Failed Assertions\n",
            "Running Example: 346\n",
            "def count_Squares(m,n):\n"
          ]
        },
        {
          "name": "stderr",
          "output_type": "stream",
          "text": [
            "Setting `pad_token_id` to `eos_token_id`:2 for open-end generation.\n"
          ]
        },
        {
          "name": "stdout",
          "output_type": "stream",
          "text": [
            "def count_Squares(m,n):\n",
            "    return (m+1)*(n+1)\n",
            "assert count_Squares(4,3) == 20\n",
            "assert count_Squares(1,2) == 2\n",
            "Code Failed Assertions\n",
            "Running Example: 347\n",
            "def bin_coff(n, r):\n"
          ]
        },
        {
          "name": "stderr",
          "output_type": "stream",
          "text": [
            "Setting `pad_token_id` to `eos_token_id`:2 for open-end generation.\n"
          ]
        },
        {
          "name": "stdout",
          "output_type": "stream",
          "text": [
            "def bin_coff(n, r):\n",
            "    nCn = 1\n",
            "    nCn_1 = 1\n",
            "    rCn = 1\n",
            "    rCn_1 = 1\n",
            "    for i in range(r):\n",
            "        nCn *= n\n",
            "        nCn /= i + 1\n",
            "        rCn *= r\n",
            "        rCn /= i + 1\n",
            "        nCn_1 *= n - 1\n",
            "        nCn_1 /= i\n",
            "        rCn_1 *= r - 1\n",
            "        rCn_1 /= i\n",
            "    return nCn / (nCn_1 * rCn_1)\n",
            "assert find_ways(4) == 2\n",
            "Code Failed Assertionsname 'find_ways' is not defined\n",
            "Running Example: 348\n",
            "def check(string) :\n"
          ]
        },
        {
          "name": "stderr",
          "output_type": "stream",
          "text": [
            "Setting `pad_token_id` to `eos_token_id`:2 for open-end generation.\n"
          ]
        },
        {
          "name": "stdout",
          "output_type": "stream",
          "text": [
            "def check(string) :\n",
            "    for i in string :\n",
            "        if i not in \"01\" :\n",
            "            return False\n",
            "    return True\n",
            "assert check(\"01010101010\") == \"Yes\"\n",
            "Code Failed Assertions\n",
            "Running Example: 349\n",
            "def minimum_Length(s) :\n"
          ]
        },
        {
          "name": "stderr",
          "output_type": "stream",
          "text": [
            "Setting `pad_token_id` to `eos_token_id`:2 for open-end generation.\n"
          ]
        },
        {
          "name": "stdout",
          "output_type": "stream",
          "text": [
            "def minimum_Length(s) :\n",
            "    # code here\n",
            "    for i in range(len(s)):\n",
            "        if s.count(s[i]) == 1:\n",
            "            s = s.replace(s[i], \"\")\n",
            "    return len(s)\n",
            "assert minimum_Length(\"mnm\") == 1\n",
            "Code Failed Assertionsstring index out of range\n",
            "Running Example: 350\n",
            "def first_Element(arr,n,k):\n"
          ]
        },
        {
          "name": "stderr",
          "output_type": "stream",
          "text": [
            "Setting `pad_token_id` to `eos_token_id`:2 for open-end generation.\n"
          ]
        },
        {
          "name": "stdout",
          "output_type": "stream",
          "text": [
            "def first_Element(arr,n,k):\n",
            "    # code here\n",
            "    count = 0\n",
            "    for i in range(0,n):\n",
            "        if arr[i] == k:\n",
            "            count += 1\n",
            "            if count == 1:\n",
            "                return arr[i]\n",
            "    return -1\n",
            "assert first_Element([0,1,2,3,4,5],6,1) == 0\n",
            "Code Failed Assertions\n",
            "Running Example: 351\n",
            "def unique_Characters(str):\n"
          ]
        },
        {
          "name": "stderr",
          "output_type": "stream",
          "text": [
            "Setting `pad_token_id` to `eos_token_id`:2 for open-end generation.\n"
          ]
        },
        {
          "name": "stdout",
          "output_type": "stream",
          "text": [
            "def unique_Characters(str):\n",
            "    if len(str) == len(set(str)):\n",
            "        return True\n",
            "    else:\n",
            "        return False\n",
            "assert unique_Characters('aba') == False\n",
            "assert unique_Characters('abc') == True\n",
            "assert unique_Characters('abab') == False\n",
            "Running Example: 352\n",
            "def remove_column(list1, n):\n"
          ]
        },
        {
          "name": "stderr",
          "output_type": "stream",
          "text": [
            "Setting `pad_token_id` to `eos_token_id`:2 for open-end generation.\n"
          ]
        },
        {
          "name": "stdout",
          "output_type": "stream",
          "text": [
            "def remove_column(list1, n):\n",
            "    for i in range(len(list1)):\n",
            "        del list1[i][n]\n",
            "    return list1\n",
            "assert remove_column([[1, 2, 3], [2, 4, 5], [1, 1, 1]],0)==[[2, 3], [4, 5], [1, 1]]\n",
            "assert remove_column([[1, 2, 3], [-2, 4, -5], [1, -1, 1]],2)==[[1, 2], [-2, 4], [1, -1]]\n",
            "assert remove_column([[1, 3], [5, 7], [1, 3], [13, 15, 17], [5, 7], [9, 11]],0)==[[3], [7], [3], [15, 17], [7], [11]]\n",
            "Running Example: 353\n",
            "def tn_ap(a,n,d):\n"
          ]
        },
        {
          "name": "stderr",
          "output_type": "stream",
          "text": [
            "Setting `pad_token_id` to `eos_token_id`:2 for open-end generation.\n"
          ]
        },
        {
          "name": "stdout",
          "output_type": "stream",
          "text": [
            "def tn_ap(a,n,d):\n",
            "    return a+(n-1)*d\n",
            "assert tn_ap(1,5,2)==9\n",
            "assert tn_ap(2,6,4)==22\n",
            "assert tn_ap(1,4,5)==16\n",
            "Running Example: 354\n",
            "def count_Rectangles(radius):\n"
          ]
        },
        {
          "name": "stderr",
          "output_type": "stream",
          "text": [
            "Setting `pad_token_id` to `eos_token_id`:2 for open-end generation.\n"
          ]
        },
        {
          "name": "stdout",
          "output_type": "stream",
          "text": [
            "def count_Rectangles(radius):\n",
            "    return 4*radius*radius\n",
            "assert count_Rectangles(2) == 8\n",
            "Code Failed Assertions\n",
            "Running Example: 355\n",
            "def find_angle(a,b):\n"
          ]
        },
        {
          "name": "stderr",
          "output_type": "stream",
          "text": [
            "Setting `pad_token_id` to `eos_token_id`:2 for open-end generation.\n"
          ]
        },
        {
          "name": "stdout",
          "output_type": "stream",
          "text": [
            "def find_angle(a,b):\n",
            "    c = 180 - (a + b)\n",
            "    return c\n",
            "assert find_angle(47,89)==44\n",
            "assert find_angle(45,95)==40\n",
            "assert find_angle(50,40)==90\n",
            "Running Example: 356\n",
            "def find_max(test_list):\n"
          ]
        },
        {
          "name": "stderr",
          "output_type": "stream",
          "text": [
            "Setting `pad_token_id` to `eos_token_id`:2 for open-end generation.\n"
          ]
        },
        {
          "name": "stdout",
          "output_type": "stream",
          "text": [
            "def find_max(test_list):\n",
            "    max_value = test_list[0]\n",
            "    for i in range(1, len(test_list)):\n",
            "        if test_list[i] > max_value:\n",
            "            max_value = test_list[i]\n",
            "    return max_value\n",
            "assert find_max([(2, 4), (6, 7), (5, 1), (6, 10), (8, 7)]) == 10\n",
            "Code Failed Assertions\n",
            "Running Example: 357\n",
            "def moddiv_list(nums1,nums2):\n"
          ]
        },
        {
          "name": "stderr",
          "output_type": "stream",
          "text": [
            "Setting `pad_token_id` to `eos_token_id`:2 for open-end generation.\n"
          ]
        },
        {
          "name": "stdout",
          "output_type": "stream",
          "text": [
            "def moddiv_list(nums1,nums2):\n",
            "    return list(map(lambda x:x[0]%x[1],zip(nums1,nums2)))\n",
            "assert moddiv_list([4,5,6],[1, 2, 3])==[0, 1, 0]\n",
            "assert moddiv_list([3,2],[1,4])==[0, 2]\n",
            "assert moddiv_list([90,120],[50,70])==[40, 50]\n",
            "Running Example: 358\n",
            "def Check_Solution(a,b,c):\n"
          ]
        },
        {
          "name": "stderr",
          "output_type": "stream",
          "text": [
            "Setting `pad_token_id` to `eos_token_id`:2 for open-end generation.\n"
          ]
        },
        {
          "name": "stdout",
          "output_type": "stream",
          "text": [
            "def Check_Solution(a,b,c):\n",
            "    if (b**2-4*a*c)<0:\n",
            "        print(\"No real roots\")\n",
            "    elif (b**2-4*a*c)==0:\n",
            "        print(\"One real root\")\n",
            "    elif (b**2-4*a*c)>0:\n",
            "        print(\"Two real roots\")\n",
            "assert Check_Solution(1,3,2) == \"Yes\"\n",
            "Two real roots\n",
            "Code Failed Assertions\n",
            "Running Example: 359\n",
            "def get_carol(n):\n"
          ]
        },
        {
          "name": "stderr",
          "output_type": "stream",
          "text": [
            "Setting `pad_token_id` to `eos_token_id`:2 for open-end generation.\n"
          ]
        },
        {
          "name": "stdout",
          "output_type": "stream",
          "text": [
            "def get_carol(n):\n",
            "    if n == 1:\n",
            "        return 1\n",
            "    else:\n",
            "        return get_carol(n-1) + get_carol(n-2)\n",
            "assert get_carol(2) == 7\n",
            "Code Failed Assertionsmaximum recursion depth exceeded\n",
            "Running Example: 360\n",
            "def remove_empty(list1):\n"
          ]
        },
        {
          "name": "stderr",
          "output_type": "stream",
          "text": [
            "Setting `pad_token_id` to `eos_token_id`:2 for open-end generation.\n"
          ]
        },
        {
          "name": "stdout",
          "output_type": "stream",
          "text": [
            "def remove_empty(list1):\n",
            "    for i in list1:\n",
            "        if i == []:\n",
            "            list1.remove(i)\n",
            "    return list1\n",
            "assert remove_empty([[], [], [], 'Red', 'Green', [1,2], 'Blue', [], []])==['Red', 'Green', [1, 2], 'Blue']\n",
            "Code Failed Assertions\n",
            "Running Example: 361\n",
            "def max_occurrences(nums):\n"
          ]
        },
        {
          "name": "stderr",
          "output_type": "stream",
          "text": [
            "Setting `pad_token_id` to `eos_token_id`:2 for open-end generation.\n"
          ]
        },
        {
          "name": "stdout",
          "output_type": "stream",
          "text": [
            "def max_occurrences(nums):\n",
            "    # Write your code here\n",
            "    count = 0\n",
            "    max_count = 0\n",
            "    for i in range(len(nums)):\n",
            "        curr_count = 0\n",
            "        for j in range(len(nums)):\n",
            "            if nums[i] == nums[j]:\n",
            "                curr_count += 1\n",
            "        if curr_count > max_count:\n",
            "            max_count = curr_count\n",
            "            count = nums[i]\n",
            "    return count\n",
            "assert max_occurrences([1,2,3,1,2,3,12,4,2]) ==  2\n",
            "assert max_occurrences([1,2,6,7,0,1,0,1,0]) == 1,0\n",
            "assert max_occurrences([1,2,3,1,2,4,1]) == 1\n",
            "Running Example: 362\n",
            "def add_K_element(test_list, K):\n"
          ]
        },
        {
          "name": "stderr",
          "output_type": "stream",
          "text": [
            "Setting `pad_token_id` to `eos_token_id`:2 for open-end generation.\n"
          ]
        },
        {
          "name": "stdout",
          "output_type": "stream",
          "text": [
            "def add_K_element(test_list, K):\n",
            "    for i in range(len(test_list)):\n",
            "        test_list[i] = test_list[i] + (K,)\n",
            "    return test_list\n",
            "assert add_K_element([(1, 3, 4), (2, 4, 6), (3, 8, 1)], 4) == [(5, 7, 8), (6, 8, 10), (7, 12, 5)]\n",
            "Code Failed Assertions\n",
            "Running Example: 363\n",
            "def make_flip(ch):\n"
          ]
        },
        {
          "name": "stderr",
          "output_type": "stream",
          "text": [
            "Setting `pad_token_id` to `eos_token_id`:2 for open-end generation.\n"
          ]
        },
        {
          "name": "stdout",
          "output_type": "stream",
          "text": [
            "def make_flip(ch):\n",
            "    count = 0\n",
            "    for i in range(len(ch)-1):\n",
            "        if ch[i] == ch[i+1]:\n",
            "            count += 1\n",
            "    return count\n",
            "assert min_flip_to_make_string_alternate(\"0001010111\") == 2\n",
            "Code Failed Assertionsname 'min_flip_to_make_string_alternate' is not defined\n",
            "Running Example: 364\n",
            "def count_Digit(n):\n"
          ]
        },
        {
          "name": "stderr",
          "output_type": "stream",
          "text": [
            "Setting `pad_token_id` to `eos_token_id`:2 for open-end generation.\n"
          ]
        },
        {
          "name": "stdout",
          "output_type": "stream",
          "text": [
            "def count_Digit(n):\n",
            "    count = 0\n",
            "    while n > 0:\n",
            "        n = n // 10\n",
            "        count = count + 1\n",
            "    return count\n",
            "assert count_Digit(12345) == 5\n",
            "assert count_Digit(11223305) == 8\n",
            "assert count_Digit(4123459) == 7\n",
            "Running Example: 365\n",
            "def adjacent_num_product(list_nums):\n"
          ]
        },
        {
          "name": "stderr",
          "output_type": "stream",
          "text": [
            "Setting `pad_token_id` to `eos_token_id`:2 for open-end generation.\n"
          ]
        },
        {
          "name": "stdout",
          "output_type": "stream",
          "text": [
            "def adjacent_num_product(list_nums):\n",
            "    max_product = 0\n",
            "    for i in range(len(list_nums)-1):\n",
            "        product = list_nums[i] * list_nums[i+1]\n",
            "        if product > max_product:\n",
            "            max_product = product\n",
            "    return max_product\n",
            "assert adjacent_num_product([1,2,3,4,5,6]) == 30\n",
            "assert adjacent_num_product([1,2,3,4,5]) == 20\n",
            "assert adjacent_num_product([2,3]) == 6\n",
            "Running Example: 366\n",
            "def __init__(self, data):\n"
          ]
        },
        {
          "name": "stderr",
          "output_type": "stream",
          "text": [
            "Setting `pad_token_id` to `eos_token_id`:2 for open-end generation.\n"
          ]
        },
        {
          "name": "stdout",
          "output_type": "stream",
          "text": [
            "def __init__(self, data):\n",
            "        self.data = data\n",
            "        self.left = None\n",
            "        self.right = None\n",
            "assert is_tree_balanced(root) == False\n",
            "Code Failed Assertionsname 'is_tree_balanced' is not defined\n",
            "Running Example: 367\n",
            "def repeat_tuples(test_tup, N):\n"
          ]
        },
        {
          "name": "stderr",
          "output_type": "stream",
          "text": [
            "Setting `pad_token_id` to `eos_token_id`:2 for open-end generation.\n"
          ]
        },
        {
          "name": "stdout",
          "output_type": "stream",
          "text": [
            "def repeat_tuples(test_tup, N):\n",
            "    return test_tup * N\n",
            "assert repeat_tuples((1, 3), 4) == ((1, 3), (1, 3), (1, 3), (1, 3))\n",
            "Code Failed Assertions\n",
            "Running Example: 368\n",
            "def lateralsurface_cuboid(l,w,h):\n"
          ]
        },
        {
          "name": "stderr",
          "output_type": "stream",
          "text": [
            "Setting `pad_token_id` to `eos_token_id`:2 for open-end generation.\n"
          ]
        },
        {
          "name": "stdout",
          "output_type": "stream",
          "text": [
            "def lateralsurface_cuboid(l,w,h):\n",
            "    return 2*(l*w+w*h+h*l)\n",
            "assert lateralsurface_cuboid(8,5,6)==156\n",
            "Code Failed Assertions\n",
            "Running Example: 369\n",
            "def float_sort(price):\n"
          ]
        },
        {
          "name": "stderr",
          "output_type": "stream",
          "text": [
            "Setting `pad_token_id` to `eos_token_id`:2 for open-end generation.\n"
          ]
        },
        {
          "name": "stdout",
          "output_type": "stream",
          "text": [
            "def float_sort(price):\n",
            "    return price[1]\n",
            "assert float_sort([('item1', '12.20'), ('item2', '15.10'), ('item3', '24.5')])==[('item3', '24.5'), ('item2', '15.10'), ('item1', '12.20')] \n",
            "Code Failed Assertions\n",
            "Running Example: 370\n",
            "def smallest_missing(A, left_element, right_element):\n"
          ]
        },
        {
          "name": "stderr",
          "output_type": "stream",
          "text": [
            "Setting `pad_token_id` to `eos_token_id`:2 for open-end generation.\n"
          ]
        },
        {
          "name": "stdout",
          "output_type": "stream",
          "text": [
            "def smallest_missing(A, left_element, right_element):\n",
            "    if left_element > right_element:\n",
            "        return None\n",
            "    mid = (left_element + right_element) // 2\n",
            "    if A[mid]!= mid + 1:\n",
            "        return smallest_missing(A, left_element, mid)\n",
            "    else:\n",
            "        return smallest_missing(A, mid + 1, right_element)\n",
            "assert smallest_missing([0, 1, 2, 3, 4, 5, 6], 0, 6) == 7\n",
            "Code Failed Assertionsmaximum recursion depth exceeded\n",
            "Running Example: 371\n",
            "def heap_assending(nums):\n"
          ]
        },
        {
          "name": "stderr",
          "output_type": "stream",
          "text": [
            "Setting `pad_token_id` to `eos_token_id`:2 for open-end generation.\n"
          ]
        },
        {
          "name": "stdout",
          "output_type": "stream",
          "text": [
            "def heap_assending(nums):\n",
            "    heap = []\n",
            "    for i in range(len(nums)):\n",
            "        heapq.heappush(heap, nums[i])\n",
            "    return heap\n",
            "assert heap_assending([18, 14, 10, 9, 8, 7, 9, 3, 2, 4, 1])==[1, 2, 3, 4, 7, 8, 9, 9, 10, 14, 18]\n",
            "Code Failed Assertions\n",
            "Running Example: 372\n",
            "def volume_cuboid(l,w,h):\n"
          ]
        },
        {
          "name": "stderr",
          "output_type": "stream",
          "text": [
            "Setting `pad_token_id` to `eos_token_id`:2 for open-end generation.\n"
          ]
        },
        {
          "name": "stdout",
          "output_type": "stream",
          "text": [
            "def volume_cuboid(l,w,h):\n",
            "    return l*w*h\n",
            "assert volume_cuboid(1,2,3)==6\n",
            "assert volume_cuboid(5,7,9)==315\n",
            "assert volume_cuboid(10,15,21)==3150\n",
            "Running Example: 373\n",
            "def permute_string(str):\n"
          ]
        },
        {
          "name": "stderr",
          "output_type": "stream",
          "text": [
            "Setting `pad_token_id` to `eos_token_id`:2 for open-end generation.\n"
          ]
        },
        {
          "name": "stdout",
          "output_type": "stream",
          "text": [
            "def permute_string(str):\n",
            "    if len(str) == 1:\n",
            "        return [str]\n",
            "    else:\n",
            "        permutations = []\n",
            "        for i in range(len(str)):\n",
            "            first_char = str[i]\n",
            "            remaining_chars = str[:i] + str[i+1:]\n",
            "            for p in permute_string(remaining_chars):\n",
            "                permutations.append(first_char + p)\n",
            "        return permutations\n",
            "assert permute_string('ab')==['ab', 'ba']\n",
            "assert permute_string('abc')==['abc', 'bac', 'bca', 'acb', 'cab', 'cba']\n",
            "Code Failed Assertions\n",
            "Running Example: 374\n",
            "def round_num(n,m):\n"
          ]
        },
        {
          "name": "stderr",
          "output_type": "stream",
          "text": [
            "Setting `pad_token_id` to `eos_token_id`:2 for open-end generation.\n"
          ]
        },
        {
          "name": "stdout",
          "output_type": "stream",
          "text": [
            "def round_num(n,m):\n",
            "    return (n//m)*m\n",
            "assert round_num(4722,10)==4720\n",
            "assert round_num(1111,5)==1110\n",
            "assert round_num(219,2)==218\n",
            "Running Example: 375\n",
            "def remove_replica(test_tup):\n"
          ]
        },
        {
          "name": "stderr",
          "output_type": "stream",
          "text": [
            "Setting `pad_token_id` to `eos_token_id`:2 for open-end generation.\n"
          ]
        },
        {
          "name": "stdout",
          "output_type": "stream",
          "text": [
            "def remove_replica(test_tup):\n",
            "    test_tup = list(test_tup)\n",
            "    test_tup[1] = test_tup[1].split('_')[0]\n",
            "    return tuple(test_tup)\n",
            "assert remove_replica((1, 1, 4, 4, 4, 5, 5, 6, 7, 7)) == (1, 'MSP', 4, 'MSP', 'MSP', 5, 'MSP', 6, 7, 'MSP')\n",
            "Code Failed Assertions'int' object has no attribute 'split'\n",
            "Running Example: 376\n",
            "def remove_Char(s,c) :\n"
          ]
        },
        {
          "name": "stderr",
          "output_type": "stream",
          "text": [
            "Setting `pad_token_id` to `eos_token_id`:2 for open-end generation.\n"
          ]
        },
        {
          "name": "stdout",
          "output_type": "stream",
          "text": [
            "def remove_Char(s,c) :\n",
            "    return s.replace(c,\"\")\n",
            "assert remove_Char(\"aba\",'a') == \"b\"\n",
            "assert remove_Char(\"toggle\",'g') == \"tole\"\n",
            "assert remove_Char(\"aabbc\",'b') == \"aac\"\n",
            "Running Example: 377\n",
            "def move_first(test_list):\n"
          ]
        },
        {
          "name": "stderr",
          "output_type": "stream",
          "text": [
            "Setting `pad_token_id` to `eos_token_id`:2 for open-end generation.\n"
          ]
        },
        {
          "name": "stdout",
          "output_type": "stream",
          "text": [
            "def move_first(test_list):\n",
            "    last = test_list.pop()\n",
            "    test_list.insert(0, last)\n",
            "    return test_list\n",
            "assert move_first([1,2,3,4]) == [4,1,2,3]\n",
            "assert move_first([0,1,2,3]) == [3,0,1,2]\n",
            "assert move_first([9,8,7,1]) == [1,9,8,7]\n",
            "Running Example: 378\n",
            "def surfacearea_cuboid(l,w,h):\n"
          ]
        },
        {
          "name": "stderr",
          "output_type": "stream",
          "text": [
            "Setting `pad_token_id` to `eos_token_id`:2 for open-end generation.\n"
          ]
        },
        {
          "name": "stdout",
          "output_type": "stream",
          "text": [
            "def surfacearea_cuboid(l,w,h):\n",
            "    return 2*(l*w+w*h+h*l)\n",
            "assert surfacearea_cuboid(1,2,3)==22\n",
            "assert surfacearea_cuboid(5,7,9)==286\n",
            "assert surfacearea_cuboid(10,15,21)==1350\n",
            "Running Example: 379\n",
            "def multi_list(rownum,colnum):\n"
          ]
        },
        {
          "name": "stderr",
          "output_type": "stream",
          "text": [
            "Setting `pad_token_id` to `eos_token_id`:2 for open-end generation.\n"
          ]
        },
        {
          "name": "stdout",
          "output_type": "stream",
          "text": [
            "def multi_list(rownum,colnum):\n",
            "    return [[0 for col in range(colnum)] for row in range(rownum)]\n",
            "assert multi_list(3,4)==[[0, 0, 0, 0], [0, 1, 2, 3], [0, 2, 4, 6]] \n",
            "Code Failed Assertions\n",
            "Running Example: 380\n",
            "def index_on_inner_list(list_data, index_no):\n"
          ]
        },
        {
          "name": "stderr",
          "output_type": "stream",
          "text": [
            "Setting `pad_token_id` to `eos_token_id`:2 for open-end generation.\n"
          ]
        },
        {
          "name": "stdout",
          "output_type": "stream",
          "text": [
            "def index_on_inner_list(list_data, index_no):\n",
            "    return sorted(list_data, key=lambda x: x[index_no])\n",
            "assert index_on_inner_list([('Greyson Fulton', 98, 99), ('Brady Kent', 97, 96), ('Wyatt Knott', 91, 94), ('Beau Turnbull', 94, 98)] ,0)==[('Beau Turnbull', 94, 98), ('Brady Kent', 97, 96), ('Greyson Fulton', 98, 99), ('Wyatt Knott', 91, 94)]\n",
            "assert index_on_inner_list([('Greyson Fulton', 98, 99), ('Brady Kent', 97, 96), ('Wyatt Knott', 91, 94), ('Beau Turnbull', 94, 98)] ,1)==[('Wyatt Knott', 91, 94), ('Beau Turnbull', 94, 98), ('Brady Kent', 97, 96), ('Greyson Fulton', 98, 99)]\n",
            "assert index_on_inner_list([('Greyson Fulton', 98, 99), ('Brady Kent', 97, 96), ('Wyatt Knott', 91, 94), ('Beau Turnbull', 94, 98)] ,2)==[('Wyatt Knott', 91, 94), ('Brady Kent', 97, 96), ('Beau Turnbull', 94, 98), ('Greyson Fulton', 98, 99)]\n",
            "Running Example: 381\n",
            "def find_rotation_count(A):\n"
          ]
        },
        {
          "name": "stderr",
          "output_type": "stream",
          "text": [
            "Setting `pad_token_id` to `eos_token_id`:2 for open-end generation.\n"
          ]
        },
        {
          "name": "stdout",
          "output_type": "stream",
          "text": [
            "def find_rotation_count(A):\n",
            "    if len(A) == 0:\n",
            "        return 0\n",
            "    if len(A) == 1:\n",
            "        return 0\n",
            "    if len(A) == 2:\n",
            "        if A[0] > A[1]:\n",
            "            return 1\n",
            "        else:\n",
            "            return 0\n",
            "    if A[0] > A[1]:\n",
            "        return 1\n",
            "    if A[len(A) - 1] < A[0]:\n",
            "        return len(A) - 1\n",
            "    if A[len(A) - 1] > A[len(A) - 2]:\n",
            "        return len(A) - 2\n",
            "    return 0\n",
            "assert find_rotation_count([8, 9, 10, 1, 2, 3, 4, 5, 6, 7]) == 3\n",
            "Code Failed Assertions\n",
            "Running Example: 382\n",
            "def even_bit_toggle_number(n) :\n"
          ]
        },
        {
          "name": "stderr",
          "output_type": "stream",
          "text": [
            "Setting `pad_token_id` to `eos_token_id`:2 for open-end generation.\n"
          ]
        },
        {
          "name": "stdout",
          "output_type": "stream",
          "text": [
            "def even_bit_toggle_number(n) :\n",
            "    return n ^ (n >> 1)\n",
            "assert even_bit_toggle_number(10) == 15\n",
            "assert even_bit_toggle_number(20) == 1\n",
            "Code Failed Assertions\n",
            "Running Example: 383\n",
            "def frequency_Of_Smallest(n,arr):\n"
          ]
        },
        {
          "name": "stderr",
          "output_type": "stream",
          "text": [
            "Setting `pad_token_id` to `eos_token_id`:2 for open-end generation.\n"
          ]
        },
        {
          "name": "stdout",
          "output_type": "stream",
          "text": [
            "def frequency_Of_Smallest(n,arr):\n",
            "    # code here\n",
            "    arr.sort()\n",
            "    return arr.count(arr[0])\n",
            "assert frequency_Of_Smallest(5,[1,2,3,4,3]) == 1\n",
            "assert frequency_Of_Smallest(7,[3,1,2,5,6,2,3]) == 1\n",
            "assert frequency_Of_Smallest(7,[3,3,6,3,7,4,9]) == 3\n",
            "Running Example: 384\n",
            "def get_perrin(n):\n"
          ]
        },
        {
          "name": "stderr",
          "output_type": "stream",
          "text": [
            "Setting `pad_token_id` to `eos_token_id`:2 for open-end generation.\n"
          ]
        },
        {
          "name": "stdout",
          "output_type": "stream",
          "text": [
            "def get_perrin(n):\n",
            "    if n == 1:\n",
            "        return 1\n",
            "    elif n == 2:\n",
            "        return 2\n",
            "    else:\n",
            "        return get_perrin(n-1) + get_perrin(n-2)\n",
            "assert get_perrin(9) == 12\n",
            "Code Failed Assertions\n",
            "Running Example: 385\n",
            "def swap_count(s):\n"
          ]
        },
        {
          "name": "stderr",
          "output_type": "stream",
          "text": [
            "Setting `pad_token_id` to `eos_token_id`:2 for open-end generation.\n"
          ]
        },
        {
          "name": "stdout",
          "output_type": "stream",
          "text": [
            "def swap_count(s):\n",
            "    stack = []\n",
            "    count = 0\n",
            "    for i in s:\n",
            "        if i == '(':\n",
            "            stack.append(i)\n",
            "        elif i == ')':\n",
            "            if stack:\n",
            "                stack.pop()\n",
            "            else:\n",
            "                count += 1\n",
            "    return count\n",
            "assert swap_count(\"[]][][\") == 2\n",
            "Code Failed Assertions\n",
            "Running Example: 386\n",
            "def even_or_odd(N):\n"
          ]
        },
        {
          "name": "stderr",
          "output_type": "stream",
          "text": [
            "Setting `pad_token_id` to `eos_token_id`:2 for open-end generation.\n"
          ]
        },
        {
          "name": "stdout",
          "output_type": "stream",
          "text": [
            "def even_or_odd(N):\n",
            "    if N % 2 == 0:\n",
            "        return \"Even\"\n",
            "    else:\n",
            "        return \"Odd\"\n",
            "assert even_or_odd(\"AB3454D\") ==\"Odd\"\n",
            "Code Failed Assertionsnot all arguments converted during string formatting\n",
            "Running Example: 387\n",
            "def highest_Power_of_2(n):\n"
          ]
        },
        {
          "name": "stderr",
          "output_type": "stream",
          "text": [
            "Setting `pad_token_id` to `eos_token_id`:2 for open-end generation.\n"
          ]
        },
        {
          "name": "stdout",
          "output_type": "stream",
          "text": [
            "None\n",
            "Code Didn't Run\n",
            "Errorexec() arg 1 must be a string, bytes or code object\n",
            "Running Example: 388\n",
            "def find_lucas(n):\n"
          ]
        },
        {
          "name": "stderr",
          "output_type": "stream",
          "text": [
            "Setting `pad_token_id` to `eos_token_id`:2 for open-end generation.\n"
          ]
        },
        {
          "name": "stdout",
          "output_type": "stream",
          "text": [
            "def find_lucas(n):\n",
            "    if n == 0:\n",
            "        return 2\n",
            "    elif n == 1:\n",
            "        return 1\n",
            "    else:\n",
            "        return find_lucas(n-1) + find_lucas(n-2)\n",
            "assert find_lucas(9) == 76\n",
            "assert find_lucas(4) == 7\n",
            "assert find_lucas(3) == 4\n",
            "Running Example: 389\n",
            "def add_string(list,string):\n"
          ]
        },
        {
          "name": "stderr",
          "output_type": "stream",
          "text": [
            "Setting `pad_token_id` to `eos_token_id`:2 for open-end generation.\n"
          ]
        },
        {
          "name": "stdout",
          "output_type": "stream",
          "text": [
            "def add_string(list,string):\n",
            "    new_list = []\n",
            "    for item in list:\n",
            "        new_list.append(string + item)\n",
            "    return new_list\n",
            "assert add_string([1,2,3,4],'temp{0}')==['temp1', 'temp2', 'temp3', 'temp4']\n",
            "Code Failed Assertionscan only concatenate str (not \"int\") to str\n",
            "Running Example: 390\n",
            "def convert_list_dictionary(l1, l2, l3):\n"
          ]
        },
        {
          "name": "stderr",
          "output_type": "stream",
          "text": [
            "Setting `pad_token_id` to `eos_token_id`:2 for open-end generation.\n"
          ]
        },
        {
          "name": "stdout",
          "output_type": "stream",
          "text": [
            "def convert_list_dictionary(l1, l2, l3):\n",
            "    d = {}\n",
            "    for i in range(len(l1)):\n",
            "        d[l1[i]] = {l2[i]: l3[i]}\n",
            "    return d\n",
            "assert convert_list_dictionary([\"S001\", \"S002\", \"S003\", \"S004\"],[\"Adina Park\", \"Leyton Marsh\", \"Duncan Boyle\", \"Saim Richards\"] ,[85, 98, 89, 92])==[{'S001': {'Adina Park': 85}}, {'S002': {'Leyton Marsh': 98}}, {'S003': {'Duncan Boyle': 89}}, {'S004': {'Saim Richards': 92}}]\n",
            "Code Failed Assertions\n",
            "Running Example: 391\n",
            "def get_max_sum (n):\n"
          ]
        },
        {
          "name": "stderr",
          "output_type": "stream",
          "text": [
            "Setting `pad_token_id` to `eos_token_id`:2 for open-end generation.\n"
          ]
        },
        {
          "name": "stdout",
          "output_type": "stream",
          "text": [
            "def get_max_sum (n):\n",
            "    if n <= 1:\n",
            "        return n\n",
            "    else:\n",
            "        return max(get_max_sum(n/2) + get_max_sum(n/3) + get_max_sum(n/4) + get_max_sum(n/5), n)\n",
            "assert get_max_sum(60) == 106\n",
            "Code Failed Assertions\n",
            "Running Example: 392\n",
            "def max_length_list(input_list):\n"
          ]
        },
        {
          "name": "stderr",
          "output_type": "stream",
          "text": [
            "Setting `pad_token_id` to `eos_token_id`:2 for open-end generation.\n"
          ]
        },
        {
          "name": "stdout",
          "output_type": "stream",
          "text": [
            "def max_length_list(input_list):\n",
            "    return max(input_list, key=len)\n",
            "assert max_length_list([[0], [1, 3], [5, 7], [9, 11], [13, 15, 17]])==(3, [13, 15, 17])\n",
            "Code Failed Assertions\n",
            "Running Example: 393\n",
            "def check_distinct(test_tup):\n"
          ]
        },
        {
          "name": "stderr",
          "output_type": "stream",
          "text": [
            "Setting `pad_token_id` to `eos_token_id`:2 for open-end generation.\n"
          ]
        },
        {
          "name": "stdout",
          "output_type": "stream",
          "text": [
            "def check_distinct(test_tup):\n",
            "    for i in range(len(test_tup)):\n",
            "        for j in range(i+1,len(test_tup)):\n",
            "            if test_tup[i] == test_tup[j]:\n",
            "                return False\n",
            "    return True\n",
            "assert check_distinct((1, 4, 5, 6, 1, 4)) == False\n",
            "assert check_distinct((1, 4, 5, 6)) == True\n",
            "assert check_distinct((2, 3, 4, 5, 6)) == True\n",
            "Running Example: 394\n",
            "def first_non_repeating_character(str1):\n"
          ]
        },
        {
          "name": "stderr",
          "output_type": "stream",
          "text": [
            "Setting `pad_token_id` to `eos_token_id`:2 for open-end generation.\n"
          ]
        },
        {
          "name": "stdout",
          "output_type": "stream",
          "text": [
            "def first_non_repeating_character(str1):\n",
            "    char_list = []\n",
            "    for i in str1:\n",
            "        if str1.count(i) == 1:\n",
            "            char_list.append(i)\n",
            "    return char_list[0]\n",
            "assert first_non_repeating_character(\"abcabc\") == None\n",
            "Code Failed Assertionslist index out of range\n",
            "Running Example: 395\n",
            "def check_char(string):\n"
          ]
        },
        {
          "name": "stderr",
          "output_type": "stream",
          "text": [
            "Setting `pad_token_id` to `eos_token_id`:2 for open-end generation.\n"
          ]
        },
        {
          "name": "stdout",
          "output_type": "stream",
          "text": [
            "def check_char(string):\n",
            "    if re.match(r'^[a-zA-Z]\\w+[a-zA-Z]$', string):\n",
            "        return True\n",
            "    else:\n",
            "        return False\n",
            "assert check_char(\"abba\") == \"Valid\"\n",
            "Code Failed Assertions\n",
            "Running Example: 396\n",
            "def median_numbers(a,b,c):\n"
          ]
        },
        {
          "name": "stderr",
          "output_type": "stream",
          "text": [
            "Setting `pad_token_id` to `eos_token_id`:2 for open-end generation.\n"
          ]
        },
        {
          "name": "stdout",
          "output_type": "stream",
          "text": [
            "def median_numbers(a,b,c):\n",
            "    if a<b<c:\n",
            "        return a\n",
            "    elif a<c<b:\n",
            "        return c\n",
            "    elif b<a<c:\n",
            "        return a\n",
            "    elif b<c<a:\n",
            "        return c\n",
            "    elif c<a<b:\n",
            "        return a\n",
            "    elif c<b<a:\n",
            "        return b\n",
            "assert median_numbers(25,55,65)==55.0\n",
            "Code Failed Assertions\n",
            "Running Example: 397\n",
            "def sum_of_digits(nums):\n"
          ]
        },
        {
          "name": "stderr",
          "output_type": "stream",
          "text": [
            "Setting `pad_token_id` to `eos_token_id`:2 for open-end generation.\n"
          ]
        },
        {
          "name": "stdout",
          "output_type": "stream",
          "text": [
            "def sum_of_digits(nums):\n",
            "    return [sum(int(i) for i in str(num)) for num in nums]\n",
            "assert sum_of_digits([10,2,56])==14\n",
            "Code Failed Assertionssum() missing 1 required positional argument: 'b'\n",
            "Running Example: 398\n",
            "def bitwise_xor(test_tup1, test_tup2):\n"
          ]
        },
        {
          "name": "stderr",
          "output_type": "stream",
          "text": [
            "Setting `pad_token_id` to `eos_token_id`:2 for open-end generation.\n"
          ]
        },
        {
          "name": "stdout",
          "output_type": "stream",
          "text": [
            "def bitwise_xor(test_tup1, test_tup2):\n",
            "    # Initialize an empty list to hold the results\n",
            "    result = []\n",
            "    # Iterate through the two tuples\n",
            "    for i in range(len(test_tup1)):\n",
            "        # Perform the bitwise xor operation on the two tuples\n",
            "        result.append(test_tup1[i] ^ test_tup2[i])\n",
            "    # Return the result\n",
            "    return result\n",
            "assert bitwise_xor((10, 4, 6, 9), (5, 2, 3, 3)) == (15, 6, 5, 10)\n",
            "Code Failed Assertions\n",
            "Running Example: 399\n",
            "def extract_freq(test_list):\n"
          ]
        },
        {
          "name": "stderr",
          "output_type": "stream",
          "text": [
            "Setting `pad_token_id` to `eos_token_id`:2 for open-end generation.\n"
          ]
        },
        {
          "name": "stdout",
          "output_type": "stream",
          "text": [
            "def extract_freq(test_list):\n",
            "    freq_dict = {}\n",
            "    for i in test_list:\n",
            "        if i in freq_dict:\n",
            "            freq_dict[i] += 1\n",
            "        else:\n",
            "            freq_dict[i] = 1\n",
            "    return freq_dict\n",
            "assert extract_freq([(3, 4), (1, 2), (4, 3), (5, 6)] ) == 3\n",
            "Code Failed Assertions\n",
            "Running Example: 400\n",
            "def add_nested_tuples(test_tup1, test_tup2):\n"
          ]
        },
        {
          "name": "stderr",
          "output_type": "stream",
          "text": [
            "Setting `pad_token_id` to `eos_token_id`:2 for open-end generation.\n"
          ]
        },
        {
          "name": "stdout",
          "output_type": "stream",
          "text": [
            "def add_nested_tuples(test_tup1, test_tup2):\n",
            "    return tuple(map(sum, zip(test_tup1, test_tup2)))\n",
            "assert add_nested_tuples(((1, 3), (4, 5), (2, 9), (1, 10)), ((6, 7), (3, 9), (1, 1), (7, 3))) == ((7, 10), (7, 14), (3, 10), (8, 13))\n",
            "Code Failed Assertionssum() missing 1 required positional argument: 'b'\n",
            "Running Example: 401\n",
            "def ncr_modp(n, r, p):\n"
          ]
        },
        {
          "name": "stderr",
          "output_type": "stream",
          "text": [
            "Setting `pad_token_id` to `eos_token_id`:2 for open-end generation.\n"
          ]
        },
        {
          "name": "stdout",
          "output_type": "stream",
          "text": [
            "def ncr_modp(n, r, p):\n",
            "    npr = ncr(n, r)\n",
            "    return npr % p\n",
            "assert ncr_modp(10,2,13)==6\n",
            "Code Failed Assertionsname 'ncr' is not defined\n",
            "Running Example: 402\n",
            "def is_valid_URL(str):\n"
          ]
        },
        {
          "name": "stderr",
          "output_type": "stream",
          "text": [
            "Setting `pad_token_id` to `eos_token_id`:2 for open-end generation.\n"
          ]
        },
        {
          "name": "stdout",
          "output_type": "stream",
          "text": [
            "None\n",
            "Code Didn't Run\n",
            "Errorexec() arg 1 must be a string, bytes or code object\n",
            "Running Example: 403\n",
            "def minimum(a,b):\n"
          ]
        },
        {
          "name": "stderr",
          "output_type": "stream",
          "text": [
            "Setting `pad_token_id` to `eos_token_id`:2 for open-end generation.\n"
          ]
        },
        {
          "name": "stdout",
          "output_type": "stream",
          "text": [
            "def minimum(a,b):\n",
            "    if a<b:\n",
            "        return a\n",
            "    else:\n",
            "        return b\n",
            "assert minimum(1,2) == 1\n",
            "assert minimum(-5,-4) == -5\n",
            "assert minimum(0,0) == 0\n",
            "Running Example: 404\n",
            "def check_tuplex(tuplex,tuple1):\n"
          ]
        },
        {
          "name": "stderr",
          "output_type": "stream",
          "text": [
            "Setting `pad_token_id` to `eos_token_id`:2 for open-end generation.\n"
          ]
        },
        {
          "name": "stdout",
          "output_type": "stream",
          "text": [
            "def check_tuplex(tuplex,tuple1):\n",
            "    for i in range(len(tuplex)):\n",
            "        if tuplex[i] == tuple1:\n",
            "            return True\n",
            "    return False\n",
            "assert check_tuplex((\"w\", 3, \"r\", \"e\", \"s\", \"o\", \"u\", \"r\", \"c\", \"e\"),'r')==True\n",
            "assert check_tuplex((\"w\", 3, \"r\", \"e\", \"s\", \"o\", \"u\", \"r\", \"c\", \"e\"),'5')==False\n",
            "assert check_tuplex((\"w\", 3, \"r\", \"e\", \"s\", \"o\", \"u\", \"r\", \"c\",\"e\"),3)==True\n",
            "Running Example: 405\n",
            "def find_Parity(x):\n"
          ]
        },
        {
          "name": "stderr",
          "output_type": "stream",
          "text": [
            "Setting `pad_token_id` to `eos_token_id`:2 for open-end generation.\n"
          ]
        },
        {
          "name": "stdout",
          "output_type": "stream",
          "text": [
            "def find_Parity(x):\n",
            "    if x%2==0:\n",
            "        return \"Even\"\n",
            "    else:\n",
            "        return \"Odd\"\n",
            "assert find_Parity(12) == \"Even Parity\"\n",
            "Code Failed Assertions\n",
            "Running Example: 406\n",
            "def rearrange_bigger(n):\n"
          ]
        },
        {
          "name": "stderr",
          "output_type": "stream",
          "text": [
            "Setting `pad_token_id` to `eos_token_id`:2 for open-end generation.\n"
          ]
        },
        {
          "name": "stdout",
          "output_type": "stream",
          "text": [
            "def rearrange_bigger(n):\n",
            "    n = str(n)\n",
            "    n = n[::-1]\n",
            "    n = n.replace(\"0\", \"\")\n",
            "    n = n[::-1]\n",
            "    return int(n)\n",
            "assert rearrange_bigger(12)==21\n",
            "Code Failed Assertions\n",
            "Running Example: 407\n",
            "def k_smallest_pairs(nums1, nums2, k):\n"
          ]
        },
        {
          "name": "stderr",
          "output_type": "stream",
          "text": [
            "Setting `pad_token_id` to `eos_token_id`:2 for open-end generation.\n"
          ]
        },
        {
          "name": "stdout",
          "output_type": "stream",
          "text": [
            "None\n",
            "Code Didn't Run\n",
            "Errorexec() arg 1 must be a string, bytes or code object\n",
            "Running Example: 408\n",
            "def min_product_tuple(list1):\n"
          ]
        },
        {
          "name": "stderr",
          "output_type": "stream",
          "text": [
            "Setting `pad_token_id` to `eos_token_id`:2 for open-end generation.\n"
          ]
        },
        {
          "name": "stdout",
          "output_type": "stream",
          "text": [
            "def min_product_tuple(list1):\n",
            "    list1.sort()\n",
            "    return list1[0][0] * list1[-1][1]\n",
            "assert min_product_tuple([(2, 7), (2, 6), (1, 8), (4, 9)] )==8\n",
            "Code Failed Assertions\n",
            "Running Example: 409\n",
            "def min_val(listval):\n"
          ]
        },
        {
          "name": "stderr",
          "output_type": "stream",
          "text": [
            "Setting `pad_token_id` to `eos_token_id`:2 for open-end generation.\n"
          ]
        },
        {
          "name": "stdout",
          "output_type": "stream",
          "text": [
            "def min_val(listval):\n",
            "    min_val = listval[0]\n",
            "    for i in listval:\n",
            "        if i < min_val:\n",
            "            min_val = i\n",
            "    return min_val\n",
            "assert min_val(['Python', 3, 2, 4, 5, 'version'])==2\n",
            "Code Failed Assertions'<' not supported between instances of 'int' and 'str'\n",
            "Running Example: 410\n",
            "def snake_to_camel(word):\n"
          ]
        },
        {
          "name": "stderr",
          "output_type": "stream",
          "text": [
            "Setting `pad_token_id` to `eos_token_id`:2 for open-end generation.\n"
          ]
        },
        {
          "name": "stdout",
          "output_type": "stream",
          "text": [
            "def snake_to_camel(word):\n",
            "    return ''.join(x.capitalize() or '_' for x in word.split('_'))\n",
            "assert snake_to_camel('android_tv') == 'AndroidTv'\n",
            "assert snake_to_camel('google_pixel') == 'GooglePixel'\n",
            "assert snake_to_camel('apple_watch') == 'AppleWatch'\n",
            "Running Example: 411\n",
            "def remove_odd(l):\n"
          ]
        },
        {
          "name": "stderr",
          "output_type": "stream",
          "text": [
            "Setting `pad_token_id` to `eos_token_id`:2 for open-end generation.\n"
          ]
        },
        {
          "name": "stdout",
          "output_type": "stream",
          "text": [
            "def remove_odd(l):\n",
            "    return [x for x in l if x%2==0]\n",
            "assert remove_odd([1,2,3]) == [2]\n",
            "assert remove_odd([2,4,6]) == [2,4,6]\n",
            "assert remove_odd([10,20,3]) == [10,20]\n",
            "Running Example: 412\n",
            "def extract_nth_element(list1, n):\n"
          ]
        },
        {
          "name": "stderr",
          "output_type": "stream",
          "text": [
            "Setting `pad_token_id` to `eos_token_id`:2 for open-end generation.\n"
          ]
        },
        {
          "name": "stdout",
          "output_type": "stream",
          "text": [
            "def extract_nth_element(list1, n):\n",
            "    return [i[n] for i in list1]\n",
            "assert extract_nth_element([('Greyson Fulton', 98, 99), ('Brady Kent', 97, 96), ('Wyatt Knott', 91, 94), ('Beau Turnbull', 94, 98)] ,0)==['Greyson Fulton', 'Brady Kent', 'Wyatt Knott', 'Beau Turnbull']\n",
            "assert extract_nth_element([('Greyson Fulton', 98, 99), ('Brady Kent', 97, 96), ('Wyatt Knott', 91, 94), ('Beau Turnbull', 94, 98)] ,2)==[99, 96, 94, 98]\n",
            "assert extract_nth_element([('Greyson Fulton', 98, 99), ('Brady Kent', 97, 96), ('Wyatt Knott', 91, 94), ('Beau Turnbull', 94, 98)],1)==[98, 97, 91, 94]\n",
            "Running Example: 413\n",
            "def overlapping(list1,list2):\n"
          ]
        },
        {
          "name": "stderr",
          "output_type": "stream",
          "text": [
            "Setting `pad_token_id` to `eos_token_id`:2 for open-end generation.\n"
          ]
        },
        {
          "name": "stdout",
          "output_type": "stream",
          "text": [
            "def overlapping(list1,list2):\n",
            "    for i in list1:\n",
            "        if i in list2:\n",
            "            return True\n",
            "    return False\n",
            "assert overlapping([1,2,3,4,5],[6,7,8,9]) == False\n",
            "assert overlapping([1,2,3],[4,5,6]) == False\n",
            "assert overlapping([1,4,5],[1,4,5]) == True\n",
            "Running Example: 414\n",
            "def max_Product(arr):\n"
          ]
        },
        {
          "name": "stderr",
          "output_type": "stream",
          "text": [
            "Setting `pad_token_id` to `eos_token_id`:2 for open-end generation.\n"
          ]
        },
        {
          "name": "stdout",
          "output_type": "stream",
          "text": [
            "None\n",
            "Code Didn't Run\n",
            "Errorexec() arg 1 must be a string, bytes or code object\n",
            "Running Example: 415\n",
            "def breakSum(n):\n"
          ]
        },
        {
          "name": "stderr",
          "output_type": "stream",
          "text": [
            "Setting `pad_token_id` to `eos_token_id`:2 for open-end generation.\n"
          ]
        },
        {
          "name": "stdout",
          "output_type": "stream",
          "text": [
            "None\n",
            "Code Didn't Run\n",
            "Errorexec() arg 1 must be a string, bytes or code object\n",
            "Running Example: 416\n",
            "def group_tuples(Input):\n"
          ]
        },
        {
          "name": "stderr",
          "output_type": "stream",
          "text": [
            "Setting `pad_token_id` to `eos_token_id`:2 for open-end generation.\n"
          ]
        },
        {
          "name": "stdout",
          "output_type": "stream",
          "text": [
            "None\n",
            "Code Didn't Run\n",
            "Errorexec() arg 1 must be a string, bytes or code object\n",
            "Running Example: 417\n",
            "def Find_Max(lst):\n"
          ]
        },
        {
          "name": "stderr",
          "output_type": "stream",
          "text": [
            "Setting `pad_token_id` to `eos_token_id`:2 for open-end generation.\n"
          ]
        },
        {
          "name": "stdout",
          "output_type": "stream",
          "text": [
            "def Find_Max(lst):\n",
            "    max_len = 0\n",
            "    max_len_start = 0\n",
            "    max_len_end = 0\n",
            "    for i in range(len(lst)):\n",
            "        current_len = 1\n",
            "        for j in range(i+1, len(lst)):\n",
            "            if lst[j] == lst[i]:\n",
            "                current_len += 1\n",
            "            else:\n",
            "                break\n",
            "        if current_len > max_len:\n",
            "            max_len = current_len\n",
            "            max_len_start = i\n",
            "            max_len_end = i + current_len - 1\n",
            "    return lst[max_len_start:max_len_end+1]\n",
            "assert Find_Max([['A'],['A','B'],['A','B','C']]) == ['A','B','C']\n",
            "Code Failed Assertions\n",
            "Running Example: 418\n",
            "def round_and_sum(list1):\n"
          ]
        },
        {
          "name": "stderr",
          "output_type": "stream",
          "text": [
            "Setting `pad_token_id` to `eos_token_id`:2 for open-end generation.\n"
          ]
        },
        {
          "name": "stdout",
          "output_type": "stream",
          "text": [
            "def round_and_sum(list1):\n",
            "    total = 0\n",
            "    for i in list1:\n",
            "        total += round(i)\n",
            "    return total\n",
            "assert round_and_sum([22.4, 4.0, -16.22, -9.10, 11.00, -12.22, 14.20, -5.20, 17.50])==243\n",
            "Code Failed Assertions\n",
            "Running Example: 419\n",
            "def cube_Sum(n):\n"
          ]
        },
        {
          "name": "stderr",
          "output_type": "stream",
          "text": [
            "Setting `pad_token_id` to `eos_token_id`:2 for open-end generation.\n"
          ]
        },
        {
          "name": "stdout",
          "output_type": "stream",
          "text": [
            "def cube_Sum(n):\n",
            "    sum = 0\n",
            "    for i in range(1,n+1,2):\n",
            "        sum += i**3\n",
            "    return sum\n",
            "assert cube_Sum(2) == 72\n",
            "Code Failed Assertions\n",
            "Running Example: 420\n",
            "def concatenate_tuple(test_tup):\n"
          ]
        },
        {
          "name": "stderr",
          "output_type": "stream",
          "text": [
            "Setting `pad_token_id` to `eos_token_id`:2 for open-end generation.\n"
          ]
        },
        {
          "name": "stdout",
          "output_type": "stream",
          "text": [
            "def concatenate_tuple(test_tup):\n",
            "    result = \"\"\n",
            "    for i in test_tup:\n",
            "        result += i + \" \"\n",
            "    return result\n",
            "assert concatenate_tuple((\"ID\", \"is\", 4, \"UTS\") ) == 'ID-is-4-UTS'\n",
            "Code Failed Assertionsunsupported operand type(s) for +: 'int' and 'str'\n",
            "Running Example: 421\n",
            "def find_Average_Of_Cube(n):\n"
          ]
        },
        {
          "name": "stderr",
          "output_type": "stream",
          "text": [
            "Setting `pad_token_id` to `eos_token_id`:2 for open-end generation.\n"
          ]
        },
        {
          "name": "stdout",
          "output_type": "stream",
          "text": [
            "def find_Average_Of_Cube(n):\n",
            "    sum = 0\n",
            "    for i in range(1,n+1):\n",
            "        sum = sum + i**3\n",
            "    return sum/n\n",
            "assert find_Average_Of_Cube(2) == 4.5\n",
            "assert find_Average_Of_Cube(3) == 12\n",
            "assert find_Average_Of_Cube(1) == 1\n",
            "Running Example: 422\n",
            "def get_maxgold(gold, m, n):\n"
          ]
        },
        {
          "name": "stderr",
          "output_type": "stream",
          "text": [
            "Setting `pad_token_id` to `eos_token_id`:2 for open-end generation.\n"
          ]
        },
        {
          "name": "stdout",
          "output_type": "stream",
          "text": [
            "None\n",
            "Code Didn't Run\n",
            "Errorexec() arg 1 must be a string, bytes or code object\n",
            "Running Example: 423\n",
            "def extract_rear(test_tuple):\n"
          ]
        },
        {
          "name": "stderr",
          "output_type": "stream",
          "text": [
            "Setting `pad_token_id` to `eos_token_id`:2 for open-end generation.\n"
          ]
        },
        {
          "name": "stdout",
          "output_type": "stream",
          "text": [
            "def extract_rear(test_tuple):\n",
            "    # code goes here\n",
            "    return tuple(i[-1] for i in test_tuple)\n",
            "assert extract_rear(('Mers', 'for', 'Vers') ) == ['s', 'r', 's']\n",
            "Code Failed Assertions\n",
            "Running Example: 424\n",
            "def count_element_in_list(list1, x):\n"
          ]
        },
        {
          "name": "stderr",
          "output_type": "stream",
          "text": [
            "Setting `pad_token_id` to `eos_token_id`:2 for open-end generation.\n"
          ]
        },
        {
          "name": "stdout",
          "output_type": "stream",
          "text": [
            "def count_element_in_list(list1, x):\n",
            "    count = 0\n",
            "    for i in list1:\n",
            "        if x in i:\n",
            "            count += 1\n",
            "    return count\n",
            "assert count_element_in_list([[1, 3], [5, 7], [1, 11], [1, 15, 7]],1)==3\n",
            "assert count_element_in_list([['A', 'B'], ['A', 'C'], ['A', 'D', 'E'], ['B', 'C', 'D']],'A')==3\n",
            "assert count_element_in_list([['A', 'B'], ['A', 'C'], ['A', 'D', 'E'], ['B', 'C', 'D']],'E')==1\n",
            "Running Example: 425\n",
            "def filter_oddnumbers(nums):\n"
          ]
        },
        {
          "name": "stderr",
          "output_type": "stream",
          "text": [
            "Setting `pad_token_id` to `eos_token_id`:2 for open-end generation.\n"
          ]
        },
        {
          "name": "stdout",
          "output_type": "stream",
          "text": [
            "def filter_oddnumbers(nums):\n",
            "    return list(filter(lambda x: x%2!=0, nums))\n",
            "assert filter_oddnumbers([1, 2, 3, 4, 5, 6, 7, 8, 9, 10])==[1,3,5,7,9]\n",
            "assert filter_oddnumbers([10,20,45,67,84,93])==[45,67,93]\n",
            "assert filter_oddnumbers([5,7,9,8,6,4,3])==[5,7,9,3]\n",
            "Running Example: 426\n",
            "def change_date_format(dt):\n"
          ]
        },
        {
          "name": "stderr",
          "output_type": "stream",
          "text": [
            "Setting `pad_token_id` to `eos_token_id`:2 for open-end generation.\n"
          ]
        },
        {
          "name": "stdout",
          "output_type": "stream",
          "text": [
            "def change_date_format(dt):\n",
            "    return re.sub(r'(\\d{4})-(\\d{2})-(\\d{2})', r'\\3-\\2-\\1', dt)\n",
            "assert change_date_format(\"2026-01-02\") == '02-01-2026'\n",
            "assert change_date_format(\"2020-11-13\") == '13-11-2020'\n",
            "assert change_date_format(\"2021-04-26\") == '26-04-2021'\n",
            "Running Example: 427\n",
            "def shell_sort(my_list):\n"
          ]
        },
        {
          "name": "stderr",
          "output_type": "stream",
          "text": [
            "Setting `pad_token_id` to `eos_token_id`:2 for open-end generation.\n"
          ]
        },
        {
          "name": "stdout",
          "output_type": "stream",
          "text": [
            "def shell_sort(my_list):\n",
            "    gap = len(my_list)//2\n",
            "    while gap > 0:\n",
            "        for i in range(gap,len(my_list)):\n",
            "            temp = my_list[i]\n",
            "            j = i\n",
            "            while j >= gap and my_list[j-gap] > temp:\n",
            "                my_list[j] = my_list[j-gap]\n",
            "                j = j-gap\n",
            "            my_list[j] = temp\n",
            "        gap = gap//2\n",
            "    return my_list\n",
            "assert shell_sort([12, 23, 4, 5, 3, 2, 12, 81, 56, 95]) == [2, 3, 4, 5, 12, 12, 23, 56, 81, 95]\n",
            "assert shell_sort([24, 22, 39, 34, 87, 73, 68]) == [22, 24, 34, 39, 68, 73, 87]\n",
            "assert shell_sort([32, 30, 16, 96, 82, 83, 74]) == [16, 30, 32, 74, 82, 83, 96]\n",
            "Running Example: 428\n",
            "def and_tuples(test_tup1, test_tup2):\n"
          ]
        },
        {
          "name": "stderr",
          "output_type": "stream",
          "text": [
            "Setting `pad_token_id` to `eos_token_id`:2 for open-end generation.\n"
          ]
        },
        {
          "name": "stdout",
          "output_type": "stream",
          "text": [
            "def and_tuples(test_tup1, test_tup2):\n",
            "    # Initialize an empty list to store the elements of the tuples\n",
            "    tup_list = []\n",
            "    # Iterate through the first tuple\n",
            "    for i in test_tup1:\n",
            "        # Iterate through the second tuple\n",
            "        for j in test_tup2:\n",
            "            # If the elements of the first tuple are equal to the elements of the second tuple\n",
            "            if i == j:\n",
            "                # Append the element to the list\n",
            "                tup_list.append(i)\n",
            "    # Return the list\n",
            "    return tup_list\n",
            "assert and_tuples((10, 4, 6, 9), (5, 2, 3, 3)) == (0, 0, 2, 1)\n",
            "Code Failed Assertions\n",
            "Running Example: 429\n",
            "def parabola_directrix(a, b, c):\n"
          ]
        },
        {
          "name": "stderr",
          "output_type": "stream",
          "text": [
            "Setting `pad_token_id` to `eos_token_id`:2 for open-end generation.\n"
          ]
        },
        {
          "name": "stdout",
          "output_type": "stream",
          "text": [
            "def parabola_directrix(a, b, c):\n",
            "    \"\"\"\n",
            "    Finds the directrix of a parabola.\n",
            "    \"\"\"\n",
            "    return -b/2*a\n",
            "assert parabola_directrix(5,3,2)==-198\n",
            "Code Failed Assertions\n",
            "Running Example: 430\n",
            "def common_element(list1, list2):\n"
          ]
        },
        {
          "name": "stderr",
          "output_type": "stream",
          "text": [
            "Setting `pad_token_id` to `eos_token_id`:2 for open-end generation.\n"
          ]
        },
        {
          "name": "stdout",
          "output_type": "stream",
          "text": [
            "def common_element(list1, list2):\n",
            "    for i in list1:\n",
            "        for j in list2:\n",
            "            if i == j:\n",
            "                return True\n",
            "    return False\n",
            "assert common_element([1,2,3,4,5], [5,6,7,8,9])==True\n",
            "assert common_element([1,2,3,4,5], [6,7,8,9])==None\n",
            "Code Failed Assertions\n",
            "Running Example: 431\n",
            "def median_trapezium(base1,base2,height):\n"
          ]
        },
        {
          "name": "stderr",
          "output_type": "stream",
          "text": [
            "Setting `pad_token_id` to `eos_token_id`:2 for open-end generation.\n"
          ]
        },
        {
          "name": "stdout",
          "output_type": "stream",
          "text": [
            "def median_trapezium(base1,base2,height):\n",
            "    return (base1+base2)/2*height\n",
            "assert median_trapezium(15,25,35)==20\n",
            "Code Failed Assertions\n",
            "Running Example: 432\n",
            "def check_greater(arr, number):\n"
          ]
        },
        {
          "name": "stderr",
          "output_type": "stream",
          "text": [
            "Setting `pad_token_id` to `eos_token_id`:2 for open-end generation.\n"
          ]
        },
        {
          "name": "stdout",
          "output_type": "stream",
          "text": [
            "def check_greater(arr, number):\n",
            "    for i in range(len(arr)):\n",
            "        if arr[i] > number:\n",
            "            return True\n",
            "    return False\n",
            "assert check_greater([1, 2, 3, 4, 5], 4) == 'No, entered number is less than those in the array'\n",
            "Code Failed Assertions\n",
            "Running Example: 433\n",
            "def text_match_one(text):\n"
          ]
        },
        {
          "name": "stderr",
          "output_type": "stream",
          "text": [
            "Setting `pad_token_id` to `eos_token_id`:2 for open-end generation.\n"
          ]
        },
        {
          "name": "stdout",
          "output_type": "stream",
          "text": [
            "def text_match_one(text):\n",
            "    return re.search(r'a.*b', text)\n",
            "assert text_match_one(\"ac\")==('Not matched!')\n",
            "Code Failed Assertions\n",
            "Running Example: 434\n",
            "def last_Digit(n) :\n"
          ]
        },
        {
          "name": "stderr",
          "output_type": "stream",
          "text": [
            "Setting `pad_token_id` to `eos_token_id`:2 for open-end generation.\n"
          ]
        },
        {
          "name": "stdout",
          "output_type": "stream",
          "text": [
            "def last_Digit(n) :\n",
            "    if n % 9 == 0 :\n",
            "        return 9\n",
            "    else :\n",
            "        return n % 9\n",
            "assert last_Digit(123) == 3\n",
            "Code Failed Assertions\n",
            "Running Example: 435\n",
            "def neg_nos(list1):\n"
          ]
        },
        {
          "name": "stderr",
          "output_type": "stream",
          "text": [
            "Setting `pad_token_id` to `eos_token_id`:2 for open-end generation.\n"
          ]
        },
        {
          "name": "stdout",
          "output_type": "stream",
          "text": [
            "def neg_nos(list1):\n",
            "    for i in list1:\n",
            "        if i < 0:\n",
            "            print(i)\n",
            "assert neg_nos([-1,4,5,-6]) == -1,-6\n",
            "-1\n",
            "-6\n",
            "Code Failed Assertions-6\n",
            "Running Example: 436\n",
            "def remove_odd(str1):\n"
          ]
        },
        {
          "name": "stderr",
          "output_type": "stream",
          "text": [
            "Setting `pad_token_id` to `eos_token_id`:2 for open-end generation.\n"
          ]
        },
        {
          "name": "stdout",
          "output_type": "stream",
          "text": [
            "def remove_odd(str1):\n",
            "    str1 = str1.replace(\"a\",\"\")\n",
            "    str1 = str1.replace(\"e\",\"\")\n",
            "    str1 = str1.replace(\"i\",\"\")\n",
            "    str1 = str1.replace(\"o\",\"\")\n",
            "    str1 = str1.replace(\"u\",\"\")\n",
            "    return str1\n",
            "assert remove_odd(\"python\")==(\"yhn\")\n",
            "Code Failed Assertions\n",
            "Running Example: 437\n",
            "def count_bidirectional(test_list):\n"
          ]
        },
        {
          "name": "stderr",
          "output_type": "stream",
          "text": [
            "Setting `pad_token_id` to `eos_token_id`:2 for open-end generation.\n"
          ]
        },
        {
          "name": "stdout",
          "output_type": "stream",
          "text": [
            "def count_bidirectional(test_list):\n",
            "    count = 0\n",
            "    for i in range(len(test_list)):\n",
            "        for j in range(i+1, len(test_list)):\n",
            "            if test_list[i] == test_list[j]:\n",
            "                count += 1\n",
            "    return count\n",
            "assert count_bidirectional([(5, 6), (1, 2), (6, 5), (9, 1), (6, 5), (2, 1)] ) == '3'\n",
            "Code Failed Assertions\n",
            "Running Example: 438\n",
            "def multiple_to_single(L):\n"
          ]
        },
        {
          "name": "stderr",
          "output_type": "stream",
          "text": [
            "Setting `pad_token_id` to `eos_token_id`:2 for open-end generation.\n"
          ]
        },
        {
          "name": "stdout",
          "output_type": "stream",
          "text": [
            "def multiple_to_single(L):\n",
            "    return int(\"\".join(map(str, L)))\n",
            "assert multiple_to_single([11, 33, 50])==113350\n",
            "assert multiple_to_single([-1,2,3,4,5,6])==-123456\n",
            "assert multiple_to_single([10,15,20,25])==10152025\n",
            "Running Example: 439\n",
            "def find_adverb_position(text):\n"
          ]
        },
        {
          "name": "stderr",
          "output_type": "stream",
          "text": [
            "Setting `pad_token_id` to `eos_token_id`:2 for open-end generation.\n"
          ]
        },
        {
          "name": "stdout",
          "output_type": "stream",
          "text": [
            "def find_adverb_position(text):\n",
            "    adverb_list = []\n",
            "    for i in range(len(text)):\n",
            "        if text[i] == 'r' and text[i+1] == 'e' and text[i+2] == ':':\n",
            "            adverb_list.append(i)\n",
            "    return adverb_list\n",
            "assert find_adverb_position(\"clearly!! we can see the sky\")==(0, 7, 'clearly')\n",
            "Code Failed Assertions\n",
            "Running Example: 440\n",
            "def surfacearea_cube(l):\n"
          ]
        },
        {
          "name": "stderr",
          "output_type": "stream",
          "text": [
            "Setting `pad_token_id` to `eos_token_id`:2 for open-end generation.\n"
          ]
        },
        {
          "name": "stdout",
          "output_type": "stream",
          "text": [
            "def surfacearea_cube(l):\n",
            "    return 6*l*l\n",
            "assert surfacearea_cube(5)==150\n",
            "assert surfacearea_cube(3)==54\n",
            "assert surfacearea_cube(10)==600\n",
            "Running Example: 441\n",
            "def positive_count(nums):\n"
          ]
        },
        {
          "name": "stderr",
          "output_type": "stream",
          "text": [
            "Setting `pad_token_id` to `eos_token_id`:2 for open-end generation.\n"
          ]
        },
        {
          "name": "stdout",
          "output_type": "stream",
          "text": [
            "def positive_count(nums):\n",
            "    positive_count = 0\n",
            "    for num in nums:\n",
            "        if num > 0:\n",
            "            positive_count += 1\n",
            "    return positive_count / len(nums)\n",
            "assert positive_count([0, 1, 2, -1, -5, 6, 0, -3, -2, 3, 4, 6, 8])==0.54\n",
            "Code Failed Assertions\n",
            "Running Example: 442\n",
            "def largest_neg(list1):\n"
          ]
        },
        {
          "name": "stderr",
          "output_type": "stream",
          "text": [
            "Setting `pad_token_id` to `eos_token_id`:2 for open-end generation.\n"
          ]
        },
        {
          "name": "stdout",
          "output_type": "stream",
          "text": [
            "def largest_neg(list1):\n",
            "    list1.sort()\n",
            "    return list1[0]\n",
            "assert largest_neg([1,2,3,-4,-6]) == -6\n",
            "assert largest_neg([1,2,3,-8,-9]) == -9\n",
            "assert largest_neg([1,2,3,4,-1]) == -1\n",
            "Running Example: 443\n",
            "def trim_tuple(test_list, K):\n"
          ]
        },
        {
          "name": "stderr",
          "output_type": "stream",
          "text": [
            "Setting `pad_token_id` to `eos_token_id`:2 for open-end generation.\n"
          ]
        },
        {
          "name": "stdout",
          "output_type": "stream",
          "text": [
            "def trim_tuple(test_list, K):\n",
            "    for i in range(len(test_list)):\n",
            "        test_list[i] = test_list[i][:K]\n",
            "    return test_list\n",
            "assert trim_tuple([(5, 3, 2, 1, 4), (3, 4, 9, 2, 1),(9, 1, 2, 3, 5), (4, 8, 2, 1, 7)], 2) == '[(2,), (9,), (2,), (2,)]'\n",
            "Code Failed Assertions\n",
            "Running Example: 444\n",
            "def index_multiplication(test_tup1, test_tup2):\n"
          ]
        },
        {
          "name": "stderr",
          "output_type": "stream",
          "text": [
            "Setting `pad_token_id` to `eos_token_id`:2 for open-end generation.\n"
          ]
        },
        {
          "name": "stdout",
          "output_type": "stream",
          "text": [
            "def index_multiplication(test_tup1, test_tup2):\n",
            "    return tuple(i*j for i,j in zip(test_tup1, test_tup2))\n",
            "assert index_multiplication(((1, 3), (4, 5), (2, 9), (1, 10)),((6, 7), (3, 9), (1, 1), (7, 3)) ) == ((6, 21), (12, 45), (2, 9), (7, 30))\n",
            "Code Failed Assertionscan't multiply sequence by non-int of type 'tuple'\n",
            "Running Example: 445\n",
            "def count_Occurrence(tup, lst):\n"
          ]
        },
        {
          "name": "stderr",
          "output_type": "stream",
          "text": [
            "Setting `pad_token_id` to `eos_token_id`:2 for open-end generation.\n"
          ]
        },
        {
          "name": "stdout",
          "output_type": "stream",
          "text": [
            "def count_Occurrence(tup, lst):\n",
            "    return tuple(tup.count(i) for i in lst)\n",
            "assert count_Occurrence(('a', 'a', 'c', 'b', 'd'),['a', 'b'] ) == 3\n",
            "Code Failed Assertions\n",
            "Running Example: 446\n",
            "def cube_nums(nums):\n"
          ]
        },
        {
          "name": "stderr",
          "output_type": "stream",
          "text": [
            "Setting `pad_token_id` to `eos_token_id`:2 for open-end generation.\n"
          ]
        },
        {
          "name": "stdout",
          "output_type": "stream",
          "text": [
            "def cube_nums(nums):\n",
            "    return list(map(lambda x: x**3, nums))\n",
            "assert cube_nums([1, 2, 3, 4, 5, 6, 7, 8, 9, 10])==[1, 8, 27, 64, 125, 216, 343, 512, 729, 1000]\n",
            "assert cube_nums([10,20,30])==([1000, 8000, 27000])\n",
            "assert cube_nums([12,15])==([1728, 3375])\n",
            "Running Example: 447\n",
            "def cal_sum(n):\n"
          ]
        },
        {
          "name": "stderr",
          "output_type": "stream",
          "text": [
            "Setting `pad_token_id` to `eos_token_id`:2 for open-end generation.\n"
          ]
        },
        {
          "name": "stdout",
          "output_type": "stream",
          "text": [
            "def cal_sum(n):\n",
            "    sum = 0\n",
            "    for i in range(1, n+1):\n",
            "        sum += i * (i+1)\n",
            "    return sum\n",
            "assert cal_sum(9) == 49\n",
            "Code Failed Assertions\n",
            "Running Example: 448\n",
            "def check_Triangle(x1,y1,x2,y2,x3,y3):\n"
          ]
        },
        {
          "name": "stderr",
          "output_type": "stream",
          "text": [
            "Setting `pad_token_id` to `eos_token_id`:2 for open-end generation.\n"
          ]
        },
        {
          "name": "stdout",
          "output_type": "stream",
          "text": [
            "def check_Triangle(x1,y1,x2,y2,x3,y3):\n",
            "    if (x1-x2)**2 + (y1-y2)**2 < (x1-x3)**2 + (y1-y3)**2:\n",
            "        if (x2-x3)**2 + (y2-y3)**2 < (x1-x3)**2 + (y1-y3)**2:\n",
            "            return True\n",
            "        else:\n",
            "            return False\n",
            "    else:\n",
            "        return False\n",
            "assert check_Triangle(1,5,2,5,4,6) == 'Yes'\n",
            "Code Failed Assertions\n",
            "Running Example: 449\n",
            "def extract_string(str, l):\n"
          ]
        },
        {
          "name": "stderr",
          "output_type": "stream",
          "text": [
            "Setting `pad_token_id` to `eos_token_id`:2 for open-end generation.\n"
          ]
        },
        {
          "name": "stdout",
          "output_type": "stream",
          "text": [
            "def extract_string(str, l):\n",
            "    return [str[i:i+l] for i in range(0, len(str), l)]\n",
            "assert extract_string(['Python', 'list', 'exercises', 'practice', 'solution'] ,8)==['practice', 'solution']\n",
            "Code Failed Assertions\n",
            "Running Example: 450\n",
            "def remove_whitespaces(text1):\n"
          ]
        },
        {
          "name": "stderr",
          "output_type": "stream",
          "text": [
            "Setting `pad_token_id` to `eos_token_id`:2 for open-end generation.\n"
          ]
        },
        {
          "name": "stdout",
          "output_type": "stream",
          "text": [
            "def remove_whitespaces(text1):\n",
            "    return re.sub(r\"\\s+\", \"\", text1)\n",
            "assert remove_whitespaces(' Google    Flutter ') == 'GoogleFlutter'\n",
            "assert remove_whitespaces(' Google    Dart ') == 'GoogleDart'\n",
            "assert remove_whitespaces(' iOS    Swift ') == 'iOSSwift'\n",
            "Running Example: 451\n",
            "def loss_amount(actual_cost,sale_amount):\n"
          ]
        },
        {
          "name": "stderr",
          "output_type": "stream",
          "text": [
            "Setting `pad_token_id` to `eos_token_id`:2 for open-end generation.\n"
          ]
        },
        {
          "name": "stdout",
          "output_type": "stream",
          "text": [
            "def loss_amount(actual_cost,sale_amount):\n",
            "    if sale_amount < actual_cost:\n",
            "        return actual_cost - sale_amount\n",
            "    else:\n",
            "        return None\n",
            "assert loss_amount(1500,1200)==None\n",
            "Code Failed Assertions\n",
            "Running Example: 452\n",
            "def sumofFactors(n) :\n"
          ]
        },
        {
          "name": "stderr",
          "output_type": "stream",
          "text": [
            "Setting `pad_token_id` to `eos_token_id`:2 for open-end generation.\n"
          ]
        },
        {
          "name": "stdout",
          "output_type": "stream",
          "text": [
            "def sumofFactors(n) :\n",
            "    sum = 0\n",
            "    for i in range(1, n) :\n",
            "        if (n % i == 0) :\n",
            "            if (i % 2 == 0) :\n",
            "                sum = sum + i\n",
            "    return sum\n",
            "assert sumofFactors(18) == 26\n",
            "Code Failed Assertions\n",
            "Running Example: 453\n",
            "def text_match_wordz(text):\n"
          ]
        },
        {
          "name": "stderr",
          "output_type": "stream",
          "text": [
            "Setting `pad_token_id` to `eos_token_id`:2 for open-end generation.\n"
          ]
        },
        {
          "name": "stdout",
          "output_type": "stream",
          "text": [
            "def text_match_wordz(text):\n",
            "    return re.search(r'\\bz\\w*z\\w*\\b', text, re.IGNORECASE)\n",
            "assert text_match_wordz(\"pythonz.\")==('Found a match!')\n",
            "Code Failed Assertions\n",
            "Running Example: 454\n",
            "def check_monthnumb_number(monthnum2):\n"
          ]
        },
        {
          "name": "stderr",
          "output_type": "stream",
          "text": [
            "Setting `pad_token_id` to `eos_token_id`:2 for open-end generation.\n"
          ]
        },
        {
          "name": "stdout",
          "output_type": "stream",
          "text": [
            "def check_monthnumb_number(monthnum2):\n",
            "    if monthnum2 == 1 or monthnum2 == 3 or monthnum2 == 5 or monthnum2 == 7 or monthnum2 == 8 or monthnum2 == 10 or monthnum2 == 12:\n",
            "        return True\n",
            "    else:\n",
            "        return False\n",
            "assert check_monthnumb_number(5)==True\n",
            "assert check_monthnumb_number(2)==False\n",
            "assert check_monthnumb_number(6)==False\n",
            "Running Example: 455\n",
            "def reverse_string_list(stringlist):\n"
          ]
        },
        {
          "name": "stderr",
          "output_type": "stream",
          "text": [
            "Setting `pad_token_id` to `eos_token_id`:2 for open-end generation.\n"
          ]
        },
        {
          "name": "stdout",
          "output_type": "stream",
          "text": [
            "def reverse_string_list(stringlist):\n",
            "    return [string[::-1] for string in stringlist]\n",
            "assert reverse_string_list(['Red', 'Green', 'Blue', 'White', 'Black'])==['deR', 'neerG', 'eulB', 'etihW', 'kcalB']\n",
            "assert reverse_string_list(['john','amal','joel','george'])==['nhoj','lama','leoj','egroeg']\n",
            "assert reverse_string_list(['jack','john','mary'])==['kcaj','nhoj','yram']\n",
            "Running Example: 456\n",
            "def Find_Min(lst):\n"
          ]
        },
        {
          "name": "stderr",
          "output_type": "stream",
          "text": [
            "Setting `pad_token_id` to `eos_token_id`:2 for open-end generation.\n"
          ]
        },
        {
          "name": "stdout",
          "output_type": "stream",
          "text": [
            "def Find_Min(lst):\n",
            "    min_len = len(lst)\n",
            "    for i in range(len(lst)):\n",
            "        if len(lst[i]) < min_len:\n",
            "            min_len = len(lst[i])\n",
            "    return min_len\n",
            "assert Find_Min([[1],[1,2],[1,2,3]]) == [1]\n",
            "Code Failed Assertions\n",
            "Running Example: 457\n",
            "def rectangle_area(l,b):\n"
          ]
        },
        {
          "name": "stderr",
          "output_type": "stream",
          "text": [
            "Setting `pad_token_id` to `eos_token_id`:2 for open-end generation.\n"
          ]
        },
        {
          "name": "stdout",
          "output_type": "stream",
          "text": [
            "def rectangle_area(l,b):\n",
            "    return l*b\n",
            "assert rectangle_area(10,20)==200\n",
            "assert rectangle_area(10,5)==50\n",
            "assert rectangle_area(4,2)==8\n",
            "Running Example: 458\n",
            "def remove_uppercase(str1):\n"
          ]
        },
        {
          "name": "stderr",
          "output_type": "stream",
          "text": [
            "Setting `pad_token_id` to `eos_token_id`:2 for open-end generation.\n"
          ]
        },
        {
          "name": "stdout",
          "output_type": "stream",
          "text": [
            "def remove_uppercase(str1):\n",
            "    return re.sub(r'[A-Z]', '', str1)\n",
            "assert remove_uppercase('cAstyoUrFavoRitETVshoWs') == 'cstyoravoitshos'\n",
            "assert remove_uppercase('wAtchTheinTernEtrAdIo') == 'wtchheinerntrdo'\n",
            "assert remove_uppercase('VoicESeaRchAndreComMendaTionS') == 'oiceachndreomendaion'\n",
            "Running Example: 459\n",
            "def Extract(lst):\n"
          ]
        },
        {
          "name": "stderr",
          "output_type": "stream",
          "text": [
            "Setting `pad_token_id` to `eos_token_id`:2 for open-end generation.\n"
          ]
        },
        {
          "name": "stdout",
          "output_type": "stream",
          "text": [
            "def Extract(lst):\n",
            "    return [item[0] for item in lst]\n",
            "assert Extract([[1, 2], [3, 4, 5], [6, 7, 8, 9]]) == [1, 3, 6]\n",
            "assert Extract([[1,2,3],[4, 5]]) == [1,4]\n",
            "assert Extract([[9,8,1],[1,2]]) == [9,1]\n",
            "Running Example: 460\n",
            "def upper_ctr(str):\n"
          ]
        },
        {
          "name": "stderr",
          "output_type": "stream",
          "text": [
            "Setting `pad_token_id` to `eos_token_id`:2 for open-end generation.\n"
          ]
        },
        {
          "name": "stdout",
          "output_type": "stream",
          "text": [
            "def upper_ctr(str):\n",
            "    count = 0\n",
            "    for i in str:\n",
            "        if i.isupper():\n",
            "            count += 1\n",
            "    return count\n",
            "assert upper_ctr('PYthon') == 1\n",
            "Code Failed Assertions\n",
            "Running Example: 461\n",
            "def combinations_list(list1):\n"
          ]
        },
        {
          "name": "stderr",
          "output_type": "stream",
          "text": [
            "Setting `pad_token_id` to `eos_token_id`:2 for open-end generation.\n"
          ]
        },
        {
          "name": "stdout",
          "output_type": "stream",
          "text": [
            "def combinations_list(list1):\n",
            "    if len(list1) == 0:\n",
            "        return []\n",
            "    if len(list1) == 1:\n",
            "        return [list1]\n",
            "    l = []\n",
            "    for i in range(len(list1)):\n",
            "        m = list1[i]\n",
            "        rem_list = list1[:i] + list1[i+1:]\n",
            "        for p in combinations_list(rem_list):\n",
            "            l.append([m] + p)\n",
            "    return l\n",
            "assert combinations_list(['orange', 'red', 'green', 'blue'])==[[], ['orange'], ['red'], ['red', 'orange'], ['green'], ['green', 'orange'], ['green', 'red'], ['green', 'red', 'orange'], ['blue'], ['blue', 'orange'], ['blue', 'red'], ['blue', 'red', 'orange'], ['blue', 'green'], ['blue', 'green', 'orange'], ['blue', 'green', 'red'], ['blue', 'green', 'red', 'orange']]\n",
            "Code Failed Assertions\n",
            "Running Example: 462\n",
            "def max_subarray_product(arr):\n"
          ]
        },
        {
          "name": "stderr",
          "output_type": "stream",
          "text": [
            "Setting `pad_token_id` to `eos_token_id`:2 for open-end generation.\n"
          ]
        },
        {
          "name": "stdout",
          "output_type": "stream",
          "text": [
            "None\n",
            "Code Didn't Run\n",
            "Errorexec() arg 1 must be a string, bytes or code object\n",
            "Running Example: 463\n",
            "def check_value(dict, n):\n"
          ]
        },
        {
          "name": "stderr",
          "output_type": "stream",
          "text": [
            "Setting `pad_token_id` to `eos_token_id`:2 for open-end generation.\n"
          ]
        },
        {
          "name": "stdout",
          "output_type": "stream",
          "text": [
            "def check_value(dict, n):\n",
            "    for i in range(n):\n",
            "        if dict[i]!= dict[i+1]:\n",
            "            return False\n",
            "    return True\n",
            "assert check_value({'Cierra Vega': 12, 'Alden Cantrell': 12, 'Kierra Gentry': 12, 'Pierre Cox': 12},10)==False\n",
            "Code Failed Assertions0\n",
            "Running Example: 464\n",
            "def drop_empty(dict1):\n"
          ]
        },
        {
          "name": "stderr",
          "output_type": "stream",
          "text": [
            "Setting `pad_token_id` to `eos_token_id`:2 for open-end generation.\n"
          ]
        },
        {
          "name": "stdout",
          "output_type": "stream",
          "text": [
            "def drop_empty(dict1):\n",
            "    for key in dict1.copy():\n",
            "        if dict1[key] == \"\":\n",
            "            del dict1[key]\n",
            "    return dict1\n",
            "assert drop_empty({'c1': 'Red', 'c2': 'Green', 'c3':None})=={'c1': 'Red', 'c2': 'Green'}\n",
            "Code Failed Assertions\n",
            "Running Example: 465\n",
            "def find_peak_util(arr, low, high, n):\n"
          ]
        },
        {
          "name": "stderr",
          "output_type": "stream",
          "text": [
            "Setting `pad_token_id` to `eos_token_id`:2 for open-end generation.\n"
          ]
        },
        {
          "name": "stdout",
          "output_type": "stream",
          "text": [
            "def find_peak_util(arr, low, high, n):\n",
            "    if high >= low:\n",
            "        mid = (high + low) // 2\n",
            "        if (mid == 0 or arr[mid] > arr[mid - 1]) and (mid == n - 1 or arr[mid] > arr[mid + 1]):\n",
            "            return arr[mid]\n",
            "        if arr[mid] < arr[mid + 1]:\n",
            "            return find_peak_util(arr, (mid + 1), high, n)\n",
            "        else:\n",
            "            return find_peak_util(arr, low, (mid - 1), n)\n",
            "    return -1\n",
            "assert find_peak([1, 3, 20, 4, 1, 0], 6) == 2\n",
            "Code Failed Assertionsname 'find_peak' is not defined\n",
            "Running Example: 466\n",
            "def decimal_to_Octal(deciNum):\n"
          ]
        },
        {
          "name": "stderr",
          "output_type": "stream",
          "text": [
            "Setting `pad_token_id` to `eos_token_id`:2 for open-end generation.\n"
          ]
        },
        {
          "name": "stdout",
          "output_type": "stream",
          "text": [
            "def decimal_to_Octal(deciNum):\n",
            "    octalNum = 0\n",
            "    counter = 0\n",
            "    while(deciNum!=0):\n",
            "        remainder = deciNum%8\n",
            "        octalNum = octalNum + (remainder*pow(10,counter))\n",
            "        deciNum = deciNum//8\n",
            "        counter+=1\n",
            "    return octalNum\n",
            "assert decimal_to_Octal(10) == 12\n",
            "assert decimal_to_Octal(2) == 2\n",
            "assert decimal_to_Octal(33) == 41\n",
            "Running Example: 467\n",
            "def max_product(arr, n ):\n"
          ]
        },
        {
          "name": "stderr",
          "output_type": "stream",
          "text": [
            "Setting `pad_token_id` to `eos_token_id`:2 for open-end generation.\n"
          ]
        },
        {
          "name": "stdout",
          "output_type": "stream",
          "text": [
            "def max_product(arr, n ): \n",
            "    max_so_far = arr[0] \n",
            "    max_ending = arr[0] \n",
            "    min_ending = arr[0] \n",
            "    for i in range(1, n): \n",
            "        temp = max_ending \n",
            "        max_ending = max(arr[i], max_ending * arr[i], min_ending * arr[i]) \n",
            "        min_ending = min(arr[i], temp * arr[i], min_ending * arr[i]) \n",
            "        max_so_far = max(max_so_far, max_ending) \n",
            "    return max_so_far \n",
            "assert max_product([3, 100, 4, 5, 150, 6], 6) == 45000 \n",
            "Code Failed Assertions\n",
            "Running Example: 468\n",
            "def max_profit(price, k):\n"
          ]
        },
        {
          "name": "stderr",
          "output_type": "stream",
          "text": [
            "Setting `pad_token_id` to `eos_token_id`:2 for open-end generation.\n"
          ]
        },
        {
          "name": "stdout",
          "output_type": "stream",
          "text": [
            "def max_profit(price, k):\n",
            "    # Write your code here\n",
            "    # initialize the variables\n",
            "    max_profit = 0\n",
            "    min_price = price[0]\n",
            "    # loop through the prices\n",
            "    for i in range(1, len(price)):\n",
            "        # check if the current price is less than the minimum price\n",
            "        if price[i] < min_price:\n",
            "            # update the minimum price\n",
            "            min_price = price[i]\n",
            "        # check if the current price is greater than the minimum price\n",
            "        if price[i] - min_price > max_profit:\n",
            "            # update the maximum profit\n",
            "            max_profit = price[i] - min_price\n",
            "    # return the maximum profit\n",
            "    return max_profit\n",
            "assert max_profit([1, 5, 2, 3, 7, 6, 4, 5], 3) == 10\n",
            "Code Failed Assertions\n",
            "Running Example: 469\n",
            "def add_pairwise(test_tup):\n"
          ]
        },
        {
          "name": "stderr",
          "output_type": "stream",
          "text": [
            "Setting `pad_token_id` to `eos_token_id`:2 for open-end generation.\n"
          ]
        },
        {
          "name": "stdout",
          "output_type": "stream",
          "text": [
            "def add_pairwise(test_tup):\n",
            "    result = ()\n",
            "    for i in range(len(test_tup)):\n",
            "        for j in range(i+1,len(test_tup)):\n",
            "            result = result + (test_tup[i]+test_tup[j],)\n",
            "    return result\n",
            "assert add_pairwise((1, 5, 7, 8, 10)) == (6, 12, 15, 18)\n",
            "Code Failed Assertions\n",
            "Running Example: 470\n",
            "def find_remainder(arr, lens, n):\n"
          ]
        },
        {
          "name": "stderr",
          "output_type": "stream",
          "text": [
            "Setting `pad_token_id` to `eos_token_id`:2 for open-end generation.\n"
          ]
        },
        {
          "name": "stdout",
          "output_type": "stream",
          "text": [
            "def find_remainder(arr, lens, n):\n",
            "    prod = 1\n",
            "    for i in range(lens):\n",
            "        prod *= arr[i]\n",
            "    return prod % n\n",
            "assert find_remainder([ 100, 10, 5, 25, 35, 14 ],6,11) ==9\n",
            "assert find_remainder([1,1,1],3,1) == 0\n",
            "assert find_remainder([1,2,1],3,2) == 0\n",
            "Running Example: 471\n",
            "def check_Consecutive(l):\n"
          ]
        },
        {
          "name": "stderr",
          "output_type": "stream",
          "text": [
            "Setting `pad_token_id` to `eos_token_id`:2 for open-end generation.\n"
          ]
        },
        {
          "name": "stdout",
          "output_type": "stream",
          "text": [
            "def check_Consecutive(l):\n",
            "    for i in range(len(l)-1):\n",
            "        if l[i+1]-l[i]!= 1:\n",
            "            return False\n",
            "    return True\n",
            "assert check_Consecutive([1,2,3,4,5]) == True\n",
            "assert check_Consecutive([1,2,3,5,6]) == False\n",
            "assert check_Consecutive([1,2,1]) == False\n",
            "Running Example: 472\n",
            "def tuple_intersection(test_list1, test_list2):\n"
          ]
        },
        {
          "name": "stderr",
          "output_type": "stream",
          "text": [
            "Setting `pad_token_id` to `eos_token_id`:2 for open-end generation.\n"
          ]
        },
        {
          "name": "stdout",
          "output_type": "stream",
          "text": [
            "def tuple_intersection(test_list1, test_list2):\n",
            "    return tuple(set(test_list1) & set(test_list2))\n",
            "assert tuple_intersection([(3, 4), (5, 6), (9, 10), (4, 5)] , [(5, 4), (3, 4), (6, 5), (9, 11)]) == {(4, 5), (3, 4), (5, 6)}\n",
            "Code Failed Assertions\n",
            "Running Example: 473\n",
            "def replace_char(str1,ch,newch):\n"
          ]
        },
        {
          "name": "stderr",
          "output_type": "stream",
          "text": [
            "Setting `pad_token_id` to `eos_token_id`:2 for open-end generation.\n"
          ]
        },
        {
          "name": "stdout",
          "output_type": "stream",
          "text": [
            "def replace_char(str1,ch,newch):\n",
            "    newstr = \"\"\n",
            "    for i in range(len(str1)):\n",
            "        if str1[i] == ch:\n",
            "            newstr = newstr + newch\n",
            "        else:\n",
            "            newstr = newstr + str1[i]\n",
            "    return newstr\n",
            "assert replace_char(\"polygon\",'y','l')==(\"pollgon\")\n",
            "assert replace_char(\"character\",'c','a')==(\"aharaater\")\n",
            "assert replace_char(\"python\",'l','a')==(\"python\")\n",
            "Running Example: 474\n",
            "def sort_counter(dict1):\n"
          ]
        },
        {
          "name": "stderr",
          "output_type": "stream",
          "text": [
            "Setting `pad_token_id` to `eos_token_id`:2 for open-end generation.\n"
          ]
        },
        {
          "name": "stdout",
          "output_type": "stream",
          "text": [
            "def sort_counter(dict1):\n",
            "    return sorted(dict1.items(), key=lambda x: x[1], reverse=True)\n",
            "assert sort_counter({'Math':81, 'Physics':83, 'Chemistry':87})==[('Chemistry', 87), ('Physics', 83), ('Math', 81)]\n",
            "assert sort_counter({'Math':400, 'Physics':300, 'Chemistry':250})==[('Math', 400), ('Physics', 300), ('Chemistry', 250)]\n",
            "assert sort_counter({'Math':900, 'Physics':1000, 'Chemistry':1250})==[('Chemistry', 1250), ('Physics', 1000), ('Math', 900)]\n",
            "Running Example: 475\n",
            "def big_sum(nums):\n"
          ]
        },
        {
          "name": "stderr",
          "output_type": "stream",
          "text": [
            "Setting `pad_token_id` to `eos_token_id`:2 for open-end generation.\n"
          ]
        },
        {
          "name": "stdout",
          "output_type": "stream",
          "text": [
            "def big_sum(nums):\n",
            "    return max(nums) + min(nums)\n",
            "assert big_sum([1,2,3]) == 4\n",
            "assert big_sum([-1,2,3,4]) == 3\n",
            "assert big_sum([2,3,6]) == 8\n",
            "Running Example: 476\n",
            "def is_lower(string):\n"
          ]
        },
        {
          "name": "stderr",
          "output_type": "stream",
          "text": [
            "Setting `pad_token_id` to `eos_token_id`:2 for open-end generation.\n"
          ]
        },
        {
          "name": "stdout",
          "output_type": "stream",
          "text": [
            "def is_lower(string):\n",
            "    return string.islower()\n",
            "assert is_lower(\"InValid\") == \"invalid\"\n",
            "Code Failed Assertions\n",
            "Running Example: 477\n",
            "def remove_lowercase(str1):\n"
          ]
        },
        {
          "name": "stderr",
          "output_type": "stream",
          "text": [
            "Setting `pad_token_id` to `eos_token_id`:2 for open-end generation.\n"
          ]
        },
        {
          "name": "stdout",
          "output_type": "stream",
          "text": [
            "def remove_lowercase(str1):\n",
            "    str1 = str1.split()\n",
            "    for i in range(len(str1)):\n",
            "        if str1[i].islower():\n",
            "            str1[i] = ''\n",
            "    return''.join(str1)\n",
            "assert remove_lowercase(\"PYTHon\")==('PYTH')\n",
            "Code Failed Assertions\n",
            "Running Example: 478\n",
            "def first_Digit(n) :\n"
          ]
        },
        {
          "name": "stderr",
          "output_type": "stream",
          "text": [
            "Setting `pad_token_id` to `eos_token_id`:2 for open-end generation.\n"
          ]
        },
        {
          "name": "stdout",
          "output_type": "stream",
          "text": [
            "def first_Digit(n) :\n",
            "    return int(str(n)[0])\n",
            "assert first_Digit(123) == 1\n",
            "assert first_Digit(456) == 4\n",
            "assert first_Digit(12) == 1\n",
            "Running Example: 479\n",
            "def get_max_occuring_char(str1):\n"
          ]
        },
        {
          "name": "stderr",
          "output_type": "stream",
          "text": [
            "Setting `pad_token_id` to `eos_token_id`:2 for open-end generation.\n"
          ]
        },
        {
          "name": "stdout",
          "output_type": "stream",
          "text": [
            "def get_max_occuring_char(str1):\n",
            "    char_dict = {}\n",
            "    for i in str1:\n",
            "        if i in char_dict:\n",
            "            char_dict[i] += 1\n",
            "        else:\n",
            "            char_dict[i] = 1\n",
            "    max_char = max(char_dict, key=char_dict.get)\n",
            "    return max_char\n",
            "assert get_max_occuring_char(\"data\") == \"a\"\n",
            "assert get_max_occuring_char(\"create\") == \"e\"\n",
            "assert get_max_occuring_char(\"brilliant girl\") == \"i\"\n",
            "Running Example: 480\n",
            "def is_subset_sum(set, n, sum):\n"
          ]
        },
        {
          "name": "stderr",
          "output_type": "stream",
          "text": [
            "Setting `pad_token_id` to `eos_token_id`:2 for open-end generation.\n"
          ]
        },
        {
          "name": "stdout",
          "output_type": "stream",
          "text": [
            "def is_subset_sum(set, n, sum):\n",
            "    if sum == 0:\n",
            "        return True\n",
            "    if n == 0:\n",
            "        return False\n",
            "    if set[n - 1] > sum:\n",
            "        return is_subset_sum(set, n - 1, sum)\n",
            "    return is_subset_sum(set, n - 1, sum) or is_subset_sum(set, n - 1, sum - set[n - 1])\n",
            "assert is_subset_sum([3, 34, 4, 12, 5, 2], 6, 9) == True\n",
            "assert is_subset_sum([3, 34, 4, 12, 5, 2], 6, 30) == False\n",
            "assert is_subset_sum([3, 34, 4, 12, 5, 2], 6, 15) == True\n",
            "Running Example: 481\n",
            "def match(text):\n"
          ]
        },
        {
          "name": "stderr",
          "output_type": "stream",
          "text": [
            "Setting `pad_token_id` to `eos_token_id`:2 for open-end generation.\n"
          ]
        },
        {
          "name": "stdout",
          "output_type": "stream",
          "text": [
            "def match(text):\n",
            "    pattern = re.compile(r'[A-Z][a-z]+')\n",
            "    result = pattern.findall(text)\n",
            "    return result\n",
            "assert match(\"Geeks\") == 'Yes'\n",
            "Code Failed Assertions\n",
            "Running Example: 482\n",
            "def first_Factorial_Divisible_Number(x):\n"
          ]
        },
        {
          "name": "stderr",
          "output_type": "stream",
          "text": [
            "Setting `pad_token_id` to `eos_token_id`:2 for open-end generation.\n"
          ]
        },
        {
          "name": "stdout",
          "output_type": "stream",
          "text": [
            "None\n",
            "Code Didn't Run\n",
            "Errorexec() arg 1 must be a string, bytes or code object\n",
            "Running Example: 483\n",
            "def remove_matching_tuple(test_list1, test_list2):\n"
          ]
        },
        {
          "name": "stderr",
          "output_type": "stream",
          "text": [
            "Setting `pad_token_id` to `eos_token_id`:2 for open-end generation.\n"
          ]
        },
        {
          "name": "stdout",
          "output_type": "stream",
          "text": [
            "def remove_matching_tuple(test_list1, test_list2):\n",
            "    for i in test_list1:\n",
            "        for j in test_list2:\n",
            "            if i == j:\n",
            "                test_list1.remove(i)\n",
            "                test_list2.remove(j)\n",
            "    return test_list1, test_list2\n",
            "assert remove_matching_tuple([('Hello', 'dude'), ('How', 'are'), ('you', '?')], [('Hello', 'dude'), ('How', 'are')]) == [('you', '?')]\n",
            "Code Failed Assertions\n",
            "Running Example: 484\n",
            "def is_palindrome(n) :\n"
          ]
        },
        {
          "name": "stderr",
          "output_type": "stream",
          "text": [
            "Setting `pad_token_id` to `eos_token_id`:2 for open-end generation.\n"
          ]
        },
        {
          "name": "stdout",
          "output_type": "stream",
          "text": [
            "def is_palindrome(n) :\n",
            "    return str(n) == str(n)[::-1]\n",
            "assert largest_palindrome([1, 232, 54545, 999991], 4) == 54545\n",
            "Code Failed Assertionsname 'largest_palindrome' is not defined\n",
            "Running Example: 485\n",
            "def nCr(n, r):\n"
          ]
        },
        {
          "name": "stderr",
          "output_type": "stream",
          "text": [
            "Setting `pad_token_id` to `eos_token_id`:2 for open-end generation.\n"
          ]
        },
        {
          "name": "stdout",
          "output_type": "stream",
          "text": [
            "def nCr(n, r):\n",
            "    if r > n:\n",
            "        return 0\n",
            "    r = min(r, n - r)\n",
            "    if r == 0:\n",
            "        return 1\n",
            "    numerator = reduce(op.mul, range(n, n - r, -1), 1)\n",
            "    denominator = reduce(op.mul, range(1, r + 1), 1)\n",
            "    return numerator // denominator\n",
            "assert binomial_probability(10, 5, 1.0/3) == 0.13656454808718185\n",
            "Code Failed Assertionsname 'binomial_probability' is not defined\n",
            "Running Example: 486\n",
            "def sort_tuple(tup):\n"
          ]
        },
        {
          "name": "stderr",
          "output_type": "stream",
          "text": [
            "Setting `pad_token_id` to `eos_token_id`:2 for open-end generation.\n"
          ]
        },
        {
          "name": "stdout",
          "output_type": "stream",
          "text": [
            "def sort_tuple(tup):\n",
            "    return sorted(tup, key=lambda x: x[1])\n",
            "assert sort_tuple([(1, 3), (3, 2), (2, 1)] ) == [(2, 1), (3, 2), (1, 3)]\n",
            "assert sort_tuple([(2, 4), (3, 3), (1, 1)] ) == [(1, 1), (3, 3), (2, 4)]\n",
            "assert sort_tuple([(3, 9), (6, 7), (4, 3)] ) == [(4, 3), (6, 7), (3, 9)]\n",
            "Running Example: 487\n",
            "def area_pentagon(a):\n"
          ]
        },
        {
          "name": "stderr",
          "output_type": "stream",
          "text": [
            "Setting `pad_token_id` to `eos_token_id`:2 for open-end generation.\n"
          ]
        },
        {
          "name": "stdout",
          "output_type": "stream",
          "text": [
            "def area_pentagon(a):\n",
            "    return (5*a*a)/4\n",
            "assert area_pentagon(5)==43.01193501472417\n",
            "Code Failed Assertions\n",
            "Running Example: 488\n",
            "def frequency_Of_Largest(n,arr):\n"
          ]
        },
        {
          "name": "stderr",
          "output_type": "stream",
          "text": [
            "Setting `pad_token_id` to `eos_token_id`:2 for open-end generation.\n"
          ]
        },
        {
          "name": "stdout",
          "output_type": "stream",
          "text": [
            "def frequency_Of_Largest(n,arr):\n",
            "    # code here\n",
            "    arr.sort()\n",
            "    return arr[-1]\n",
            "assert frequency_Of_Largest(5,[1,2,3,4,4]) == 2\n",
            "Code Failed Assertions\n",
            "Running Example: 489\n",
            "def extract_symmetric(test_list):\n"
          ]
        },
        {
          "name": "stderr",
          "output_type": "stream",
          "text": [
            "Setting `pad_token_id` to `eos_token_id`:2 for open-end generation.\n"
          ]
        },
        {
          "name": "stdout",
          "output_type": "stream",
          "text": [
            "def extract_symmetric(test_list):\n",
            "    symmetric_pairs = []\n",
            "    for i in range(len(test_list)):\n",
            "        for j in range(i+1, len(test_list)):\n",
            "            if test_list[i] == test_list[j]:\n",
            "                symmetric_pairs.append((test_list[i], test_list[j]))\n",
            "    return symmetric_pairs\n",
            "assert extract_symmetric([(6, 7), (2, 3), (7, 6), (9, 8), (10, 2), (8, 9)] ) == {(8, 9), (6, 7)}\n",
            "Code Failed Assertions\n",
            "Running Example: 490\n",
            "def sum_gp(a,n,r):\n"
          ]
        },
        {
          "name": "stderr",
          "output_type": "stream",
          "text": [
            "Setting `pad_token_id` to `eos_token_id`:2 for open-end generation.\n"
          ]
        },
        {
          "name": "stdout",
          "output_type": "stream",
          "text": [
            "def sum_gp(a,n,r):\n",
            "    sum = 0\n",
            "    for i in range(n):\n",
            "        sum += a * (r**i)\n",
            "    return sum\n",
            "assert sum_gp(1,5,2)==31\n",
            "assert sum_gp(1,5,4)==341\n",
            "assert sum_gp(2,6,3)==728\n",
            "Running Example: 491\n",
            "def binary_search(item_list,item):\n"
          ]
        },
        {
          "name": "stderr",
          "output_type": "stream",
          "text": [
            "Setting `pad_token_id` to `eos_token_id`:2 for open-end generation.\n"
          ]
        },
        {
          "name": "stdout",
          "output_type": "stream",
          "text": [
            "def binary_search(item_list,item):\n",
            "    first = 0\n",
            "    last = len(item_list)-1\n",
            "    found = False\n",
            "    while( first<=last and not found):\n",
            "        mid = (first + last)//2\n",
            "        if item_list[mid] == item:\n",
            "            found = True\n",
            "        else:\n",
            "            if item < item_list[mid]:\n",
            "                last = mid -1\n",
            "            else:\n",
            "                first = mid + 1\n",
            "    return found\n",
            "assert binary_search([1,2,3,5,8], 6) == False\n",
            "assert binary_search([7, 8, 9, 10, 13], 10) == True\n",
            "assert binary_search([11, 13, 14, 19, 22, 36], 23) == False\n",
            "Running Example: 492\n",
            "def calculate_polygons(startx, starty, endx, endy, radius):\n"
          ]
        },
        {
          "name": "stderr",
          "output_type": "stream",
          "text": [
            "Setting `pad_token_id` to `eos_token_id`:2 for open-end generation.\n"
          ]
        },
        {
          "name": "stdout",
          "output_type": "stream",
          "text": [
            "def calculate_polygons(startx, starty, endx, endy, radius):\n",
            "    # Calculate the x and y coords for each point on the hexagon\n",
            "    xcoords = [startx + (i * radius * math.cos(math.radians(60))) for i in range(7)]\n",
            "    ycoords = [starty + (i * radius * math.sin(math.radians(60))) for i in range(7)]\n",
            "assert calculate_polygons(1,1, 4, 4, 3)==[[(-5.0, -4.196152422706632), (-5.0, -0.7320508075688767), (-2.0, 1.0), (1.0, -0.7320508075688767), (1.0, -4.196152422706632), (-2.0, -5.928203230275509), (-5.0, -4.196152422706632)], [(1.0, -4.196152422706632), (1.0, -0.7320508075688767), (4.0, 1.0), (7.0, -0.7320508075688767), (7.0, -4.196152422706632), (4.0, -5.928203230275509), (1.0, -4.196152422706632)], [(7.0, -4.196152422706632), (7.0, -0.7320508075688767), (10.0, 1.0), (13.0, -0.7320508075688767), (13.0, -4.196152422706632), (10.0, -5.928203230275509), (7.0, -4.196152422706632)], [(-2.0, 1.0000000000000004), (-2.0, 4.464101615137755), (1.0, 6.196152422706632), (4.0, 4.464101615137755), (4.0, 1.0000000000000004), (1.0, -0.7320508075688767), (-2.0, 1.0000000000000004)], [(4.0, 1.0000000000000004), (4.0, 4.464101615137755), (7.0, 6.196152422706632), (10.0, 4.464101615137755), (10.0, 1.0000000000000004), (7.0, -0.7320508075688767), (4.0, 1.0000000000000004)], [(-5.0, 6.196152422706632), (-5.0, 9.660254037844387), (-2.0, 11.392304845413264), (1.0, 9.660254037844387), (1.0, 6.196152422706632), (-2.0, 4.464101615137755), (-5.0, 6.196152422706632)], [(1.0, 6.196152422706632), (1.0, 9.660254037844387), (4.0, 11.392304845413264), (7.0, 9.660254037844387), (7.0, 6.196152422706632), (4.0, 4.464101615137755), (1.0, 6.196152422706632)], [(7.0, 6.196152422706632), (7.0, 9.660254037844387), (10.0, 11.392304845413264), (13.0, 9.660254037844387), (13.0, 6.196152422706632), (10.0, 4.464101615137755), (7.0, 6.196152422706632)], [(-2.0, 11.392304845413264), (-2.0, 14.85640646055102), (1.0, 16.588457268119896), (4.0, 14.85640646055102), (4.0, 11.392304845413264), (1.0, 9.660254037844387), (-2.0, 11.392304845413264)], [(4.0, 11.392304845413264), (4.0, 14.85640646055102), (7.0, 16.588457268119896), (10.0, 14.85640646055102), (10.0, 11.392304845413264), (7.0, 9.660254037844387), (4.0, 11.392304845413264)]]\n",
            "Code Failed Assertions\n",
            "Running Example: 493\n",
            "def binary_to_integer(test_tup):\n"
          ]
        },
        {
          "name": "stderr",
          "output_type": "stream",
          "text": [
            "Setting `pad_token_id` to `eos_token_id`:2 for open-end generation.\n"
          ]
        },
        {
          "name": "stdout",
          "output_type": "stream",
          "text": [
            "def binary_to_integer(test_tup):\n",
            "    return int(\"\".join(map(str, test_tup)), 2)\n",
            "assert binary_to_integer((1, 1, 0, 1, 0, 0, 1)) == '105'\n",
            "Code Failed Assertions\n",
            "Running Example: 494\n",
            "def remove_lowercase(str1):\n"
          ]
        },
        {
          "name": "stderr",
          "output_type": "stream",
          "text": [
            "Setting `pad_token_id` to `eos_token_id`:2 for open-end generation.\n"
          ]
        },
        {
          "name": "stdout",
          "output_type": "stream",
          "text": [
            "def remove_lowercase(str1):\n",
            "    return re.sub(r'[a-z]+', '', str1)\n",
            "assert remove_lowercase('KDeoALOklOOHserfLoAJSIskdsf') == 'KDALOOOHLAJSI'\n",
            "assert remove_lowercase('ProducTnamEstreAmIngMediAplAYer') == 'PTEAIMAAY'\n",
            "assert remove_lowercase('maNufacTuredbYSheZenTechNolOGIes') == 'NTYSZTNOGI'\n",
            "Running Example: 495\n",
            "def heap_queue_smallest(nums,n):\n"
          ]
        },
        {
          "name": "stderr",
          "output_type": "stream",
          "text": [
            "Setting `pad_token_id` to `eos_token_id`:2 for open-end generation.\n"
          ]
        },
        {
          "name": "stdout",
          "output_type": "stream",
          "text": [
            "def heap_queue_smallest(nums,n):\n",
            "    heap = []\n",
            "    for i in range(n):\n",
            "        heapq.heappush(heap,nums[i])\n",
            "    for i in range(n-1):\n",
            "        heapq.heappop(heap)\n",
            "    return heapq.heappop(heap)\n",
            "assert heap_queue_smallest( [25, 35, 22, 85, 14, 65, 75, 25, 58],3)==[14, 22, 25] \n",
            "Code Failed Assertions\n",
            "Running Example: 496\n",
            "def surfacearea_cone(r,h):\n"
          ]
        },
        {
          "name": "stderr",
          "output_type": "stream",
          "text": [
            "Setting `pad_token_id` to `eos_token_id`:2 for open-end generation.\n"
          ]
        },
        {
          "name": "stdout",
          "output_type": "stream",
          "text": [
            "def surfacearea_cone(r,h):\n",
            "    return (3.14*r*r+3.14*r*h)/2\n",
            "assert surfacearea_cone(5,12)==282.7433388230814\n",
            "Code Failed Assertions\n",
            "Running Example: 497\n",
            "def gcd(x, y):\n"
          ]
        },
        {
          "name": "stderr",
          "output_type": "stream",
          "text": [
            "Setting `pad_token_id` to `eos_token_id`:2 for open-end generation.\n"
          ]
        },
        {
          "name": "stdout",
          "output_type": "stream",
          "text": [
            "def gcd(x, y):\n",
            "    while(y):\n",
            "        x, y = y, x % y\n",
            "    return x\n",
            "assert gcd(12, 17) == 1\n",
            "assert gcd(4,6) == 2\n",
            "assert gcd(2,9) == 1\n",
            "Running Example: 498\n",
            "def diameter_circle(r):\n"
          ]
        },
        {
          "name": "stderr",
          "output_type": "stream",
          "text": [
            "Setting `pad_token_id` to `eos_token_id`:2 for open-end generation.\n"
          ]
        },
        {
          "name": "stdout",
          "output_type": "stream",
          "text": [
            "def diameter_circle(r):\n",
            "    return 2*r\n",
            "assert diameter_circle(10)==20\n",
            "assert diameter_circle(40)==80\n",
            "assert diameter_circle(15)==30\n",
            "Running Example: 499\n",
            "def concatenate_elements(list):\n"
          ]
        },
        {
          "name": "stderr",
          "output_type": "stream",
          "text": [
            "Setting `pad_token_id` to `eos_token_id`:2 for open-end generation.\n"
          ]
        },
        {
          "name": "stdout",
          "output_type": "stream",
          "text": [
            "def concatenate_elements(list):\n",
            "    return ''.join(list)\n",
            "assert concatenate_elements(['hello','there','have','a','rocky','day'] ) == '  hello there have a rocky day'\n",
            "Code Failed Assertions\n",
            "Running Example: 500\n",
            "def ngcd(x,y):\n"
          ]
        },
        {
          "name": "stderr",
          "output_type": "stream",
          "text": [
            "Setting `pad_token_id` to `eos_token_id`:2 for open-end generation.\n"
          ]
        },
        {
          "name": "stdout",
          "output_type": "stream",
          "text": [
            "def ngcd(x,y):\n",
            "    if x == 0:\n",
            "        return y\n",
            "    elif y == 0:\n",
            "        return x\n",
            "    elif x%y == 0:\n",
            "        return y\n",
            "    elif y%x == 0:\n",
            "        return x\n",
            "    else:\n",
            "        if x > y:\n",
            "            return ngcd(x-y,y)\n",
            "        else:\n",
            "            return ngcd(x,y-x)\n",
            "assert num_comm_div(2,4) == 2\n",
            "Code Failed Assertionsname 'num_comm_div' is not defined\n",
            "Running Example: 501\n",
            "def find(n,m):\n"
          ]
        },
        {
          "name": "stderr",
          "output_type": "stream",
          "text": [
            "Setting `pad_token_id` to `eos_token_id`:2 for open-end generation.\n"
          ]
        },
        {
          "name": "stdout",
          "output_type": "stream",
          "text": [
            "def find(n,m):\n",
            "    if n<m:\n",
            "        return n\n",
            "    else:\n",
            "        return find(n-m,m)\n",
            "assert find(3,3) == 0\n",
            "assert find(10,3) == 1\n",
            "assert find(16,5) == 1\n",
            "Running Example: 502\n",
            "def add_consecutive_nums(nums):\n"
          ]
        },
        {
          "name": "stderr",
          "output_type": "stream",
          "text": [
            "Setting `pad_token_id` to `eos_token_id`:2 for open-end generation.\n"
          ]
        },
        {
          "name": "stdout",
          "output_type": "stream",
          "text": [
            "def add_consecutive_nums(nums):\n",
            "    new_nums = []\n",
            "    for i in range(len(nums)):\n",
            "        if i == 0:\n",
            "            new_nums.append(nums[i])\n",
            "        else:\n",
            "            new_nums.append(nums[i] + nums[i-1])\n",
            "    return new_nums\n",
            "assert add_consecutive_nums([1, 1, 3, 4, 4, 5, 6, 7])==[2, 4, 7, 8, 9, 11, 13]\n",
            "Code Failed Assertions\n",
            "Running Example: 503\n",
            "def sum_Of_Series(n):\n"
          ]
        },
        {
          "name": "stderr",
          "output_type": "stream",
          "text": [
            "Setting `pad_token_id` to `eos_token_id`:2 for open-end generation.\n"
          ]
        },
        {
          "name": "stdout",
          "output_type": "stream",
          "text": [
            "def sum_Of_Series(n):\n",
            "    sum = 0\n",
            "    for i in range(1,n+1):\n",
            "        sum = sum + i**3\n",
            "    return sum\n",
            "assert sum_Of_Series(5) == 225\n",
            "assert sum_Of_Series(2) == 9\n",
            "assert sum_Of_Series(3) == 36\n",
            "Running Example: 504\n",
            "def re_order(A):\n"
          ]
        },
        {
          "name": "stderr",
          "output_type": "stream",
          "text": [
            "Setting `pad_token_id` to `eos_token_id`:2 for open-end generation.\n"
          ]
        },
        {
          "name": "stdout",
          "output_type": "stream",
          "text": [
            "def re_order(A):\n",
            "    # Write your code here\n",
            "    count = 0\n",
            "    for i in range(len(A)):\n",
            "        if A[i] == 0:\n",
            "            count += 1\n",
            "    for i in range(count):\n",
            "        A.append(0)\n",
            "    for i in range(len(A)-count):\n",
            "        A[i] = A[i+count]\n",
            "    for i in range(len(A)-count):\n",
            "        if A[i] == 0:\n",
            "            A[i] = A[i+1]\n",
            "            A[i+1] = 0\n",
            "    return A\n",
            "assert re_order([6, 0, 8, 2, 3, 0, 4, 0, 1]) == [6, 8, 2, 3, 4, 1, 0, 0, 0]\n",
            "Code Failed Assertions\n",
            "Running Example: 505\n",
            "def permutation_coefficient(n, k):\n"
          ]
        },
        {
          "name": "stderr",
          "output_type": "stream",
          "text": [
            "Setting `pad_token_id` to `eos_token_id`:2 for open-end generation.\n"
          ]
        },
        {
          "name": "stdout",
          "output_type": "stream",
          "text": [
            "def permutation_coefficient(n, k):\n",
            "    if k > n:\n",
            "        return 0\n",
            "    if k == n:\n",
            "        return 1\n",
            "    if k == 0:\n",
            "        return 1\n",
            "    return permutation_coefficient(n - 1, k) + permutation_coefficient(n - 1, k - 1)\n",
            "assert permutation_coefficient(10, 2) == 90\n",
            "Code Failed Assertions\n",
            "Running Example: 506\n",
            "def remove_words(list1, removewords):\n"
          ]
        },
        {
          "name": "stderr",
          "output_type": "stream",
          "text": [
            "Setting `pad_token_id` to `eos_token_id`:2 for open-end generation.\n"
          ]
        },
        {
          "name": "stdout",
          "output_type": "stream",
          "text": [
            "def remove_words(list1, removewords):\n",
            "    for word in removewords:\n",
            "        if word in list1:\n",
            "            list1.remove(word)\n",
            "    return list1\n",
            "assert remove_words(['red', 'green', 'blue', 'white', 'black', 'orange'],['white', 'orange'])==['red', 'green', 'blue', 'black']\n",
            "assert remove_words(['red', 'green', 'blue', 'white', 'black', 'orange'],['black', 'orange'])==['red', 'green', 'blue', 'white']\n",
            "assert remove_words(['red', 'green', 'blue', 'white', 'black', 'orange'],['blue', 'white'])==['red', 'green', 'black', 'orange']\n",
            "Running Example: 507\n",
            "def same_order(l1, l2):\n"
          ]
        },
        {
          "name": "stderr",
          "output_type": "stream",
          "text": [
            "Setting `pad_token_id` to `eos_token_id`:2 for open-end generation.\n"
          ]
        },
        {
          "name": "stdout",
          "output_type": "stream",
          "text": [
            "def same_order(l1, l2):\n",
            "    if len(l1)!= len(l2):\n",
            "        return False\n",
            "    for i in range(len(l1)):\n",
            "        if l1[i]!= l2[i]:\n",
            "            return False\n",
            "    return True\n",
            "assert same_order([\"red\",\"green\",\"black\",\"orange\"],[\"red\",\"pink\",\"green\",\"white\",\"black\"])==True\n",
            "Code Failed Assertions\n",
            "Running Example: 508\n",
            "def average_Odd(n) :\n"
          ]
        },
        {
          "name": "stderr",
          "output_type": "stream",
          "text": [
            "Setting `pad_token_id` to `eos_token_id`:2 for open-end generation.\n"
          ]
        },
        {
          "name": "stdout",
          "output_type": "stream",
          "text": [
            "def average_Odd(n) :\n",
            "    sum = 0\n",
            "    for i in range(1, n+1, 2) :\n",
            "        sum = sum + i\n",
            "    return sum / n\n",
            "assert average_Odd(9) == 5\n",
            "Code Failed Assertions\n",
            "Running Example: 509\n",
            "def no_of_subsequences(arr, k):\n"
          ]
        },
        {
          "name": "stderr",
          "output_type": "stream",
          "text": [
            "Setting `pad_token_id` to `eos_token_id`:2 for open-end generation.\n"
          ]
        },
        {
          "name": "stdout",
          "output_type": "stream",
          "text": [
            "None\n",
            "Code Didn't Run\n",
            "Errorexec() arg 1 must be a string, bytes or code object\n",
            "Running Example: 510\n",
            "def find_Min_Sum(num):\n"
          ]
        },
        {
          "name": "stderr",
          "output_type": "stream",
          "text": [
            "Setting `pad_token_id` to `eos_token_id`:2 for open-end generation.\n"
          ]
        },
        {
          "name": "stdout",
          "output_type": "stream",
          "text": [
            "def find_Min_Sum(num):\n",
            "    sum = 0\n",
            "    for i in range(1, num):\n",
            "        if num % i == 0:\n",
            "            sum += i\n",
            "    return sum\n",
            "assert find_Min_Sum(12) == 7\n",
            "Code Failed Assertions\n",
            "Running Example: 511\n",
            "def flatten(test_tuple):\n"
          ]
        },
        {
          "name": "stderr",
          "output_type": "stream",
          "text": [
            "Setting `pad_token_id` to `eos_token_id`:2 for open-end generation.\n"
          ]
        },
        {
          "name": "stdout",
          "output_type": "stream",
          "text": [
            "def flatten(test_tuple):\n",
            "    flatten_list = []\n",
            "    for i in test_tuple:\n",
            "        if isinstance(i, tuple):\n",
            "            flatten_list.extend(flatten(i))\n",
            "        else:\n",
            "            flatten_list.append(i)\n",
            "    return flatten_list\n",
            "assert count_element_freq((5, 6, (5, 6), 7, (8, 9), 9) ) == {5: 2, 6: 2, 7: 1, 8: 1, 9: 2}\n",
            "Code Failed Assertionsname 'count_element_freq' is not defined\n",
            "Running Example: 512\n",
            "def add_str(test_tup, K):\n"
          ]
        },
        {
          "name": "stderr",
          "output_type": "stream",
          "text": [
            "Setting `pad_token_id` to `eos_token_id`:2 for open-end generation.\n"
          ]
        },
        {
          "name": "stdout",
          "output_type": "stream",
          "text": [
            "def add_str(test_tup, K):\n",
            "    # Code here\n",
            "    return list(map(lambda x: x+K, test_tup))\n",
            "assert add_str((5, 6, 7, 4, 9) , \"FDF\") == [5, 'FDF', 6, 'FDF', 7, 'FDF', 4, 'FDF', 9, 'FDF']\n",
            "Code Failed Assertionsunsupported operand type(s) for +: 'int' and 'str'\n",
            "Running Example: 513\n",
            "def sum_elements(test_tup):\n"
          ]
        },
        {
          "name": "stderr",
          "output_type": "stream",
          "text": [
            "Setting `pad_token_id` to `eos_token_id`:2 for open-end generation.\n"
          ]
        },
        {
          "name": "stdout",
          "output_type": "stream",
          "text": [
            "def sum_elements(test_tup):\n",
            "    sum = 0\n",
            "    for i in test_tup:\n",
            "        sum += i\n",
            "    return sum\n",
            "assert sum_elements((7, 8, 9, 1, 10, 7)) == 42\n",
            "assert sum_elements((1, 2, 3, 4, 5, 6)) == 21\n",
            "assert sum_elements((11, 12 ,13 ,45, 14)) == 95\n",
            "Running Example: 514\n",
            "def modular_sum(arr, n, m):\n"
          ]
        },
        {
          "name": "stderr",
          "output_type": "stream",
          "text": [
            "Setting `pad_token_id` to `eos_token_id`:2 for open-end generation.\n"
          ]
        },
        {
          "name": "stdout",
          "output_type": "stream",
          "text": [
            "def modular_sum(arr, n, m):\n",
            "    # Initialize the dp table\n",
            "    dp = [False] * (m + 1)\n",
            "    dp[0] = True\n",
            "assert modular_sum([3, 1, 7, 5], 4, 6) == True\n",
            "Code Failed Assertions\n",
            "Running Example: 515\n",
            "def radix_sort(nums):\n"
          ]
        },
        {
          "name": "stderr",
          "output_type": "stream",
          "text": [
            "Setting `pad_token_id` to `eos_token_id`:2 for open-end generation.\n"
          ]
        },
        {
          "name": "stdout",
          "output_type": "stream",
          "text": [
            "def radix_sort(nums):\n",
            "    # Find the maximum number to know the number of digits.\n",
            "    max_num = max(nums)\n",
            "assert radix_sort([15, 79, 25, 68, 37]) == [15, 25, 37, 68, 79]\n",
            "Code Failed Assertions\n",
            "Running Example: 516\n",
            "def largest_pos(list1):\n"
          ]
        },
        {
          "name": "stderr",
          "output_type": "stream",
          "text": [
            "Setting `pad_token_id` to `eos_token_id`:2 for open-end generation.\n"
          ]
        },
        {
          "name": "stdout",
          "output_type": "stream",
          "text": [
            "def largest_pos(list1):\n",
            "    largest = list1[0]\n",
            "    for num in list1:\n",
            "        if num > largest:\n",
            "            largest = num\n",
            "    return largest\n",
            "assert largest_pos([1,2,3,4,-1]) == 4\n",
            "assert largest_pos([0,1,2,-5,-1,6]) == 6\n",
            "assert largest_pos([0,0,1,0]) == 1\n",
            "Running Example: 517\n",
            "def sqrt_root(num):\n"
          ]
        },
        {
          "name": "stderr",
          "output_type": "stream",
          "text": [
            "Setting `pad_token_id` to `eos_token_id`:2 for open-end generation.\n"
          ]
        },
        {
          "name": "stdout",
          "output_type": "stream",
          "text": [
            "def sqrt_root(num):\n",
            "    if num == 1:\n",
            "        return 1\n",
            "    else:\n",
            "        return sqrt_root(num - 1) + sqrt_root(num - 1)\n",
            "assert sqrt_root(4)==2\n",
            "Code Failed Assertions\n",
            "Running Example: 518\n",
            "def volume_tetrahedron(num):\n"
          ]
        },
        {
          "name": "stderr",
          "output_type": "stream",
          "text": [
            "Setting `pad_token_id` to `eos_token_id`:2 for open-end generation.\n"
          ]
        },
        {
          "name": "stdout",
          "output_type": "stream",
          "text": [
            "def volume_tetrahedron(num):\n",
            "    return (num * (num + 1) * (2 * num + 1)) / 6\n",
            "assert volume_tetrahedron(10)==117.85\n",
            "Code Failed Assertions\n",
            "Running Example: 519\n",
            "def find_lcm(num1, num2):\n"
          ]
        },
        {
          "name": "stderr",
          "output_type": "stream",
          "text": [
            "Setting `pad_token_id` to `eos_token_id`:2 for open-end generation.\n"
          ]
        },
        {
          "name": "stdout",
          "output_type": "stream",
          "text": [
            "def find_lcm(num1, num2):\n",
            "    if num1 > num2:\n",
            "        num1 = num1\n",
            "        num2 = num2\n",
            "    else:\n",
            "        num1 = num2\n",
            "        num2 = num1\n",
            "    while True:\n",
            "        if (num1 * num2) % num1 == 0:\n",
            "            LCM = num1 * num2\n",
            "            break\n",
            "        num1 = num1 + 1\n",
            "    return LCM\n",
            "assert get_lcm([2, 7, 3, 9, 4]) == 252\n",
            "Code Failed Assertionsname 'get_lcm' is not defined\n",
            "Running Example: 520\n",
            "def check_isosceles(x,y,z):\n"
          ]
        },
        {
          "name": "stderr",
          "output_type": "stream",
          "text": [
            "Setting `pad_token_id` to `eos_token_id`:2 for open-end generation.\n"
          ]
        },
        {
          "name": "stdout",
          "output_type": "stream",
          "text": [
            "def check_isosceles(x,y,z):\n",
            "    if x == y or x == z or y == z:\n",
            "        return True\n",
            "    else:\n",
            "        return False\n",
            "assert check_isosceles(6,8,12)==True\n",
            "Code Failed Assertions\n",
            "Running Example: 521\n",
            "def lbs(arr):\n"
          ]
        },
        {
          "name": "stderr",
          "output_type": "stream",
          "text": [
            "Setting `pad_token_id` to `eos_token_id`:2 for open-end generation.\n"
          ]
        },
        {
          "name": "stdout",
          "output_type": "stream",
          "text": [
            "def lbs(arr):\n",
            "    n = len(arr)\n",
            "    l = [1]*n\n",
            "    r = [1]*n\n",
            "    max_len = 1\n",
            "    for i in range(1,n):\n",
            "        if arr[i] > arr[i-1]:\n",
            "            l[i] = l[i-1]+1\n",
            "        max_len = max(max_len,l[i])\n",
            "    for i in range(n-2,-1,-1):\n",
            "        if arr[i] > arr[i+1]:\n",
            "            r[i] = r[i+1]+1\n",
            "    for i in range(n):\n",
            "        max_len = max(max_len,min(l[i],r[i]))\n",
            "    return max_len\n",
            "assert lbs([0 , 8 , 4, 12, 2, 10 , 6 , 14 , 1 , 9 , 5 , 13, 3, 11 , 7 , 15]) == 7\n",
            "Code Failed Assertions\n",
            "Running Example: 522\n",
            "def check_string(str1):\n"
          ]
        },
        {
          "name": "stderr",
          "output_type": "stream",
          "text": [
            "Setting `pad_token_id` to `eos_token_id`:2 for open-end generation.\n"
          ]
        },
        {
          "name": "stdout",
          "output_type": "stream",
          "text": [
            "def check_string(str1):\n",
            "    return lambda str1: len(str1) > 6 and str1.isalnum() and any(x.isupper() for x in str1) and any(x.islower() for x in str1)\n",
            "assert check_string('python')==['String must have 1 upper case character.', 'String must have 1 number.', 'String length should be atleast 8.']\n",
            "Code Failed Assertions\n",
            "Running Example: 523\n",
            "def max_sum_increasing_subsequence(arr, n):\n"
          ]
        },
        {
          "name": "stderr",
          "output_type": "stream",
          "text": [
            "Setting `pad_token_id` to `eos_token_id`:2 for open-end generation.\n"
          ]
        },
        {
          "name": "stdout",
          "output_type": "stream",
          "text": [
            "def max_sum_increasing_subsequence(arr, n):\n",
            "    max_sum = 0\n",
            "    dp = [0] * n\n",
            "    dp[0] = arr[0]\n",
            "    for i in range(1, n):\n",
            "        dp[i] = arr[i]\n",
            "        for j in range(i):\n",
            "            if arr[j] < arr[i] and dp[i] < dp[j] + arr[i]:\n",
            "                dp[i] = dp[j] + arr[i]\n",
            "        max_sum = max(max_sum, dp[i])\n",
            "    return max_sum\n",
            "assert max_sum_increasing_subsequence([1, 101, 2, 3, 100, 4, 5], 7) == 106\n",
            "assert max_sum_increasing_subsequence([3, 4, 5, 10], 4) == 22\n",
            "assert max_sum_increasing_subsequence([10, 5, 4, 3], 4) == 10\n",
            "Code Failed Assertions\n",
            "Running Example: 524\n",
            "def parallel_lines(line1, line2):\n"
          ]
        },
        {
          "name": "stderr",
          "output_type": "stream",
          "text": [
            "Setting `pad_token_id` to `eos_token_id`:2 for open-end generation.\n"
          ]
        },
        {
          "name": "stdout",
          "output_type": "stream",
          "text": [
            "def parallel_lines(line1, line2):\n",
            "    x1, y1 = line1[0]\n",
            "    x2, y2 = line1[1]\n",
            "    x3, y3 = line2[0]\n",
            "    x4, y4 = line2[1]\n",
            "    if (x2 - x1) * (y4 - y3) == (y2 - y1) * (x4 - x3):\n",
            "        return True\n",
            "    else:\n",
            "        return False\n",
            "assert parallel_lines([2,3,4], [2,3,8]) == True\n",
            "Code Failed Assertionscannot unpack non-iterable int object\n",
            "Running Example: 525\n",
            "def capitalize_first_last_letters(str1):\n"
          ]
        },
        {
          "name": "stderr",
          "output_type": "stream",
          "text": [
            "Setting `pad_token_id` to `eos_token_id`:2 for open-end generation.\n"
          ]
        },
        {
          "name": "stdout",
          "output_type": "stream",
          "text": [
            "def capitalize_first_last_letters(str1):\n",
            "    str1 = str1.split()\n",
            "    str1 = [i[0].upper() + i[1:] for i in str1]\n",
            "    str1 =''.join(str1)\n",
            "    return str1\n",
            "assert capitalize_first_last_letters(\"python\") == \"PythoN\"\n",
            "Code Failed Assertions\n",
            "Running Example: 526\n",
            "def get_pairs_count(arr, n, sum):\n"
          ]
        },
        {
          "name": "stderr",
          "output_type": "stream",
          "text": [
            "Setting `pad_token_id` to `eos_token_id`:2 for open-end generation.\n"
          ]
        },
        {
          "name": "stdout",
          "output_type": "stream",
          "text": [
            "def get_pairs_count(arr, n, sum):\n",
            "    # Initialize result\n",
            "    count = 0\n",
            "    # Create an empty hash table\n",
            "    hash_table = {}\n",
            "    # Traverse through all elements and add key-value pair to hash table\n",
            "    for i in range(0, n):\n",
            "        if arr[i] in hash_table:\n",
            "            count += hash_table[arr[i]]\n",
            "        hash_table[sum - arr[i]] = hash_table.get(sum - arr[i], 0) + 1\n",
            "    return count\n",
            "assert get_pairs_count([1, 5, 7, -1, 5], 5, 6) == 3\n",
            "assert get_pairs_count([1, 5, 7, -1], 4, 6) == 2\n",
            "assert get_pairs_count([1, 1, 1, 1], 4, 2) == 6\n",
            "Running Example: 527\n",
            "def min_length(list1):\n"
          ]
        },
        {
          "name": "stderr",
          "output_type": "stream",
          "text": [
            "Setting `pad_token_id` to `eos_token_id`:2 for open-end generation.\n"
          ]
        },
        {
          "name": "stdout",
          "output_type": "stream",
          "text": [
            "def min_length(list1):\n",
            "    min_length = len(list1[0])\n",
            "    for i in range(len(list1)):\n",
            "        if len(list1[i]) < min_length:\n",
            "            min_length = len(list1[i])\n",
            "    return min_length\n",
            "assert min_length([[0], [1, 3], [5, 7], [9, 11], [13, 15, 17]])==(1, [0])\n",
            "Code Failed Assertions\n",
            "Running Example: 528\n",
            "def jacobsthal_lucas(n):\n"
          ]
        },
        {
          "name": "stderr",
          "output_type": "stream",
          "text": [
            "Setting `pad_token_id` to `eos_token_id`:2 for open-end generation.\n"
          ]
        },
        {
          "name": "stdout",
          "output_type": "stream",
          "text": [
            "def jacobsthal_lucas(n):\n",
            "    if n == 0:\n",
            "        return 2\n",
            "    elif n == 1:\n",
            "        return 1\n",
            "    else:\n",
            "        return jacobsthal_lucas(n-1) + jacobsthal_lucas(n-2)\n",
            "assert jacobsthal_lucas(5) == 31\n",
            "Code Failed Assertions\n",
            "Running Example: 529\n",
            "def negative_count(nums):\n"
          ]
        },
        {
          "name": "stderr",
          "output_type": "stream",
          "text": [
            "Setting `pad_token_id` to `eos_token_id`:2 for open-end generation.\n"
          ]
        },
        {
          "name": "stdout",
          "output_type": "stream",
          "text": [
            "def negative_count(nums):\n",
            "    negative_count = 0\n",
            "    for i in nums:\n",
            "        if i < 0:\n",
            "            negative_count += 1\n",
            "    return negative_count / len(nums)\n",
            "assert negative_count([0, 1, 2, -1, -5, 6, 0, -3, -2, 3, 4, 6, 8])==0.31\n",
            "Code Failed Assertions\n",
            "Running Example: 530\n",
            "def min_coins(coins, m, V):\n"
          ]
        },
        {
          "name": "stderr",
          "output_type": "stream",
          "text": [
            "Setting `pad_token_id` to `eos_token_id`:2 for open-end generation.\n"
          ]
        },
        {
          "name": "stdout",
          "output_type": "stream",
          "text": [
            "def min_coins(coins, m, V):\n",
            "    # Initialize the table\n",
            "    table = [[0 for _ in range(V+1)] for _ in range(m+1)]\n",
            "assert min_coins([9, 6, 5, 1] ,4,11)==2\n",
            "Code Failed Assertions\n",
            "Running Example: 531\n",
            "def check_permutation(str1, str2):\n"
          ]
        },
        {
          "name": "stderr",
          "output_type": "stream",
          "text": [
            "Setting `pad_token_id` to `eos_token_id`:2 for open-end generation.\n"
          ]
        },
        {
          "name": "stdout",
          "output_type": "stream",
          "text": [
            "def check_permutation(str1, str2):\n",
            "    if len(str1)!= len(str2):\n",
            "        return False\n",
            "    else:\n",
            "        str1 = str1.lower()\n",
            "        str2 = str2.lower()\n",
            "        str1 = str1.replace(\" \", \"\")\n",
            "        str2 = str2.replace(\" \", \"\")\n",
            "        str1 = sorted(str1)\n",
            "        str2 = sorted(str2)\n",
            "        if str1 == str2:\n",
            "            return True\n",
            "        else:\n",
            "            return False\n",
            "assert check_permutation(\"abc\", \"cba\") == True\n",
            "assert check_permutation(\"test\", \"ttew\") == False\n",
            "assert check_permutation(\"xxyz\", \"yxzx\") == True\n",
            "Running Example: 532\n",
            "def remove_datatype(test_tuple, data_type):\n"
          ]
        },
        {
          "name": "stderr",
          "output_type": "stream",
          "text": [
            "Setting `pad_token_id` to `eos_token_id`:2 for open-end generation.\n"
          ]
        },
        {
          "name": "stdout",
          "output_type": "stream",
          "text": [
            "def remove_datatype(test_tuple, data_type):\n",
            "    new_tuple = ()\n",
            "    for i in test_tuple:\n",
            "        if type(i)!= data_type:\n",
            "            new_tuple += (i,)\n",
            "    return new_tuple\n",
            "assert remove_datatype((4, 5, 4, 7.7, 1.2), int) == [7.7, 1.2]\n",
            "Code Failed Assertions\n",
            "Running Example: 533\n",
            "def search_literal(pattern,text):\n"
          ]
        },
        {
          "name": "stderr",
          "output_type": "stream",
          "text": [
            "Setting `pad_token_id` to `eos_token_id`:2 for open-end generation.\n"
          ]
        },
        {
          "name": "stdout",
          "output_type": "stream",
          "text": [
            "def search_literal(pattern,text):\n",
            "    #print(pattern)\n",
            "    #print(text)\n",
            "    #print(len(pattern))\n",
            "    #print(len(text))\n",
            "    #print(text[0:len(pattern)])\n",
            "    if pattern == text[0:len(pattern)]:\n",
            "        return True\n",
            "    else:\n",
            "        return False\n",
            "assert search_literal('python','python programming language')==(0,6)\n",
            "Code Failed Assertions\n",
            "Running Example: 534\n",
            "def topbottom_surfacearea(r):\n"
          ]
        },
        {
          "name": "stderr",
          "output_type": "stream",
          "text": [
            "Setting `pad_token_id` to `eos_token_id`:2 for open-end generation.\n"
          ]
        },
        {
          "name": "stdout",
          "output_type": "stream",
          "text": [
            "def topbottom_surfacearea(r):\n",
            "    return 2*math.pi*r*r\n",
            "assert topbottom_surfacearea(10)==314.15000000000003\n",
            "Code Failed Assertions\n",
            "Running Example: 535\n",
            "def nth_items(list,n):\n"
          ]
        },
        {
          "name": "stderr",
          "output_type": "stream",
          "text": [
            "Setting `pad_token_id` to `eos_token_id`:2 for open-end generation.\n"
          ]
        },
        {
          "name": "stdout",
          "output_type": "stream",
          "text": [
            "def nth_items(list,n):\n",
            "    return list[n-1::n]\n",
            "assert nth_items([1, 2, 3, 4, 5, 6, 7, 8, 9],2)==[1, 3, 5, 7, 9] \n",
            "Code Failed Assertions\n",
            "Running Example: 536\n",
            "def first_repeated_word(str1):\n"
          ]
        },
        {
          "name": "stderr",
          "output_type": "stream",
          "text": [
            "Setting `pad_token_id` to `eos_token_id`:2 for open-end generation.\n"
          ]
        },
        {
          "name": "stdout",
          "output_type": "stream",
          "text": [
            "None\n",
            "Code Didn't Run\n",
            "Errorexec() arg 1 must be a string, bytes or code object\n",
            "Running Example: 537\n",
            "def string_list_to_tuple(str1):\n"
          ]
        },
        {
          "name": "stderr",
          "output_type": "stream",
          "text": [
            "Setting `pad_token_id` to `eos_token_id`:2 for open-end generation.\n"
          ]
        },
        {
          "name": "stdout",
          "output_type": "stream",
          "text": [
            "def string_list_to_tuple(str1):\n",
            "    return tuple(str1)\n",
            "assert string_list_to_tuple((\"python 3.0\")) == ('p', 'y', 't', 'h', 'o', 'n', '3', '.', '0')\n",
            "Code Failed Assertions\n",
            "Running Example: 538\n",
            "def basesnum_coresspondingnum(bases_num,index):\n"
          ]
        },
        {
          "name": "stderr",
          "output_type": "stream",
          "text": [
            "Setting `pad_token_id` to `eos_token_id`:2 for open-end generation.\n"
          ]
        },
        {
          "name": "stdout",
          "output_type": "stream",
          "text": [
            "def basesnum_coresspondingnum(bases_num,index):\n",
            "    return bases_num**index\n",
            "assert basesnum_coresspondingnum([10, 20, 30, 40, 50, 60, 70, 80, 90, 100],[1, 2, 3, 4, 5, 6, 7, 8, 9, 10])==[10, 400, 27000, 2560000, 312500000, 46656000000, 8235430000000, 1677721600000000, 387420489000000000, 100000000000000000000]\n",
            "Code Failed Assertionsunsupported operand type(s) for ** or pow(): 'list' and 'list'\n",
            "Running Example: 539\n",
            "def find_Diff(arr,n):\n"
          ]
        },
        {
          "name": "stderr",
          "output_type": "stream",
          "text": [
            "Setting `pad_token_id` to `eos_token_id`:2 for open-end generation.\n"
          ]
        },
        {
          "name": "stdout",
          "output_type": "stream",
          "text": [
            "def find_Diff(arr,n):\n",
            "    # code here\n",
            "    arr.sort()\n",
            "    return arr[n-1]-arr[0]\n",
            "assert find_Diff([1,1,2,2,7,8,4,5,1,4],10) == 2\n",
            "Code Failed Assertions\n",
            "Running Example: 540\n",
            "def get_sum(n):\n"
          ]
        },
        {
          "name": "stderr",
          "output_type": "stream",
          "text": [
            "Setting `pad_token_id` to `eos_token_id`:2 for open-end generation.\n"
          ]
        },
        {
          "name": "stdout",
          "output_type": "stream",
          "text": [
            "def get_sum(n):\n",
            "    sum = 0\n",
            "    for i in range(1, n):\n",
            "        if n % i == 0:\n",
            "            sum += i\n",
            "    return sum\n",
            "assert check_abundant(12) == True\n",
            "Code Failed Assertionsname 'check_abundant' is not defined\n",
            "Running Example: 541\n",
            "def fill_spaces(text):\n"
          ]
        },
        {
          "name": "stderr",
          "output_type": "stream",
          "text": [
            "Setting `pad_token_id` to `eos_token_id`:2 for open-end generation.\n"
          ]
        },
        {
          "name": "stdout",
          "output_type": "stream",
          "text": [
            "def fill_spaces(text):\n",
            "    return re.sub(r'[,.]', ':', text)\n",
            "assert fill_spaces('Boult Curve Wireless Neckband') == 'Boult:Curve:Wireless:Neckband'\n",
            "Code Failed Assertions\n",
            "Running Example: 542\n",
            "def count_digits(num1,num2):\n"
          ]
        },
        {
          "name": "stderr",
          "output_type": "stream",
          "text": [
            "Setting `pad_token_id` to `eos_token_id`:2 for open-end generation.\n"
          ]
        },
        {
          "name": "stdout",
          "output_type": "stream",
          "text": [
            "def count_digits(num1,num2):\n",
            "    sum = num1 + num2\n",
            "    count = 0\n",
            "    while sum > 0:\n",
            "        count += 1\n",
            "        sum = sum // 10\n",
            "    return count\n",
            "assert count_digits(9875,10)==(4)\n",
            "assert count_digits(98759853034,100)==(11)\n",
            "assert count_digits(1234567,500)==(7)\n",
            "Running Example: 543\n",
            "def flatten_tuple(test_list):\n"
          ]
        },
        {
          "name": "stderr",
          "output_type": "stream",
          "text": [
            "Setting `pad_token_id` to `eos_token_id`:2 for open-end generation.\n"
          ]
        },
        {
          "name": "stdout",
          "output_type": "stream",
          "text": [
            "def flatten_tuple(test_list):\n",
            "    # Initialize an empty string\n",
            "    flattened_string = \"\"\n",
            "    # Iterate through the list\n",
            "    for item in test_list:\n",
            "        # If the item is a tuple, iterate through the tuple\n",
            "        if type(item) == tuple:\n",
            "            for subitem in item:\n",
            "                # Add the subitem to the flattened string\n",
            "                flattened_string += str(subitem)\n",
            "        # If the item is not a tuple, add it to the flattened string\n",
            "        else:\n",
            "            flattened_string += str(item)\n",
            "    # Return the flattened string\n",
            "    return flattened_string\n",
            "assert flatten_tuple([('1', '4', '6'), ('5', '8'), ('2', '9'), ('1', '10')]) == '1 4 6 5 8 2 9 1 10'\n",
            "Code Failed Assertions\n",
            "Running Example: 544\n",
            "def take_L_and_F_set_bits(n) :\n"
          ]
        },
        {
          "name": "stderr",
          "output_type": "stream",
          "text": [
            "Setting `pad_token_id` to `eos_token_id`:2 for open-end generation.\n"
          ]
        },
        {
          "name": "stdout",
          "output_type": "stream",
          "text": [
            "def take_L_and_F_set_bits(n) :\n",
            "    return (n & 1) + ((n & 2) << 1) + ((n & 4) << 2) + ((n & 8) << 3) + ((n & 16) << 4) + ((n & 32) << 5) + ((n & 64) << 6) + ((n & 128) << 7)\n",
            "assert toggle_F_and_L_bits(10) == 3\n",
            "Code Failed Assertionsname 'toggle_F_and_L_bits' is not defined\n",
            "Running Example: 545\n",
            "def last_occurence_char(string,char):\n"
          ]
        },
        {
          "name": "stderr",
          "output_type": "stream",
          "text": [
            "Setting `pad_token_id` to `eos_token_id`:2 for open-end generation.\n"
          ]
        },
        {
          "name": "stdout",
          "output_type": "stream",
          "text": [
            "def last_occurence_char(string,char):\n",
            "    last_index = -1\n",
            "    for i in range(len(string)):\n",
            "        if string[i] == char:\n",
            "            last_index = i\n",
            "    return last_index\n",
            "assert last_occurence_char(\"hello world\",'l')==10\n",
            "Code Failed Assertions\n",
            "Running Example: 546\n",
            "def Total_Hamming_Distance(n):\n"
          ]
        },
        {
          "name": "stderr",
          "output_type": "stream",
          "text": [
            "Setting `pad_token_id` to `eos_token_id`:2 for open-end generation.\n"
          ]
        },
        {
          "name": "stdout",
          "output_type": "stream",
          "text": [
            "def Total_Hamming_Distance(n):\n",
            "    total = 0\n",
            "    for i in range(n+1):\n",
            "        total += Hamming_Distance(i,i+1)\n",
            "    return total\n",
            "assert Total_Hamming_Distance(4) == 7\n",
            "Code Failed Assertionsname 'Hamming_Distance' is not defined\n",
            "Running Example: 547\n",
            "def longest_increasing_subsequence(arr):\n"
          ]
        },
        {
          "name": "stderr",
          "output_type": "stream",
          "text": [
            "Setting `pad_token_id` to `eos_token_id`:2 for open-end generation.\n"
          ]
        },
        {
          "name": "stdout",
          "output_type": "stream",
          "text": [
            "def longest_increasing_subsequence(arr):\n",
            "    n = len(arr)\n",
            "    # Declare the list for LIS and initialize LIS\n",
            "    # values for all indexes\n",
            "    lis = [1]*n\n",
            "assert longest_increasing_subsequence([10, 22, 9, 33, 21, 50, 41, 60]) == 5\n",
            "Code Failed Assertions\n",
            "Running Example: 548\n",
            "def odd_Num_Sum(n) :\n"
          ]
        },
        {
          "name": "stderr",
          "output_type": "stream",
          "text": [
            "Setting `pad_token_id` to `eos_token_id`:2 for open-end generation.\n"
          ]
        },
        {
          "name": "stdout",
          "output_type": "stream",
          "text": [
            "def odd_Num_Sum(n) :\n",
            "    sum = 0\n",
            "    for i in range(1,n+1,2) :\n",
            "        sum = sum + i*i*i*i*i\n",
            "    return sum\n",
            "assert odd_Num_Sum(1) == 1\n",
            "assert odd_Num_Sum(2) == 244\n",
            "Code Failed Assertions\n",
            "Running Example: 549\n",
            "def find_Max(arr,low,high):\n"
          ]
        },
        {
          "name": "stderr",
          "output_type": "stream",
          "text": [
            "Setting `pad_token_id` to `eos_token_id`:2 for open-end generation.\n"
          ]
        },
        {
          "name": "stdout",
          "output_type": "stream",
          "text": [
            "def find_Max(arr,low,high):\n",
            "    if low == high:\n",
            "        return arr[low]\n",
            "    if low+1 == high:\n",
            "        return max(arr[low],arr[high])\n",
            "    mid = (low+high)//2\n",
            "    if arr[mid] > arr[mid+1]:\n",
            "        return arr[mid]\n",
            "    elif arr[mid] < arr[mid+1]:\n",
            "        return find_Max(arr,mid+1,high)\n",
            "    else:\n",
            "        return find_Max(arr,low,mid)\n",
            "assert find_Max([2,3,5,6,9],0,4) == 9\n",
            "assert find_Max([3,4,5,2,1],0,4) == 5\n",
            "assert find_Max([1,2,3],0,2) == 3\n",
            "Running Example: 550\n",
            "def extract_column(list1, n):\n"
          ]
        },
        {
          "name": "stderr",
          "output_type": "stream",
          "text": [
            "Setting `pad_token_id` to `eos_token_id`:2 for open-end generation.\n"
          ]
        },
        {
          "name": "stdout",
          "output_type": "stream",
          "text": [
            "def extract_column(list1, n):\n",
            "    return [row[n] for row in list1]\n",
            "assert extract_column([[1, 2, 3], [2, 4, 5], [1, 1, 1]],0)==[1, 2, 1]\n",
            "assert extract_column([[1, 2, 3], [-2, 4, -5], [1, -1, 1]],2)==[3, -5, 1]\n",
            "assert extract_column([[1, 3], [5, 7], [1, 3], [13, 15, 17], [5, 7], [9, 11]],0)==[1, 5, 1, 13, 5, 9]\n",
            "Running Example: 551\n",
            "def Seq_Linear(seq_nums):\n"
          ]
        },
        {
          "name": "stderr",
          "output_type": "stream",
          "text": [
            "Setting `pad_token_id` to `eos_token_id`:2 for open-end generation.\n"
          ]
        },
        {
          "name": "stdout",
          "output_type": "stream",
          "text": [
            "def Seq_Linear(seq_nums):\n",
            "    for i in range(len(seq_nums)-1):\n",
            "        if seq_nums[i+1]-seq_nums[i]!= 1:\n",
            "            return False\n",
            "    return True\n",
            "assert Seq_Linear([0,2,4,6,8,10]) == \"Linear Sequence\"\n",
            "Code Failed Assertions\n",
            "Running Example: 552\n",
            "def tuple_to_float(test_tup):\n"
          ]
        },
        {
          "name": "stderr",
          "output_type": "stream",
          "text": [
            "Setting `pad_token_id` to `eos_token_id`:2 for open-end generation.\n"
          ]
        },
        {
          "name": "stdout",
          "output_type": "stream",
          "text": [
            "def tuple_to_float(test_tup):\n",
            "    return float(test_tup[0])\n",
            "assert tuple_to_float((4, 56)) == 4.56\n",
            "Code Failed Assertions\n",
            "Running Example: 553\n",
            "def Split(list):\n"
          ]
        },
        {
          "name": "stderr",
          "output_type": "stream",
          "text": [
            "Setting `pad_token_id` to `eos_token_id`:2 for open-end generation.\n"
          ]
        },
        {
          "name": "stdout",
          "output_type": "stream",
          "text": [
            "def Split(list):\n",
            "    odd = []\n",
            "    even = []\n",
            "    for i in list:\n",
            "        if i % 2 == 0:\n",
            "            even.append(i)\n",
            "        else:\n",
            "            odd.append(i)\n",
            "    return odd, even\n",
            "assert Split([1,2,3,4,5,6]) == [1,3,5]\n",
            "Code Failed Assertions\n",
            "Running Example: 554\n",
            "def difference(n) :\n"
          ]
        },
        {
          "name": "stderr",
          "output_type": "stream",
          "text": [
            "Setting `pad_token_id` to `eos_token_id`:2 for open-end generation.\n"
          ]
        },
        {
          "name": "stdout",
          "output_type": "stream",
          "text": [
            "def difference(n) :\n",
            "    sum1 = 0\n",
            "    sum2 = 0\n",
            "    for i in range(1,n+1) :\n",
            "        sum1 += i**3\n",
            "        sum2 += i\n",
            "    return sum1 - sum2\n",
            "assert difference(3) == 30\n",
            "assert difference(5) == 210\n",
            "assert difference(2) == 6\n",
            "Running Example: 555\n",
            "def find_Odd_Pair(A,N) :\n"
          ]
        },
        {
          "name": "stderr",
          "output_type": "stream",
          "text": [
            "Setting `pad_token_id` to `eos_token_id`:2 for open-end generation.\n"
          ]
        },
        {
          "name": "stdout",
          "output_type": "stream",
          "text": [
            "def find_Odd_Pair(A,N) :\n",
            "    # code here\n",
            "    count = 0\n",
            "    for i in range(N) :\n",
            "        for j in range(i + 1, N) :\n",
            "            if (A[i] ^ A[j]) & 1 :\n",
            "                count += 1\n",
            "    return count\n",
            "assert find_Odd_Pair([5,4,7,2,1],5) == 6\n",
            "assert find_Odd_Pair([7,2,8,1,0,5,11],7) == 12\n",
            "assert find_Odd_Pair([1,2,3],3) == 2\n",
            "Running Example: 556\n",
            "def toggle_string(string):\n"
          ]
        },
        {
          "name": "stderr",
          "output_type": "stream",
          "text": [
            "Setting `pad_token_id` to `eos_token_id`:2 for open-end generation.\n"
          ]
        },
        {
          "name": "stdout",
          "output_type": "stream",
          "text": [
            "def toggle_string(string):\n",
            "    new_string = \"\"\n",
            "    for char in string:\n",
            "        if char.isupper():\n",
            "            new_string += char.lower()\n",
            "        else:\n",
            "            new_string += char.upper()\n",
            "    return new_string\n",
            "assert toggle_string(\"Python\")==(\"pYTHON\")\n",
            "assert toggle_string(\"Pangram\")==(\"pANGRAM\")\n",
            "assert toggle_string(\"LIttLE\")==(\"liTTle\")\n",
            "Running Example: 557\n",
            "def digit_distance_nums(n1, n2):\n"
          ]
        },
        {
          "name": "stderr",
          "output_type": "stream",
          "text": [
            "Setting `pad_token_id` to `eos_token_id`:2 for open-end generation.\n"
          ]
        },
        {
          "name": "stdout",
          "output_type": "stream",
          "text": [
            "def digit_distance_nums(n1, n2):\n",
            "    n1 = str(n1)\n",
            "    n2 = str(n2)\n",
            "    n1 = n1.replace('0', '')\n",
            "    n2 = n2.replace('0', '')\n",
            "    if len(n1) > len(n2):\n",
            "        n2 = n2.zfill(len(n1))\n",
            "    elif len(n1) < len(n2):\n",
            "        n1 = n1.zfill(len(n2))\n",
            "    return sum(abs(int(n1[i]) - int(n2[i])) for i in range(len(n1)))\n",
            "assert digit_distance_nums(1,2) == 1\n",
            "Code Failed Assertionssum() missing 1 required positional argument: 'b'\n",
            "Running Example: 558\n",
            "def max_sub_array_sum(a, size):\n"
          ]
        },
        {
          "name": "stderr",
          "output_type": "stream",
          "text": [
            "Setting `pad_token_id` to `eos_token_id`:2 for open-end generation.\n"
          ]
        },
        {
          "name": "stdout",
          "output_type": "stream",
          "text": [
            "def max_sub_array_sum(a, size):\n",
            "    max_so_far = a[0]\n",
            "    curr_max = a[0]\n",
            "assert max_sub_array_sum([-2, -3, 4, -1, -2, 1, 5, -3], 8) == 7\n",
            "Code Failed Assertions\n",
            "Running Example: 559\n",
            "def union_elements(test_tup1, test_tup2):\n"
          ]
        },
        {
          "name": "stderr",
          "output_type": "stream",
          "text": [
            "Setting `pad_token_id` to `eos_token_id`:2 for open-end generation.\n"
          ]
        },
        {
          "name": "stdout",
          "output_type": "stream",
          "text": [
            "def union_elements(test_tup1, test_tup2):\n",
            "    # Create a set from the first tuple\n",
            "    set1 = set(test_tup1)\n",
            "    # Create a set from the second tuple\n",
            "    set2 = set(test_tup2)\n",
            "    # Combine the two sets\n",
            "    union_set = set1.union(set2)\n",
            "    # Convert the combined set to a tuple\n",
            "    union_tup = tuple(union_set)\n",
            "    # Return the tuple\n",
            "    return union_tup\n",
            "assert union_elements((3, 4, 5, 6),(5, 7, 4, 10) ) == (3, 4, 5, 6, 7, 10)\n",
            "assert union_elements((1, 2, 3, 4),(3, 4, 5, 6) ) == (1, 2, 3, 4, 5, 6)\n",
            "assert union_elements((11, 12, 13, 14),(13, 15, 16, 17) ) == (11, 12, 13, 14, 15, 16, 17)\n",
            "Running Example: 560\n",
            "def assign_elements(test_list):\n"
          ]
        },
        {
          "name": "stderr",
          "output_type": "stream",
          "text": [
            "Setting `pad_token_id` to `eos_token_id`:2 for open-end generation.\n"
          ]
        },
        {
          "name": "stdout",
          "output_type": "stream",
          "text": [
            "None\n",
            "Code Didn't Run\n",
            "Errorexec() arg 1 must be a string, bytes or code object\n",
            "Running Example: 561\n",
            "def Find_Max_Length(lst):\n"
          ]
        },
        {
          "name": "stderr",
          "output_type": "stream",
          "text": [
            "Setting `pad_token_id` to `eos_token_id`:2 for open-end generation.\n"
          ]
        },
        {
          "name": "stdout",
          "output_type": "stream",
          "text": [
            "def Find_Max_Length(lst):\n",
            "    max_length = 0\n",
            "    for i in range(len(lst)):\n",
            "        current_length = 0\n",
            "        for j in range(i, len(lst)):\n",
            "            if lst[j] == 1:\n",
            "                current_length += 1\n",
            "            else:\n",
            "                break\n",
            "        max_length = max(max_length, current_length)\n",
            "    return max_length\n",
            "assert Find_Max_Length([[1],[1,4],[5,6,7,8]]) == 4\n",
            "Code Failed Assertions\n",
            "Running Example: 562\n",
            "def extract_values(text):\n"
          ]
        },
        {
          "name": "stderr",
          "output_type": "stream",
          "text": [
            "Setting `pad_token_id` to `eos_token_id`:2 for open-end generation.\n"
          ]
        },
        {
          "name": "stdout",
          "output_type": "stream",
          "text": [
            "def extract_values(text):\n",
            "    values = []\n",
            "    for i in range(len(text)):\n",
            "        if text[i] == '\"':\n",
            "            values.append(text[i+1])\n",
            "    return values\n",
            "assert extract_values('\"Python\", \"PHP\", \"Java\"')==['Python', 'PHP', 'Java']\n",
            "Code Failed Assertionsstring index out of range\n",
            "Running Example: 563\n",
            "def count_Pairs(arr,n):\n"
          ]
        },
        {
          "name": "stderr",
          "output_type": "stream",
          "text": [
            "Setting `pad_token_id` to `eos_token_id`:2 for open-end generation.\n"
          ]
        },
        {
          "name": "stdout",
          "output_type": "stream",
          "text": [
            "def count_Pairs(arr,n):\n",
            "    count = 0\n",
            "    for i in range(n):\n",
            "        for j in range(i+1,n):\n",
            "            if arr[i]!=arr[j]:\n",
            "                count+=1\n",
            "    return count\n",
            "assert count_Pairs([1,2,1],3) == 2\n",
            "assert count_Pairs([1,1,1,1],4) == 0\n",
            "assert count_Pairs([1,2,3,4,5],5) == 10\n",
            "Running Example: 564\n",
            "def split(word):\n"
          ]
        },
        {
          "name": "stderr",
          "output_type": "stream",
          "text": [
            "Setting `pad_token_id` to `eos_token_id`:2 for open-end generation.\n"
          ]
        },
        {
          "name": "stdout",
          "output_type": "stream",
          "text": [
            "def split(word):\n",
            "    return [char for char in word]\n",
            "assert split('python') == ['p','y','t','h','o','n']\n",
            "assert split('Name') == ['N','a','m','e']\n",
            "assert split('program') == ['p','r','o','g','r','a','m']\n",
            "Running Example: 565\n",
            "def sum_digits(n):\n"
          ]
        },
        {
          "name": "stderr",
          "output_type": "stream",
          "text": [
            "Setting `pad_token_id` to `eos_token_id`:2 for open-end generation.\n"
          ]
        },
        {
          "name": "stdout",
          "output_type": "stream",
          "text": [
            "def sum_digits(n):\n",
            "    if n == 0:\n",
            "        return 0\n",
            "    else:\n",
            "        return n % 10 + sum_digits(n // 10)\n",
            "assert sum_digits(345)==12\n",
            "assert sum_digits(12)==3\n",
            "assert sum_digits(97)==16\n",
            "Running Example: 566\n",
            "def issort_list(list1):\n"
          ]
        },
        {
          "name": "stderr",
          "output_type": "stream",
          "text": [
            "Setting `pad_token_id` to `eos_token_id`:2 for open-end generation.\n"
          ]
        },
        {
          "name": "stdout",
          "output_type": "stream",
          "text": [
            "def issort_list(list1):\n",
            "    for i in range(len(list1)-1):\n",
            "        if list1[i]>list1[i+1]:\n",
            "            return False\n",
            "    return True\n",
            "assert issort_list([1,2,4,6,8,10,12,14,16,17])==True\n",
            "assert issort_list([1, 2, 4, 6, 8, 10, 12, 14, 20, 17])==False\n",
            "assert issort_list([1, 2, 4, 6, 8, 10,15,14,20])==False\n",
            "Running Example: 567\n",
            "def empty_list(length):\n"
          ]
        },
        {
          "name": "stderr",
          "output_type": "stream",
          "text": [
            "Setting `pad_token_id` to `eos_token_id`:2 for open-end generation.\n"
          ]
        },
        {
          "name": "stdout",
          "output_type": "stream",
          "text": [
            "def empty_list(length):\n",
            "    empty_list = []\n",
            "    for i in range(length):\n",
            "        empty_list.append({})\n",
            "    return empty_list\n",
            "assert empty_list(5)==[{},{},{},{},{}]\n",
            "assert empty_list(6)==[{},{},{},{},{},{}]\n",
            "assert empty_list(7)==[{},{},{},{},{},{},{}]\n",
            "Running Example: 568\n",
            "def sort_sublists(list1):\n"
          ]
        },
        {
          "name": "stderr",
          "output_type": "stream",
          "text": [
            "Setting `pad_token_id` to `eos_token_id`:2 for open-end generation.\n"
          ]
        },
        {
          "name": "stdout",
          "output_type": "stream",
          "text": [
            "def sort_sublists(list1):\n",
            "    for i in range(len(list1)):\n",
            "        list1[i].sort()\n",
            "    return list1\n",
            "assert sort_sublists([['green', 'orange'], ['black', 'white'], ['white', 'black', 'orange']])==[['green', 'orange'], ['black', 'white'], ['black', 'orange', 'white']]\n",
            "assert sort_sublists([['green', 'orange'], ['black'], ['green', 'orange'], ['white']])==[['green', 'orange'], ['black'], ['green', 'orange'], ['white']]\n",
            "assert sort_sublists([['a','b'],['d','c'],['g','h'] , ['f','e']])==[['a', 'b'], ['c', 'd'], ['g', 'h'], ['e', 'f']]\n",
            "Running Example: 569\n",
            "def remove_words(list1, charlist):\n"
          ]
        },
        {
          "name": "stderr",
          "output_type": "stream",
          "text": [
            "Setting `pad_token_id` to `eos_token_id`:2 for open-end generation.\n"
          ]
        },
        {
          "name": "stdout",
          "output_type": "stream",
          "text": [
            "def remove_words(list1, charlist):\n",
            "    for i in range(len(list1)):\n",
            "        for j in range(len(charlist)):\n",
            "            list1[i] = list1[i].replace(charlist[j], \"\")\n",
            "    return list1\n",
            "assert remove_words(['Red color', 'Orange#', 'Green', 'Orange @', \"White\"],['#', 'color', '@'])==['Red', '', 'Green', 'Orange', 'White']\n",
            "Code Failed Assertions\n",
            "Running Example: 570\n",
            "def max_sum_pair_diff_lessthan_K(arr, N, K):\n"
          ]
        },
        {
          "name": "stderr",
          "output_type": "stream",
          "text": [
            "Setting `pad_token_id` to `eos_token_id`:2 for open-end generation.\n"
          ]
        },
        {
          "name": "stdout",
          "output_type": "stream",
          "text": [
            "def max_sum_pair_diff_lessthan_K(arr, N, K):\n",
            "    arr.sort()\n",
            "    max_sum = 0\n",
            "    for i in range(N):\n",
            "        for j in range(i+1, N):\n",
            "            if arr[i] - arr[j] < K:\n",
            "                max_sum = max(max_sum, arr[i] + arr[j])\n",
            "    return max_sum\n",
            "assert max_sum_pair_diff_lessthan_K([3, 5, 10, 15, 17, 12, 9], 7, 4) == 62\n",
            "Code Failed Assertions\n",
            "Running Example: 571\n",
            "def two_unique_nums(nums):\n"
          ]
        },
        {
          "name": "stderr",
          "output_type": "stream",
          "text": [
            "Setting `pad_token_id` to `eos_token_id`:2 for open-end generation.\n"
          ]
        },
        {
          "name": "stdout",
          "output_type": "stream",
          "text": [
            "def two_unique_nums(nums):\n",
            "    # Write your code here\n",
            "    nums.sort()\n",
            "    for i in range(len(nums)-1):\n",
            "        if nums[i] == nums[i+1]:\n",
            "            nums.remove(nums[i])\n",
            "            nums.remove(nums[i])\n",
            "    return nums\n",
            "assert two_unique_nums([1,2,3,2,3,4,5]) == [1, 4, 5]\n",
            "Code Failed Assertionslist index out of range\n",
            "Running Example: 572\n",
            "def unique_product(list_data):\n"
          ]
        },
        {
          "name": "stderr",
          "output_type": "stream",
          "text": [
            "Setting `pad_token_id` to `eos_token_id`:2 for open-end generation.\n"
          ]
        },
        {
          "name": "stdout",
          "output_type": "stream",
          "text": [
            "def unique_product(list_data):\n",
            "    unique_list = []\n",
            "    for i in list_data:\n",
            "        if i not in unique_list:\n",
            "            unique_list.append(i)\n",
            "    product = 1\n",
            "    for i in unique_list:\n",
            "        product *= i\n",
            "    return product\n",
            "assert unique_product([10, 20, 30, 40, 20, 50, 60, 40]) ==  720000000\n",
            "assert unique_product([1, 2, 3, 1,]) == 6\n",
            "assert unique_product([7, 8, 9, 0, 1, 1]) == 0\n",
            "Running Example: 573\n",
            "def surfacearea_cylinder(r,h):\n"
          ]
        },
        {
          "name": "stderr",
          "output_type": "stream",
          "text": [
            "Setting `pad_token_id` to `eos_token_id`:2 for open-end generation.\n"
          ]
        },
        {
          "name": "stdout",
          "output_type": "stream",
          "text": [
            "def surfacearea_cylinder(r,h):\n",
            "    return 2*3.14*r*h + 2*3.14*r*r\n",
            "assert surfacearea_cylinder(10,5)==942.45\n",
            "Code Failed Assertions\n",
            "Running Example: 574\n",
            "def count_no (A,N,L,R):\n"
          ]
        },
        {
          "name": "stderr",
          "output_type": "stream",
          "text": [
            "Setting `pad_token_id` to `eos_token_id`:2 for open-end generation.\n"
          ]
        },
        {
          "name": "stdout",
          "output_type": "stream",
          "text": [
            "def count_no (A,N,L,R):\n",
            "    if L>R:\n",
            "        return -1\n",
            "    mid = (L+R)//2\n",
            "    if A[mid]%N==0:\n",
            "        return count_no(A,N,mid+1,R)\n",
            "    else:\n",
            "        return count_no(A,N,L,mid-1)\n",
            "assert count_no(2,3,1,10) == 5\n",
            "Code Failed Assertions'int' object is not subscriptable\n",
            "Running Example: 575\n",
            "def is_Sub_Array(A,B,n,m):\n"
          ]
        },
        {
          "name": "stderr",
          "output_type": "stream",
          "text": [
            "Setting `pad_token_id` to `eos_token_id`:2 for open-end generation.\n"
          ]
        },
        {
          "name": "stdout",
          "output_type": "stream",
          "text": [
            "def is_Sub_Array(A,B,n,m):\n",
            "    i=0\n",
            "    j=0\n",
            "    while i<n and j<m:\n",
            "        if A[i]==B[j]:\n",
            "            j+=1\n",
            "        i+=1\n",
            "    if j==m:\n",
            "        return True\n",
            "    return False\n",
            "assert is_Sub_Array([1,4,3,5],[1,2],4,2) == False\n",
            "assert is_Sub_Array([1,2,1],[1,2,1],3,3) == True\n",
            "assert is_Sub_Array([1,0,2,2],[2,2,0],4,3) ==False\n",
            "Running Example: 576\n",
            "def last_Digit_Factorial(n):\n"
          ]
        },
        {
          "name": "stderr",
          "output_type": "stream",
          "text": [
            "Setting `pad_token_id` to `eos_token_id`:2 for open-end generation.\n"
          ]
        },
        {
          "name": "stdout",
          "output_type": "stream",
          "text": [
            "def last_Digit_Factorial(n):\n",
            "    if n == 0:\n",
            "        return 1\n",
            "    else:\n",
            "        return (n%10)*factorial(n//10)\n",
            "assert last_Digit_Factorial(4) == 4\n",
            "Code Failed Assertionsname 'factorial' is not defined\n",
            "Running Example: 577\n",
            "def interleave_lists(list1,list2,list3):\n"
          ]
        },
        {
          "name": "stderr",
          "output_type": "stream",
          "text": [
            "Setting `pad_token_id` to `eos_token_id`:2 for open-end generation.\n"
          ]
        },
        {
          "name": "stdout",
          "output_type": "stream",
          "text": [
            "def interleave_lists(list1,list2,list3):\n",
            "    interleaved_list = []\n",
            "    for i in range(len(list1)):\n",
            "        interleaved_list.append(list1[i])\n",
            "        interleaved_list.append(list2[i])\n",
            "        interleaved_list.append(list3[i])\n",
            "    return interleaved_list\n",
            "assert interleave_lists([1,2,3,4,5,6,7],[10,20,30,40,50,60,70],[100,200,300,400,500,600,700])==[1, 10, 100, 2, 20, 200, 3, 30, 300, 4, 40, 400, 5, 50, 500, 6, 60, 600, 7, 70, 700]\n",
            "assert interleave_lists([10,20],[15,2],[5,10])==[10,15,5,20,2,10]\n",
            "assert interleave_lists([11,44], [10,15], [20,5])==[11,10,20,44,15,5]\n",
            "Running Example: 578\n",
            "def find_dissimilar(test_tup1, test_tup2):\n"
          ]
        },
        {
          "name": "stderr",
          "output_type": "stream",
          "text": [
            "Setting `pad_token_id` to `eos_token_id`:2 for open-end generation.\n"
          ]
        },
        {
          "name": "stdout",
          "output_type": "stream",
          "text": [
            "def find_dissimilar(test_tup1, test_tup2):\n",
            "    dissimilar_elements = []\n",
            "    for i in test_tup1:\n",
            "        if i not in test_tup2:\n",
            "            dissimilar_elements.append(i)\n",
            "    return dissimilar_elements\n",
            "assert find_dissimilar((3, 4, 5, 6), (5, 7, 4, 10)) == (3, 6, 7, 10)\n",
            "Code Failed Assertions\n",
            "Running Example: 579\n",
            "def even_ele(test_tuple, even_fnc):\n"
          ]
        },
        {
          "name": "stderr",
          "output_type": "stream",
          "text": [
            "Setting `pad_token_id` to `eos_token_id`:2 for open-end generation.\n"
          ]
        },
        {
          "name": "stdout",
          "output_type": "stream",
          "text": [
            "def even_ele(test_tuple, even_fnc):\n",
            "    for i in test_tuple:\n",
            "        if type(i) == tuple:\n",
            "            even_fnc(i)\n",
            "        else:\n",
            "            print(i)\n",
            "assert extract_even((4, 5, (7, 6, (2, 4)), 6, 8)) == (4, (6, (2, 4)), 6, 8)\n",
            "Code Failed Assertionsname 'extract_even' is not defined\n",
            "Running Example: 580\n",
            "def surface_Area(b,s):\n"
          ]
        },
        {
          "name": "stderr",
          "output_type": "stream",
          "text": [
            "Setting `pad_token_id` to `eos_token_id`:2 for open-end generation.\n"
          ]
        },
        {
          "name": "stdout",
          "output_type": "stream",
          "text": [
            "def surface_Area(b,s):\n",
            "    return (b*b*s)/3\n",
            "assert surface_Area(3,4) == 33\n",
            "Code Failed Assertions\n",
            "Running Example: 581\n",
            "def my_dict(dict1):\n"
          ]
        },
        {
          "name": "stderr",
          "output_type": "stream",
          "text": [
            "Setting `pad_token_id` to `eos_token_id`:2 for open-end generation.\n"
          ]
        },
        {
          "name": "stdout",
          "output_type": "stream",
          "text": [
            "def my_dict(dict1):\n",
            "    if dict1 == {}:\n",
            "        return True\n",
            "    else:\n",
            "        return False\n",
            "assert my_dict({10})==False\n",
            "assert my_dict({11})==False\n",
            "assert my_dict({})==True\n",
            "Running Example: 582\n",
            "def catalan_number(num):\n"
          ]
        },
        {
          "name": "stderr",
          "output_type": "stream",
          "text": [
            "Setting `pad_token_id` to `eos_token_id`:2 for open-end generation.\n"
          ]
        },
        {
          "name": "stdout",
          "output_type": "stream",
          "text": [
            "def catalan_number(num):\n",
            "    if num == 0:\n",
            "        return 1\n",
            "    if num == 1:\n",
            "        return 1\n",
            "    return catalan_number(num - 1) * (2 * num - 2) / (num)\n",
            "assert catalan_number(10)==16796\n",
            "Code Failed Assertions\n",
            "Running Example: 583\n",
            "def find_adverbs(text):\n"
          ]
        },
        {
          "name": "stderr",
          "output_type": "stream",
          "text": [
            "Setting `pad_token_id` to `eos_token_id`:2 for open-end generation.\n"
          ]
        },
        {
          "name": "stdout",
          "output_type": "stream",
          "text": [
            "None\n",
            "Code Didn't Run\n",
            "Errorexec() arg 1 must be a string, bytes or code object\n",
            "Running Example: 584\n",
            "def expensive_items(items,n):\n"
          ]
        },
        {
          "name": "stderr",
          "output_type": "stream",
          "text": [
            "Setting `pad_token_id` to `eos_token_id`:2 for open-end generation.\n"
          ]
        },
        {
          "name": "stdout",
          "output_type": "stream",
          "text": [
            "def expensive_items(items,n):\n",
            "    heap = []\n",
            "    for item in items:\n",
            "        if len(heap) < n:\n",
            "            heapq.heappush(heap,item)\n",
            "        else:\n",
            "            if item > heap[0]:\n",
            "                heapq.heappop(heap)\n",
            "                heapq.heappush(heap,item)\n",
            "    return heap\n",
            "assert expensive_items([{'name': 'Item-1', 'price': 101.1},{'name': 'Item-2', 'price': 555.22}],1)==[{'name': 'Item-2', 'price': 555.22}]\n",
            "Code Failed Assertions'>' not supported between instances of 'dict' and 'dict'\n",
            "Running Example: 585\n",
            "def split_Arr(a,n,k):\n"
          ]
        },
        {
          "name": "stderr",
          "output_type": "stream",
          "text": [
            "Setting `pad_token_id` to `eos_token_id`:2 for open-end generation.\n"
          ]
        },
        {
          "name": "stdout",
          "output_type": "stream",
          "text": [
            "def split_Arr(a,n,k):\n",
            "    # code goes here \n",
            "    return a[k:]+a[:k]\n",
            "assert split_Arr([12,10,5,6,52,36],6,2) == [5,6,52,36,12,10]\n",
            "assert split_Arr([1,2,3,4],4,1) == [2,3,4,1]\n",
            "assert split_Arr([0,1,2,3,4,5,6,7],8,3) == [3,4,5,6,7,0,1,2]\n",
            "Running Example: 586\n",
            "def list_tuple(listx):\n"
          ]
        },
        {
          "name": "stderr",
          "output_type": "stream",
          "text": [
            "Setting `pad_token_id` to `eos_token_id`:2 for open-end generation.\n"
          ]
        },
        {
          "name": "stdout",
          "output_type": "stream",
          "text": [
            "def list_tuple(listx):\n",
            "    return tuple(listx)\n",
            "assert list_tuple([5, 10, 7, 4, 15, 3])==(5, 10, 7, 4, 15, 3)\n",
            "assert list_tuple([2, 4, 5, 6, 2, 3, 4, 4, 7])==(2, 4, 5, 6, 2, 3, 4, 4, 7)\n",
            "assert list_tuple([58,44,56])==(58,44,56)\n",
            "Running Example: 587\n",
            "def big_diff(nums):\n"
          ]
        },
        {
          "name": "stderr",
          "output_type": "stream",
          "text": [
            "Setting `pad_token_id` to `eos_token_id`:2 for open-end generation.\n"
          ]
        },
        {
          "name": "stdout",
          "output_type": "stream",
          "text": [
            "def big_diff(nums):\n",
            "    return max(nums) - min(nums)\n",
            "assert big_diff([1,2,3,4]) == 3\n",
            "assert big_diff([4,5,12]) == 8\n",
            "assert big_diff([9,2,3]) == 7\n",
            "Running Example: 588\n",
            "def perfect_squares(a, b):\n"
          ]
        },
        {
          "name": "stderr",
          "output_type": "stream",
          "text": [
            "Setting `pad_token_id` to `eos_token_id`:2 for open-end generation.\n"
          ]
        },
        {
          "name": "stdout",
          "output_type": "stream",
          "text": [
            "def perfect_squares(a, b):\n",
            "    # Write your code here\n",
            "    for i in range(a, b+1):\n",
            "        if i**0.5 == int(i**0.5):\n",
            "            print(i, end=\" \")\n",
            "assert perfect_squares(1,30)==[1, 4, 9, 16, 25]\n",
            "1 4 9 16 25 Code Failed Assertions\n",
            "Running Example: 589\n",
            "def polar_rect(x,y):\n"
          ]
        },
        {
          "name": "stderr",
          "output_type": "stream",
          "text": [
            "Setting `pad_token_id` to `eos_token_id`:2 for open-end generation.\n"
          ]
        },
        {
          "name": "stdout",
          "output_type": "stream",
          "text": [
            "def polar_rect(x,y):\n",
            "    return x*np.cos(y), x*np.sin(y)\n",
            "assert polar_rect(3,4)==((5.0, 0.9272952180016122), (-2+2.4492935982947064e-16j))\n",
            "Code Failed AssertionsThe truth value of an array with more than one element is ambiguous. Use a.any() or a.all()\n",
            "Running Example: 590\n",
            "def swap_List(newList):\n"
          ]
        },
        {
          "name": "stderr",
          "output_type": "stream",
          "text": [
            "Setting `pad_token_id` to `eos_token_id`:2 for open-end generation.\n"
          ]
        },
        {
          "name": "stdout",
          "output_type": "stream",
          "text": [
            "def swap_List(newList):\n",
            "    newList[0], newList[-1] = newList[-1], newList[0]\n",
            "    return newList\n",
            "assert swap_List([12, 35, 9, 56, 24]) == [24, 35, 9, 56, 12]\n",
            "assert swap_List([1, 2, 3]) == [3, 2, 1]\n",
            "assert swap_List([4, 5, 6]) == [6, 5, 4]\n",
            "Running Example: 591\n",
            "def binomial_Coeff(n,k):\n"
          ]
        },
        {
          "name": "stderr",
          "output_type": "stream",
          "text": [
            "Setting `pad_token_id` to `eos_token_id`:2 for open-end generation.\n"
          ]
        },
        {
          "name": "stdout",
          "output_type": "stream",
          "text": [
            "def binomial_Coeff(n,k):\n",
            "    if k==0 or k==n:\n",
            "        return 1\n",
            "    else:\n",
            "        return (binomial_Coeff(n-1,k-1)+binomial_Coeff(n-1,k))\n",
            "assert sum_Of_product(3) == 15\n",
            "Code Failed Assertionsname 'sum_Of_product' is not defined\n",
            "Running Example: 592\n",
            "def removezero_ip(ip):\n"
          ]
        },
        {
          "name": "stderr",
          "output_type": "stream",
          "text": [
            "Setting `pad_token_id` to `eos_token_id`:2 for open-end generation.\n"
          ]
        },
        {
          "name": "stdout",
          "output_type": "stream",
          "text": [
            "def removezero_ip(ip):\n",
            "    ip = ip.split('.')\n",
            "    for i in range(len(ip)):\n",
            "        ip[i] = ip[i].lstrip('0')\n",
            "    return '.'.join(ip)\n",
            "assert removezero_ip(\"216.08.094.196\")==('216.8.94.196') \n",
            "assert removezero_ip(\"12.01.024\")==('12.1.24') \n",
            "assert removezero_ip(\"216.08.094.0196\")==('216.8.94.196') \n",
            "Running Example: 593\n",
            "def diff_even_odd(list1):\n"
          ]
        },
        {
          "name": "stderr",
          "output_type": "stream",
          "text": [
            "Setting `pad_token_id` to `eos_token_id`:2 for open-end generation.\n"
          ]
        },
        {
          "name": "stdout",
          "output_type": "stream",
          "text": [
            "def diff_even_odd(list1):\n",
            "    even_list = []\n",
            "    odd_list = []\n",
            "    for i in list1:\n",
            "        if i%2 == 0:\n",
            "            even_list.append(i)\n",
            "        else:\n",
            "            odd_list.append(i)\n",
            "    return abs(even_list[0] - odd_list[0])\n",
            "assert diff_even_odd([1,3,5,7,4,1,6,8])==3\n",
            "assert diff_even_odd([1,2,3,4,5,6,7,8,9,10])==1\n",
            "assert diff_even_odd([1,5,7,9,10])==9\n",
            "Running Example: 594\n",
            "def min_Swaps(str1,str2) :\n"
          ]
        },
        {
          "name": "stderr",
          "output_type": "stream",
          "text": [
            "Setting `pad_token_id` to `eos_token_id`:2 for open-end generation.\n"
          ]
        },
        {
          "name": "stdout",
          "output_type": "stream",
          "text": [
            "def min_Swaps(str1,str2) :\n",
            "    n = len(str1)\n",
            "    count = 0\n",
            "    for i in range(n) :\n",
            "        if str1[i]!= str2[i] :\n",
            "            count += 1\n",
            "            j = i\n",
            "            while str1[j]!= str2[j] :\n",
            "                str1[j], str1[j+1] = str1[j+1], str1[j]\n",
            "                j += 1\n",
            "    return count\n",
            "assert min_Swaps(\"1101\",\"1110\") == 1\n",
            "Code Failed Assertions'str' object does not support item assignment\n",
            "Running Example: 595\n",
            "def tuple_size(tuple_list):\n"
          ]
        },
        {
          "name": "stderr",
          "output_type": "stream",
          "text": [
            "Setting `pad_token_id` to `eos_token_id`:2 for open-end generation.\n"
          ]
        },
        {
          "name": "stdout",
          "output_type": "stream",
          "text": [
            "def tuple_size(tuple_list):\n",
            "    return len(tuple_list)\n",
            "assert tuple_size((\"A\", 1, \"B\", 2, \"C\", 3) ) == sys.getsizeof((\"A\", 1, \"B\", 2, \"C\", 3))\n",
            "Code Failed Assertions\n",
            "Running Example: 596\n",
            "def find_kth(arr1, arr2, m, n, k):\n"
          ]
        },
        {
          "name": "stderr",
          "output_type": "stream",
          "text": [
            "Setting `pad_token_id` to `eos_token_id`:2 for open-end generation.\n"
          ]
        },
        {
          "name": "stdout",
          "output_type": "stream",
          "text": [
            "None\n",
            "Code Didn't Run\n",
            "Errorexec() arg 1 must be a string, bytes or code object\n",
            "Running Example: 597\n",
            "def armstrong_number(number):\n"
          ]
        },
        {
          "name": "stderr",
          "output_type": "stream",
          "text": [
            "Setting `pad_token_id` to `eos_token_id`:2 for open-end generation.\n"
          ]
        },
        {
          "name": "stdout",
          "output_type": "stream",
          "text": [
            "def armstrong_number(number):\n",
            "    number = str(number)\n",
            "    length = len(number)\n",
            "    sum = 0\n",
            "    for i in range(length):\n",
            "        sum += int(number[i])**length\n",
            "    if sum == int(number):\n",
            "        return True\n",
            "    else:\n",
            "        return False\n",
            "assert armstrong_number(153)==True\n",
            "assert armstrong_number(259)==False\n",
            "assert armstrong_number(4458)==False\n",
            "Running Example: 598\n",
            "def sum_average(number):\n"
          ]
        },
        {
          "name": "stderr",
          "output_type": "stream",
          "text": [
            "Setting `pad_token_id` to `eos_token_id`:2 for open-end generation.\n"
          ]
        },
        {
          "name": "stdout",
          "output_type": "stream",
          "text": [
            "def sum_average(number):\n",
            "    sum = 0\n",
            "    for i in range(1, number+1):\n",
            "        sum = sum + i\n",
            "    average = sum/number\n",
            "    return sum, average\n",
            "assert sum_average(10)==(55, 5.5)\n",
            "assert sum_average(15)==(120, 8.0)\n",
            "assert sum_average(20)==(210, 10.5)\n",
            "Running Example: 599\n",
            "def is_Even(n) :\n"
          ]
        },
        {
          "name": "stderr",
          "output_type": "stream",
          "text": [
            "Setting `pad_token_id` to `eos_token_id`:2 for open-end generation.\n"
          ]
        },
        {
          "name": "stdout",
          "output_type": "stream",
          "text": [
            "def is_Even(n) :\n",
            "    return n & 1 == 0\n",
            "assert is_Even(1) == False\n",
            "assert is_Even(2) == True\n",
            "assert is_Even(3) == False\n",
            "Running Example: 600\n",
            "def __init__(self, a, b):\n"
          ]
        },
        {
          "name": "stderr",
          "output_type": "stream",
          "text": [
            "Setting `pad_token_id` to `eos_token_id`:2 for open-end generation.\n"
          ]
        },
        {
          "name": "stdout",
          "output_type": "stream",
          "text": [
            "def __init__(self, a, b):\n",
            "    self.a = a\n",
            "    self.b = b\n",
            "assert max_chain_length([Pair(5, 24), Pair(15, 25),Pair(27, 40), Pair(50, 60)], 4) == 3\n",
            "Code Failed Assertionsname 'max_chain_length' is not defined\n",
            "Running Example: 601\n",
            "def first_repeated_char(str1):\n"
          ]
        },
        {
          "name": "stderr",
          "output_type": "stream",
          "text": [
            "Setting `pad_token_id` to `eos_token_id`:2 for open-end generation.\n"
          ]
        },
        {
          "name": "stdout",
          "output_type": "stream",
          "text": [
            "def first_repeated_char(str1):\n",
            "    char_dict = {}\n",
            "    for char in str1:\n",
            "        if char in char_dict:\n",
            "            return char\n",
            "        else:\n",
            "            char_dict[char] = 1\n",
            "    return None\n",
            "assert first_repeated_char(\"abcabc\") == \"a\"\n",
            "assert first_repeated_char(\"abc\") == \"None\"\n",
            "Code Failed Assertions\n",
            "Running Example: 602\n",
            "def get_ludic(n):\n"
          ]
        },
        {
          "name": "stderr",
          "output_type": "stream",
          "text": [
            "Setting `pad_token_id` to `eos_token_id`:2 for open-end generation.\n"
          ]
        },
        {
          "name": "stdout",
          "output_type": "stream",
          "text": [
            "def get_ludic(n):\n",
            "    ludic = []\n",
            "    for i in range(1, n + 1):\n",
            "        if i == 1:\n",
            "            ludic.append(i)\n",
            "        else:\n",
            "            isprime = True\n",
            "            for j in range(2, int(i ** 0.5) + 1):\n",
            "                if i % j == 0:\n",
            "                    isprime = False\n",
            "                    break\n",
            "            if isprime:\n",
            "                ludic.append(i)\n",
            "    return ludic\n",
            "assert get_ludic(10) == [1, 2, 3, 5, 7]\n",
            "assert get_ludic(25) == [1, 2, 3, 5, 7, 11, 13, 17, 23, 25]\n",
            "Code Failed Assertions\n",
            "Running Example: 603\n",
            "def reverse_words(s):\n"
          ]
        },
        {
          "name": "stderr",
          "output_type": "stream",
          "text": [
            "Setting `pad_token_id` to `eos_token_id`:2 for open-end generation.\n"
          ]
        },
        {
          "name": "stdout",
          "output_type": "stream",
          "text": [
            "def reverse_words(s):\n",
            "    return''.join(s.split()[::-1])\n",
            "assert reverse_words(\"python program\")==(\"program python\")\n",
            "Code Failed Assertions\n",
            "Running Example: 604\n",
            "def prime_num(num):\n"
          ]
        },
        {
          "name": "stderr",
          "output_type": "stream",
          "text": [
            "Setting `pad_token_id` to `eos_token_id`:2 for open-end generation.\n"
          ]
        },
        {
          "name": "stdout",
          "output_type": "stream",
          "text": [
            "def prime_num(num):\n",
            "    if num > 1:\n",
            "        for i in range(2, num):\n",
            "            if (num % i) == 0:\n",
            "                return False\n",
            "        else:\n",
            "            return True\n",
            "    else:\n",
            "        return False\n",
            "assert prime_num(13)==True\n",
            "assert prime_num(7)==True\n",
            "assert prime_num(-1010)==False\n",
            "Running Example: 605\n",
            "def radian_degree(degree):\n"
          ]
        },
        {
          "name": "stderr",
          "output_type": "stream",
          "text": [
            "Setting `pad_token_id` to `eos_token_id`:2 for open-end generation.\n"
          ]
        },
        {
          "name": "stdout",
          "output_type": "stream",
          "text": [
            "def radian_degree(degree):\n",
            "    return degree * math.pi / 180\n",
            "assert radian_degree(90)==1.5707963267948966\n",
            "assert radian_degree(60)==1.0471975511965976\n",
            "assert radian_degree(120)==2.0943951023931953\n",
            "Running Example: 606\n",
            "def find_literals(text, pattern):\n"
          ]
        },
        {
          "name": "stderr",
          "output_type": "stream",
          "text": [
            "Setting `pad_token_id` to `eos_token_id`:2 for open-end generation.\n"
          ]
        },
        {
          "name": "stdout",
          "output_type": "stream",
          "text": [
            "def find_literals(text, pattern):\n",
            "    # Write your code here.\n",
            "    # Use regex to find the pattern in the text\n",
            "    # Use regex to find the location of the pattern in the text\n",
            "    # Return the location of the pattern in the text\n",
            "    return re.search(pattern, text).start()\n",
            "assert find_literals('The quick brown fox jumps over the lazy dog.', 'fox') == ('fox', 16, 19)\n",
            "Code Failed Assertions\n",
            "Running Example: 607\n",
            "def bell_Number(n):\n"
          ]
        },
        {
          "name": "stderr",
          "output_type": "stream",
          "text": [
            "Setting `pad_token_id` to `eos_token_id`:2 for open-end generation.\n"
          ]
        },
        {
          "name": "stdout",
          "output_type": "stream",
          "text": [
            "def bell_Number(n):\n",
            "    if n == 0:\n",
            "        return 1\n",
            "    elif n == 1:\n",
            "        return 1\n",
            "    else:\n",
            "        bell_Number = 0\n",
            "        for i in range(1, n+1):\n",
            "            bell_Number += bell_Number(i-1) * bell_Number(n-i)\n",
            "        return bell_Number\n",
            "assert bell_Number(2) == 2\n",
            "Code Failed Assertions'int' object is not callable\n",
            "Running Example: 608\n",
            "def floor_Min(A,B,N):\n"
          ]
        },
        {
          "name": "stderr",
          "output_type": "stream",
          "text": [
            "Setting `pad_token_id` to `eos_token_id`:2 for open-end generation.\n"
          ]
        },
        {
          "name": "stdout",
          "output_type": "stream",
          "text": [
            "def floor_Min(A,B,N):\n",
            "    #code\n",
            "    A.sort()\n",
            "    B.sort()\n",
            "    A.reverse()\n",
            "    B.reverse()\n",
            "    i=0\n",
            "    j=0\n",
            "    ans=0\n",
            "    while i<N and j<N:\n",
            "        if A[i]>B[j]:\n",
            "            ans+=B[j]\n",
            "            j+=1\n",
            "        else:\n",
            "            i+=1\n",
            "    return ans\n",
            "assert floor_Min(10,20,30) == 15\n",
            "Code Failed Assertions'int' object has no attribute 'sort'\n",
            "Running Example: 609\n",
            "def remove_kth_element(list1, L):\n"
          ]
        },
        {
          "name": "stderr",
          "output_type": "stream",
          "text": [
            "Setting `pad_token_id` to `eos_token_id`:2 for open-end generation.\n"
          ]
        },
        {
          "name": "stdout",
          "output_type": "stream",
          "text": [
            "def remove_kth_element(list1, L):\n",
            "    list1.pop(L-1)\n",
            "    return list1\n",
            "assert remove_kth_element([1,1,2,3,4,4,5,1],3)==[1, 1, 3, 4, 4, 5, 1]\n",
            "assert remove_kth_element([0, 0, 1, 2, 3, 4, 4, 5, 6, 6, 6, 7, 8, 9, 4, 4],4)==[0, 0, 1, 3, 4, 4, 5, 6, 6, 6, 7, 8, 9, 4, 4]\n",
            "assert remove_kth_element([10, 10, 15, 19, 18, 18, 17, 26, 26, 17, 18, 10],5)==[10,10,15,19, 18, 17, 26, 26, 17, 18, 10]\n",
            "Running Example: 610\n",
            "def max_of_nth(test_list, N):\n"
          ]
        },
        {
          "name": "stderr",
          "output_type": "stream",
          "text": [
            "Setting `pad_token_id` to `eos_token_id`:2 for open-end generation.\n"
          ]
        },
        {
          "name": "stdout",
          "output_type": "stream",
          "text": [
            "def max_of_nth(test_list, N):\n",
            "    return max(test_list, key=lambda x: x[N])\n",
            "assert max_of_nth([(5, 6, 7), (1, 3, 5), (8, 9, 19)], 2) == 19\n",
            "Code Failed Assertions\n",
            "Running Example: 611\n",
            "def merge(lst):\n"
          ]
        },
        {
          "name": "stderr",
          "output_type": "stream",
          "text": [
            "Setting `pad_token_id` to `eos_token_id`:2 for open-end generation.\n"
          ]
        },
        {
          "name": "stdout",
          "output_type": "stream",
          "text": [
            "def merge(lst):\n",
            "    return [lst[0]] + lst[-1]\n",
            "assert merge([['x', 'y'], ['a', 'b'], ['m', 'n']]) == [['x', 'a', 'm'], ['y', 'b', 'n']]\n",
            "Code Failed Assertions\n",
            "Running Example: 612\n",
            "def maximum_value(test_list):\n"
          ]
        },
        {
          "name": "stderr",
          "output_type": "stream",
          "text": [
            "Setting `pad_token_id` to `eos_token_id`:2 for open-end generation.\n"
          ]
        },
        {
          "name": "stdout",
          "output_type": "stream",
          "text": [
            "def maximum_value(test_list):\n",
            "    max_value = test_list[0]\n",
            "    for i in range(1, len(test_list)):\n",
            "        if test_list[i] > max_value:\n",
            "            max_value = test_list[i]\n",
            "    return max_value\n",
            "assert maximum_value([('key1', [3, 4, 5]), ('key2', [1, 4, 2]), ('key3', [9, 3])]) == [('key1', 5), ('key2', 4), ('key3', 9)]\n",
            "Code Failed Assertions\n",
            "Running Example: 613\n",
            "def cummulative_sum(test_list):\n"
          ]
        },
        {
          "name": "stderr",
          "output_type": "stream",
          "text": [
            "Setting `pad_token_id` to `eos_token_id`:2 for open-end generation.\n"
          ]
        },
        {
          "name": "stdout",
          "output_type": "stream",
          "text": [
            "def cummulative_sum(test_list):\n",
            "    cum_sum = 0\n",
            "    for i in test_list:\n",
            "        cum_sum += i\n",
            "        print(cum_sum)\n",
            "assert cummulative_sum([(1, 3), (5, 6, 7), (2, 6)]) == 30\n",
            "Code Failed Assertionsunsupported operand type(s) for +=: 'int' and 'tuple'\n",
            "Running Example: 614\n",
            "def average_tuple(nums):\n"
          ]
        },
        {
          "name": "stderr",
          "output_type": "stream",
          "text": [
            "Setting `pad_token_id` to `eos_token_id`:2 for open-end generation.\n"
          ]
        },
        {
          "name": "stdout",
          "output_type": "stream",
          "text": [
            "def average_tuple(nums):\n",
            "    return sum(nums)/len(nums)\n",
            "assert average_tuple(((10, 10, 10, 12), (30, 45, 56, 45), (81, 80, 39, 32), (1, 2, 3, 4)))==[30.5, 34.25, 27.0, 23.25]\n",
            "Code Failed Assertionssum() missing 1 required positional argument: 'b'\n",
            "Running Example: 615\n",
            "def tuple_modulo(test_tup1, test_tup2):\n"
          ]
        },
        {
          "name": "stderr",
          "output_type": "stream",
          "text": [
            "Setting `pad_token_id` to `eos_token_id`:2 for open-end generation.\n"
          ]
        },
        {
          "name": "stdout",
          "output_type": "stream",
          "text": [
            "def tuple_modulo(test_tup1, test_tup2):\n",
            "    return tuple(map(lambda x, y: x % y, test_tup1, test_tup2))\n",
            "assert tuple_modulo((10, 4, 5, 6), (5, 6, 7, 5)) == (0, 4, 5, 1)\n",
            "assert tuple_modulo((11, 5, 6, 7), (6, 7, 8, 6)) == (5, 5, 6, 1)\n",
            "assert tuple_modulo((12, 6, 7, 8), (7, 8, 9, 7)) == (5, 6, 7, 1)\n",
            "Running Example: 616\n",
            "def min_Jumps(a, b, d):\n"
          ]
        },
        {
          "name": "stderr",
          "output_type": "stream",
          "text": [
            "Setting `pad_token_id` to `eos_token_id`:2 for open-end generation.\n"
          ]
        },
        {
          "name": "stdout",
          "output_type": "stream",
          "text": [
            "def min_Jumps(a, b, d):\n",
            "    if a == 0:\n",
            "        return b\n",
            "    if b == 0:\n",
            "        return a\n",
            "    if a > b:\n",
            "        return min_Jumps(a - d, b, d) + 1\n",
            "    else:\n",
            "        return min_Jumps(a, b - d, d) + 1\n",
            "assert min_Jumps(3,4,11)==3.5\n",
            "Code Failed Assertionsmaximum recursion depth exceeded\n",
            "Running Example: 617\n",
            "def div_list(nums1,nums2):\n"
          ]
        },
        {
          "name": "stderr",
          "output_type": "stream",
          "text": [
            "Setting `pad_token_id` to `eos_token_id`:2 for open-end generation.\n"
          ]
        },
        {
          "name": "stdout",
          "output_type": "stream",
          "text": [
            "def div_list(nums1,nums2):\n",
            "    return list(map(lambda x,y:x/y,nums1,nums2))\n",
            "assert div_list([4,5,6],[1, 2, 3])==[4.0,2.5,2.0]\n",
            "assert div_list([3,2],[1,4])==[3.0, 0.5]\n",
            "assert div_list([90,120],[50,70])==[1.8, 1.7142857142857142]\n",
            "Running Example: 618\n",
            "def move_num(test_str):\n"
          ]
        },
        {
          "name": "stderr",
          "output_type": "stream",
          "text": [
            "Setting `pad_token_id` to `eos_token_id`:2 for open-end generation.\n"
          ]
        },
        {
          "name": "stdout",
          "output_type": "stream",
          "text": [
            "def move_num(test_str):\n",
            "    for i in range(len(test_str)):\n",
            "        if test_str[i].isdigit():\n",
            "            return test_str[i:]\n",
            "assert move_num('I1love143you55three3000thousand') == 'Iloveyouthreethousand1143553000'\n",
            "Code Failed Assertions\n",
            "Running Example: 619\n",
            "def largest_subset(a, n):\n"
          ]
        },
        {
          "name": "stderr",
          "output_type": "stream",
          "text": [
            "Setting `pad_token_id` to `eos_token_id`:2 for open-end generation.\n"
          ]
        },
        {
          "name": "stdout",
          "output_type": "stream",
          "text": [
            "def largest_subset(a, n):\n",
            "    # code here\n",
            "    a.sort()\n",
            "    max_len = 0\n",
            "    for i in range(n):\n",
            "        for j in range(i + 1, n):\n",
            "            if a[j] % a[i] == 0:\n",
            "                max_len += 1\n",
            "    return max_len\n",
            "assert largest_subset([ 1, 3, 6, 13, 17, 18 ], 6) == 4\n",
            "Code Failed Assertions\n",
            "Running Example: 620\n",
            "def increment_numerics(test_list, K):\n"
          ]
        },
        {
          "name": "stderr",
          "output_type": "stream",
          "text": [
            "Setting `pad_token_id` to `eos_token_id`:2 for open-end generation.\n"
          ]
        },
        {
          "name": "stdout",
          "output_type": "stream",
          "text": [
            "def increment_numerics(test_list, K):\n",
            "    for i in range(len(test_list)):\n",
            "        if test_list[i].isnumeric():\n",
            "            test_list[i] = str(int(test_list[i]) + K)\n",
            "    return test_list\n",
            "assert increment_numerics([\"MSM\", \"234\", \"is\", \"98\", \"123\", \"best\", \"4\"] , 6) == ['MSM', '240', 'is', '104', '129', 'best', '10']\n",
            "assert increment_numerics([\"Dart\", \"356\", \"is\", \"88\", \"169\", \"Super\", \"6\"] , 12) == ['Dart', '368', 'is', '100', '181', 'Super', '18']\n",
            "assert increment_numerics([\"Flutter\", \"451\", \"is\", \"44\", \"96\", \"Magnificent\", \"12\"] , 33) == ['Flutter', '484', 'is', '77', '129', 'Magnificent', '45']\n",
            "Running Example: 621\n",
            "def get_median(arr1, arr2, n):\n"
          ]
        },
        {
          "name": "stderr",
          "output_type": "stream",
          "text": [
            "Setting `pad_token_id` to `eos_token_id`:2 for open-end generation.\n"
          ]
        },
        {
          "name": "stdout",
          "output_type": "stream",
          "text": [
            "def get_median(arr1, arr2, n):\n",
            "    if n % 2 == 0:\n",
            "        return (arr1[n//2 - 1] + arr1[n//2])/2\n",
            "    else:\n",
            "        return arr1[n//2]\n",
            "assert get_median([1, 12, 15, 26, 38], [2, 13, 17, 30, 45], 5) == 16.0\n",
            "Code Failed Assertions\n",
            "Running Example: 622\n",
            "def nth_nums(nums,n):\n"
          ]
        },
        {
          "name": "stderr",
          "output_type": "stream",
          "text": [
            "Setting `pad_token_id` to `eos_token_id`:2 for open-end generation.\n"
          ]
        },
        {
          "name": "stdout",
          "output_type": "stream",
          "text": [
            "def nth_nums(nums,n):\n",
            "    return list(map(lambda x:x**n,nums))\n",
            "assert nth_nums([1, 2, 3, 4, 5, 6, 7, 8, 9, 10],2)==[1, 4, 9, 16, 25, 36, 49, 64, 81, 100]\n",
            "assert nth_nums([10,20,30],3)==([1000, 8000, 27000])\n",
            "assert nth_nums([12,15],5)==([248832, 759375])\n",
            "Running Example: 623\n",
            "def is_upper(string):\n"
          ]
        },
        {
          "name": "stderr",
          "output_type": "stream",
          "text": [
            "Setting `pad_token_id` to `eos_token_id`:2 for open-end generation.\n"
          ]
        },
        {
          "name": "stdout",
          "output_type": "stream",
          "text": [
            "def is_upper(string):\n",
            "    return string.upper() == string\n",
            "assert is_upper(\"person\") ==\"PERSON\"\n",
            "Code Failed Assertions\n",
            "Running Example: 624\n",
            "def swap_List(newList):\n"
          ]
        },
        {
          "name": "stderr",
          "output_type": "stream",
          "text": [
            "Setting `pad_token_id` to `eos_token_id`:2 for open-end generation.\n"
          ]
        },
        {
          "name": "stdout",
          "output_type": "stream",
          "text": [
            "def swap_List(newList):\n",
            "    newList[0], newList[-1] = newList[-1], newList[0]\n",
            "    return newList\n",
            "assert swap_List([1,2,3]) == [3,2,1]\n",
            "assert swap_List([1,2,3,4,4]) == [4,2,3,4,1]\n",
            "assert swap_List([4,5,6]) == [6,5,4]\n",
            "Running Example: 625\n",
            "def triangle_area(r) :\n"
          ]
        },
        {
          "name": "stderr",
          "output_type": "stream",
          "text": [
            "Setting `pad_token_id` to `eos_token_id`:2 for open-end generation.\n"
          ]
        },
        {
          "name": "stdout",
          "output_type": "stream",
          "text": [
            "def triangle_area(r) :\n",
            "    return (r * r * math.sqrt(3)) / 4\n",
            "assert triangle_area(0) == 0\n",
            "assert triangle_area(-1) == -1\n",
            "Code Failed Assertions\n",
            "Running Example: 626\n",
            "def find_First_Missing(array,start,end):\n"
          ]
        },
        {
          "name": "stderr",
          "output_type": "stream",
          "text": [
            "Setting `pad_token_id` to `eos_token_id`:2 for open-end generation.\n"
          ]
        },
        {
          "name": "stdout",
          "output_type": "stream",
          "text": [
            "def find_First_Missing(array,start,end):\n",
            "    if start > end:\n",
            "        return -1\n",
            "    if start == end:\n",
            "        return start + 1\n",
            "    mid = (start + end) // 2\n",
            "    if array[mid]!= mid + 1:\n",
            "        return mid + 1\n",
            "    if array[mid] == mid + 1:\n",
            "        return find_First_Missing(array,mid + 1,end)\n",
            "assert find_First_Missing([0,1,2,3],0,3) == 4\n",
            "Code Failed Assertions\n",
            "Running Example: 627\n",
            "def replace_spaces(string):\n"
          ]
        },
        {
          "name": "stderr",
          "output_type": "stream",
          "text": [
            "Setting `pad_token_id` to `eos_token_id`:2 for open-end generation.\n"
          ]
        },
        {
          "name": "stdout",
          "output_type": "stream",
          "text": [
            "def replace_spaces(string):\n",
            "    return string.replace(\" \", \"%20\")\n",
            "assert replace_spaces(\"My Name is Dawood\") == 'My%20Name%20is%20Dawood'\n",
            "assert replace_spaces(\"I am a Programmer\") == 'I%20am%20a%20Programmer'\n",
            "assert replace_spaces(\"I love Coding\") == 'I%20love%20Coding'\n",
            "Running Example: 628\n",
            "def Split(list):\n"
          ]
        },
        {
          "name": "stderr",
          "output_type": "stream",
          "text": [
            "Setting `pad_token_id` to `eos_token_id`:2 for open-end generation.\n"
          ]
        },
        {
          "name": "stdout",
          "output_type": "stream",
          "text": [
            "def Split(list):\n",
            "    even = []\n",
            "    odd = []\n",
            "    for i in list:\n",
            "        if i%2 == 0:\n",
            "            even.append(i)\n",
            "        else:\n",
            "            odd.append(i)\n",
            "    return even, odd\n",
            "assert Split([1,2,3,4,5]) == [2,4]\n",
            "Code Failed Assertions\n",
            "Running Example: 629\n",
            "def adjac(ele, sub = []):\n"
          ]
        },
        {
          "name": "stderr",
          "output_type": "stream",
          "text": [
            "Setting `pad_token_id` to `eos_token_id`:2 for open-end generation.\n"
          ]
        },
        {
          "name": "stdout",
          "output_type": "stream",
          "text": [
            "def adjac(ele, sub = []):\n",
            "    for i in range(len(ele)):\n",
            "        for j in range(len(ele[i])):\n",
            "            if ele[i][j] == 1:\n",
            "                sub.append(ele[i][j])\n",
            "                if i > 0:\n",
            "                    sub.append(ele[i-1][j])\n",
            "                if i < len(ele) - 1:\n",
            "                    sub.append(ele[i+1][j])\n",
            "                if j > 0:\n",
            "                    sub.append(ele[i][j-1])\n",
            "                if j < len(ele[i]) - 1:\n",
            "                    sub.append(ele[i][j+1])\n",
            "    return sub\n",
            "assert get_coordinates((3, 4)) == [[2, 3], [2, 4], [2, 5], [3, 3], [3, 4], [3, 5], [4, 3], [4, 4], [4, 5]]\n",
            "Code Failed Assertionsname 'get_coordinates' is not defined\n",
            "Running Example: 630\n",
            "def replace_spaces(text):\n"
          ]
        },
        {
          "name": "stderr",
          "output_type": "stream",
          "text": [
            "Setting `pad_token_id` to `eos_token_id`:2 for open-end generation.\n"
          ]
        },
        {
          "name": "stdout",
          "output_type": "stream",
          "text": [
            "def replace_spaces(text):\n",
            "    return re.sub(r\"\\s\", \"_\", text)\n",
            "assert replace_spaces('Jumanji The Jungle') == 'Jumanji_The_Jungle'\n",
            "assert replace_spaces('The Avengers') == 'The_Avengers'\n",
            "assert replace_spaces('Fast and Furious') == 'Fast_and_Furious'\n",
            "Running Example: 631\n",
            "def move_zero(num_list):\n"
          ]
        },
        {
          "name": "stderr",
          "output_type": "stream",
          "text": [
            "Setting `pad_token_id` to `eos_token_id`:2 for open-end generation.\n"
          ]
        },
        {
          "name": "stdout",
          "output_type": "stream",
          "text": [
            "def move_zero(num_list):\n",
            "    zero_list = []\n",
            "    for i in num_list:\n",
            "        if i == 0:\n",
            "            zero_list.append(i)\n",
            "    for i in zero_list:\n",
            "        num_list.remove(i)\n",
            "    num_list.extend(zero_list)\n",
            "    return num_list\n",
            "assert move_zero([1,0,2,0,3,4]) == [1,2,3,4,0,0]\n",
            "assert move_zero([2,3,2,0,0,4,0,5,0]) == [2,3,2,4,5,0,0,0,0]\n",
            "assert move_zero([0,1,0,1,1]) == [1,1,1,0,0]\n",
            "Running Example: 632\n",
            "def pair_OR_Sum(arr,n) :\n"
          ]
        },
        {
          "name": "stderr",
          "output_type": "stream",
          "text": [
            "Setting `pad_token_id` to `eos_token_id`:2 for open-end generation.\n"
          ]
        },
        {
          "name": "stdout",
          "output_type": "stream",
          "text": [
            "def pair_OR_Sum(arr,n) :\n",
            "    # code here\n",
            "    sum = 0\n",
            "    for i in range(n):\n",
            "        for j in range(i+1,n):\n",
            "            sum = sum ^ arr[i] ^ arr[j]\n",
            "    return sum\n",
            "assert pair_OR_Sum([5,9,7,6],4) == 47\n",
            "Code Failed Assertions\n",
            "Running Example: 633\n",
            "def even_Power_Sum(n):\n"
          ]
        },
        {
          "name": "stderr",
          "output_type": "stream",
          "text": [
            "Setting `pad_token_id` to `eos_token_id`:2 for open-end generation.\n"
          ]
        },
        {
          "name": "stdout",
          "output_type": "stream",
          "text": [
            "def even_Power_Sum(n):\n",
            "    sum = 0\n",
            "    for i in range(2,n+1,2):\n",
            "        sum += i**4\n",
            "    return sum\n",
            "assert even_Power_Sum(2) == 272\n",
            "Code Failed Assertions\n",
            "Running Example: 634\n",
            "def heap_sort(iterable):\n"
          ]
        },
        {
          "name": "stderr",
          "output_type": "stream",
          "text": [
            "Setting `pad_token_id` to `eos_token_id`:2 for open-end generation.\n"
          ]
        },
        {
          "name": "stdout",
          "output_type": "stream",
          "text": [
            "def heap_sort(iterable):\n",
            "    heap = []\n",
            "    for value in iterable:\n",
            "        heapq.heappush(heap, value)\n",
            "    return [heapq.heappop(heap) for i in range(len(heap))]\n",
            "assert heap_sort([1, 3, 5, 7, 9, 2, 4, 6, 8, 0])==[0, 1, 2, 3, 4, 5, 6, 7, 8, 9]\n",
            "assert heap_sort([25, 35, 22, 85, 14, 65, 75, 25, 58])==[14, 22, 25, 25, 35, 58, 65, 75, 85]\n",
            "assert heap_sort( [7, 1, 9, 5])==[1,5,7,9]\n",
            "Running Example: 635\n",
            "def Check_Solution(a,b,c):\n"
          ]
        },
        {
          "name": "stderr",
          "output_type": "stream",
          "text": [
            "Setting `pad_token_id` to `eos_token_id`:2 for open-end generation.\n"
          ]
        },
        {
          "name": "stdout",
          "output_type": "stream",
          "text": [
            "None\n",
            "Code Didn't Run\n",
            "Errorexec() arg 1 must be a string, bytes or code object\n",
            "Running Example: 636\n",
            "def noprofit_noloss(actual_cost,sale_amount):\n"
          ]
        },
        {
          "name": "stderr",
          "output_type": "stream",
          "text": [
            "Setting `pad_token_id` to `eos_token_id`:2 for open-end generation.\n"
          ]
        },
        {
          "name": "stdout",
          "output_type": "stream",
          "text": [
            "def noprofit_noloss(actual_cost,sale_amount):\n",
            "    if actual_cost == sale_amount:\n",
            "        return True\n",
            "    else:\n",
            "        return False\n",
            "assert noprofit_noloss(1500,1200)==False\n",
            "assert noprofit_noloss(100,100)==True\n",
            "assert noprofit_noloss(2000,5000)==False\n",
            "Running Example: 637\n",
            "def wind_chill(v,t):\n"
          ]
        },
        {
          "name": "stderr",
          "output_type": "stream",
          "text": [
            "Setting `pad_token_id` to `eos_token_id`:2 for open-end generation.\n"
          ]
        },
        {
          "name": "stdout",
          "output_type": "stream",
          "text": [
            "def wind_chill(v,t):\n",
            "    \"\"\"\n",
            "    Calculate wind chill index.\n",
            "Code Didn't Run\n",
            "Errorunterminated triple-quoted string literal (detected at line 3) (<string>, line 2)\n",
            "Running Example: 638\n",
            "def sample_nam(sample_names):\n"
          ]
        },
        {
          "name": "stderr",
          "output_type": "stream",
          "text": [
            "Setting `pad_token_id` to `eos_token_id`:2 for open-end generation.\n"
          ]
        },
        {
          "name": "stdout",
          "output_type": "stream",
          "text": [
            "def sample_nam(sample_names):\n",
            "    sample_names = sample_names.lower()\n",
            "    sample_names = sample_names.replace(\" \", \"_\")\n",
            "    return sample_names\n",
            "assert sample_nam(['sally', 'Dylan', 'rebecca', 'Diana', 'Joanne', 'keith'])==16\n",
            "Code Failed Assertions'list' object has no attribute 'lower'\n",
            "Running Example: 639\n",
            "def remove_parenthesis(items):\n"
          ]
        },
        {
          "name": "stderr",
          "output_type": "stream",
          "text": [
            "Setting `pad_token_id` to `eos_token_id`:2 for open-end generation.\n"
          ]
        },
        {
          "name": "stdout",
          "output_type": "stream",
          "text": [
            "def remove_parenthesis(items):\n",
            "    # remove the parenthesis\n",
            "    items = items.replace('(', '')\n",
            "    items = items.replace(')', '')\n",
            "    return items\n",
            "assert remove_parenthesis([\"python (chrome)\"])==(\"python\")\n",
            "Code Failed Assertions'list' object has no attribute 'replace'\n",
            "Running Example: 640\n",
            "def is_nonagonal(n):\n"
          ]
        },
        {
          "name": "stderr",
          "output_type": "stream",
          "text": [
            "Setting `pad_token_id` to `eos_token_id`:2 for open-end generation.\n"
          ]
        },
        {
          "name": "stdout",
          "output_type": "stream",
          "text": [
            "def is_nonagonal(n):\n",
            "    return n**2 - n == 24\n",
            "assert is_nonagonal(10) == 325\n",
            "Code Failed Assertions\n",
            "Running Example: 641\n",
            "def remove_similar_row(test_list):\n"
          ]
        },
        {
          "name": "stderr",
          "output_type": "stream",
          "text": [
            "Setting `pad_token_id` to `eos_token_id`:2 for open-end generation.\n"
          ]
        },
        {
          "name": "stdout",
          "output_type": "stream",
          "text": [
            "def remove_similar_row(test_list):\n",
            "    #print(test_list)\n",
            "    for i in range(len(test_list)):\n",
            "        for j in range(i+1,len(test_list)):\n",
            "            if test_list[i]==test_list[j]:\n",
            "                test_list.remove(test_list[i])\n",
            "                break\n",
            "    return test_list\n",
            "assert remove_similar_row([[(4, 5), (3, 2)], [(2, 2), (4, 6)], [(3, 2), (4, 5)]] ) == {((2, 2), (4, 6)), ((3, 2), (4, 5))}\n",
            "Code Failed Assertions\n",
            "Running Example: 642\n",
            "def text_match_wordz_middle(text):\n"
          ]
        },
        {
          "name": "stderr",
          "output_type": "stream",
          "text": [
            "Setting `pad_token_id` to `eos_token_id`:2 for open-end generation.\n"
          ]
        },
        {
          "name": "stdout",
          "output_type": "stream",
          "text": [
            "def text_match_wordz_middle(text):\n",
            "    return re.findall(r'\\b[a-zA-Z]*z[a-zA-Z]*\\b', text)\n",
            "assert text_match_wordz_middle(\"pythonzabc.\")==('Found a match!')\n",
            "Code Failed Assertions\n",
            "Running Example: 643\n",
            "def reverse_Array_Upto_K(input, k):\n"
          ]
        },
        {
          "name": "stderr",
          "output_type": "stream",
          "text": [
            "Setting `pad_token_id` to `eos_token_id`:2 for open-end generation.\n"
          ]
        },
        {
          "name": "stdout",
          "output_type": "stream",
          "text": [
            "def reverse_Array_Upto_K(input, k):\n",
            "    for i in range(0, k//2):\n",
            "        temp = input[i]\n",
            "        input[i] = input[k-i-1]\n",
            "        input[k-i-1] = temp\n",
            "assert reverse_Array_Upto_K([1, 2, 3, 4, 5, 6],4) == [4, 3, 2, 1, 5, 6]\n",
            "Code Failed Assertions\n",
            "Running Example: 644\n",
            "def get_product(val) :\n"
          ]
        },
        {
          "name": "stderr",
          "output_type": "stream",
          "text": [
            "Setting `pad_token_id` to `eos_token_id`:2 for open-end generation.\n"
          ]
        },
        {
          "name": "stdout",
          "output_type": "stream",
          "text": [
            "def get_product(val) :\n",
            "    prod = 1\n",
            "    for i in val :\n",
            "        prod *= i\n",
            "    return prod\n",
            "assert find_k_product([(5, 6, 7), (1, 3, 5), (8, 9, 19)], 2) == 665\n",
            "Code Failed Assertionsname 'find_k_product' is not defined\n",
            "Running Example: 645\n",
            "def No_of_cubes(N,K):\n"
          ]
        },
        {
          "name": "stderr",
          "output_type": "stream",
          "text": [
            "Setting `pad_token_id` to `eos_token_id`:2 for open-end generation.\n"
          ]
        },
        {
          "name": "stdout",
          "output_type": "stream",
          "text": [
            "def No_of_cubes(N,K):\n",
            "    if N<K:\n",
            "        return 0\n",
            "    else:\n",
            "        return (N//K)*(N//K+1)//2\n",
            "assert No_of_cubes(2,1) == 8\n",
            "Code Failed Assertions\n",
            "Running Example: 646\n",
            "def split_upperstring(text):\n"
          ]
        },
        {
          "name": "stderr",
          "output_type": "stream",
          "text": [
            "Setting `pad_token_id` to `eos_token_id`:2 for open-end generation.\n"
          ]
        },
        {
          "name": "stdout",
          "output_type": "stream",
          "text": [
            "def split_upperstring(text):\n",
            "    return re.findall('[A-Z][^A-Z]*', text)\n",
            "assert split_upperstring(\"PythonProgramLanguage\")==['Python','Program','Language']\n",
            "assert split_upperstring(\"PythonProgram\")==['Python','Program']\n",
            "assert split_upperstring(\"ProgrammingLanguage\")==['Programming','Language']\n",
            "Running Example: 647\n",
            "def exchange_elements(lst):\n"
          ]
        },
        {
          "name": "stderr",
          "output_type": "stream",
          "text": [
            "Setting `pad_token_id` to `eos_token_id`:2 for open-end generation.\n"
          ]
        },
        {
          "name": "stdout",
          "output_type": "stream",
          "text": [
            "def exchange_elements(lst):\n",
            "    for i in range(0,len(lst),2):\n",
            "        lst[i],lst[i+1]=lst[i+1],lst[i]\n",
            "    return lst\n",
            "assert exchange_elements([0,1,2,3,4,5])==[1, 0, 3, 2, 5, 4] \n",
            "assert exchange_elements([5,6,7,8,9,10])==[6,5,8,7,10,9] \n",
            "assert exchange_elements([25,35,45,55,75,95])==[35,25,55,45,95,75] \n",
            "Running Example: 648\n",
            "def sum_Range_list(nums, m, n):\n"
          ]
        },
        {
          "name": "stderr",
          "output_type": "stream",
          "text": [
            "Setting `pad_token_id` to `eos_token_id`:2 for open-end generation.\n"
          ]
        },
        {
          "name": "stdout",
          "output_type": "stream",
          "text": [
            "def sum_Range_list(nums, m, n):\n",
            "    sum = 0\n",
            "    for i in range(m, n+1):\n",
            "        sum += nums[i]\n",
            "    return sum\n",
            "assert sum_Range_list([2, 1, 5, 6, 8, 3, 4, 9, 10, 11, 8, 12],8,10) == 29\n",
            "assert sum_Range_list([1,2,3,4,5],1,2) == 5\n",
            "assert sum_Range_list([1,0,1,2,5,6],4,5) == 11\n",
            "Running Example: 649\n",
            "def are_Equal(arr1,arr2,n,m):\n"
          ]
        },
        {
          "name": "stderr",
          "output_type": "stream",
          "text": [
            "Setting `pad_token_id` to `eos_token_id`:2 for open-end generation.\n"
          ]
        },
        {
          "name": "stdout",
          "output_type": "stream",
          "text": [
            "def are_Equal(arr1,arr2,n,m):\n",
            "    if n!=m:\n",
            "        return False\n",
            "    for i in range(n):\n",
            "        if arr1[i]!=arr2[i]:\n",
            "            return False\n",
            "    return True\n",
            "assert are_Equal([1,2,3],[3,2,1],3,3) == True\n",
            "Code Failed Assertions\n",
            "Running Example: 650\n",
            "def check_subset(test_tup1, test_tup2):\n"
          ]
        },
        {
          "name": "stderr",
          "output_type": "stream",
          "text": [
            "Setting `pad_token_id` to `eos_token_id`:2 for open-end generation.\n"
          ]
        },
        {
          "name": "stdout",
          "output_type": "stream",
          "text": [
            "def check_subset(test_tup1, test_tup2):\n",
            "    for i in test_tup1:\n",
            "        if i not in test_tup2:\n",
            "            return False\n",
            "    return True\n",
            "assert check_subset((10, 4, 5, 6), (5, 10)) == True\n",
            "Code Failed Assertions\n",
            "Running Example: 651\n",
            "def matrix_to_list(test_list):\n"
          ]
        },
        {
          "name": "stderr",
          "output_type": "stream",
          "text": [
            "Setting `pad_token_id` to `eos_token_id`:2 for open-end generation.\n"
          ]
        },
        {
          "name": "stdout",
          "output_type": "stream",
          "text": [
            "def matrix_to_list(test_list):\n",
            "    result = []\n",
            "    for i in range(len(test_list)):\n",
            "        for j in range(len(test_list[i])):\n",
            "            result.append(test_list[i][j])\n",
            "    return result\n",
            "assert matrix_to_list([[(4, 5), (7, 8)], [(10, 13), (18, 17)], [(0, 4), (10, 1)]]) == '[(4, 7, 10, 18, 0, 10), (5, 8, 13, 17, 4, 1)]'\n",
            "Code Failed Assertions\n",
            "Running Example: 652\n",
            "defaultdict\n",
            "def grouping_dictionary(l):\n"
          ]
        },
        {
          "name": "stderr",
          "output_type": "stream",
          "text": [
            "Setting `pad_token_id` to `eos_token_id`:2 for open-end generation.\n"
          ]
        },
        {
          "name": "stdout",
          "output_type": "stream",
          "text": [
            "None\n",
            "Code Didn't Run\n",
            "Errorexec() arg 1 must be a string, bytes or code object\n",
            "Running Example: 653\n",
            "def rectangle_perimeter(l,b):\n"
          ]
        },
        {
          "name": "stderr",
          "output_type": "stream",
          "text": [
            "Setting `pad_token_id` to `eos_token_id`:2 for open-end generation.\n"
          ]
        },
        {
          "name": "stdout",
          "output_type": "stream",
          "text": [
            "def rectangle_perimeter(l,b):\n",
            "    return 2*(l+b)\n",
            "assert rectangle_perimeter(10,20)==60\n",
            "assert rectangle_perimeter(10,5)==30\n",
            "assert rectangle_perimeter(4,2)==12\n",
            "Running Example: 654\n",
            "def fifth_Power_Sum(n) :\n"
          ]
        },
        {
          "name": "stderr",
          "output_type": "stream",
          "text": [
            "Setting `pad_token_id` to `eos_token_id`:2 for open-end generation.\n"
          ]
        },
        {
          "name": "stdout",
          "output_type": "stream",
          "text": [
            "def fifth_Power_Sum(n) :\n",
            "    sum = 0\n",
            "    for i in range(1, n+1) :\n",
            "        sum += i**5\n",
            "    return sum\n",
            "assert fifth_Power_Sum(2) == 33\n",
            "assert fifth_Power_Sum(4) == 1300\n",
            "assert fifth_Power_Sum(3) == 276\n",
            "Running Example: 655\n",
            "def find_Min_Sum(a,b,n):\n"
          ]
        },
        {
          "name": "stderr",
          "output_type": "stream",
          "text": [
            "Setting `pad_token_id` to `eos_token_id`:2 for open-end generation.\n"
          ]
        },
        {
          "name": "stdout",
          "output_type": "stream",
          "text": [
            "def find_Min_Sum(a,b,n):\n",
            "    a.sort()\n",
            "    b.sort()\n",
            "    min_sum = 0\n",
            "    for i in range(n):\n",
            "        min_sum += abs(a[i]-b[i])\n",
            "    return min_sum\n",
            "assert find_Min_Sum([3,2,1],[2,1,3],3) == 0\n",
            "assert find_Min_Sum([1,2,3],[4,5,6],3) == 9\n",
            "assert find_Min_Sum([4,1,8,7],[2,3,6,5],4) == 6\n",
            "Running Example: 656\n",
            "def first_Digit(n) :\n"
          ]
        },
        {
          "name": "stderr",
          "output_type": "stream",
          "text": [
            "Setting `pad_token_id` to `eos_token_id`:2 for open-end generation.\n"
          ]
        },
        {
          "name": "stdout",
          "output_type": "stream",
          "text": [
            "def first_Digit(n) :\n",
            "    fact = 1\n",
            "    while (n!= 0) :\n",
            "        fact = fact * n\n",
            "        n = n - 1\n",
            "    while (fact % 10 == 0) :\n",
            "        fact = fact // 10\n",
            "    return fact % 10\n",
            "assert first_Digit(5) == 1\n",
            "Code Failed Assertions\n",
            "Running Example: 657\n",
            "def max_occurrences(list1):\n"
          ]
        },
        {
          "name": "stderr",
          "output_type": "stream",
          "text": [
            "Setting `pad_token_id` to `eos_token_id`:2 for open-end generation.\n"
          ]
        },
        {
          "name": "stdout",
          "output_type": "stream",
          "text": [
            "def max_occurrences(list1):\n",
            "    max_count = 0\n",
            "    for i in list1:\n",
            "        count = list1.count(i)\n",
            "        if count > max_count:\n",
            "            max_count = count\n",
            "            max_item = i\n",
            "    return max_item\n",
            "assert max_occurrences([2,3,8,4,7,9,8,2,6,5,1,6,1,2,3,4,6,9,1,2])==2\n",
            "assert max_occurrences([1, 3,5, 7,1, 3,13, 15, 17,5, 7,9,1, 11])==1\n",
            "assert max_occurrences([1, 2, 3,2, 4, 5,1, 1, 1])==1\n",
            "Running Example: 658\n",
            "def Repeat(x):\n"
          ]
        },
        {
          "name": "stderr",
          "output_type": "stream",
          "text": [
            "Setting `pad_token_id` to `eos_token_id`:2 for open-end generation.\n"
          ]
        },
        {
          "name": "stdout",
          "output_type": "stream",
          "text": [
            "def Repeat(x):\n",
            "    for i in range(len(x)):\n",
            "        for j in range(i+1,len(x)):\n",
            "            if x[i]==x[j]:\n",
            "                print(x[i],end=\" \")\n",
            "assert Repeat([10, 20, 30, 20, 20, 30, 40, 50, -20, 60, 60, -20, -20]) == [20, 30, -20, 60]\n",
            "20 20 30 20 -20 -20 60 -20 Code Failed Assertions\n",
            "Running Example: 659\n",
            "def find_Points(l1,r1,l2,r2):\n"
          ]
        },
        {
          "name": "stderr",
          "output_type": "stream",
          "text": [
            "Setting `pad_token_id` to `eos_token_id`:2 for open-end generation.\n"
          ]
        },
        {
          "name": "stdout",
          "output_type": "stream",
          "text": [
            "def find_Points(l1,r1,l2,r2):\n",
            "    if l1>r2 or l2>r1:\n",
            "        return 0\n",
            "    else:\n",
            "        return min(r1,r2)-max(l1,l2)\n",
            "assert find_Points(5,10,1,5) == (1,10)\n",
            "Code Failed Assertions\n",
            "Running Example: 660\n",
            "def max_sum_of_three_consecutive(arr, n):\n"
          ]
        },
        {
          "name": "stderr",
          "output_type": "stream",
          "text": [
            "Setting `pad_token_id` to `eos_token_id`:2 for open-end generation.\n"
          ]
        },
        {
          "name": "stdout",
          "output_type": "stream",
          "text": [
            "None\n",
            "Code Didn't Run\n",
            "Errorexec() arg 1 must be a string, bytes or code object\n",
            "Running Example: 661\n",
            "def sorted_dict(dict1):\n"
          ]
        },
        {
          "name": "stderr",
          "output_type": "stream",
          "text": [
            "Setting `pad_token_id` to `eos_token_id`:2 for open-end generation.\n"
          ]
        },
        {
          "name": "stdout",
          "output_type": "stream",
          "text": [
            "def sorted_dict(dict1):\n",
            "    return {k: v for k, v in sorted(dict1.items(), key=lambda item: item[1])}\n",
            "assert sorted_dict({'n1': [2, 3, 1], 'n2': [5, 1, 2], 'n3': [3, 2, 4]})=={'n1': [1, 2, 3], 'n2': [1, 2, 5], 'n3': [2, 3, 4]}\n",
            "Code Failed Assertions\n",
            "Running Example: 662\n",
            "def find_max_val(n, x, y):\n"
          ]
        },
        {
          "name": "stderr",
          "output_type": "stream",
          "text": [
            "Setting `pad_token_id` to `eos_token_id`:2 for open-end generation.\n"
          ]
        },
        {
          "name": "stdout",
          "output_type": "stream",
          "text": [
            "def find_max_val(n, x, y):\n",
            "    # Find the max value of k such that k modulo x is y.\n",
            "    # We can use binary search to find the max value of k.\n",
            "    # If k modulo x is not y, then k must be less than x.\n",
            "    # If k modulo x is y, then k must be greater than or equal to y.\n",
            "    # So we can use binary search to find the max value of k.\n",
            "    low = y\n",
            "    high = x\n",
            "    while low < high:\n",
            "        mid = (low + high) // 2\n",
            "        if mid % x == y:\n",
            "            low = mid + 1\n",
            "        else:\n",
            "            high = mid\n",
            "    return low - 1\n",
            "assert find_max_val(15, 10, 5) == 15\n",
            "Code Failed Assertions\n",
            "Running Example: 663\n",
            "def average_Even(n) :\n"
          ]
        },
        {
          "name": "stderr",
          "output_type": "stream",
          "text": [
            "Setting `pad_token_id` to `eos_token_id`:2 for open-end generation.\n"
          ]
        },
        {
          "name": "stdout",
          "output_type": "stream",
          "text": [
            "def average_Even(n) :\n",
            "    sum = 0\n",
            "    for i in range(2,n+1,2) :\n",
            "        sum = sum + i\n",
            "    return sum/(n/2)\n",
            "assert average_Even(2) == 2\n",
            "assert average_Even(4) == 3\n",
            "assert average_Even(100) == 51\n",
            "Running Example: 664\n",
            "def move_last(num_list):\n"
          ]
        },
        {
          "name": "stderr",
          "output_type": "stream",
          "text": [
            "Setting `pad_token_id` to `eos_token_id`:2 for open-end generation.\n"
          ]
        },
        {
          "name": "stdout",
          "output_type": "stream",
          "text": [
            "def move_last(num_list):\n",
            "    return num_list[-1:] + num_list[:-1]\n",
            "assert move_last([1,2,3,4]) == [2,3,4,1]\n",
            "Code Failed Assertions\n",
            "Running Example: 665\n",
            "def count_char(string,char):\n"
          ]
        },
        {
          "name": "stderr",
          "output_type": "stream",
          "text": [
            "Setting `pad_token_id` to `eos_token_id`:2 for open-end generation.\n"
          ]
        },
        {
          "name": "stdout",
          "output_type": "stream",
          "text": [
            "def count_char(string,char):\n",
            "    count = 0\n",
            "    for i in string:\n",
            "        if i == char:\n",
            "            count += 1\n",
            "    return count\n",
            "assert count_char(\"Python\",'o')==1\n",
            "assert count_char(\"little\",'t')==2\n",
            "assert count_char(\"assert\",'s')==2\n",
            "Running Example: 666\n",
            "def Check_Vow(string, vowels):\n"
          ]
        },
        {
          "name": "stderr",
          "output_type": "stream",
          "text": [
            "Setting `pad_token_id` to `eos_token_id`:2 for open-end generation.\n"
          ]
        },
        {
          "name": "stdout",
          "output_type": "stream",
          "text": [
            "def Check_Vow(string, vowels):\n",
            "    count = 0\n",
            "    for i in string:\n",
            "        if i in vowels:\n",
            "            count += 1\n",
            "    return count\n",
            "assert Check_Vow('corner','AaEeIiOoUu') == 2\n",
            "assert Check_Vow('valid','AaEeIiOoUu') == 2\n",
            "assert Check_Vow('true','AaEeIiOoUu') ==2\n",
            "Running Example: 667\n",
            "def replace(string, char):\n"
          ]
        },
        {
          "name": "stderr",
          "output_type": "stream",
          "text": [
            "Setting `pad_token_id` to `eos_token_id`:2 for open-end generation.\n"
          ]
        },
        {
          "name": "stdout",
          "output_type": "stream",
          "text": [
            "def replace(string, char):\n",
            "    return char.join(string.split(char))\n",
            "assert replace('peep','e') == 'pep'\n",
            "Code Failed Assertions\n",
            "Running Example: 668\n",
            "def check_IP(Ip):\n"
          ]
        },
        {
          "name": "stderr",
          "output_type": "stream",
          "text": [
            "Setting `pad_token_id` to `eos_token_id`:2 for open-end generation.\n"
          ]
        },
        {
          "name": "stdout",
          "output_type": "stream",
          "text": [
            "def check_IP(Ip):\n",
            "    regex = '^(([0-9]|[1-9][0-9]|1[0-9]{2}|2[0-4][0-9]|25[0-5])\\.){3}([0-9]|[1-9][0-9]|1[0-9]{2}|2[0-4][0-9]|25[0-5])$'\n",
            "    if(re.search(regex, Ip)):\n",
            "        return True\n",
            "    else:\n",
            "        return False\n",
            "assert check_IP(\"192.168.0.1\") == 'Valid IP address'\n",
            "Code Failed Assertions\n",
            "Running Example: 669\n",
            "def decreasing_trend(nums):\n"
          ]
        },
        {
          "name": "stderr",
          "output_type": "stream",
          "text": [
            "Setting `pad_token_id` to `eos_token_id`:2 for open-end generation.\n"
          ]
        },
        {
          "name": "stdout",
          "output_type": "stream",
          "text": [
            "def decreasing_trend(nums):\n",
            "    for i in range(len(nums)-1):\n",
            "        if nums[i] > nums[i+1]:\n",
            "            return False\n",
            "    return True\n",
            "assert decreasing_trend([-4,-3,-2,-1]) == True\n",
            "assert decreasing_trend([1,2,3]) == True\n",
            "assert decreasing_trend([3,2,1]) == False\n",
            "Running Example: 670\n",
            "def get_Pos_Of_Right_most_Set_Bit(n):\n"
          ]
        },
        {
          "name": "stderr",
          "output_type": "stream",
          "text": [
            "Setting `pad_token_id` to `eos_token_id`:2 for open-end generation.\n"
          ]
        },
        {
          "name": "stdout",
          "output_type": "stream",
          "text": [
            "def get_Pos_Of_Right_most_Set_Bit(n):\n",
            "    return (n & -n).bit_length() - 1\n",
            "assert set_Right_most_Unset_Bit(21) == 23\n",
            "Code Failed Assertionsname 'set_Right_most_Unset_Bit' is not defined\n",
            "Running Example: 671\n",
            "def max_of_three(num1,num2,num3):\n"
          ]
        },
        {
          "name": "stderr",
          "output_type": "stream",
          "text": [
            "Setting `pad_token_id` to `eos_token_id`:2 for open-end generation.\n"
          ]
        },
        {
          "name": "stdout",
          "output_type": "stream",
          "text": [
            "def max_of_three(num1,num2,num3):\n",
            "    if num1>num2 and num1>num3:\n",
            "        return num1\n",
            "    elif num2>num1 and num2>num3:\n",
            "        return num2\n",
            "    else:\n",
            "        return num3\n",
            "assert max_of_three(10,20,30)==30\n",
            "assert max_of_three(55,47,39)==55\n",
            "assert max_of_three(10,49,30)==49\n",
            "Running Example: 672\n",
            "def convert(list):\n"
          ]
        },
        {
          "name": "stderr",
          "output_type": "stream",
          "text": [
            "Setting `pad_token_id` to `eos_token_id`:2 for open-end generation.\n"
          ]
        },
        {
          "name": "stdout",
          "output_type": "stream",
          "text": [
            "def convert(list):\n",
            "    return int(\"\".join(map(str, list)))\n",
            "assert convert([1,2,3]) == 123\n",
            "assert convert([4,5,6]) == 456\n",
            "assert convert([7,8,9]) == 789\n",
            "Running Example: 673\n",
            "def remove_duplicate(string):\n"
          ]
        },
        {
          "name": "stderr",
          "output_type": "stream",
          "text": [
            "Setting `pad_token_id` to `eos_token_id`:2 for open-end generation.\n"
          ]
        },
        {
          "name": "stdout",
          "output_type": "stream",
          "text": [
            "def remove_duplicate(string):\n",
            "    string = string.split()\n",
            "    string = list(set(string))\n",
            "    string = \" \".join(string)\n",
            "    return string\n",
            "assert remove_duplicate(\"Python Exercises Practice Solution Exercises\")==(\"Python Exercises Practice Solution\")\n",
            "Code Failed Assertions\n",
            "Running Example: 674\n",
            "def sum_nums(x, y,m,n):\n"
          ]
        },
        {
          "name": "stderr",
          "output_type": "stream",
          "text": [
            "Setting `pad_token_id` to `eos_token_id`:2 for open-end generation.\n"
          ]
        },
        {
          "name": "stdout",
          "output_type": "stream",
          "text": [
            "def sum_nums(x, y,m,n):\n",
            "    if (x+y) in range(m,n+1):\n",
            "        return 20\n",
            "    else:\n",
            "        return x+y\n",
            "assert sum_nums(2,10,11,20)==20\n",
            "assert sum_nums(15,17,1,10)==32\n",
            "assert sum_nums(10,15,5,30)==20\n",
            "Running Example: 675\n",
            "def remove_extra_char(text1):\n"
          ]
        },
        {
          "name": "stderr",
          "output_type": "stream",
          "text": [
            "Setting `pad_token_id` to `eos_token_id`:2 for open-end generation.\n"
          ]
        },
        {
          "name": "stdout",
          "output_type": "stream",
          "text": [
            "def remove_extra_char(text1):\n",
            "    text1 = re.sub(r'[^a-zA-Z0-9]', '', text1)\n",
            "    return text1\n",
            "assert remove_extra_char('**//Google Android// - 12. ') == 'GoogleAndroid12'\n",
            "assert remove_extra_char('****//Google Flutter//*** - 36. ') == 'GoogleFlutter36'\n",
            "assert remove_extra_char('**//Google Firebase// - 478. ') == 'GoogleFirebase478'\n",
            "Running Example: 676\n",
            "def validity_triangle(a,b,c):\n"
          ]
        },
        {
          "name": "stderr",
          "output_type": "stream",
          "text": [
            "Setting `pad_token_id` to `eos_token_id`:2 for open-end generation.\n"
          ]
        },
        {
          "name": "stdout",
          "output_type": "stream",
          "text": [
            "def validity_triangle(a,b,c):\n",
            "    if a+b>c and a+c>b and b+c>a:\n",
            "        return True\n",
            "    else:\n",
            "        return False\n",
            "assert validity_triangle(60,50,90)==False\n",
            "Code Failed Assertions\n",
            "Running Example: 677\n",
            "def remove_spaces(str1):\n"
          ]
        },
        {
          "name": "stderr",
          "output_type": "stream",
          "text": [
            "Setting `pad_token_id` to `eos_token_id`:2 for open-end generation.\n"
          ]
        },
        {
          "name": "stdout",
          "output_type": "stream",
          "text": [
            "def remove_spaces(str1):\n",
            "    return str1.replace(\" \",\"\")\n",
            "assert remove_spaces(\"a b c\") == \"abc\"\n",
            "assert remove_spaces(\"1 2 3\") == \"123\"\n",
            "assert remove_spaces(\" b c\") == \"bc\"\n",
            "Running Example: 678\n",
            "def access_key(ditionary,key):\n"
          ]
        },
        {
          "name": "stderr",
          "output_type": "stream",
          "text": [
            "Setting `pad_token_id` to `eos_token_id`:2 for open-end generation.\n"
          ]
        },
        {
          "name": "stdout",
          "output_type": "stream",
          "text": [
            "def access_key(ditionary,key):\n",
            "    return dictionary[key]\n",
            "assert access_key({'physics': 80, 'math': 90, 'chemistry': 86},0)== 'physics'\n",
            "Code Failed Assertionsname 'dictionary' is not defined\n",
            "Running Example: 679\n",
            "def increasing_trend(nums):\n"
          ]
        },
        {
          "name": "stderr",
          "output_type": "stream",
          "text": [
            "Setting `pad_token_id` to `eos_token_id`:2 for open-end generation.\n"
          ]
        },
        {
          "name": "stdout",
          "output_type": "stream",
          "text": [
            "def increasing_trend(nums):\n",
            "    for i in range(len(nums)-1):\n",
            "        if nums[i] > nums[i+1]:\n",
            "            return False\n",
            "    return True\n",
            "assert increasing_trend([1,2,3,4]) == True\n",
            "assert increasing_trend([4,3,2,1]) == False\n",
            "assert increasing_trend([0,1,4,9]) == True\n",
            "Running Example: 680\n",
            "def smallest_Divisor(n):\n"
          ]
        },
        {
          "name": "stderr",
          "output_type": "stream",
          "text": [
            "Setting `pad_token_id` to `eos_token_id`:2 for open-end generation.\n"
          ]
        },
        {
          "name": "stdout",
          "output_type": "stream",
          "text": [
            "def smallest_Divisor(n):\n",
            "    for i in range(2, n):\n",
            "        if n % i == 0:\n",
            "            return i\n",
            "assert smallest_Divisor(10) == 2\n",
            "assert smallest_Divisor(25) == 5\n",
            "assert smallest_Divisor(31) == 31\n",
            "Code Failed Assertions\n",
            "Running Example: 681\n",
            "def mul_list(nums1,nums2):\n"
          ]
        },
        {
          "name": "stderr",
          "output_type": "stream",
          "text": [
            "Setting `pad_token_id` to `eos_token_id`:2 for open-end generation.\n"
          ]
        },
        {
          "name": "stdout",
          "output_type": "stream",
          "text": [
            "def mul_list(nums1,nums2):\n",
            "    return list(map(lambda x,y:x*y,nums1,nums2))\n",
            "assert mul_list([1, 2, 3],[4,5,6])==[4,10,18]\n",
            "assert mul_list([1,2],[3,4])==[3,8]\n",
            "assert mul_list([90,120],[50,70])==[4500,8400]\n",
            "Running Example: 682\n",
            "def sum_Square(n) :\n"
          ]
        },
        {
          "name": "stderr",
          "output_type": "stream",
          "text": [
            "Setting `pad_token_id` to `eos_token_id`:2 for open-end generation.\n"
          ]
        },
        {
          "name": "stdout",
          "output_type": "stream",
          "text": [
            "def sum_Square(n) :\n",
            "    for i in range(1,n+1) :\n",
            "        for j in range(1,n+1) :\n",
            "            if i*i + j*j == n :\n",
            "                return True\n",
            "    return False\n",
            "assert sum_Square(25) == True\n",
            "assert sum_Square(24) == False\n",
            "assert sum_Square(17) == True\n",
            "Running Example: 683\n",
            "def count_Char(str,x):\n"
          ]
        },
        {
          "name": "stderr",
          "output_type": "stream",
          "text": [
            "Setting `pad_token_id` to `eos_token_id`:2 for open-end generation.\n"
          ]
        },
        {
          "name": "stdout",
          "output_type": "stream",
          "text": [
            "def count_Char(str,x):\n",
            "    count = 0\n",
            "    for i in range(len(str)):\n",
            "        if str[i] == x:\n",
            "            count += 1\n",
            "    return count\n",
            "assert count_Char(\"abcac\",'a') == 4\n",
            "Code Failed Assertions\n",
            "Running Example: 684\n",
            "def sum_Of_Primes(n):\n"
          ]
        },
        {
          "name": "stderr",
          "output_type": "stream",
          "text": [
            "Setting `pad_token_id` to `eos_token_id`:2 for open-end generation.\n"
          ]
        },
        {
          "name": "stdout",
          "output_type": "stream",
          "text": [
            "def sum_Of_Primes(n):\n",
            "    sum = 0\n",
            "    for i in range(2,n+1):\n",
            "        if is_prime(i):\n",
            "            sum += i\n",
            "    return sum\n",
            "assert sum_Of_Primes(10) == 17\n",
            "Code Failed Assertionsname 'is_prime' is not defined\n",
            "Running Example: 685\n",
            "defaultdict \n",
            "def freq_element(test_tup):\n"
          ]
        },
        {
          "name": "stderr",
          "output_type": "stream",
          "text": [
            "Setting `pad_token_id` to `eos_token_id`:2 for open-end generation.\n"
          ]
        },
        {
          "name": "stdout",
          "output_type": "stream",
          "text": [
            "None\n",
            "Code Didn't Run\n",
            "Errorexec() arg 1 must be a string, bytes or code object\n",
            "Running Example: 686\n",
            "def recur_gcd(a, b):\n"
          ]
        },
        {
          "name": "stderr",
          "output_type": "stream",
          "text": [
            "Setting `pad_token_id` to `eos_token_id`:2 for open-end generation.\n"
          ]
        },
        {
          "name": "stdout",
          "output_type": "stream",
          "text": [
            "def recur_gcd(a, b):\n",
            "    if b == 0:\n",
            "        return a\n",
            "    else:\n",
            "        return recur_gcd(b, a % b)\n",
            "assert recur_gcd(12,14) == 2\n",
            "assert recur_gcd(13,17) == 1\n",
            "assert recur_gcd(9, 3) == 3\n",
            "Running Example: 687\n",
            "def len_complex(a,b):\n"
          ]
        },
        {
          "name": "stderr",
          "output_type": "stream",
          "text": [
            "Setting `pad_token_id` to `eos_token_id`:2 for open-end generation.\n"
          ]
        },
        {
          "name": "stdout",
          "output_type": "stream",
          "text": [
            "def len_complex(a,b):\n",
            "    return math.sqrt(a**2 + b**2)\n",
            "assert len_complex(3,4)==5.0\n",
            "assert len_complex(9,10)==13.45362404707371\n",
            "assert len_complex(7,9)==11.40175425099138\n",
            "Running Example: 688\n",
            "def min_jumps(arr, n):\n"
          ]
        },
        {
          "name": "stderr",
          "output_type": "stream",
          "text": [
            "Setting `pad_token_id` to `eos_token_id`:2 for open-end generation.\n"
          ]
        },
        {
          "name": "stdout",
          "output_type": "stream",
          "text": [
            "None\n",
            "Code Didn't Run\n",
            "Errorexec() arg 1 must be a string, bytes or code object\n",
            "Running Example: 689\n",
            "def mul_consecutive_nums(nums):\n"
          ]
        },
        {
          "name": "stderr",
          "output_type": "stream",
          "text": [
            "Setting `pad_token_id` to `eos_token_id`:2 for open-end generation.\n"
          ]
        },
        {
          "name": "stdout",
          "output_type": "stream",
          "text": [
            "def mul_consecutive_nums(nums):\n",
            "    result = []\n",
            "    for i in range(len(nums)):\n",
            "        if i == 0:\n",
            "            result.append(nums[i])\n",
            "        else:\n",
            "            result.append(result[i-1] * nums[i])\n",
            "    return result\n",
            "assert mul_consecutive_nums([1, 1, 3, 4, 4, 5, 6, 7])==[1, 3, 12, 16, 20, 30, 42]\n",
            "Code Failed Assertions\n",
            "Running Example: 690\n",
            "def group_element(test_list):\n"
          ]
        },
        {
          "name": "stderr",
          "output_type": "stream",
          "text": [
            "Setting `pad_token_id` to `eos_token_id`:2 for open-end generation.\n"
          ]
        },
        {
          "name": "stdout",
          "output_type": "stream",
          "text": [
            "def group_element(test_list):\n",
            "    d = {}\n",
            "    for key, val in test_list:\n",
            "        d.setdefault(val, []).append(key)\n",
            "    return d\n",
            "assert group_element([(6, 5), (2, 7), (2, 5), (8, 7), (9, 8), (3, 7)]) == {5: [6, 2], 7: [2, 8, 3], 8: [9]}\n",
            "assert group_element([(7, 6), (3, 8), (3, 6), (9, 8), (10, 9), (4, 8)]) == {6: [7, 3], 8: [3, 9, 4], 9: [10]}\n",
            "assert group_element([(8, 7), (4, 9), (4, 7), (10, 9), (11, 10), (5, 9)]) == {7: [8, 4], 9: [4, 10, 5], 10: [11]}\n",
            "Running Example: 691\n",
            "def last_Two_Digits(N):\n"
          ]
        },
        {
          "name": "stderr",
          "output_type": "stream",
          "text": [
            "Setting `pad_token_id` to `eos_token_id`:2 for open-end generation.\n"
          ]
        },
        {
          "name": "stdout",
          "output_type": "stream",
          "text": [
            "def last_Two_Digits(N):\n",
            "    if N == 0:\n",
            "        return 1\n",
            "    elif N == 1:\n",
            "        return 1\n",
            "    else:\n",
            "        return (N % 100)\n",
            "assert last_Two_Digits(7) == 40\n",
            "Code Failed Assertions\n",
            "Running Example: 692\n",
            "def remove_multiple_spaces(text1):\n"
          ]
        },
        {
          "name": "stderr",
          "output_type": "stream",
          "text": [
            "Setting `pad_token_id` to `eos_token_id`:2 for open-end generation.\n"
          ]
        },
        {
          "name": "stdout",
          "output_type": "stream",
          "text": [
            "def remove_multiple_spaces(text1):\n",
            "    text1 = re.sub(' +','', text1)\n",
            "    return text1\n",
            "assert remove_multiple_spaces('Google      Assistant') == 'Google Assistant'\n",
            "Code Failed Assertions\n",
            "Running Example: 693\n",
            "def extract_unique(test_dict):\n"
          ]
        },
        {
          "name": "stderr",
          "output_type": "stream",
          "text": [
            "Setting `pad_token_id` to `eos_token_id`:2 for open-end generation.\n"
          ]
        },
        {
          "name": "stdout",
          "output_type": "stream",
          "text": [
            "def extract_unique(test_dict):\n",
            "    unique_values = []\n",
            "    for key in test_dict:\n",
            "        if test_dict[key] not in unique_values:\n",
            "            unique_values.append(test_dict[key])\n",
            "    return unique_values\n",
            "assert extract_unique({'msm' : [5, 6, 7, 8],'is' : [10, 11, 7, 5],'best' : [6, 12, 10, 8],'for' : [1, 2, 5]} ) == [1, 2, 5, 6, 7, 8, 10, 11, 12]\n",
            "Code Failed Assertions\n",
            "Running Example: 694\n",
            "def check_greater(test_tup1, test_tup2):\n"
          ]
        },
        {
          "name": "stderr",
          "output_type": "stream",
          "text": [
            "Setting `pad_token_id` to `eos_token_id`:2 for open-end generation.\n"
          ]
        },
        {
          "name": "stdout",
          "output_type": "stream",
          "text": [
            "def check_greater(test_tup1, test_tup2):\n",
            "    for i in range(len(test_tup1)):\n",
            "        if test_tup1[i] > test_tup2[i]:\n",
            "            return True\n",
            "    return False\n",
            "assert check_greater((10, 4, 5), (13, 5, 18)) == True\n",
            "Code Failed Assertions\n",
            "Running Example: 695\n",
            "def zip_list(list1,list2):\n"
          ]
        },
        {
          "name": "stderr",
          "output_type": "stream",
          "text": [
            "Setting `pad_token_id` to `eos_token_id`:2 for open-end generation.\n"
          ]
        },
        {
          "name": "stdout",
          "output_type": "stream",
          "text": [
            "def zip_list(list1,list2):\n",
            "    return list(zip(list1,list2))\n",
            "assert zip_list([[1, 3], [5, 7], [9, 11]] ,[[2, 4], [6, 8], [10, 12, 14]] )==[[1, 3, 2, 4], [5, 7, 6, 8], [9, 11, 10, 12, 14]]\n",
            "Code Failed Assertions\n",
            "Running Example: 696\n",
            "def count_even(array_nums):\n"
          ]
        },
        {
          "name": "stderr",
          "output_type": "stream",
          "text": [
            "Setting `pad_token_id` to `eos_token_id`:2 for open-end generation.\n"
          ]
        },
        {
          "name": "stdout",
          "output_type": "stream",
          "text": [
            "def count_even(array_nums):\n",
            "    return len(list(filter(lambda x: x%2==0, array_nums)))\n",
            "assert count_even([1, 2, 3, 5, 7, 8, 9, 10])==3\n",
            "assert count_even([10,15,14,13,-18,12,-20])==5\n",
            "assert count_even([1, 2, 4, 8, 9])==3\n",
            "Running Example: 697\n",
            "def sort_dict_item(test_dict):\n"
          ]
        },
        {
          "name": "stderr",
          "output_type": "stream",
          "text": [
            "Setting `pad_token_id` to `eos_token_id`:2 for open-end generation.\n"
          ]
        },
        {
          "name": "stdout",
          "output_type": "stream",
          "text": [
            "def sort_dict_item(test_dict):\n",
            "    return sorted(test_dict.items(), key=lambda x: x[0][0]*x[0][1])\n",
            "assert sort_dict_item({(5, 6) : 3, (2, 3) : 9, (8, 4): 10, (6, 4): 12} ) == {(2, 3): 9, (6, 4): 12, (5, 6): 3, (8, 4): 10}\n",
            "Code Failed Assertions\n",
            "Running Example: 698\n",
            "def min_Swaps(str1,str2) :\n"
          ]
        },
        {
          "name": "stderr",
          "output_type": "stream",
          "text": [
            "Setting `pad_token_id` to `eos_token_id`:2 for open-end generation.\n"
          ]
        },
        {
          "name": "stdout",
          "output_type": "stream",
          "text": [
            "None\n",
            "Code Didn't Run\n",
            "Errorexec() arg 1 must be a string, bytes or code object\n",
            "Running Example: 699\n",
            "def count_range_in_list(li, min, max):\n"
          ]
        },
        {
          "name": "stderr",
          "output_type": "stream",
          "text": [
            "Setting `pad_token_id` to `eos_token_id`:2 for open-end generation.\n"
          ]
        },
        {
          "name": "stdout",
          "output_type": "stream",
          "text": [
            "def count_range_in_list(li, min, max):\n",
            "    count = 0\n",
            "    for i in li:\n",
            "        if i >= min and i <= max:\n",
            "            count += 1\n",
            "    return count\n",
            "assert count_range_in_list([10,20,30,40,40,40,70,80,99],40,100)==6\n",
            "assert count_range_in_list(['a','b','c','d','e','f'],'a','e')==5\n",
            "assert count_range_in_list([7,8,9,15,17,19,45],15,20)==3\n",
            "Running Example: 700\n",
            "def equilibrium_index(arr):\n"
          ]
        },
        {
          "name": "stderr",
          "output_type": "stream",
          "text": [
            "Setting `pad_token_id` to `eos_token_id`:2 for open-end generation.\n"
          ]
        },
        {
          "name": "stdout",
          "output_type": "stream",
          "text": [
            "def equilibrium_index(arr):\n",
            "    left_sum = 0\n",
            "    right_sum = sum(arr)\n",
            "    for i in range(len(arr)):\n",
            "        right_sum -= arr[i]\n",
            "        if left_sum == right_sum:\n",
            "            return i\n",
            "        left_sum += arr[i]\n",
            "    return -1\n",
            "assert equilibrium_index([1, 2, 3, 4, 1, 2, 3]) == 3\n",
            "Code Failed Assertionssum() missing 1 required positional argument: 'b'\n",
            "Running Example: 701\n",
            "def find_ind(key, i, n, \n",
            "\t\t\tk, arr):\n"
          ]
        },
        {
          "name": "stderr",
          "output_type": "stream",
          "text": [
            "Setting `pad_token_id` to `eos_token_id`:2 for open-end generation.\n"
          ]
        },
        {
          "name": "stdout",
          "output_type": "stream",
          "text": [
            "None\n",
            "Code Didn't Run\n",
            "Errorexec() arg 1 must be a string, bytes or code object\n",
            "Running Example: 702\n",
            "def is_key_present(d,x):\n"
          ]
        },
        {
          "name": "stderr",
          "output_type": "stream",
          "text": [
            "Setting `pad_token_id` to `eos_token_id`:2 for open-end generation.\n"
          ]
        },
        {
          "name": "stdout",
          "output_type": "stream",
          "text": [
            "def is_key_present(d,x):\n",
            "    if x in d:\n",
            "        return True\n",
            "    else:\n",
            "        return False\n",
            "assert is_key_present({1: 10, 2: 20, 3: 30, 4: 40, 5: 50, 6: 60},5)==True\n",
            "assert is_key_present({1: 10, 2: 20, 3: 30, 4: 40, 5: 50, 6: 60},6)==True\n",
            "assert is_key_present({1: 10, 2: 20, 3: 30, 4: 40, 5: 50, 6: 60},10)==False\n",
            "Running Example: 703\n",
            "def harmonic_sum(n):\n"
          ]
        },
        {
          "name": "stderr",
          "output_type": "stream",
          "text": [
            "Setting `pad_token_id` to `eos_token_id`:2 for open-end generation.\n"
          ]
        },
        {
          "name": "stdout",
          "output_type": "stream",
          "text": [
            "def harmonic_sum(n):\n",
            "    if n == 1:\n",
            "        return 1\n",
            "    else:\n",
            "        return n + harmonic_sum(n-1)\n",
            "assert harmonic_sum(10)==2.9289682539682538\n",
            "Code Failed Assertions\n",
            "Running Example: 704\n",
            "def sort_sublists(list1):\n"
          ]
        },
        {
          "name": "stderr",
          "output_type": "stream",
          "text": [
            "Setting `pad_token_id` to `eos_token_id`:2 for open-end generation.\n"
          ]
        },
        {
          "name": "stdout",
          "output_type": "stream",
          "text": [
            "def sort_sublists(list1):\n",
            "    list2 = []\n",
            "    for i in range(len(list1)):\n",
            "        list2.append(list1[i])\n",
            "    list2.sort(key=lambda x: (len(x), x))\n",
            "    return list2\n",
            "assert sort_sublists([[2], [0], [1, 3], [0, 7], [9, 11], [13, 15, 17]])==[[0], [2], [0, 7], [1, 3], [9, 11], [13, 15, 17]]\n",
            "assert sort_sublists([[1], [2, 3], [4, 5, 6], [7], [10, 11]])==[[1], [7], [2, 3], [10, 11], [4, 5, 6]]\n",
            "assert sort_sublists([[\"python\"],[\"java\",\"C\",\"C++\"],[\"DBMS\"],[\"SQL\",\"HTML\"]])==[['DBMS'], ['python'], ['SQL', 'HTML'], ['java', 'C', 'C++']]\n",
            "Running Example: 705\n",
            "def is_subset(arr1, m, arr2, n):\n"
          ]
        },
        {
          "name": "stderr",
          "output_type": "stream",
          "text": [
            "Setting `pad_token_id` to `eos_token_id`:2 for open-end generation.\n"
          ]
        },
        {
          "name": "stdout",
          "output_type": "stream",
          "text": [
            "def is_subset(arr1, m, arr2, n):\n",
            "    if m == 0:\n",
            "        return True\n",
            "    if n == 0:\n",
            "        return False\n",
            "assert is_subset([11, 1, 13, 21, 3, 7], 6, [11, 3, 7, 1], 4) == True\n",
            "Code Failed Assertions\n",
            "Running Example: 706\n",
            "def count_Set_Bits(n) :\n"
          ]
        },
        {
          "name": "stderr",
          "output_type": "stream",
          "text": [
            "Setting `pad_token_id` to `eos_token_id`:2 for open-end generation.\n"
          ]
        },
        {
          "name": "stdout",
          "output_type": "stream",
          "text": [
            "def count_Set_Bits(n) :\n",
            "    count = 0\n",
            "    while (n) :\n",
            "        count += n & 1\n",
            "        n >>= 1\n",
            "    return count\n",
            "assert count_Set_Bits(16) == 33\n",
            "Code Failed Assertions\n",
            "Running Example: 707\n",
            "def Convert(string):\n"
          ]
        },
        {
          "name": "stderr",
          "output_type": "stream",
          "text": [
            "Setting `pad_token_id` to `eos_token_id`:2 for open-end generation.\n"
          ]
        },
        {
          "name": "stdout",
          "output_type": "stream",
          "text": [
            "def Convert(string):\n",
            "    li = list(string.split(\" \"))\n",
            "    return li\n",
            "assert Convert('python program') == ['python','program']\n",
            "assert Convert('Data Analysis') ==['Data','Analysis']\n",
            "assert Convert('Hadoop Training') == ['Hadoop','Training']\n",
            "Running Example: 708\n",
            "defaultdict \n",
            "def get_unique(test_list):\n"
          ]
        },
        {
          "name": "stderr",
          "output_type": "stream",
          "text": [
            "Setting `pad_token_id` to `eos_token_id`:2 for open-end generation.\n"
          ]
        },
        {
          "name": "stdout",
          "output_type": "stream",
          "text": [
            "None\n",
            "Code Didn't Run\n",
            "Errorexec() arg 1 must be a string, bytes or code object\n",
            "Running Example: 709\n",
            "def front_and_rear(test_tup):\n"
          ]
        },
        {
          "name": "stderr",
          "output_type": "stream",
          "text": [
            "Setting `pad_token_id` to `eos_token_id`:2 for open-end generation.\n"
          ]
        },
        {
          "name": "stdout",
          "output_type": "stream",
          "text": [
            "def front_and_rear(test_tup):\n",
            "    return test_tup[0], test_tup[-1]\n",
            "assert front_and_rear((10, 4, 5, 6, 7)) == (10, 7)\n",
            "assert front_and_rear((1, 2, 3, 4, 5)) == (1, 5)\n",
            "assert front_and_rear((6, 7, 8, 9, 10)) == (6, 10)\n",
            "Running Example: 710\n",
            "def product_Equal(n):\n"
          ]
        },
        {
          "name": "stderr",
          "output_type": "stream",
          "text": [
            "Setting `pad_token_id` to `eos_token_id`:2 for open-end generation.\n"
          ]
        },
        {
          "name": "stdout",
          "output_type": "stream",
          "text": [
            "def product_Equal(n):\n",
            "    even_product = 1\n",
            "    odd_product = 1\n",
            "    while n > 0:\n",
            "        if n % 2 == 0:\n",
            "            even_product = even_product * (n % 10)\n",
            "        else:\n",
            "            odd_product = odd_product * (n % 10)\n",
            "        n = n // 10\n",
            "    if even_product == odd_product:\n",
            "        return True\n",
            "    else:\n",
            "        return False\n",
            "assert product_Equal(2841) == True\n",
            "Code Failed Assertions\n",
            "Running Example: 711\n",
            "def remove_duplicate(list1):\n"
          ]
        },
        {
          "name": "stderr",
          "output_type": "stream",
          "text": [
            "Setting `pad_token_id` to `eos_token_id`:2 for open-end generation.\n"
          ]
        },
        {
          "name": "stdout",
          "output_type": "stream",
          "text": [
            "def remove_duplicate(list1):\n",
            "    for i in range(len(list1)):\n",
            "        for j in range(len(list1[i])):\n",
            "            for k in range(len(list1[i])):\n",
            "                if list1[i][j] == list1[i][k] and j!= k:\n",
            "                    list1[i].remove(list1[i][j])\n",
            "    return list1\n",
            "assert remove_duplicate([[10, 20], [40], [30, 56, 25], [10, 20], [33], [40]])==[[10, 20], [30, 56, 25], [33], [40]] \n",
            "Code Failed Assertions\n",
            "Running Example: 712\n",
            "def check_valid(test_tup):\n"
          ]
        },
        {
          "name": "stderr",
          "output_type": "stream",
          "text": [
            "Setting `pad_token_id` to `eos_token_id`:2 for open-end generation.\n"
          ]
        },
        {
          "name": "stdout",
          "output_type": "stream",
          "text": [
            "def check_valid(test_tup):\n",
            "    for i in test_tup:\n",
            "        if i not in valid_values:\n",
            "            return False\n",
            "    return True\n",
            "assert check_valid((True, True, True, True) ) == True\n",
            "Code Failed Assertionsname 'valid_values' is not defined\n",
            "Running Example: 713\n",
            "def count_Fac(n):\n"
          ]
        },
        {
          "name": "stderr",
          "output_type": "stream",
          "text": [
            "Setting `pad_token_id` to `eos_token_id`:2 for open-end generation.\n"
          ]
        },
        {
          "name": "stdout",
          "output_type": "stream",
          "text": [
            "def count_Fac(n):\n",
            "    count = 0\n",
            "    for i in range(2,n+1):\n",
            "        if n%i == 0:\n",
            "            count += 1\n",
            "    return count\n",
            "assert count_Fac(24) == 3\n",
            "Code Failed Assertions\n",
            "Running Example: 714\n",
            "def str_to_tuple(test_str):\n"
          ]
        },
        {
          "name": "stderr",
          "output_type": "stream",
          "text": [
            "Setting `pad_token_id` to `eos_token_id`:2 for open-end generation.\n"
          ]
        },
        {
          "name": "stdout",
          "output_type": "stream",
          "text": [
            "def str_to_tuple(test_str):\n",
            "    return tuple(int(i) for i in test_str.split())\n",
            "assert str_to_tuple(\"1, -5, 4, 6, 7\") == (1, -5, 4, 6, 7)\n",
            "Code Failed Assertionsinvalid literal for int() with base 10: '1,'\n",
            "Running Example: 715\n",
            "def rombus_perimeter(a):\n"
          ]
        },
        {
          "name": "stderr",
          "output_type": "stream",
          "text": [
            "Setting `pad_token_id` to `eos_token_id`:2 for open-end generation.\n"
          ]
        },
        {
          "name": "stdout",
          "output_type": "stream",
          "text": [
            "def rombus_perimeter(a):\n",
            "    return a * 4\n",
            "assert rombus_perimeter(10)==40\n",
            "assert rombus_perimeter(5)==20\n",
            "assert rombus_perimeter(4)==16\n",
            "Running Example: 716\n",
            "def sd_calc(data):\n"
          ]
        },
        {
          "name": "stderr",
          "output_type": "stream",
          "text": [
            "Setting `pad_token_id` to `eos_token_id`:2 for open-end generation.\n"
          ]
        },
        {
          "name": "stdout",
          "output_type": "stream",
          "text": [
            "def sd_calc(data):\n",
            "    mean = np.mean(data)\n",
            "    sd = np.sqrt(np.sum((data - mean)**2)/(len(data)-1))\n",
            "    return sd\n",
            "assert sd_calc([4, 2, 5, 8, 6])== 2.23606797749979\n",
            "assert sd_calc([1,2,3,4,5,6,7])==2.160246899469287\n",
            "assert sd_calc([5,9,10,15,6,4])==4.070217029430577\n",
            "Running Example: 717\n",
            "def alternate_elements(list1):\n"
          ]
        },
        {
          "name": "stderr",
          "output_type": "stream",
          "text": [
            "Setting `pad_token_id` to `eos_token_id`:2 for open-end generation.\n"
          ]
        },
        {
          "name": "stdout",
          "output_type": "stream",
          "text": [
            "def alternate_elements(list1):\n",
            "    list2 = []\n",
            "    for i in range(0, len(list1), 2):\n",
            "        list2.append(list1[i])\n",
            "    return list2\n",
            "assert alternate_elements([\"red\", \"black\", \"white\", \"green\", \"orange\"])==['red', 'white', 'orange']\n",
            "assert alternate_elements([2, 0, 3, 4, 0, 2, 8, 3, 4, 2])==[2, 3, 0, 8, 4]\n",
            "assert alternate_elements([1, 2, 3, 4, 5, 6, 7, 8, 9, 10])==[1,3,5,7,9]\n",
            "Running Example: 718\n",
            "def text_match(text):\n"
          ]
        },
        {
          "name": "stderr",
          "output_type": "stream",
          "text": [
            "Setting `pad_token_id` to `eos_token_id`:2 for open-end generation.\n"
          ]
        },
        {
          "name": "stdout",
          "output_type": "stream",
          "text": [
            "def text_match(text):\n",
            "    return re.match(r'a+b+', text)\n",
            "assert text_match(\"ac\")==('Found a match!')\n",
            "Code Failed Assertions\n",
            "Running Example: 719\n",
            "def add_dict_to_tuple(test_tup, test_dict):\n"
          ]
        },
        {
          "name": "stderr",
          "output_type": "stream",
          "text": [
            "Setting `pad_token_id` to `eos_token_id`:2 for open-end generation.\n"
          ]
        },
        {
          "name": "stdout",
          "output_type": "stream",
          "text": [
            "def add_dict_to_tuple(test_tup, test_dict):\n",
            "    \"\"\"\n",
            "    Add a dictionary to a tuple.\n",
            "    \"\"\"\n",
            "    return test_tup + (test_dict,)\n",
            "assert add_dict_to_tuple((4, 5, 6), {\"MSAM\" : 1, \"is\" : 2, \"best\" : 3} ) == (4, 5, 6, {'MSAM': 1, 'is': 2, 'best': 3})\n",
            "assert add_dict_to_tuple((1, 2, 3), {\"UTS\" : 2, \"is\" : 3, \"Worst\" : 4} ) == (1, 2, 3, {'UTS': 2, 'is': 3, 'Worst': 4})\n",
            "assert add_dict_to_tuple((8, 9, 10), {\"POS\" : 3, \"is\" : 4, \"Okay\" : 5} ) == (8, 9, 10, {'POS': 3, 'is': 4, 'Okay': 5})\n",
            "Running Example: 720\n",
            "def maxAverageOfPath(cost, N):\n"
          ]
        },
        {
          "name": "stderr",
          "output_type": "stream",
          "text": [
            "Setting `pad_token_id` to `eos_token_id`:2 for open-end generation.\n"
          ]
        },
        {
          "name": "stdout",
          "output_type": "stream",
          "text": [
            "None\n",
            "Code Didn't Run\n",
            "Errorexec() arg 1 must be a string, bytes or code object\n",
            "Running Example: 721\n",
            "def filter_data(students,h,w):\n"
          ]
        },
        {
          "name": "stderr",
          "output_type": "stream",
          "text": [
            "Setting `pad_token_id` to `eos_token_id`:2 for open-end generation.\n"
          ]
        },
        {
          "name": "stdout",
          "output_type": "stream",
          "text": [
            "def filter_data(students,h,w):\n",
            "    filtered_data = []\n",
            "    for i in students:\n",
            "        if i['height'] > h and i['weight'] > w:\n",
            "            filtered_data.append(i)\n",
            "    return filtered_data\n",
            "assert filter_data({'Cierra Vega': (6.2, 70), 'Alden Cantrell': (5.9, 65), 'Kierra Gentry': (6.0, 68), 'Pierre Cox': (5.8, 66)},6.0,70)=={'Cierra Vega': (6.2, 70)}\n",
            "Code Failed Assertionsstring indices must be integers, not 'str'\n",
            "Running Example: 722\n",
            "def count_same_pair(nums1, nums2):\n"
          ]
        },
        {
          "name": "stderr",
          "output_type": "stream",
          "text": [
            "Setting `pad_token_id` to `eos_token_id`:2 for open-end generation.\n"
          ]
        },
        {
          "name": "stdout",
          "output_type": "stream",
          "text": [
            "def count_same_pair(nums1, nums2):\n",
            "    return len(list(filter(lambda x: x[0] == x[1], map(lambda x: (x[0], x[1]), zip(nums1, nums2)))))\n",
            "assert count_same_pair([1, 2, 3, 4, 5, 6, 7, 8],[2, 2, 3, 1, 2, 6, 7, 9])==4\n",
            "assert count_same_pair([0, 1, 2, -1, -5, 6, 0, -3, -2, 3, 4, 6, 8],[2, 1, 2, -1, -5, 6, 4, -3, -2, 3, 4, 6, 8])==11\n",
            "assert count_same_pair([2, 4, -6, -9, 11, -12, 14, -5, 17],[2, 1, 2, -1, -5, 6, 4, -3, -2, 3, 4, 6, 8])==1\n",
            "Running Example: 723\n",
            "def power_base_sum(base, power):\n"
          ]
        },
        {
          "name": "stderr",
          "output_type": "stream",
          "text": [
            "Setting `pad_token_id` to `eos_token_id`:2 for open-end generation.\n"
          ]
        },
        {
          "name": "stdout",
          "output_type": "stream",
          "text": [
            "def power_base_sum(base, power):\n",
            "    return sum(int(i) for i in str(base**power))\n",
            "assert power_base_sum(2,100)==115\n",
            "Code Failed Assertionssum() missing 1 required positional argument: 'b'\n",
            "Running Example: 724\n",
            "def extract_quotation(text1):\n"
          ]
        },
        {
          "name": "stderr",
          "output_type": "stream",
          "text": [
            "Setting `pad_token_id` to `eos_token_id`:2 for open-end generation.\n"
          ]
        },
        {
          "name": "stdout",
          "output_type": "stream",
          "text": [
            "def extract_quotation(text1):\n",
            "    # your code goes here\n",
            "    return re.findall(r'\"(.*?)\"', text1)\n",
            "assert extract_quotation('Cortex \"A53\" Based \"multi\" tasking \"Processor\"') == ['A53', 'multi', 'Processor']\n",
            "assert extract_quotation('Cast your \"favorite\" entertainment \"apps\"') == ['favorite', 'apps']\n",
            "assert extract_quotation('Watch content \"4k Ultra HD\" resolution with \"HDR 10\" Support') == ['4k Ultra HD', 'HDR 10']\n",
            "Running Example: 725\n",
            "def multiply_elements(test_tup):\n"
          ]
        },
        {
          "name": "stderr",
          "output_type": "stream",
          "text": [
            "Setting `pad_token_id` to `eos_token_id`:2 for open-end generation.\n"
          ]
        },
        {
          "name": "stdout",
          "output_type": "stream",
          "text": [
            "def multiply_elements(test_tup):\n",
            "    # code goes here\n",
            "    return tuple(x*y for x,y in zip(test_tup, test_tup[1:]))\n",
            "assert multiply_elements((1, 5, 7, 8, 10)) == (5, 35, 56, 80)\n",
            "assert multiply_elements((2, 4, 5, 6, 7)) == (8, 20, 30, 42)\n",
            "assert multiply_elements((12, 13, 14, 9, 15)) == (156, 182, 126, 135)\n",
            "Running Example: 726\n",
            "def remove_char(S):\n"
          ]
        },
        {
          "name": "stderr",
          "output_type": "stream",
          "text": [
            "Setting `pad_token_id` to `eos_token_id`:2 for open-end generation.\n"
          ]
        },
        {
          "name": "stdout",
          "output_type": "stream",
          "text": [
            "def remove_char(S):\n",
            "    return re.sub(r'[^a-zA-Z0-9]', '', S)\n",
            "assert remove_char(\"123abcjw:, .@! eiw\") == '123abcjweiw'\n",
            "assert remove_char(\"Hello1234:, ! Howare33u\") == 'Hello1234Howare33u'\n",
            "assert remove_char(\"Cool543Triks@:, Make@987Trips\") == 'Cool543TriksMake987Trips' \n",
            "Running Example: 727\n",
            "def sum_list(lst1,lst2):\n"
          ]
        },
        {
          "name": "stderr",
          "output_type": "stream",
          "text": [
            "Setting `pad_token_id` to `eos_token_id`:2 for open-end generation.\n"
          ]
        },
        {
          "name": "stdout",
          "output_type": "stream",
          "text": [
            "def sum_list(lst1,lst2):\n",
            "    sum_list = []\n",
            "    for i in range(len(lst1)):\n",
            "        sum_list.append(lst1[i] + lst2[i])\n",
            "    return sum_list\n",
            "assert sum_list([10,20,30],[15,25,35])==[25,45,65]\n",
            "assert sum_list([1,2,3],[5,6,7])==[6,8,10]\n",
            "assert sum_list([15,20,30],[15,45,75])==[30,65,105]\n",
            "Running Example: 728\n",
            "def add_list(nums1,nums2):\n"
          ]
        },
        {
          "name": "stderr",
          "output_type": "stream",
          "text": [
            "Setting `pad_token_id` to `eos_token_id`:2 for open-end generation.\n"
          ]
        },
        {
          "name": "stdout",
          "output_type": "stream",
          "text": [
            "def add_list(nums1,nums2):\n",
            "    return list(map(lambda x,y:x+y,nums1,nums2))\n",
            "assert add_list([1, 2, 3],[4,5,6])==[5, 7, 9]\n",
            "assert add_list([1,2],[3,4])==[4,6]\n",
            "assert add_list([10,20],[50,70])==[60,90]\n",
            "Running Example: 729\n",
            "def consecutive_duplicates(nums):\n"
          ]
        },
        {
          "name": "stderr",
          "output_type": "stream",
          "text": [
            "Setting `pad_token_id` to `eos_token_id`:2 for open-end generation.\n"
          ]
        },
        {
          "name": "stdout",
          "output_type": "stream",
          "text": [
            "def consecutive_duplicates(nums):\n",
            "    # Write your code here\n",
            "    # create a new list to store the result\n",
            "    result = []\n",
            "    # check if the list is empty\n",
            "    if len(nums) == 0:\n",
            "        return result\n",
            "    # check if the first element is not a duplicate\n",
            "    if nums[0]!= nums[1]:\n",
            "        result.append(nums[0])\n",
            "    # iterate through the list\n",
            "    for i in range(1, len(nums)):\n",
            "        # check if the current element is not a duplicate\n",
            "        if nums[i]!= nums[i - 1]:\n",
            "            result.append(nums[i])\n",
            "    return result\n",
            "assert consecutive_duplicates([0, 0, 1, 2, 3, 4, 4, 5, 6, 6, 6, 7, 8, 9, 4, 4 ])==[0, 1, 2, 3, 4, 5, 6, 7, 8, 9, 4]\n",
            "Code Failed Assertions\n",
            "Running Example: 730\n",
            "def lateralsurface_cone(r,h):\n"
          ]
        },
        {
          "name": "stderr",
          "output_type": "stream",
          "text": [
            "Setting `pad_token_id` to `eos_token_id`:2 for open-end generation.\n"
          ]
        },
        {
          "name": "stdout",
          "output_type": "stream",
          "text": [
            "def lateralsurface_cone(r,h):\n",
            "    return (r**2*np.pi + r*h*np.pi)\n",
            "assert lateralsurface_cone(5,12)==204.20352248333654\n",
            "Code Failed Assertions\n",
            "Running Example: 731\n",
            "def replace_specialchar(text):\n"
          ]
        },
        {
          "name": "stderr",
          "output_type": "stream",
          "text": [
            "Setting `pad_token_id` to `eos_token_id`:2 for open-end generation.\n"
          ]
        },
        {
          "name": "stdout",
          "output_type": "stream",
          "text": [
            "def replace_specialchar(text):\n",
            "    text = text.replace(\" \", \":\")\n",
            "    text = text.replace(\",\", \":\")\n",
            "    text = text.replace(\".\", \":\")\n",
            "    return text\n",
            "assert replace_specialchar('Python language, Programming language.')==('Python:language::Programming:language:')\n",
            "assert replace_specialchar('a b c,d e f')==('a:b:c:d:e:f')\n",
            "assert replace_specialchar('ram reshma,ram rahim')==('ram:reshma:ram:rahim')\n",
            "Running Example: 732\n",
            "def find_first_occurrence(A, x):\n"
          ]
        },
        {
          "name": "stderr",
          "output_type": "stream",
          "text": [
            "Setting `pad_token_id` to `eos_token_id`:2 for open-end generation.\n"
          ]
        },
        {
          "name": "stdout",
          "output_type": "stream",
          "text": [
            "def find_first_occurrence(A, x):\n",
            "    low = 0\n",
            "    high = len(A) - 1\n",
            "    while low <= high:\n",
            "        mid = (low + high) // 2\n",
            "        if A[mid] == x:\n",
            "            return mid\n",
            "        elif A[mid] < x:\n",
            "            low = mid + 1\n",
            "        else:\n",
            "            high = mid - 1\n",
            "    return -1\n",
            "assert find_first_occurrence([2, 5, 5, 5, 6, 6, 8, 9, 9, 9], 5) == 1\n",
            "assert find_first_occurrence([2, 3, 5, 5, 6, 6, 8, 9, 9, 9], 5) == 2\n",
            "assert find_first_occurrence([2, 4, 1, 5, 6, 6, 8, 9, 9, 9], 6) == 4\n",
            "Running Example: 733\n",
            "def sum_Of_Subarray_Prod(arr,n):\n"
          ]
        },
        {
          "name": "stderr",
          "output_type": "stream",
          "text": [
            "Setting `pad_token_id` to `eos_token_id`:2 for open-end generation.\n"
          ]
        },
        {
          "name": "stdout",
          "output_type": "stream",
          "text": [
            "def sum_Of_Subarray_Prod(arr,n):\n",
            "    # code here\n",
            "    res = 0\n",
            "    for i in range(n):\n",
            "        for j in range(i,n):\n",
            "            res += arr[i]*arr[j]\n",
            "    return res\n",
            "assert sum_Of_Subarray_Prod([1,2,3],3) == 20\n",
            "Code Failed Assertions\n",
            "Running Example: 734\n",
            "def set_middle_bits(n):\n"
          ]
        },
        {
          "name": "stderr",
          "output_type": "stream",
          "text": [
            "Setting `pad_token_id` to `eos_token_id`:2 for open-end generation.\n"
          ]
        },
        {
          "name": "stdout",
          "output_type": "stream",
          "text": [
            "def set_middle_bits(n):\n",
            "    return n ^ (n >> 1) ^ (n << 1)\n",
            "assert toggle_middle_bits(9) == 15\n",
            "Code Failed Assertionsname 'toggle_middle_bits' is not defined\n",
            "Running Example: 735\n",
            "def left_insertion(a, x):\n"
          ]
        },
        {
          "name": "stderr",
          "output_type": "stream",
          "text": [
            "Setting `pad_token_id` to `eos_token_id`:2 for open-end generation.\n"
          ]
        },
        {
          "name": "stdout",
          "output_type": "stream",
          "text": [
            "def left_insertion(a, x):\n",
            "    i = 0\n",
            "    while i < len(a) and a[i] < x:\n",
            "        i += 1\n",
            "    return i\n",
            "assert left_insertion([1,2,4,5],6)==4\n",
            "assert left_insertion([1,2,4,5],3)==2\n",
            "assert left_insertion([1,2,4,5],7)==4\n",
            "Running Example: 736\n",
            "def check_str(string):\n"
          ]
        },
        {
          "name": "stderr",
          "output_type": "stream",
          "text": [
            "Setting `pad_token_id` to `eos_token_id`:2 for open-end generation.\n"
          ]
        },
        {
          "name": "stdout",
          "output_type": "stream",
          "text": [
            "def check_str(string):\n",
            "    vowels = 'aeiou'\n",
            "    if string[0] in vowels:\n",
            "        return True\n",
            "    else:\n",
            "        return False\n",
            "assert check_str(\"annie\") == 'Valid'\n",
            "Code Failed Assertions\n",
            "Running Example: 737\n",
            "def geometric_sum(n):\n"
          ]
        },
        {
          "name": "stderr",
          "output_type": "stream",
          "text": [
            "Setting `pad_token_id` to `eos_token_id`:2 for open-end generation.\n"
          ]
        },
        {
          "name": "stdout",
          "output_type": "stream",
          "text": [
            "def geometric_sum(n):\n",
            "    return (1/2)*(2**n-1)\n",
            "assert geometric_sum(7) == 1.9921875\n",
            "Code Failed Assertions\n",
            "Running Example: 738\n",
            "def find_Index(n):\n"
          ]
        },
        {
          "name": "stderr",
          "output_type": "stream",
          "text": [
            "Setting `pad_token_id` to `eos_token_id`:2 for open-end generation.\n"
          ]
        },
        {
          "name": "stdout",
          "output_type": "stream",
          "text": [
            "def find_Index(n):\n",
            "    i = 1\n",
            "    while True:\n",
            "        if len(str(i*(i+1)//2)) == n:\n",
            "            return i\n",
            "        i += 1\n",
            "assert find_Index(2) == 4\n",
            "assert find_Index(3) == 14\n",
            "assert find_Index(4) == 45\n",
            "Running Example: 739\n",
            "def tuple_to_dict(test_tup):\n"
          ]
        },
        {
          "name": "stderr",
          "output_type": "stream",
          "text": [
            "Setting `pad_token_id` to `eos_token_id`:2 for open-end generation.\n"
          ]
        },
        {
          "name": "stdout",
          "output_type": "stream",
          "text": [
            "def tuple_to_dict(test_tup):\n",
            "    test_dict = {}\n",
            "    for i in range(0, len(test_tup), 2):\n",
            "        test_dict[test_tup[i]] = test_tup[i+1]\n",
            "    return test_dict\n",
            "assert tuple_to_dict((1, 5, 7, 10, 13, 5)) == {1: 5, 7: 10, 13: 5}\n",
            "assert tuple_to_dict((1, 2, 3, 4, 5, 6)) == {1: 2, 3: 4, 5: 6}\n",
            "assert tuple_to_dict((7, 8, 9, 10, 11, 12)) == {7: 8, 9: 10, 11: 12}\n",
            "Running Example: 740\n",
            "def all_Characters_Same(s) :\n"
          ]
        },
        {
          "name": "stderr",
          "output_type": "stream",
          "text": [
            "Setting `pad_token_id` to `eos_token_id`:2 for open-end generation.\n"
          ]
        },
        {
          "name": "stdout",
          "output_type": "stream",
          "text": [
            "def all_Characters_Same(s) :\n",
            "    return len(set(s)) == 1\n",
            "assert all_Characters_Same(\"python\") == False\n",
            "assert all_Characters_Same(\"aaa\") == True\n",
            "assert all_Characters_Same(\"data\") == False\n",
            "Running Example: 741\n",
            "def area_tetrahedron(side):\n"
          ]
        },
        {
          "name": "stderr",
          "output_type": "stream",
          "text": [
            "Setting `pad_token_id` to `eos_token_id`:2 for open-end generation.\n"
          ]
        },
        {
          "name": "stdout",
          "output_type": "stream",
          "text": [
            "def area_tetrahedron(side):\n",
            "    return (side**2)*(3**0.5)/4\n",
            "assert area_tetrahedron(3)==15.588457268119894\n",
            "Code Failed Assertions\n",
            "Running Example: 742\n",
            "def rotate_right(list1,m,n):\n"
          ]
        },
        {
          "name": "stderr",
          "output_type": "stream",
          "text": [
            "Setting `pad_token_id` to `eos_token_id`:2 for open-end generation.\n"
          ]
        },
        {
          "name": "stdout",
          "output_type": "stream",
          "text": [
            "def rotate_right(list1,m,n):\n",
            "    for i in range(m):\n",
            "        list1.append(list1[i])\n",
            "    for i in range(n):\n",
            "        list1.pop(0)\n",
            "    return list1\n",
            "assert rotate_right([1, 2, 3, 4, 5, 6, 7, 8, 9, 10],3,4)==[8, 9, 10, 1, 2, 3, 4, 5, 6]\n",
            "Code Failed Assertions\n",
            "Running Example: 743\n",
            "def check_none(test_tup):\n"
          ]
        },
        {
          "name": "stderr",
          "output_type": "stream",
          "text": [
            "Setting `pad_token_id` to `eos_token_id`:2 for open-end generation.\n"
          ]
        },
        {
          "name": "stdout",
          "output_type": "stream",
          "text": [
            "def check_none(test_tup):\n",
            "    for i in test_tup:\n",
            "        if i is None:\n",
            "            return True\n",
            "    return False\n",
            "assert check_none((10, 4, 5, 6, None)) == True\n",
            "assert check_none((7, 8, 9, 11, 14)) == False\n",
            "assert check_none((1, 2, 3, 4, None)) == True\n",
            "Running Example: 744\n",
            "def divisible_by_digits(startnum, endnum):\n"
          ]
        },
        {
          "name": "stderr",
          "output_type": "stream",
          "text": [
            "Setting `pad_token_id` to `eos_token_id`:2 for open-end generation.\n"
          ]
        },
        {
          "name": "stdout",
          "output_type": "stream",
          "text": [
            "def divisible_by_digits(startnum, endnum):\n",
            "    for i in range(startnum, endnum+1):\n",
            "        for j in range(10):\n",
            "            if i % j!= 0:\n",
            "                break\n",
            "        else:\n",
            "            print(i)\n",
            "assert divisible_by_digits(1,22)==[1, 2, 3, 4, 5, 6, 7, 8, 9, 11, 12, 15, 22]\n",
            "Code Failed Assertionsinteger modulo by zero\n",
            "Running Example: 745\n",
            "def sector_area(r,a):\n"
          ]
        },
        {
          "name": "stderr",
          "output_type": "stream",
          "text": [
            "Setting `pad_token_id` to `eos_token_id`:2 for open-end generation.\n"
          ]
        },
        {
          "name": "stdout",
          "output_type": "stream",
          "text": [
            "def sector_area(r,a):\n",
            "    return r*r*a\n",
            "assert sector_area(4,45)==6.285714285714286\n",
            "Code Failed Assertions\n",
            "Running Example: 746\n",
            "def lcs_of_three(X, Y, Z, m, n, o):\n"
          ]
        },
        {
          "name": "stderr",
          "output_type": "stream",
          "text": [
            "Setting `pad_token_id` to `eos_token_id`:2 for open-end generation.\n"
          ]
        },
        {
          "name": "stdout",
          "output_type": "stream",
          "text": [
            "def lcs_of_three(X, Y, Z, m, n, o):\n",
            "    L = [[[0 for k in range(o + 1)] for j in range(n + 1)] for i in range(m + 1)]\n",
            "assert lcs_of_three('AGGT12', '12TXAYB', '12XBA', 6, 7, 5) == 2\n",
            "Code Failed Assertions\n",
            "Running Example: 747\n",
            "def capital_words_spaces(str1):\n"
          ]
        },
        {
          "name": "stderr",
          "output_type": "stream",
          "text": [
            "Setting `pad_token_id` to `eos_token_id`:2 for open-end generation.\n"
          ]
        },
        {
          "name": "stdout",
          "output_type": "stream",
          "text": [
            "def capital_words_spaces(str1):\n",
            "    return re.sub(r\"([A-Z])\", r\" \\1\", str1)\n",
            "assert capital_words_spaces(\"Python\") == 'Python'\n",
            "Code Failed Assertions\n",
            "Running Example: 748\n",
            "def sort_numeric_strings(nums_str):\n"
          ]
        },
        {
          "name": "stderr",
          "output_type": "stream",
          "text": [
            "Setting `pad_token_id` to `eos_token_id`:2 for open-end generation.\n"
          ]
        },
        {
          "name": "stdout",
          "output_type": "stream",
          "text": [
            "def sort_numeric_strings(nums_str):\n",
            "    return sorted(nums_str, key=lambda x: int(x))\n",
            "assert sort_numeric_strings( ['4','12','45','7','0','100','200','-12','-500'])==[-500, -12, 0, 4, 7, 12, 45, 100, 200]\n",
            "Code Failed Assertions\n",
            "Running Example: 749\n",
            "def add_tuple(test_list, test_tup):\n"
          ]
        },
        {
          "name": "stderr",
          "output_type": "stream",
          "text": [
            "Setting `pad_token_id` to `eos_token_id`:2 for open-end generation.\n"
          ]
        },
        {
          "name": "stdout",
          "output_type": "stream",
          "text": [
            "def add_tuple(test_list, test_tup):\n",
            "    test_list.append(test_tup)\n",
            "    return test_list\n",
            "assert add_tuple([5, 6, 7], (9, 10)) == [5, 6, 7, 9, 10]\n",
            "Code Failed Assertions\n",
            "Running Example: 750\n",
            "def check_min_heap(arr, i):\n"
          ]
        },
        {
          "name": "stderr",
          "output_type": "stream",
          "text": [
            "Setting `pad_token_id` to `eos_token_id`:2 for open-end generation.\n"
          ]
        },
        {
          "name": "stdout",
          "output_type": "stream",
          "text": [
            "def check_min_heap(arr, i):\n",
            "    if i >= len(arr):\n",
            "        return True\n",
            "    left = 2 * i + 1\n",
            "    right = 2 * i + 2\n",
            "    if left < len(arr) and arr[left] < arr[i]:\n",
            "        return False\n",
            "    if right < len(arr) and arr[right] < arr[i]:\n",
            "        return False\n",
            "    return check_min_heap(arr, left) and check_min_heap(arr, right)\n",
            "assert check_min_heap([1, 2, 3, 4, 5, 6], 0) == True\n",
            "assert check_min_heap([2, 3, 4, 5, 10, 15], 0) == True\n",
            "assert check_min_heap([2, 10, 4, 5, 3, 15], 0) == False\n",
            "Running Example: 751\n",
            "def jacobsthal_num(n):\n"
          ]
        },
        {
          "name": "stderr",
          "output_type": "stream",
          "text": [
            "Setting `pad_token_id` to `eos_token_id`:2 for open-end generation.\n"
          ]
        },
        {
          "name": "stdout",
          "output_type": "stream",
          "text": [
            "def jacobsthal_num(n):\n",
            "    if n == 0:\n",
            "        return 0\n",
            "    elif n == 1:\n",
            "        return 1\n",
            "    else:\n",
            "        return jacobsthal_num(n-1) + 2*jacobsthal_num(n-2)\n",
            "assert jacobsthal_num(5) == 11\n",
            "assert jacobsthal_num(2) == 1\n",
            "assert jacobsthal_num(4) == 5\n",
            "Running Example: 752\n",
            "def min_k(test_list, K):\n"
          ]
        },
        {
          "name": "stderr",
          "output_type": "stream",
          "text": [
            "Setting `pad_token_id` to `eos_token_id`:2 for open-end generation.\n"
          ]
        },
        {
          "name": "stdout",
          "output_type": "stream",
          "text": [
            "def min_k(test_list, K):\n",
            "    if K > len(test_list):\n",
            "        return test_list\n",
            "    else:\n",
            "        return sorted(test_list, key=lambda x: x[1])[:K]\n",
            "assert min_k([('Manjeet', 10), ('Akshat', 4), ('Akash', 2), ('Nikhil', 8)], 2) == [('Akash', 2), ('Akshat', 4)]\n",
            "assert min_k([('Sanjeev', 11), ('Angat', 5), ('Akash', 3), ('Nepin', 9)], 3) == [('Akash', 3), ('Angat', 5), ('Nepin', 9)]\n",
            "assert min_k([('tanmay', 14), ('Amer', 11), ('Ayesha', 9), ('SKD', 16)], 1) == [('Ayesha', 9)]\n",
            "Running Example: 753\n",
            "def extract_index_list(l1, l2, l3):\n"
          ]
        },
        {
          "name": "stderr",
          "output_type": "stream",
          "text": [
            "Setting `pad_token_id` to `eos_token_id`:2 for open-end generation.\n"
          ]
        },
        {
          "name": "stdout",
          "output_type": "stream",
          "text": [
            "def extract_index_list(l1, l2, l3):\n",
            "    return list(set(l1).intersection(l2, l3))\n",
            "assert extract_index_list([1, 1, 3, 4, 5, 6, 7],[0, 1, 2, 3, 4, 5, 7],[0, 1, 2, 3, 4, 5, 7])==[1, 7]\n",
            "Code Failed Assertions\n",
            "Running Example: 754\n",
            "def second_smallest(numbers):\n"
          ]
        },
        {
          "name": "stderr",
          "output_type": "stream",
          "text": [
            "Setting `pad_token_id` to `eos_token_id`:2 for open-end generation.\n"
          ]
        },
        {
          "name": "stdout",
          "output_type": "stream",
          "text": [
            "def second_smallest(numbers):\n",
            "    # Write your code here.\n",
            "    if len(numbers) < 2:\n",
            "        return None\n",
            "    smallest = numbers[0]\n",
            "    second_smallest = None\n",
            "    for num in numbers:\n",
            "        if num < smallest:\n",
            "            second_smallest = smallest\n",
            "            smallest = num\n",
            "        elif num < second_smallest or second_smallest is None:\n",
            "            second_smallest = num\n",
            "    return second_smallest\n",
            "assert second_smallest([1, 2, -8, -2, 0, -2])==-2\n",
            "Code Failed Assertions'<' not supported between instances of 'int' and 'NoneType'\n",
            "Running Example: 755\n",
            "def text_match_zero_one(text):\n"
          ]
        },
        {
          "name": "stderr",
          "output_type": "stream",
          "text": [
            "Setting `pad_token_id` to `eos_token_id`:2 for open-end generation.\n"
          ]
        },
        {
          "name": "stdout",
          "output_type": "stream",
          "text": [
            "def text_match_zero_one(text):\n",
            "    return re.match(r'a[b]?', text)\n",
            "assert text_match_zero_one(\"ac\")==('Found a match!')\n",
            "Code Failed Assertions\n",
            "Running Example: 756\n",
            "def count_reverse_pairs(test_list):\n"
          ]
        },
        {
          "name": "stderr",
          "output_type": "stream",
          "text": [
            "Setting `pad_token_id` to `eos_token_id`:2 for open-end generation.\n"
          ]
        },
        {
          "name": "stdout",
          "output_type": "stream",
          "text": [
            "def count_reverse_pairs(test_list):\n",
            "    count = 0\n",
            "    for i in range(len(test_list)):\n",
            "        for j in range(i+1, len(test_list)):\n",
            "            if test_list[i] == test_list[j][::-1]:\n",
            "                count += 1\n",
            "    return count\n",
            "assert count_reverse_pairs([\"julia\", \"best\", \"tseb\", \"for\", \"ailuj\"])== '2'\n",
            "Code Failed Assertions\n",
            "Running Example: 757\n",
            "def unique_sublists(list1):\n"
          ]
        },
        {
          "name": "stderr",
          "output_type": "stream",
          "text": [
            "Setting `pad_token_id` to `eos_token_id`:2 for open-end generation.\n"
          ]
        },
        {
          "name": "stdout",
          "output_type": "stream",
          "text": [
            "def unique_sublists(list1):\n",
            "    unique_list = []\n",
            "    for i in list1:\n",
            "        if i not in unique_list:\n",
            "            unique_list.append(i)\n",
            "    return len(unique_list)\n",
            "assert unique_sublists([[1, 3], [5, 7], [1, 3], [13, 15, 17], [5, 7], [9, 11]] )=={(1, 3): 2, (5, 7): 2, (13, 15, 17): 1, (9, 11): 1}\n",
            "Code Failed Assertions\n",
            "Running Example: 758\n",
            "def is_decimal(num):\n"
          ]
        },
        {
          "name": "stderr",
          "output_type": "stream",
          "text": [
            "Setting `pad_token_id` to `eos_token_id`:2 for open-end generation.\n"
          ]
        },
        {
          "name": "stdout",
          "output_type": "stream",
          "text": [
            "def is_decimal(num):\n",
            "    if num.is_integer():\n",
            "        return False\n",
            "    else:\n",
            "        return True\n",
            "assert is_decimal('123.11')==True\n",
            "Code Failed Assertions'str' object has no attribute 'is_integer'\n",
            "Running Example: 759\n",
            "def unique_Element(arr,n):\n"
          ]
        },
        {
          "name": "stderr",
          "output_type": "stream",
          "text": [
            "Setting `pad_token_id` to `eos_token_id`:2 for open-end generation.\n"
          ]
        },
        {
          "name": "stdout",
          "output_type": "stream",
          "text": [
            "def unique_Element(arr,n):\n",
            "    arr.sort()\n",
            "    for i in range(n-1):\n",
            "        if arr[i]==arr[i+1]:\n",
            "            return False\n",
            "    return True\n",
            "assert unique_Element([1,1,1],3) == 'YES'\n",
            "Code Failed Assertions\n",
            "Running Example: 760\n",
            "def arc_length(d,a):\n"
          ]
        },
        {
          "name": "stderr",
          "output_type": "stream",
          "text": [
            "Setting `pad_token_id` to `eos_token_id`:2 for open-end generation.\n"
          ]
        },
        {
          "name": "stdout",
          "output_type": "stream",
          "text": [
            "def arc_length(d,a):\n",
            "    return d*a\n",
            "assert arc_length(9,45)==3.5357142857142856\n",
            "Code Failed Assertions\n",
            "Running Example: 761\n",
            "def check_monthnumber_number(monthnum3):\n"
          ]
        },
        {
          "name": "stderr",
          "output_type": "stream",
          "text": [
            "Setting `pad_token_id` to `eos_token_id`:2 for open-end generation.\n"
          ]
        },
        {
          "name": "stdout",
          "output_type": "stream",
          "text": [
            "def check_monthnumber_number(monthnum3):\n",
            "    if monthnum3 == 1 or monthnum3 == 3 or monthnum3 == 5 or monthnum3 == 7 or monthnum3 == 8 or monthnum3 == 10 or monthnum3 == 12:\n",
            "        return True\n",
            "    else:\n",
            "        return False\n",
            "assert check_monthnumber_number(6)==True\n",
            "Code Failed Assertions\n",
            "Running Example: 762\n",
            "def find_Min_Diff(arr,n):\n"
          ]
        },
        {
          "name": "stderr",
          "output_type": "stream",
          "text": [
            "Setting `pad_token_id` to `eos_token_id`:2 for open-end generation.\n"
          ]
        },
        {
          "name": "stdout",
          "output_type": "stream",
          "text": [
            "def find_Min_Diff(arr,n):\n",
            "    arr.sort()\n",
            "    min_diff = arr[1] - arr[0]\n",
            "    for i in range(1,n-1):\n",
            "        if arr[i+1] - arr[i] < min_diff:\n",
            "            min_diff = arr[i+1] - arr[i]\n",
            "    return min_diff\n",
            "assert find_Min_Diff((1,5,3,19,18,25),6) == 1\n",
            "Code Failed Assertions'tuple' object has no attribute 'sort'\n",
            "Running Example: 763\n",
            "def number_ctr(str):\n"
          ]
        },
        {
          "name": "stderr",
          "output_type": "stream",
          "text": [
            "Setting `pad_token_id` to `eos_token_id`:2 for open-end generation.\n"
          ]
        },
        {
          "name": "stdout",
          "output_type": "stream",
          "text": [
            "def number_ctr(str):\n",
            "    count = 0\n",
            "    for i in str:\n",
            "        if i.isnumeric():\n",
            "            count += 1\n",
            "    return count\n",
            "assert number_ctr('program2bedone') == 1\n",
            "assert number_ctr('3wonders') ==1\n",
            "assert number_ctr('123') == 3\n",
            "Running Example: 764\n",
            "def is_polite(n):\n"
          ]
        },
        {
          "name": "stderr",
          "output_type": "stream",
          "text": [
            "Setting `pad_token_id` to `eos_token_id`:2 for open-end generation.\n"
          ]
        },
        {
          "name": "stdout",
          "output_type": "stream",
          "text": [
            "def is_polite(n):\n",
            "    if n == 0:\n",
            "        return False\n",
            "    elif n == 1:\n",
            "        return True\n",
            "    else:\n",
            "        return is_polite(n-1) + n\n",
            "assert is_polite(7) == 11\n",
            "Code Failed Assertions\n",
            "Running Example: 765\n",
            "def pair_wise(l1):\n"
          ]
        },
        {
          "name": "stderr",
          "output_type": "stream",
          "text": [
            "Setting `pad_token_id` to `eos_token_id`:2 for open-end generation.\n"
          ]
        },
        {
          "name": "stdout",
          "output_type": "stream",
          "text": [
            "def pair_wise(l1):\n",
            "    for i in range(len(l1)-1):\n",
            "        yield (l1[i],l1[i+1])\n",
            "assert pair_wise([1,1,2,3,3,4,4,5])==[(1, 1), (1, 2), (2, 3), (3, 3), (3, 4), (4, 4), (4, 5)]\n",
            "Code Failed Assertions\n",
            "Running Example: 766\n",
            "def get_Pairs_Count(arr,n,sum):\n"
          ]
        },
        {
          "name": "stderr",
          "output_type": "stream",
          "text": [
            "Setting `pad_token_id` to `eos_token_id`:2 for open-end generation.\n"
          ]
        },
        {
          "name": "stdout",
          "output_type": "stream",
          "text": [
            "def get_Pairs_Count(arr,n,sum):\n",
            "    # Initialize result\n",
            "    count = 0\n",
            "    # Sort the array\n",
            "    arr.sort()\n",
            "    # Start from both ends\n",
            "    i = 0\n",
            "    j = n-1\n",
            "    while i < j:\n",
            "        # Update count\n",
            "        if arr[i] + arr[j] == sum:\n",
            "            count += 1\n",
            "            i += 1\n",
            "            j -= 1\n",
            "        # If sum exceeds, then decrement\n",
            "        elif arr[i] + arr[j] < sum:\n",
            "            i += 1\n",
            "        # If sum is less than, then increment\n",
            "        else:\n",
            "            j -= 1\n",
            "    return count\n",
            "assert get_Pairs_Count([1,1,1,1],4,2) == 6\n",
            "Code Failed Assertions\n",
            "Running Example: 767\n",
            "def check_Odd_Parity(x):\n"
          ]
        },
        {
          "name": "stderr",
          "output_type": "stream",
          "text": [
            "Setting `pad_token_id` to `eos_token_id`:2 for open-end generation.\n"
          ]
        },
        {
          "name": "stdout",
          "output_type": "stream",
          "text": [
            "def check_Odd_Parity(x):\n",
            "    if x%2==0:\n",
            "        return False\n",
            "    else:\n",
            "        return True\n",
            "assert check_Odd_Parity(13) == True\n",
            "assert check_Odd_Parity(21) == True\n",
            "assert check_Odd_Parity(18) == False\n",
            "Running Example: 768\n",
            "def Diff(li1,li2):\n"
          ]
        },
        {
          "name": "stderr",
          "output_type": "stream",
          "text": [
            "Setting `pad_token_id` to `eos_token_id`:2 for open-end generation.\n"
          ]
        },
        {
          "name": "stdout",
          "output_type": "stream",
          "text": [
            "def Diff(li1,li2):\n",
            "    li_dif = [i for i in li1 + li2 if i not in li1 or i not in li2]\n",
            "    return li_dif\n",
            "assert (Diff([10, 15, 20, 25, 30, 35, 40], [25, 40, 35])) == [10, 20, 30, 15]\n",
            "Code Failed Assertions\n",
            "Running Example: 769\n",
            "def odd_Num_Sum(n) :\n"
          ]
        },
        {
          "name": "stderr",
          "output_type": "stream",
          "text": [
            "Setting `pad_token_id` to `eos_token_id`:2 for open-end generation.\n"
          ]
        },
        {
          "name": "stdout",
          "output_type": "stream",
          "text": [
            "def odd_Num_Sum(n) : \n",
            "    sum = 0\n",
            "    for i in range(1, n, 2) : \n",
            "        sum += i ** 4\n",
            "    return sum\n",
            "assert odd_Num_Sum(2) == 82\n",
            "Code Failed Assertions\n",
            "Running Example: 770\n",
            "def check_expression(exp):\n"
          ]
        },
        {
          "name": "stderr",
          "output_type": "stream",
          "text": [
            "Setting `pad_token_id` to `eos_token_id`:2 for open-end generation.\n"
          ]
        },
        {
          "name": "stdout",
          "output_type": "stream",
          "text": [
            "def check_expression(exp):\n",
            "    stack = []\n",
            "    for i in exp:\n",
            "        if i in [\"(\", \"{\", \"[\"]:\n",
            "            stack.append(i)\n",
            "        elif i in [\")\", \"}\", \"]\"]:\n",
            "            if not stack:\n",
            "                return False\n",
            "            else:\n",
            "                top = stack.pop()\n",
            "                if i == \")\" and top!= \"(\":\n",
            "                    return False\n",
            "                elif i == \"}\" and top!= \"{\":\n",
            "                    return False\n",
            "                elif i == \"]\" and top!= \"[\":\n",
            "                    return False\n",
            "    return not stack\n",
            "assert check_expression(\"{()}[{}]\") == True\n",
            "assert check_expression(\"{()}[{]\") == False\n",
            "assert check_expression(\"{()}[{}][]({})\") == True\n",
            "Running Example: 771\n",
            "def remove_length(test_str, K):\n"
          ]
        },
        {
          "name": "stderr",
          "output_type": "stream",
          "text": [
            "Setting `pad_token_id` to `eos_token_id`:2 for open-end generation.\n"
          ]
        },
        {
          "name": "stdout",
          "output_type": "stream",
          "text": [
            "def remove_length(test_str, K):\n",
            "    # code goes here\n",
            "    return''.join([word for word in test_str.split() if len(word)!= K])\n",
            "assert remove_length('The person is most value tet', 3) == 'person is most value'\n",
            "Code Failed Assertions\n",
            "Running Example: 772\n",
            "def occurance_substring(text,pattern):\n"
          ]
        },
        {
          "name": "stderr",
          "output_type": "stream",
          "text": [
            "Setting `pad_token_id` to `eos_token_id`:2 for open-end generation.\n"
          ]
        },
        {
          "name": "stdout",
          "output_type": "stream",
          "text": [
            "def occurance_substring(text,pattern):\n",
            "    occurance = 0\n",
            "    position = []\n",
            "    for i in range(len(text)):\n",
            "        if text[i:i+len(pattern)] == pattern:\n",
            "            occurance += 1\n",
            "            position.append(i)\n",
            "    return occurance,position\n",
            "assert occurance_substring('python programming, python language','python')==('python', 0, 6)\n",
            "Code Failed Assertions\n",
            "Running Example: 773\n",
            "def check_email(email):\n"
          ]
        },
        {
          "name": "stderr",
          "output_type": "stream",
          "text": [
            "Setting `pad_token_id` to `eos_token_id`:2 for open-end generation.\n"
          ]
        },
        {
          "name": "stdout",
          "output_type": "stream",
          "text": [
            "def check_email(email):\n",
            "    regex = '^[a-z0-9]+[\\._]?[a-z0-9]+[@]\\w+[.]\\w{2,3}$'\n",
            "    if(re.search(regex,email)):\n",
            "        return True\n",
            "    else:\n",
            "        return False\n",
            "assert check_email(\"ankitrai326@gmail.com\") == 'Valid Email'\n",
            "Code Failed Assertions\n",
            "Running Example: 774\n",
            "def odd_position(nums):\n"
          ]
        },
        {
          "name": "stderr",
          "output_type": "stream",
          "text": [
            "Setting `pad_token_id` to `eos_token_id`:2 for open-end generation.\n"
          ]
        },
        {
          "name": "stdout",
          "output_type": "stream",
          "text": [
            "def odd_position(nums):\n",
            "    for i in range(1,len(nums),2):\n",
            "        if nums[i]%2==0:\n",
            "            return False\n",
            "    return True\n",
            "assert odd_position([2,1,4,3,6,7,6,3]) == True\n",
            "assert odd_position([4,1,2]) == True\n",
            "assert odd_position([1,2,3]) == False\n",
            "Running Example: 775\n",
            "def count_vowels(test_str):\n"
          ]
        },
        {
          "name": "stderr",
          "output_type": "stream",
          "text": [
            "Setting `pad_token_id` to `eos_token_id`:2 for open-end generation.\n"
          ]
        },
        {
          "name": "stdout",
          "output_type": "stream",
          "text": [
            "def count_vowels(test_str):\n",
            "    vowels = \"aeiou\"\n",
            "    count = 0\n",
            "    for i in range(len(test_str)-1):\n",
            "        if test_str[i] in vowels and test_str[i+1] in vowels:\n",
            "            count += 1\n",
            "    return count\n",
            "assert count_vowels('bestinstareels') == 7\n",
            "Code Failed Assertions\n",
            "Running Example: 776\n",
            "def find_Sum(arr,n):\n"
          ]
        },
        {
          "name": "stderr",
          "output_type": "stream",
          "text": [
            "Setting `pad_token_id` to `eos_token_id`:2 for open-end generation.\n"
          ]
        },
        {
          "name": "stdout",
          "output_type": "stream",
          "text": [
            "def find_Sum(arr,n):\n",
            "    # code here\n",
            "    # return the sum\n",
            "    s = 0\n",
            "    for i in range(n):\n",
            "        if arr[i] not in arr[i+1:]:\n",
            "            s += arr[i]\n",
            "    return s\n",
            "assert find_Sum([1,2,3,1,1,4,5,6],8) == 21\n",
            "assert find_Sum([1,10,9,4,2,10,10,45,4],9) == 71\n",
            "assert find_Sum([12,10,9,45,2,10,10,45,10],9) == 78\n",
            "Running Example: 777\n",
            "def pack_consecutive_duplicates(list1):\n"
          ]
        },
        {
          "name": "stderr",
          "output_type": "stream",
          "text": [
            "Setting `pad_token_id` to `eos_token_id`:2 for open-end generation.\n"
          ]
        },
        {
          "name": "stdout",
          "output_type": "stream",
          "text": [
            "def pack_consecutive_duplicates(list1):\n",
            "    list2 = []\n",
            "    for i in range(len(list1)):\n",
            "        if i == 0:\n",
            "            list2.append([list1[i]])\n",
            "        else:\n",
            "            if list1[i] == list1[i-1]:\n",
            "                list2[len(list2)-1].append(list1[i])\n",
            "            else:\n",
            "                list2.append([list1[i]])\n",
            "    return list2\n",
            "assert pack_consecutive_duplicates([0, 0, 1, 2, 3, 4, 4, 5, 6, 6, 6, 7, 8, 9, 4, 4])==[[0, 0], [1], [2], [3], [4, 4], [5], [6, 6, 6], [7], [8], [9], [4, 4]]\n",
            "assert pack_consecutive_duplicates([10, 10, 15, 19, 18, 18, 17, 26, 26, 17, 18, 10])==[[10, 10], [15], [19], [18, 18], [17], [26, 26], [17], [18], [10]]\n",
            "assert pack_consecutive_duplicates(['a', 'a', 'b', 'c', 'd', 'd'])==[['a', 'a'], ['b'], ['c'], ['d', 'd']]\n",
            "Running Example: 778\n",
            "def unique_sublists(list1):\n"
          ]
        },
        {
          "name": "stderr",
          "output_type": "stream",
          "text": [
            "Setting `pad_token_id` to `eos_token_id`:2 for open-end generation.\n"
          ]
        },
        {
          "name": "stdout",
          "output_type": "stream",
          "text": [
            "def unique_sublists(list1):\n",
            "    unique_list = []\n",
            "    for i in list1:\n",
            "        if i not in unique_list:\n",
            "            unique_list.append(i)\n",
            "    return len(unique_list)\n",
            "assert unique_sublists([[1, 3], [5, 7], [1, 3], [13, 15, 17], [5, 7], [9, 11]])=={(1, 3): 2, (5, 7): 2, (13, 15, 17): 1, (9, 11): 1}\n",
            "Code Failed Assertions\n",
            "Running Example: 779\n",
            "def find_combinations(test_list):\n"
          ]
        },
        {
          "name": "stderr",
          "output_type": "stream",
          "text": [
            "Setting `pad_token_id` to `eos_token_id`:2 for open-end generation.\n"
          ]
        },
        {
          "name": "stdout",
          "output_type": "stream",
          "text": [
            "None\n",
            "Code Didn't Run\n",
            "Errorexec() arg 1 must be a string, bytes or code object\n",
            "Running Example: 780\n",
            "def count_Divisors(n) :\n"
          ]
        },
        {
          "name": "stderr",
          "output_type": "stream",
          "text": [
            "Setting `pad_token_id` to `eos_token_id`:2 for open-end generation.\n"
          ]
        },
        {
          "name": "stdout",
          "output_type": "stream",
          "text": [
            "def count_Divisors(n) :\n",
            "    count = 0\n",
            "    for i in range(1, n + 1) :\n",
            "        if n % i == 0 :\n",
            "            count += 1\n",
            "    if count % 2 == 0 :\n",
            "        return True\n",
            "    else :\n",
            "        return False\n",
            "assert count_Divisors(10) == \"Even\"\n",
            "Code Failed Assertions\n",
            "Running Example: 781\n",
            "def Odd_Length_Sum(arr):\n"
          ]
        },
        {
          "name": "stderr",
          "output_type": "stream",
          "text": [
            "Setting `pad_token_id` to `eos_token_id`:2 for open-end generation.\n"
          ]
        },
        {
          "name": "stdout",
          "output_type": "stream",
          "text": [
            "def Odd_Length_Sum(arr):\n",
            "    n = len(arr)\n",
            "    sum = 0\n",
            "    for i in range(n):\n",
            "        for j in range(i, n, 2):\n",
            "            sum += arr[j]\n",
            "    return sum\n",
            "assert Odd_Length_Sum([1,2,4]) == 14\n",
            "Code Failed Assertions\n",
            "Running Example: 782\n",
            "def rgb_to_hsv(r, g, b):\n"
          ]
        },
        {
          "name": "stderr",
          "output_type": "stream",
          "text": [
            "Setting `pad_token_id` to `eos_token_id`:2 for open-end generation.\n"
          ]
        },
        {
          "name": "stdout",
          "output_type": "stream",
          "text": [
            "None\n",
            "Code Didn't Run\n",
            "Errorexec() arg 1 must be a string, bytes or code object\n",
            "Running Example: 783\n",
            "def mul_even_odd(list1):\n"
          ]
        },
        {
          "name": "stderr",
          "output_type": "stream",
          "text": [
            "Setting `pad_token_id` to `eos_token_id`:2 for open-end generation.\n"
          ]
        },
        {
          "name": "stdout",
          "output_type": "stream",
          "text": [
            "def mul_even_odd(list1):\n",
            "    even_num = 1\n",
            "    odd_num = 1\n",
            "    for i in list1:\n",
            "        if i % 2 == 0:\n",
            "            even_num *= i\n",
            "        else:\n",
            "            odd_num *= i\n",
            "    return even_num * odd_num\n",
            "assert mul_even_odd([1,3,5,7,4,1,6,8])==4\n",
            "Code Failed Assertions\n",
            "Running Example: 784\n",
            "def tuple_str_int(test_str):\n"
          ]
        },
        {
          "name": "stderr",
          "output_type": "stream",
          "text": [
            "Setting `pad_token_id` to `eos_token_id`:2 for open-end generation.\n"
          ]
        },
        {
          "name": "stdout",
          "output_type": "stream",
          "text": [
            "def tuple_str_int(test_str):\n",
            "    test_str = test_str.replace('(', '').replace(')', '').replace(' ', '').replace('[', '').replace(']', '')\n",
            "    test_str = test_str.split(',')\n",
            "    test_int = []\n",
            "    for i in test_str:\n",
            "        test_int.append(int(i))\n",
            "    return tuple(test_int)\n",
            "assert tuple_str_int(\"(7, 8, 9)\") == (7, 8, 9)\n",
            "assert tuple_str_int(\"(1, 2, 3)\") == (1, 2, 3)\n",
            "assert tuple_str_int(\"(4, 5, 6)\") == (4, 5, 6)\n",
            "Running Example: 785\n",
            "def right_insertion(a, x):\n"
          ]
        },
        {
          "name": "stderr",
          "output_type": "stream",
          "text": [
            "Setting `pad_token_id` to `eos_token_id`:2 for open-end generation.\n"
          ]
        },
        {
          "name": "stdout",
          "output_type": "stream",
          "text": [
            "def right_insertion(a, x):\n",
            "    i = 0\n",
            "    while i < len(a) and a[i] < x:\n",
            "        i += 1\n",
            "    return i\n",
            "assert right_insertion([1,2,4,5],6)==4\n",
            "assert right_insertion([1,2,4,5],3)==2\n",
            "assert right_insertion([1,2,4,5],7)==4\n",
            "Running Example: 786\n",
            "def text_match_three(text):\n"
          ]
        }
      ],
      "source": [
        "import jsonlines\n",
        "import torch\n",
        "import numpy as np\n",
        "from contextlib import contextmanager\n",
        "import signal\n",
        "\n",
        "\n",
        "max_loop = 9999\n",
        "i = 0\n",
        "\n",
        "with jsonlines.open('mbpp.jsonl') as reader:\n",
        "# Loop through each example\n",
        "    for count, obj in enumerate(reader):\n",
        "        with jsonlines.open('mbpp_label_llama.jsonl') as reader:\n",
        "              i = np.sum(np.fromiter([1 for _ in reader], dtype=np.int32))\n",
        "        if count < i:\n",
        "                continue\n",
        "        print(\"Running Example: \" + str(i))\n",
        "        prompt = obj['text']\n",
        "        code = obj['code']\n",
        "\n",
        "        print(find_def_until_colon(code))\n",
        "\n",
        "        responseText = getCodeFormat(prompt, code)\n",
        "\n",
        "        print(responseText)\n",
        "\n",
        "        try:\n",
        "          exec(responseText)\n",
        "        except Exception as E:\n",
        "          print(\"Code Didn't Run\")\n",
        "          print(\"Error\" + str(E))\n",
        "          obj['method2_llama_output'] = responseText\n",
        "          obj['method2_llama_success'] = False\n",
        "          with jsonlines.open('mbpp_label_llama.jsonl', mode='a') as writer:\n",
        "                writer.write(obj)\n",
        "          continue\n",
        "\n",
        "        # Assertion Code:\n",
        "        assertion_code = obj['test_list']\n",
        "\n",
        "        # Execute and print if the code passes the assertions\n",
        "        success = True\n",
        "        # Assertion Code:\n",
        "        try:\n",
        "          with time_limit(20):\n",
        "            for assertion in assertion_code:\n",
        "              print(assertion)\n",
        "              try:\n",
        "                exec(assertion)\n",
        "              except Exception as E:\n",
        "                # Continue to the next example and print the error\n",
        "                print(\"Code Failed Assertions\" + str(E))\n",
        "                success = False\n",
        "                break\n",
        "        except TimeoutException:\n",
        "          print(\"Assertion timed out. Fail.\")\n",
        "          success = False\n",
        "\n",
        "        # ...\n",
        "            \n",
        "        # Store output and success in the object\n",
        "        obj['method2_llama_output'] = responseText\n",
        "        obj['method2_llama_success'] = success\n",
        "\n",
        "\n",
        "        # Store the results in jsonl file\n",
        "        with jsonlines.open('mbpp_label_llama.jsonl', mode='a') as writer:\n",
        "                writer.write(obj)\n",
        "\n",
        "        # terminate loop for testing\n",
        "        i += 1\n",
        "        if i == max_loop:\n",
        "            break"
      ]
    },
    {
      "cell_type": "code",
      "execution_count": null,
      "metadata": {},
      "outputs": [],
      "source": []
    }
  ],
  "metadata": {
    "accelerator": "GPU",
    "colab": {
      "gpuType": "T4",
      "machine_shape": "hm",
      "provenance": []
    },
    "kernelspec": {
      "display_name": "Python 3",
      "name": "python3"
    },
    "language_info": {
      "codemirror_mode": {
        "name": "ipython",
        "version": 3
      },
      "file_extension": ".py",
      "mimetype": "text/x-python",
      "name": "python",
      "nbconvert_exporter": "python",
      "pygments_lexer": "ipython3",
      "version": "3.11.5"
    },
    "widgets": {
      "application/vnd.jupyter.widget-state+json": {
        "00fd447c83a64cedb8588462c0727a33": {
          "model_module": "@jupyter-widgets/controls",
          "model_module_version": "1.5.0",
          "model_name": "HTMLModel",
          "state": {
            "_dom_classes": [],
            "_model_module": "@jupyter-widgets/controls",
            "_model_module_version": "1.5.0",
            "_model_name": "HTMLModel",
            "_view_count": null,
            "_view_module": "@jupyter-widgets/controls",
            "_view_module_version": "1.5.0",
            "_view_name": "HTMLView",
            "description": "",
            "description_tooltip": null,
            "layout": "IPY_MODEL_ce0da75f76c948ed8bedd5d04b64372e",
            "placeholder": "​",
            "style": "IPY_MODEL_cc0a41cb769c4db9ba0f64548dd97d10",
            "value": " 1.84M/1.84M [00:00&lt;00:00, 15.5MB/s]"
          }
        },
        "04355e4b72d840f0b2beef5e60e03d59": {
          "model_module": "@jupyter-widgets/controls",
          "model_module_version": "1.5.0",
          "model_name": "ProgressStyleModel",
          "state": {
            "_model_module": "@jupyter-widgets/controls",
            "_model_module_version": "1.5.0",
            "_model_name": "ProgressStyleModel",
            "_view_count": null,
            "_view_module": "@jupyter-widgets/base",
            "_view_module_version": "1.2.0",
            "_view_name": "StyleView",
            "bar_color": null,
            "description_width": ""
          }
        },
        "0467797d1cc445d985370bdbb7f0b159": {
          "model_module": "@jupyter-widgets/base",
          "model_module_version": "1.2.0",
          "model_name": "LayoutModel",
          "state": {
            "_model_module": "@jupyter-widgets/base",
            "_model_module_version": "1.2.0",
            "_model_name": "LayoutModel",
            "_view_count": null,
            "_view_module": "@jupyter-widgets/base",
            "_view_module_version": "1.2.0",
            "_view_name": "LayoutView",
            "align_content": null,
            "align_items": null,
            "align_self": null,
            "border": null,
            "bottom": null,
            "display": null,
            "flex": null,
            "flex_flow": null,
            "grid_area": null,
            "grid_auto_columns": null,
            "grid_auto_flow": null,
            "grid_auto_rows": null,
            "grid_column": null,
            "grid_gap": null,
            "grid_row": null,
            "grid_template_areas": null,
            "grid_template_columns": null,
            "grid_template_rows": null,
            "height": null,
            "justify_content": null,
            "justify_items": null,
            "left": null,
            "margin": null,
            "max_height": null,
            "max_width": null,
            "min_height": null,
            "min_width": null,
            "object_fit": null,
            "object_position": null,
            "order": null,
            "overflow": null,
            "overflow_x": null,
            "overflow_y": null,
            "padding": null,
            "right": null,
            "top": null,
            "visibility": null,
            "width": null
          }
        },
        "0aa0f3498fb145cd94df933e512d5eed": {
          "model_module": "@jupyter-widgets/base",
          "model_module_version": "1.2.0",
          "model_name": "LayoutModel",
          "state": {
            "_model_module": "@jupyter-widgets/base",
            "_model_module_version": "1.2.0",
            "_model_name": "LayoutModel",
            "_view_count": null,
            "_view_module": "@jupyter-widgets/base",
            "_view_module_version": "1.2.0",
            "_view_name": "LayoutView",
            "align_content": null,
            "align_items": null,
            "align_self": null,
            "border": null,
            "bottom": null,
            "display": null,
            "flex": null,
            "flex_flow": null,
            "grid_area": null,
            "grid_auto_columns": null,
            "grid_auto_flow": null,
            "grid_auto_rows": null,
            "grid_column": null,
            "grid_gap": null,
            "grid_row": null,
            "grid_template_areas": null,
            "grid_template_columns": null,
            "grid_template_rows": null,
            "height": null,
            "justify_content": null,
            "justify_items": null,
            "left": null,
            "margin": null,
            "max_height": null,
            "max_width": null,
            "min_height": null,
            "min_width": null,
            "object_fit": null,
            "object_position": null,
            "order": null,
            "overflow": null,
            "overflow_x": null,
            "overflow_y": null,
            "padding": null,
            "right": null,
            "top": null,
            "visibility": null,
            "width": null
          }
        },
        "0af982892ed544c381e8ee71ef9b254c": {
          "model_module": "@jupyter-widgets/controls",
          "model_module_version": "1.5.0",
          "model_name": "HTMLModel",
          "state": {
            "_dom_classes": [],
            "_model_module": "@jupyter-widgets/controls",
            "_model_module_version": "1.5.0",
            "_model_name": "HTMLModel",
            "_view_count": null,
            "_view_module": "@jupyter-widgets/controls",
            "_view_module_version": "1.5.0",
            "_view_name": "HTMLView",
            "description": "",
            "description_tooltip": null,
            "layout": "IPY_MODEL_59fd9cf31a564fa68cf77dfcc9a3afc1",
            "placeholder": "​",
            "style": "IPY_MODEL_29de20820dbd42149f630b73fddb1944",
            "value": " 2/2 [00:06&lt;00:00,  3.08s/it]"
          }
        },
        "0cf403878f1547268748d48bcfc7b80f": {
          "model_module": "@jupyter-widgets/base",
          "model_module_version": "1.2.0",
          "model_name": "LayoutModel",
          "state": {
            "_model_module": "@jupyter-widgets/base",
            "_model_module_version": "1.2.0",
            "_model_name": "LayoutModel",
            "_view_count": null,
            "_view_module": "@jupyter-widgets/base",
            "_view_module_version": "1.2.0",
            "_view_name": "LayoutView",
            "align_content": null,
            "align_items": null,
            "align_self": null,
            "border": null,
            "bottom": null,
            "display": null,
            "flex": null,
            "flex_flow": null,
            "grid_area": null,
            "grid_auto_columns": null,
            "grid_auto_flow": null,
            "grid_auto_rows": null,
            "grid_column": null,
            "grid_gap": null,
            "grid_row": null,
            "grid_template_areas": null,
            "grid_template_columns": null,
            "grid_template_rows": null,
            "height": null,
            "justify_content": null,
            "justify_items": null,
            "left": null,
            "margin": null,
            "max_height": null,
            "max_width": null,
            "min_height": null,
            "min_width": null,
            "object_fit": null,
            "object_position": null,
            "order": null,
            "overflow": null,
            "overflow_x": null,
            "overflow_y": null,
            "padding": null,
            "right": null,
            "top": null,
            "visibility": null,
            "width": null
          }
        },
        "0d4077de87aa43bc85408863b1c3b46b": {
          "model_module": "@jupyter-widgets/controls",
          "model_module_version": "1.5.0",
          "model_name": "DescriptionStyleModel",
          "state": {
            "_model_module": "@jupyter-widgets/controls",
            "_model_module_version": "1.5.0",
            "_model_name": "DescriptionStyleModel",
            "_view_count": null,
            "_view_module": "@jupyter-widgets/base",
            "_view_module_version": "1.2.0",
            "_view_name": "StyleView",
            "description_width": ""
          }
        },
        "10705d3c995e4fa998aa7df79d40777d": {
          "model_module": "@jupyter-widgets/base",
          "model_module_version": "1.2.0",
          "model_name": "LayoutModel",
          "state": {
            "_model_module": "@jupyter-widgets/base",
            "_model_module_version": "1.2.0",
            "_model_name": "LayoutModel",
            "_view_count": null,
            "_view_module": "@jupyter-widgets/base",
            "_view_module_version": "1.2.0",
            "_view_name": "LayoutView",
            "align_content": null,
            "align_items": null,
            "align_self": null,
            "border": null,
            "bottom": null,
            "display": null,
            "flex": null,
            "flex_flow": null,
            "grid_area": null,
            "grid_auto_columns": null,
            "grid_auto_flow": null,
            "grid_auto_rows": null,
            "grid_column": null,
            "grid_gap": null,
            "grid_row": null,
            "grid_template_areas": null,
            "grid_template_columns": null,
            "grid_template_rows": null,
            "height": null,
            "justify_content": null,
            "justify_items": null,
            "left": null,
            "margin": null,
            "max_height": null,
            "max_width": null,
            "min_height": null,
            "min_width": null,
            "object_fit": null,
            "object_position": null,
            "order": null,
            "overflow": null,
            "overflow_x": null,
            "overflow_y": null,
            "padding": null,
            "right": null,
            "top": null,
            "visibility": null,
            "width": null
          }
        },
        "14abda7aa330476cbca1ad1888900839": {
          "model_module": "@jupyter-widgets/base",
          "model_module_version": "1.2.0",
          "model_name": "LayoutModel",
          "state": {
            "_model_module": "@jupyter-widgets/base",
            "_model_module_version": "1.2.0",
            "_model_name": "LayoutModel",
            "_view_count": null,
            "_view_module": "@jupyter-widgets/base",
            "_view_module_version": "1.2.0",
            "_view_name": "LayoutView",
            "align_content": null,
            "align_items": null,
            "align_self": null,
            "border": null,
            "bottom": null,
            "display": null,
            "flex": null,
            "flex_flow": null,
            "grid_area": null,
            "grid_auto_columns": null,
            "grid_auto_flow": null,
            "grid_auto_rows": null,
            "grid_column": null,
            "grid_gap": null,
            "grid_row": null,
            "grid_template_areas": null,
            "grid_template_columns": null,
            "grid_template_rows": null,
            "height": null,
            "justify_content": null,
            "justify_items": null,
            "left": null,
            "margin": null,
            "max_height": null,
            "max_width": null,
            "min_height": null,
            "min_width": null,
            "object_fit": null,
            "object_position": null,
            "order": null,
            "overflow": null,
            "overflow_x": null,
            "overflow_y": null,
            "padding": null,
            "right": null,
            "top": null,
            "visibility": null,
            "width": null
          }
        },
        "151670e9f96441579be634e2ff4102ef": {
          "model_module": "@jupyter-widgets/controls",
          "model_module_version": "1.5.0",
          "model_name": "HTMLModel",
          "state": {
            "_dom_classes": [],
            "_model_module": "@jupyter-widgets/controls",
            "_model_module_version": "1.5.0",
            "_model_name": "HTMLModel",
            "_view_count": null,
            "_view_module": "@jupyter-widgets/controls",
            "_view_module_version": "1.5.0",
            "_view_name": "HTMLView",
            "description": "",
            "description_tooltip": null,
            "layout": "IPY_MODEL_2c833ceace6f40928927c254d1af718f",
            "placeholder": "​",
            "style": "IPY_MODEL_fec6f89171e24794a5f96836ac68dc29",
            "value": " 749/749 [00:00&lt;00:00, 57.5kB/s]"
          }
        },
        "15b619f896394b45ae9f1f5aebdcc211": {
          "model_module": "@jupyter-widgets/base",
          "model_module_version": "1.2.0",
          "model_name": "LayoutModel",
          "state": {
            "_model_module": "@jupyter-widgets/base",
            "_model_module_version": "1.2.0",
            "_model_name": "LayoutModel",
            "_view_count": null,
            "_view_module": "@jupyter-widgets/base",
            "_view_module_version": "1.2.0",
            "_view_name": "LayoutView",
            "align_content": null,
            "align_items": null,
            "align_self": null,
            "border": null,
            "bottom": null,
            "display": null,
            "flex": null,
            "flex_flow": null,
            "grid_area": null,
            "grid_auto_columns": null,
            "grid_auto_flow": null,
            "grid_auto_rows": null,
            "grid_column": null,
            "grid_gap": null,
            "grid_row": null,
            "grid_template_areas": null,
            "grid_template_columns": null,
            "grid_template_rows": null,
            "height": null,
            "justify_content": null,
            "justify_items": null,
            "left": null,
            "margin": null,
            "max_height": null,
            "max_width": null,
            "min_height": null,
            "min_width": null,
            "object_fit": null,
            "object_position": null,
            "order": null,
            "overflow": null,
            "overflow_x": null,
            "overflow_y": null,
            "padding": null,
            "right": null,
            "top": null,
            "visibility": null,
            "width": null
          }
        },
        "1bb1b7c4375e4af0b2eb6df9d17235fd": {
          "model_module": "@jupyter-widgets/base",
          "model_module_version": "1.2.0",
          "model_name": "LayoutModel",
          "state": {
            "_model_module": "@jupyter-widgets/base",
            "_model_module_version": "1.2.0",
            "_model_name": "LayoutModel",
            "_view_count": null,
            "_view_module": "@jupyter-widgets/base",
            "_view_module_version": "1.2.0",
            "_view_name": "LayoutView",
            "align_content": null,
            "align_items": null,
            "align_self": null,
            "border": null,
            "bottom": null,
            "display": null,
            "flex": null,
            "flex_flow": null,
            "grid_area": null,
            "grid_auto_columns": null,
            "grid_auto_flow": null,
            "grid_auto_rows": null,
            "grid_column": null,
            "grid_gap": null,
            "grid_row": null,
            "grid_template_areas": null,
            "grid_template_columns": null,
            "grid_template_rows": null,
            "height": null,
            "justify_content": null,
            "justify_items": null,
            "left": null,
            "margin": null,
            "max_height": null,
            "max_width": null,
            "min_height": null,
            "min_width": null,
            "object_fit": null,
            "object_position": null,
            "order": null,
            "overflow": null,
            "overflow_x": null,
            "overflow_y": null,
            "padding": null,
            "right": null,
            "top": null,
            "visibility": null,
            "width": null
          }
        },
        "1d70dec0425f4c75845cc2a95c81ed93": {
          "model_module": "@jupyter-widgets/controls",
          "model_module_version": "1.5.0",
          "model_name": "HTMLModel",
          "state": {
            "_dom_classes": [],
            "_model_module": "@jupyter-widgets/controls",
            "_model_module_version": "1.5.0",
            "_model_name": "HTMLModel",
            "_view_count": null,
            "_view_module": "@jupyter-widgets/controls",
            "_view_module_version": "1.5.0",
            "_view_name": "HTMLView",
            "description": "",
            "description_tooltip": null,
            "layout": "IPY_MODEL_daecc05b5dcb4bf58fe14463981b9480",
            "placeholder": "​",
            "style": "IPY_MODEL_dda1a64fae0f47f18ebb822ffb045afb",
            "value": " 3.50G/3.50G [00:14&lt;00:00, 236MB/s]"
          }
        },
        "1e6789f58bc64b2ebbe09d67958b48c1": {
          "model_module": "@jupyter-widgets/base",
          "model_module_version": "1.2.0",
          "model_name": "LayoutModel",
          "state": {
            "_model_module": "@jupyter-widgets/base",
            "_model_module_version": "1.2.0",
            "_model_name": "LayoutModel",
            "_view_count": null,
            "_view_module": "@jupyter-widgets/base",
            "_view_module_version": "1.2.0",
            "_view_name": "LayoutView",
            "align_content": null,
            "align_items": null,
            "align_self": null,
            "border": null,
            "bottom": null,
            "display": null,
            "flex": null,
            "flex_flow": null,
            "grid_area": null,
            "grid_auto_columns": null,
            "grid_auto_flow": null,
            "grid_auto_rows": null,
            "grid_column": null,
            "grid_gap": null,
            "grid_row": null,
            "grid_template_areas": null,
            "grid_template_columns": null,
            "grid_template_rows": null,
            "height": null,
            "justify_content": null,
            "justify_items": null,
            "left": null,
            "margin": null,
            "max_height": null,
            "max_width": null,
            "min_height": null,
            "min_width": null,
            "object_fit": null,
            "object_position": null,
            "order": null,
            "overflow": null,
            "overflow_x": null,
            "overflow_y": null,
            "padding": null,
            "right": null,
            "top": null,
            "visibility": null,
            "width": null
          }
        },
        "248f440ab64a4187995b17229e5f61d5": {
          "model_module": "@jupyter-widgets/controls",
          "model_module_version": "1.5.0",
          "model_name": "HTMLModel",
          "state": {
            "_dom_classes": [],
            "_model_module": "@jupyter-widgets/controls",
            "_model_module_version": "1.5.0",
            "_model_name": "HTMLModel",
            "_view_count": null,
            "_view_module": "@jupyter-widgets/controls",
            "_view_module_version": "1.5.0",
            "_view_name": "HTMLView",
            "description": "",
            "description_tooltip": null,
            "layout": "IPY_MODEL_38eea9de5f8a4232a33d70fbd843d669",
            "placeholder": "​",
            "style": "IPY_MODEL_ebca4a233f52463dadb9aaf1a8b48b7c",
            "value": "Loading checkpoint shards: 100%"
          }
        },
        "2961909b7e29478d8372826c396de1b7": {
          "model_module": "@jupyter-widgets/base",
          "model_module_version": "1.2.0",
          "model_name": "LayoutModel",
          "state": {
            "_model_module": "@jupyter-widgets/base",
            "_model_module_version": "1.2.0",
            "_model_name": "LayoutModel",
            "_view_count": null,
            "_view_module": "@jupyter-widgets/base",
            "_view_module_version": "1.2.0",
            "_view_name": "LayoutView",
            "align_content": null,
            "align_items": null,
            "align_self": null,
            "border": null,
            "bottom": null,
            "display": null,
            "flex": null,
            "flex_flow": null,
            "grid_area": null,
            "grid_auto_columns": null,
            "grid_auto_flow": null,
            "grid_auto_rows": null,
            "grid_column": null,
            "grid_gap": null,
            "grid_row": null,
            "grid_template_areas": null,
            "grid_template_columns": null,
            "grid_template_rows": null,
            "height": null,
            "justify_content": null,
            "justify_items": null,
            "left": null,
            "margin": null,
            "max_height": null,
            "max_width": null,
            "min_height": null,
            "min_width": null,
            "object_fit": null,
            "object_position": null,
            "order": null,
            "overflow": null,
            "overflow_x": null,
            "overflow_y": null,
            "padding": null,
            "right": null,
            "top": null,
            "visibility": null,
            "width": null
          }
        },
        "29de20820dbd42149f630b73fddb1944": {
          "model_module": "@jupyter-widgets/controls",
          "model_module_version": "1.5.0",
          "model_name": "DescriptionStyleModel",
          "state": {
            "_model_module": "@jupyter-widgets/controls",
            "_model_module_version": "1.5.0",
            "_model_name": "DescriptionStyleModel",
            "_view_count": null,
            "_view_module": "@jupyter-widgets/base",
            "_view_module_version": "1.2.0",
            "_view_name": "StyleView",
            "description_width": ""
          }
        },
        "2c833ceace6f40928927c254d1af718f": {
          "model_module": "@jupyter-widgets/base",
          "model_module_version": "1.2.0",
          "model_name": "LayoutModel",
          "state": {
            "_model_module": "@jupyter-widgets/base",
            "_model_module_version": "1.2.0",
            "_model_name": "LayoutModel",
            "_view_count": null,
            "_view_module": "@jupyter-widgets/base",
            "_view_module_version": "1.2.0",
            "_view_name": "LayoutView",
            "align_content": null,
            "align_items": null,
            "align_self": null,
            "border": null,
            "bottom": null,
            "display": null,
            "flex": null,
            "flex_flow": null,
            "grid_area": null,
            "grid_auto_columns": null,
            "grid_auto_flow": null,
            "grid_auto_rows": null,
            "grid_column": null,
            "grid_gap": null,
            "grid_row": null,
            "grid_template_areas": null,
            "grid_template_columns": null,
            "grid_template_rows": null,
            "height": null,
            "justify_content": null,
            "justify_items": null,
            "left": null,
            "margin": null,
            "max_height": null,
            "max_width": null,
            "min_height": null,
            "min_width": null,
            "object_fit": null,
            "object_position": null,
            "order": null,
            "overflow": null,
            "overflow_x": null,
            "overflow_y": null,
            "padding": null,
            "right": null,
            "top": null,
            "visibility": null,
            "width": null
          }
        },
        "2e415bba06a44ab79f1abcaa529520bd": {
          "model_module": "@jupyter-widgets/controls",
          "model_module_version": "1.5.0",
          "model_name": "ProgressStyleModel",
          "state": {
            "_model_module": "@jupyter-widgets/controls",
            "_model_module_version": "1.5.0",
            "_model_name": "ProgressStyleModel",
            "_view_count": null,
            "_view_module": "@jupyter-widgets/base",
            "_view_module_version": "1.2.0",
            "_view_name": "StyleView",
            "bar_color": null,
            "description_width": ""
          }
        },
        "31aa646b188549de8e5ad52a11fdaaab": {
          "model_module": "@jupyter-widgets/controls",
          "model_module_version": "1.5.0",
          "model_name": "DescriptionStyleModel",
          "state": {
            "_model_module": "@jupyter-widgets/controls",
            "_model_module_version": "1.5.0",
            "_model_name": "DescriptionStyleModel",
            "_view_count": null,
            "_view_module": "@jupyter-widgets/base",
            "_view_module_version": "1.2.0",
            "_view_name": "StyleView",
            "description_width": ""
          }
        },
        "343bb5a9c0ed4e0f9c018acb5e6127d2": {
          "model_module": "@jupyter-widgets/controls",
          "model_module_version": "1.5.0",
          "model_name": "DescriptionStyleModel",
          "state": {
            "_model_module": "@jupyter-widgets/controls",
            "_model_module_version": "1.5.0",
            "_model_name": "DescriptionStyleModel",
            "_view_count": null,
            "_view_module": "@jupyter-widgets/base",
            "_view_module_version": "1.2.0",
            "_view_name": "StyleView",
            "description_width": ""
          }
        },
        "356ff13400cd4a2dabc5e74dd87271c1": {
          "model_module": "@jupyter-widgets/controls",
          "model_module_version": "1.5.0",
          "model_name": "HTMLModel",
          "state": {
            "_dom_classes": [],
            "_model_module": "@jupyter-widgets/controls",
            "_model_module_version": "1.5.0",
            "_model_name": "HTMLModel",
            "_view_count": null,
            "_view_module": "@jupyter-widgets/controls",
            "_view_module_version": "1.5.0",
            "_view_name": "HTMLView",
            "description": "",
            "description_tooltip": null,
            "layout": "IPY_MODEL_f207cf2e5199463eb0e1f67c4c9ac832",
            "placeholder": "​",
            "style": "IPY_MODEL_49173be48a81452aaa43157a4c892cd6",
            "value": "tokenizer_config.json: 100%"
          }
        },
        "35c6d0144c4e44c886f78dfc86ae2c92": {
          "model_module": "@jupyter-widgets/controls",
          "model_module_version": "1.5.0",
          "model_name": "HBoxModel",
          "state": {
            "_dom_classes": [],
            "_model_module": "@jupyter-widgets/controls",
            "_model_module_version": "1.5.0",
            "_model_name": "HBoxModel",
            "_view_count": null,
            "_view_module": "@jupyter-widgets/controls",
            "_view_module_version": "1.5.0",
            "_view_name": "HBoxView",
            "box_style": "",
            "children": [
              "IPY_MODEL_97c168c7d0784ca0a1d730bb8f5a45f2",
              "IPY_MODEL_97e274213a0c431a98a2e1e833d1d221",
              "IPY_MODEL_60aa7f6b2ec54c5cb1b90eee2e788e56"
            ],
            "layout": "IPY_MODEL_ecb561e205e242c489a363067bf9b1a8"
          }
        },
        "35f3665e08934607997b53fe735eae4d": {
          "model_module": "@jupyter-widgets/controls",
          "model_module_version": "1.5.0",
          "model_name": "HTMLModel",
          "state": {
            "_dom_classes": [],
            "_model_module": "@jupyter-widgets/controls",
            "_model_module_version": "1.5.0",
            "_model_name": "HTMLModel",
            "_view_count": null,
            "_view_module": "@jupyter-widgets/controls",
            "_view_module_version": "1.5.0",
            "_view_name": "HTMLView",
            "description": "",
            "description_tooltip": null,
            "layout": "IPY_MODEL_d858c326a3614db0830f81ab5999d78b",
            "placeholder": "​",
            "style": "IPY_MODEL_9a33dce8c40e423ab522a77cf27574df",
            "value": " 25.1k/25.1k [00:00&lt;00:00, 1.92MB/s]"
          }
        },
        "37db6cb1dd394817bbc5cb960ed76867": {
          "model_module": "@jupyter-widgets/controls",
          "model_module_version": "1.5.0",
          "model_name": "DescriptionStyleModel",
          "state": {
            "_model_module": "@jupyter-widgets/controls",
            "_model_module_version": "1.5.0",
            "_model_name": "DescriptionStyleModel",
            "_view_count": null,
            "_view_module": "@jupyter-widgets/base",
            "_view_module_version": "1.2.0",
            "_view_name": "StyleView",
            "description_width": ""
          }
        },
        "38eea9de5f8a4232a33d70fbd843d669": {
          "model_module": "@jupyter-widgets/base",
          "model_module_version": "1.2.0",
          "model_name": "LayoutModel",
          "state": {
            "_model_module": "@jupyter-widgets/base",
            "_model_module_version": "1.2.0",
            "_model_name": "LayoutModel",
            "_view_count": null,
            "_view_module": "@jupyter-widgets/base",
            "_view_module_version": "1.2.0",
            "_view_name": "LayoutView",
            "align_content": null,
            "align_items": null,
            "align_self": null,
            "border": null,
            "bottom": null,
            "display": null,
            "flex": null,
            "flex_flow": null,
            "grid_area": null,
            "grid_auto_columns": null,
            "grid_auto_flow": null,
            "grid_auto_rows": null,
            "grid_column": null,
            "grid_gap": null,
            "grid_row": null,
            "grid_template_areas": null,
            "grid_template_columns": null,
            "grid_template_rows": null,
            "height": null,
            "justify_content": null,
            "justify_items": null,
            "left": null,
            "margin": null,
            "max_height": null,
            "max_width": null,
            "min_height": null,
            "min_width": null,
            "object_fit": null,
            "object_position": null,
            "order": null,
            "overflow": null,
            "overflow_x": null,
            "overflow_y": null,
            "padding": null,
            "right": null,
            "top": null,
            "visibility": null,
            "width": null
          }
        },
        "3c8493ec16104167ac08a8b2a3b71dc7": {
          "model_module": "@jupyter-widgets/base",
          "model_module_version": "1.2.0",
          "model_name": "LayoutModel",
          "state": {
            "_model_module": "@jupyter-widgets/base",
            "_model_module_version": "1.2.0",
            "_model_name": "LayoutModel",
            "_view_count": null,
            "_view_module": "@jupyter-widgets/base",
            "_view_module_version": "1.2.0",
            "_view_name": "LayoutView",
            "align_content": null,
            "align_items": null,
            "align_self": null,
            "border": null,
            "bottom": null,
            "display": null,
            "flex": null,
            "flex_flow": null,
            "grid_area": null,
            "grid_auto_columns": null,
            "grid_auto_flow": null,
            "grid_auto_rows": null,
            "grid_column": null,
            "grid_gap": null,
            "grid_row": null,
            "grid_template_areas": null,
            "grid_template_columns": null,
            "grid_template_rows": null,
            "height": null,
            "justify_content": null,
            "justify_items": null,
            "left": null,
            "margin": null,
            "max_height": null,
            "max_width": null,
            "min_height": null,
            "min_width": null,
            "object_fit": null,
            "object_position": null,
            "order": null,
            "overflow": null,
            "overflow_x": null,
            "overflow_y": null,
            "padding": null,
            "right": null,
            "top": null,
            "visibility": null,
            "width": null
          }
        },
        "40b3e173533c4d4c8e7eb7566096294e": {
          "model_module": "@jupyter-widgets/base",
          "model_module_version": "1.2.0",
          "model_name": "LayoutModel",
          "state": {
            "_model_module": "@jupyter-widgets/base",
            "_model_module_version": "1.2.0",
            "_model_name": "LayoutModel",
            "_view_count": null,
            "_view_module": "@jupyter-widgets/base",
            "_view_module_version": "1.2.0",
            "_view_name": "LayoutView",
            "align_content": null,
            "align_items": null,
            "align_self": null,
            "border": null,
            "bottom": null,
            "display": null,
            "flex": null,
            "flex_flow": null,
            "grid_area": null,
            "grid_auto_columns": null,
            "grid_auto_flow": null,
            "grid_auto_rows": null,
            "grid_column": null,
            "grid_gap": null,
            "grid_row": null,
            "grid_template_areas": null,
            "grid_template_columns": null,
            "grid_template_rows": null,
            "height": null,
            "justify_content": null,
            "justify_items": null,
            "left": null,
            "margin": null,
            "max_height": null,
            "max_width": null,
            "min_height": null,
            "min_width": null,
            "object_fit": null,
            "object_position": null,
            "order": null,
            "overflow": null,
            "overflow_x": null,
            "overflow_y": null,
            "padding": null,
            "right": null,
            "top": null,
            "visibility": null,
            "width": null
          }
        },
        "46f2adf8939a479f9675d4456de4ac97": {
          "model_module": "@jupyter-widgets/base",
          "model_module_version": "1.2.0",
          "model_name": "LayoutModel",
          "state": {
            "_model_module": "@jupyter-widgets/base",
            "_model_module_version": "1.2.0",
            "_model_name": "LayoutModel",
            "_view_count": null,
            "_view_module": "@jupyter-widgets/base",
            "_view_module_version": "1.2.0",
            "_view_name": "LayoutView",
            "align_content": null,
            "align_items": null,
            "align_self": null,
            "border": null,
            "bottom": null,
            "display": null,
            "flex": null,
            "flex_flow": null,
            "grid_area": null,
            "grid_auto_columns": null,
            "grid_auto_flow": null,
            "grid_auto_rows": null,
            "grid_column": null,
            "grid_gap": null,
            "grid_row": null,
            "grid_template_areas": null,
            "grid_template_columns": null,
            "grid_template_rows": null,
            "height": null,
            "justify_content": null,
            "justify_items": null,
            "left": null,
            "margin": null,
            "max_height": null,
            "max_width": null,
            "min_height": null,
            "min_width": null,
            "object_fit": null,
            "object_position": null,
            "order": null,
            "overflow": null,
            "overflow_x": null,
            "overflow_y": null,
            "padding": null,
            "right": null,
            "top": null,
            "visibility": null,
            "width": null
          }
        },
        "49173be48a81452aaa43157a4c892cd6": {
          "model_module": "@jupyter-widgets/controls",
          "model_module_version": "1.5.0",
          "model_name": "DescriptionStyleModel",
          "state": {
            "_model_module": "@jupyter-widgets/controls",
            "_model_module_version": "1.5.0",
            "_model_name": "DescriptionStyleModel",
            "_view_count": null,
            "_view_module": "@jupyter-widgets/base",
            "_view_module_version": "1.2.0",
            "_view_name": "StyleView",
            "description_width": ""
          }
        },
        "4a2d12f3c7c34ac8bb19f8b745afbd6d": {
          "model_module": "@jupyter-widgets/controls",
          "model_module_version": "1.5.0",
          "model_name": "ProgressStyleModel",
          "state": {
            "_model_module": "@jupyter-widgets/controls",
            "_model_module_version": "1.5.0",
            "_model_name": "ProgressStyleModel",
            "_view_count": null,
            "_view_module": "@jupyter-widgets/base",
            "_view_module_version": "1.2.0",
            "_view_name": "StyleView",
            "bar_color": null,
            "description_width": ""
          }
        },
        "4b4087ecc02e4705a7fceadfb837fe93": {
          "model_module": "@jupyter-widgets/controls",
          "model_module_version": "1.5.0",
          "model_name": "HTMLModel",
          "state": {
            "_dom_classes": [],
            "_model_module": "@jupyter-widgets/controls",
            "_model_module_version": "1.5.0",
            "_model_name": "HTMLModel",
            "_view_count": null,
            "_view_module": "@jupyter-widgets/controls",
            "_view_module_version": "1.5.0",
            "_view_name": "HTMLView",
            "description": "",
            "description_tooltip": null,
            "layout": "IPY_MODEL_8ce6d71570ba4d2db6b04c6cd51b8cde",
            "placeholder": "​",
            "style": "IPY_MODEL_52edeb87d3e8477d9d2c9eca73509844",
            "value": " 637/637 [00:00&lt;00:00, 48.0kB/s]"
          }
        },
        "4c50dd6f6e2340399cd943d8cba66b8b": {
          "model_module": "@jupyter-widgets/controls",
          "model_module_version": "1.5.0",
          "model_name": "ProgressStyleModel",
          "state": {
            "_model_module": "@jupyter-widgets/controls",
            "_model_module_version": "1.5.0",
            "_model_name": "ProgressStyleModel",
            "_view_count": null,
            "_view_module": "@jupyter-widgets/base",
            "_view_module_version": "1.2.0",
            "_view_name": "StyleView",
            "bar_color": null,
            "description_width": ""
          }
        },
        "5100a39ac70641d2b1d95cc14519d58f": {
          "model_module": "@jupyter-widgets/controls",
          "model_module_version": "1.5.0",
          "model_name": "HBoxModel",
          "state": {
            "_dom_classes": [],
            "_model_module": "@jupyter-widgets/controls",
            "_model_module_version": "1.5.0",
            "_model_name": "HBoxModel",
            "_view_count": null,
            "_view_module": "@jupyter-widgets/controls",
            "_view_module_version": "1.5.0",
            "_view_name": "HBoxView",
            "box_style": "",
            "children": [
              "IPY_MODEL_755930c614454a5fbcb6ec970ded04eb",
              "IPY_MODEL_f118ef8f8cf1479c91c87c81e0f84d60",
              "IPY_MODEL_f1c1a9f6726b4779900f8c6354bc9e88"
            ],
            "layout": "IPY_MODEL_1e6789f58bc64b2ebbe09d67958b48c1"
          }
        },
        "5195c6f4cf5c4acab524415b6704bc90": {
          "model_module": "@jupyter-widgets/controls",
          "model_module_version": "1.5.0",
          "model_name": "HTMLModel",
          "state": {
            "_dom_classes": [],
            "_model_module": "@jupyter-widgets/controls",
            "_model_module_version": "1.5.0",
            "_model_name": "HTMLModel",
            "_view_count": null,
            "_view_module": "@jupyter-widgets/controls",
            "_view_module_version": "1.5.0",
            "_view_name": "HTMLView",
            "description": "",
            "description_tooltip": null,
            "layout": "IPY_MODEL_c5e50d19d96e442dbcf267a805f122ce",
            "placeholder": "​",
            "style": "IPY_MODEL_ad5732d1910a43cb8ed9790125867daa",
            "value": "tokenizer.json: 100%"
          }
        },
        "5254f25c579d434cb5e34b36f703a67f": {
          "model_module": "@jupyter-widgets/controls",
          "model_module_version": "1.5.0",
          "model_name": "DescriptionStyleModel",
          "state": {
            "_model_module": "@jupyter-widgets/controls",
            "_model_module_version": "1.5.0",
            "_model_name": "DescriptionStyleModel",
            "_view_count": null,
            "_view_module": "@jupyter-widgets/base",
            "_view_module_version": "1.2.0",
            "_view_name": "StyleView",
            "description_width": ""
          }
        },
        "52edeb87d3e8477d9d2c9eca73509844": {
          "model_module": "@jupyter-widgets/controls",
          "model_module_version": "1.5.0",
          "model_name": "DescriptionStyleModel",
          "state": {
            "_model_module": "@jupyter-widgets/controls",
            "_model_module_version": "1.5.0",
            "_model_name": "DescriptionStyleModel",
            "_view_count": null,
            "_view_module": "@jupyter-widgets/base",
            "_view_module_version": "1.2.0",
            "_view_name": "StyleView",
            "description_width": ""
          }
        },
        "52f3dd8065bd4c0d89bf5cd48f5b7213": {
          "model_module": "@jupyter-widgets/controls",
          "model_module_version": "1.5.0",
          "model_name": "HTMLModel",
          "state": {
            "_dom_classes": [],
            "_model_module": "@jupyter-widgets/controls",
            "_model_module_version": "1.5.0",
            "_model_name": "HTMLModel",
            "_view_count": null,
            "_view_module": "@jupyter-widgets/controls",
            "_view_module_version": "1.5.0",
            "_view_name": "HTMLView",
            "description": "",
            "description_tooltip": null,
            "layout": "IPY_MODEL_ccadf08595f44e1b88766244d8f70998",
            "placeholder": "​",
            "style": "IPY_MODEL_963804a7052c484a8d7e3fe71644eb61",
            "value": " 2/2 [01:10&lt;00:00, 31.47s/it]"
          }
        },
        "53212dcca0aa4e90ae1945df2ecb95af": {
          "model_module": "@jupyter-widgets/controls",
          "model_module_version": "1.5.0",
          "model_name": "ProgressStyleModel",
          "state": {
            "_model_module": "@jupyter-widgets/controls",
            "_model_module_version": "1.5.0",
            "_model_name": "ProgressStyleModel",
            "_view_count": null,
            "_view_module": "@jupyter-widgets/base",
            "_view_module_version": "1.2.0",
            "_view_name": "StyleView",
            "bar_color": null,
            "description_width": ""
          }
        },
        "5324e9542ba14f8fb2b2c1af9b7f839c": {
          "model_module": "@jupyter-widgets/controls",
          "model_module_version": "1.5.0",
          "model_name": "ProgressStyleModel",
          "state": {
            "_model_module": "@jupyter-widgets/controls",
            "_model_module_version": "1.5.0",
            "_model_name": "ProgressStyleModel",
            "_view_count": null,
            "_view_module": "@jupyter-widgets/base",
            "_view_module_version": "1.2.0",
            "_view_name": "StyleView",
            "bar_color": null,
            "description_width": ""
          }
        },
        "54628da618e44eb19e417d8c61e253bb": {
          "model_module": "@jupyter-widgets/base",
          "model_module_version": "1.2.0",
          "model_name": "LayoutModel",
          "state": {
            "_model_module": "@jupyter-widgets/base",
            "_model_module_version": "1.2.0",
            "_model_name": "LayoutModel",
            "_view_count": null,
            "_view_module": "@jupyter-widgets/base",
            "_view_module_version": "1.2.0",
            "_view_name": "LayoutView",
            "align_content": null,
            "align_items": null,
            "align_self": null,
            "border": null,
            "bottom": null,
            "display": null,
            "flex": null,
            "flex_flow": null,
            "grid_area": null,
            "grid_auto_columns": null,
            "grid_auto_flow": null,
            "grid_auto_rows": null,
            "grid_column": null,
            "grid_gap": null,
            "grid_row": null,
            "grid_template_areas": null,
            "grid_template_columns": null,
            "grid_template_rows": null,
            "height": null,
            "justify_content": null,
            "justify_items": null,
            "left": null,
            "margin": null,
            "max_height": null,
            "max_width": null,
            "min_height": null,
            "min_width": null,
            "object_fit": null,
            "object_position": null,
            "order": null,
            "overflow": null,
            "overflow_x": null,
            "overflow_y": null,
            "padding": null,
            "right": null,
            "top": null,
            "visibility": null,
            "width": null
          }
        },
        "54fc1cddb6a34f0c8e88c8e34964c79e": {
          "model_module": "@jupyter-widgets/base",
          "model_module_version": "1.2.0",
          "model_name": "LayoutModel",
          "state": {
            "_model_module": "@jupyter-widgets/base",
            "_model_module_version": "1.2.0",
            "_model_name": "LayoutModel",
            "_view_count": null,
            "_view_module": "@jupyter-widgets/base",
            "_view_module_version": "1.2.0",
            "_view_name": "LayoutView",
            "align_content": null,
            "align_items": null,
            "align_self": null,
            "border": null,
            "bottom": null,
            "display": null,
            "flex": null,
            "flex_flow": null,
            "grid_area": null,
            "grid_auto_columns": null,
            "grid_auto_flow": null,
            "grid_auto_rows": null,
            "grid_column": null,
            "grid_gap": null,
            "grid_row": null,
            "grid_template_areas": null,
            "grid_template_columns": null,
            "grid_template_rows": null,
            "height": null,
            "justify_content": null,
            "justify_items": null,
            "left": null,
            "margin": null,
            "max_height": null,
            "max_width": null,
            "min_height": null,
            "min_width": null,
            "object_fit": null,
            "object_position": null,
            "order": null,
            "overflow": null,
            "overflow_x": null,
            "overflow_y": null,
            "padding": null,
            "right": null,
            "top": null,
            "visibility": null,
            "width": null
          }
        },
        "55c8eafdf3e240c6915f333ee8867fdc": {
          "model_module": "@jupyter-widgets/base",
          "model_module_version": "1.2.0",
          "model_name": "LayoutModel",
          "state": {
            "_model_module": "@jupyter-widgets/base",
            "_model_module_version": "1.2.0",
            "_model_name": "LayoutModel",
            "_view_count": null,
            "_view_module": "@jupyter-widgets/base",
            "_view_module_version": "1.2.0",
            "_view_name": "LayoutView",
            "align_content": null,
            "align_items": null,
            "align_self": null,
            "border": null,
            "bottom": null,
            "display": null,
            "flex": null,
            "flex_flow": null,
            "grid_area": null,
            "grid_auto_columns": null,
            "grid_auto_flow": null,
            "grid_auto_rows": null,
            "grid_column": null,
            "grid_gap": null,
            "grid_row": null,
            "grid_template_areas": null,
            "grid_template_columns": null,
            "grid_template_rows": null,
            "height": null,
            "justify_content": null,
            "justify_items": null,
            "left": null,
            "margin": null,
            "max_height": null,
            "max_width": null,
            "min_height": null,
            "min_width": null,
            "object_fit": null,
            "object_position": null,
            "order": null,
            "overflow": null,
            "overflow_x": null,
            "overflow_y": null,
            "padding": null,
            "right": null,
            "top": null,
            "visibility": null,
            "width": null
          }
        },
        "578525cf759346bdb318b552bcaa6fe8": {
          "model_module": "@jupyter-widgets/base",
          "model_module_version": "1.2.0",
          "model_name": "LayoutModel",
          "state": {
            "_model_module": "@jupyter-widgets/base",
            "_model_module_version": "1.2.0",
            "_model_name": "LayoutModel",
            "_view_count": null,
            "_view_module": "@jupyter-widgets/base",
            "_view_module_version": "1.2.0",
            "_view_name": "LayoutView",
            "align_content": null,
            "align_items": null,
            "align_self": null,
            "border": null,
            "bottom": null,
            "display": null,
            "flex": null,
            "flex_flow": null,
            "grid_area": null,
            "grid_auto_columns": null,
            "grid_auto_flow": null,
            "grid_auto_rows": null,
            "grid_column": null,
            "grid_gap": null,
            "grid_row": null,
            "grid_template_areas": null,
            "grid_template_columns": null,
            "grid_template_rows": null,
            "height": null,
            "justify_content": null,
            "justify_items": null,
            "left": null,
            "margin": null,
            "max_height": null,
            "max_width": null,
            "min_height": null,
            "min_width": null,
            "object_fit": null,
            "object_position": null,
            "order": null,
            "overflow": null,
            "overflow_x": null,
            "overflow_y": null,
            "padding": null,
            "right": null,
            "top": null,
            "visibility": null,
            "width": null
          }
        },
        "59fd9cf31a564fa68cf77dfcc9a3afc1": {
          "model_module": "@jupyter-widgets/base",
          "model_module_version": "1.2.0",
          "model_name": "LayoutModel",
          "state": {
            "_model_module": "@jupyter-widgets/base",
            "_model_module_version": "1.2.0",
            "_model_name": "LayoutModel",
            "_view_count": null,
            "_view_module": "@jupyter-widgets/base",
            "_view_module_version": "1.2.0",
            "_view_name": "LayoutView",
            "align_content": null,
            "align_items": null,
            "align_self": null,
            "border": null,
            "bottom": null,
            "display": null,
            "flex": null,
            "flex_flow": null,
            "grid_area": null,
            "grid_auto_columns": null,
            "grid_auto_flow": null,
            "grid_auto_rows": null,
            "grid_column": null,
            "grid_gap": null,
            "grid_row": null,
            "grid_template_areas": null,
            "grid_template_columns": null,
            "grid_template_rows": null,
            "height": null,
            "justify_content": null,
            "justify_items": null,
            "left": null,
            "margin": null,
            "max_height": null,
            "max_width": null,
            "min_height": null,
            "min_width": null,
            "object_fit": null,
            "object_position": null,
            "order": null,
            "overflow": null,
            "overflow_x": null,
            "overflow_y": null,
            "padding": null,
            "right": null,
            "top": null,
            "visibility": null,
            "width": null
          }
        },
        "5db146baac47418dba5e1d018d67c10a": {
          "model_module": "@jupyter-widgets/base",
          "model_module_version": "1.2.0",
          "model_name": "LayoutModel",
          "state": {
            "_model_module": "@jupyter-widgets/base",
            "_model_module_version": "1.2.0",
            "_model_name": "LayoutModel",
            "_view_count": null,
            "_view_module": "@jupyter-widgets/base",
            "_view_module_version": "1.2.0",
            "_view_name": "LayoutView",
            "align_content": null,
            "align_items": null,
            "align_self": null,
            "border": null,
            "bottom": null,
            "display": null,
            "flex": null,
            "flex_flow": null,
            "grid_area": null,
            "grid_auto_columns": null,
            "grid_auto_flow": null,
            "grid_auto_rows": null,
            "grid_column": null,
            "grid_gap": null,
            "grid_row": null,
            "grid_template_areas": null,
            "grid_template_columns": null,
            "grid_template_rows": null,
            "height": null,
            "justify_content": null,
            "justify_items": null,
            "left": null,
            "margin": null,
            "max_height": null,
            "max_width": null,
            "min_height": null,
            "min_width": null,
            "object_fit": null,
            "object_position": null,
            "order": null,
            "overflow": null,
            "overflow_x": null,
            "overflow_y": null,
            "padding": null,
            "right": null,
            "top": null,
            "visibility": null,
            "width": null
          }
        },
        "5fb17df850bd4a1d9e9887c91d7272e4": {
          "model_module": "@jupyter-widgets/controls",
          "model_module_version": "1.5.0",
          "model_name": "HBoxModel",
          "state": {
            "_dom_classes": [],
            "_model_module": "@jupyter-widgets/controls",
            "_model_module_version": "1.5.0",
            "_model_name": "HBoxModel",
            "_view_count": null,
            "_view_module": "@jupyter-widgets/controls",
            "_view_module_version": "1.5.0",
            "_view_name": "HBoxView",
            "box_style": "",
            "children": [
              "IPY_MODEL_936d735c59f04037be5561157be3f11b",
              "IPY_MODEL_a658721a91554f7abcae6830079ad379",
              "IPY_MODEL_4b4087ecc02e4705a7fceadfb837fe93"
            ],
            "layout": "IPY_MODEL_54628da618e44eb19e417d8c61e253bb"
          }
        },
        "60aa7f6b2ec54c5cb1b90eee2e788e56": {
          "model_module": "@jupyter-widgets/controls",
          "model_module_version": "1.5.0",
          "model_name": "HTMLModel",
          "state": {
            "_dom_classes": [],
            "_model_module": "@jupyter-widgets/controls",
            "_model_module_version": "1.5.0",
            "_model_name": "HTMLModel",
            "_view_count": null,
            "_view_module": "@jupyter-widgets/controls",
            "_view_module_version": "1.5.0",
            "_view_name": "HTMLView",
            "description": "",
            "description_tooltip": null,
            "layout": "IPY_MODEL_6839cad372c9494bb3cdbf647268dd9b",
            "placeholder": "​",
            "style": "IPY_MODEL_343bb5a9c0ed4e0f9c018acb5e6127d2",
            "value": " 500k/500k [00:00&lt;00:00, 4.79MB/s]"
          }
        },
        "6194b2591d0244b88b77754b998f622e": {
          "model_module": "@jupyter-widgets/controls",
          "model_module_version": "1.5.0",
          "model_name": "ProgressStyleModel",
          "state": {
            "_model_module": "@jupyter-widgets/controls",
            "_model_module_version": "1.5.0",
            "_model_name": "ProgressStyleModel",
            "_view_count": null,
            "_view_module": "@jupyter-widgets/base",
            "_view_module_version": "1.2.0",
            "_view_name": "StyleView",
            "bar_color": null,
            "description_width": ""
          }
        },
        "61fe521f516c4209ae5f33a4ad59652a": {
          "model_module": "@jupyter-widgets/controls",
          "model_module_version": "1.5.0",
          "model_name": "FloatProgressModel",
          "state": {
            "_dom_classes": [],
            "_model_module": "@jupyter-widgets/controls",
            "_model_module_version": "1.5.0",
            "_model_name": "FloatProgressModel",
            "_view_count": null,
            "_view_module": "@jupyter-widgets/controls",
            "_view_module_version": "1.5.0",
            "_view_name": "ProgressView",
            "bar_style": "success",
            "description": "",
            "description_tooltip": null,
            "layout": "IPY_MODEL_97a65f91d0604e178afe2f7860b8e2c0",
            "max": 116,
            "min": 0,
            "orientation": "horizontal",
            "style": "IPY_MODEL_2e415bba06a44ab79f1abcaa529520bd",
            "value": 116
          }
        },
        "65a8e5da029044e885b7d6cd8d921399": {
          "model_module": "@jupyter-widgets/controls",
          "model_module_version": "1.5.0",
          "model_name": "FloatProgressModel",
          "state": {
            "_dom_classes": [],
            "_model_module": "@jupyter-widgets/controls",
            "_model_module_version": "1.5.0",
            "_model_name": "FloatProgressModel",
            "_view_count": null,
            "_view_module": "@jupyter-widgets/controls",
            "_view_module_version": "1.5.0",
            "_view_name": "ProgressView",
            "bar_style": "success",
            "description": "",
            "description_tooltip": null,
            "layout": "IPY_MODEL_2961909b7e29478d8372826c396de1b7",
            "max": 1843427,
            "min": 0,
            "orientation": "horizontal",
            "style": "IPY_MODEL_53212dcca0aa4e90ae1945df2ecb95af",
            "value": 1843427
          }
        },
        "6839cad372c9494bb3cdbf647268dd9b": {
          "model_module": "@jupyter-widgets/base",
          "model_module_version": "1.2.0",
          "model_name": "LayoutModel",
          "state": {
            "_model_module": "@jupyter-widgets/base",
            "_model_module_version": "1.2.0",
            "_model_name": "LayoutModel",
            "_view_count": null,
            "_view_module": "@jupyter-widgets/base",
            "_view_module_version": "1.2.0",
            "_view_name": "LayoutView",
            "align_content": null,
            "align_items": null,
            "align_self": null,
            "border": null,
            "bottom": null,
            "display": null,
            "flex": null,
            "flex_flow": null,
            "grid_area": null,
            "grid_auto_columns": null,
            "grid_auto_flow": null,
            "grid_auto_rows": null,
            "grid_column": null,
            "grid_gap": null,
            "grid_row": null,
            "grid_template_areas": null,
            "grid_template_columns": null,
            "grid_template_rows": null,
            "height": null,
            "justify_content": null,
            "justify_items": null,
            "left": null,
            "margin": null,
            "max_height": null,
            "max_width": null,
            "min_height": null,
            "min_width": null,
            "object_fit": null,
            "object_position": null,
            "order": null,
            "overflow": null,
            "overflow_x": null,
            "overflow_y": null,
            "padding": null,
            "right": null,
            "top": null,
            "visibility": null,
            "width": null
          }
        },
        "68e70c7edd6e4f119a6dca1bf8b3a3d7": {
          "model_module": "@jupyter-widgets/controls",
          "model_module_version": "1.5.0",
          "model_name": "ProgressStyleModel",
          "state": {
            "_model_module": "@jupyter-widgets/controls",
            "_model_module_version": "1.5.0",
            "_model_name": "ProgressStyleModel",
            "_view_count": null,
            "_view_module": "@jupyter-widgets/base",
            "_view_module_version": "1.2.0",
            "_view_name": "StyleView",
            "bar_color": null,
            "description_width": ""
          }
        },
        "6e2bc7d004f94aaabe67551e61b8a8cb": {
          "model_module": "@jupyter-widgets/controls",
          "model_module_version": "1.5.0",
          "model_name": "HTMLModel",
          "state": {
            "_dom_classes": [],
            "_model_module": "@jupyter-widgets/controls",
            "_model_module_version": "1.5.0",
            "_model_name": "HTMLModel",
            "_view_count": null,
            "_view_module": "@jupyter-widgets/controls",
            "_view_module_version": "1.5.0",
            "_view_name": "HTMLView",
            "description": "",
            "description_tooltip": null,
            "layout": "IPY_MODEL_bab5fc4bdf0642a38809371cf0aaa56d",
            "placeholder": "​",
            "style": "IPY_MODEL_da648c236a00474d9e9ff6e2e4c7674c",
            "value": "Downloading shards: 100%"
          }
        },
        "7212f2622d264ccd8448a9f9d287f555": {
          "model_module": "@jupyter-widgets/controls",
          "model_module_version": "1.5.0",
          "model_name": "FloatProgressModel",
          "state": {
            "_dom_classes": [],
            "_model_module": "@jupyter-widgets/controls",
            "_model_module_version": "1.5.0",
            "_model_name": "FloatProgressModel",
            "_view_count": null,
            "_view_module": "@jupyter-widgets/controls",
            "_view_module_version": "1.5.0",
            "_view_name": "ProgressView",
            "bar_style": "success",
            "description": "",
            "description_tooltip": null,
            "layout": "IPY_MODEL_aa40041c1ba6476fa1e2c5726f163bdc",
            "max": 3500425616,
            "min": 0,
            "orientation": "horizontal",
            "style": "IPY_MODEL_6194b2591d0244b88b77754b998f622e",
            "value": 3500425616
          }
        },
        "755930c614454a5fbcb6ec970ded04eb": {
          "model_module": "@jupyter-widgets/controls",
          "model_module_version": "1.5.0",
          "model_name": "HTMLModel",
          "state": {
            "_dom_classes": [],
            "_model_module": "@jupyter-widgets/controls",
            "_model_module_version": "1.5.0",
            "_model_name": "HTMLModel",
            "_view_count": null,
            "_view_module": "@jupyter-widgets/controls",
            "_view_module_version": "1.5.0",
            "_view_name": "HTMLView",
            "description": "",
            "description_tooltip": null,
            "layout": "IPY_MODEL_0cf403878f1547268748d48bcfc7b80f",
            "placeholder": "​",
            "style": "IPY_MODEL_5254f25c579d434cb5e34b36f703a67f",
            "value": "special_tokens_map.json: 100%"
          }
        },
        "75911b16a2014a939b88d928b4fb9d43": {
          "model_module": "@jupyter-widgets/controls",
          "model_module_version": "1.5.0",
          "model_name": "DescriptionStyleModel",
          "state": {
            "_model_module": "@jupyter-widgets/controls",
            "_model_module_version": "1.5.0",
            "_model_name": "DescriptionStyleModel",
            "_view_count": null,
            "_view_module": "@jupyter-widgets/base",
            "_view_module_version": "1.2.0",
            "_view_name": "StyleView",
            "description_width": ""
          }
        },
        "786dbe4448444f68a3a8a650a5b79d2a": {
          "model_module": "@jupyter-widgets/controls",
          "model_module_version": "1.5.0",
          "model_name": "ProgressStyleModel",
          "state": {
            "_model_module": "@jupyter-widgets/controls",
            "_model_module_version": "1.5.0",
            "_model_name": "ProgressStyleModel",
            "_view_count": null,
            "_view_module": "@jupyter-widgets/base",
            "_view_module_version": "1.2.0",
            "_view_name": "StyleView",
            "bar_color": null,
            "description_width": ""
          }
        },
        "7b71e0c771fe42ad83696fd5b57d87e1": {
          "model_module": "@jupyter-widgets/base",
          "model_module_version": "1.2.0",
          "model_name": "LayoutModel",
          "state": {
            "_model_module": "@jupyter-widgets/base",
            "_model_module_version": "1.2.0",
            "_model_name": "LayoutModel",
            "_view_count": null,
            "_view_module": "@jupyter-widgets/base",
            "_view_module_version": "1.2.0",
            "_view_name": "LayoutView",
            "align_content": null,
            "align_items": null,
            "align_self": null,
            "border": null,
            "bottom": null,
            "display": null,
            "flex": null,
            "flex_flow": null,
            "grid_area": null,
            "grid_auto_columns": null,
            "grid_auto_flow": null,
            "grid_auto_rows": null,
            "grid_column": null,
            "grid_gap": null,
            "grid_row": null,
            "grid_template_areas": null,
            "grid_template_columns": null,
            "grid_template_rows": null,
            "height": null,
            "justify_content": null,
            "justify_items": null,
            "left": null,
            "margin": null,
            "max_height": null,
            "max_width": null,
            "min_height": null,
            "min_width": null,
            "object_fit": null,
            "object_position": null,
            "order": null,
            "overflow": null,
            "overflow_x": null,
            "overflow_y": null,
            "padding": null,
            "right": null,
            "top": null,
            "visibility": null,
            "width": null
          }
        },
        "822a0be70cf845eeb5268b919347f67a": {
          "model_module": "@jupyter-widgets/controls",
          "model_module_version": "1.5.0",
          "model_name": "HTMLModel",
          "state": {
            "_dom_classes": [],
            "_model_module": "@jupyter-widgets/controls",
            "_model_module_version": "1.5.0",
            "_model_name": "HTMLModel",
            "_view_count": null,
            "_view_module": "@jupyter-widgets/controls",
            "_view_module_version": "1.5.0",
            "_view_name": "HTMLView",
            "description": "",
            "description_tooltip": null,
            "layout": "IPY_MODEL_0467797d1cc445d985370bdbb7f0b159",
            "placeholder": "​",
            "style": "IPY_MODEL_d1b75b72713c4d528a04222670efac25",
            "value": "model-00002-of-00002.safetensors: 100%"
          }
        },
        "83556189d6ec4a0293c538f9cf1d4908": {
          "model_module": "@jupyter-widgets/controls",
          "model_module_version": "1.5.0",
          "model_name": "FloatProgressModel",
          "state": {
            "_dom_classes": [],
            "_model_module": "@jupyter-widgets/controls",
            "_model_module_version": "1.5.0",
            "_model_name": "FloatProgressModel",
            "_view_count": null,
            "_view_module": "@jupyter-widgets/controls",
            "_view_module_version": "1.5.0",
            "_view_name": "ProgressView",
            "bar_style": "success",
            "description": "",
            "description_tooltip": null,
            "layout": "IPY_MODEL_15b619f896394b45ae9f1f5aebdcc211",
            "max": 25125,
            "min": 0,
            "orientation": "horizontal",
            "style": "IPY_MODEL_ab9863542c56455a83264b28315a35ef",
            "value": 25125
          }
        },
        "8580674c819f40acab3ab3043e736843": {
          "model_module": "@jupyter-widgets/controls",
          "model_module_version": "1.5.0",
          "model_name": "FloatProgressModel",
          "state": {
            "_dom_classes": [],
            "_model_module": "@jupyter-widgets/controls",
            "_model_module_version": "1.5.0",
            "_model_name": "FloatProgressModel",
            "_view_count": null,
            "_view_module": "@jupyter-widgets/controls",
            "_view_module_version": "1.5.0",
            "_view_name": "ProgressView",
            "bar_style": "success",
            "description": "",
            "description_tooltip": null,
            "layout": "IPY_MODEL_7b71e0c771fe42ad83696fd5b57d87e1",
            "max": 9976701592,
            "min": 0,
            "orientation": "horizontal",
            "style": "IPY_MODEL_d96abd07c6d345deaccc225895550327",
            "value": 9976701592
          }
        },
        "86ff31c695e545408e65f25f04d13ff1": {
          "model_module": "@jupyter-widgets/base",
          "model_module_version": "1.2.0",
          "model_name": "LayoutModel",
          "state": {
            "_model_module": "@jupyter-widgets/base",
            "_model_module_version": "1.2.0",
            "_model_name": "LayoutModel",
            "_view_count": null,
            "_view_module": "@jupyter-widgets/base",
            "_view_module_version": "1.2.0",
            "_view_name": "LayoutView",
            "align_content": null,
            "align_items": null,
            "align_self": null,
            "border": null,
            "bottom": null,
            "display": null,
            "flex": null,
            "flex_flow": null,
            "grid_area": null,
            "grid_auto_columns": null,
            "grid_auto_flow": null,
            "grid_auto_rows": null,
            "grid_column": null,
            "grid_gap": null,
            "grid_row": null,
            "grid_template_areas": null,
            "grid_template_columns": null,
            "grid_template_rows": null,
            "height": null,
            "justify_content": null,
            "justify_items": null,
            "left": null,
            "margin": null,
            "max_height": null,
            "max_width": null,
            "min_height": null,
            "min_width": null,
            "object_fit": null,
            "object_position": null,
            "order": null,
            "overflow": null,
            "overflow_x": null,
            "overflow_y": null,
            "padding": null,
            "right": null,
            "top": null,
            "visibility": null,
            "width": null
          }
        },
        "87324a9fbcf84d68be2ec48f33c11b8b": {
          "model_module": "@jupyter-widgets/base",
          "model_module_version": "1.2.0",
          "model_name": "LayoutModel",
          "state": {
            "_model_module": "@jupyter-widgets/base",
            "_model_module_version": "1.2.0",
            "_model_name": "LayoutModel",
            "_view_count": null,
            "_view_module": "@jupyter-widgets/base",
            "_view_module_version": "1.2.0",
            "_view_name": "LayoutView",
            "align_content": null,
            "align_items": null,
            "align_self": null,
            "border": null,
            "bottom": null,
            "display": null,
            "flex": null,
            "flex_flow": null,
            "grid_area": null,
            "grid_auto_columns": null,
            "grid_auto_flow": null,
            "grid_auto_rows": null,
            "grid_column": null,
            "grid_gap": null,
            "grid_row": null,
            "grid_template_areas": null,
            "grid_template_columns": null,
            "grid_template_rows": null,
            "height": null,
            "justify_content": null,
            "justify_items": null,
            "left": null,
            "margin": null,
            "max_height": null,
            "max_width": null,
            "min_height": null,
            "min_width": null,
            "object_fit": null,
            "object_position": null,
            "order": null,
            "overflow": null,
            "overflow_x": null,
            "overflow_y": null,
            "padding": null,
            "right": null,
            "top": null,
            "visibility": null,
            "width": null
          }
        },
        "881c367a33e645cbbb88628688587216": {
          "model_module": "@jupyter-widgets/controls",
          "model_module_version": "1.5.0",
          "model_name": "ProgressStyleModel",
          "state": {
            "_model_module": "@jupyter-widgets/controls",
            "_model_module_version": "1.5.0",
            "_model_name": "ProgressStyleModel",
            "_view_count": null,
            "_view_module": "@jupyter-widgets/base",
            "_view_module_version": "1.2.0",
            "_view_name": "StyleView",
            "bar_color": null,
            "description_width": ""
          }
        },
        "8927898de41e4292b5723fd8b0a4f3cc": {
          "model_module": "@jupyter-widgets/base",
          "model_module_version": "1.2.0",
          "model_name": "LayoutModel",
          "state": {
            "_model_module": "@jupyter-widgets/base",
            "_model_module_version": "1.2.0",
            "_model_name": "LayoutModel",
            "_view_count": null,
            "_view_module": "@jupyter-widgets/base",
            "_view_module_version": "1.2.0",
            "_view_name": "LayoutView",
            "align_content": null,
            "align_items": null,
            "align_self": null,
            "border": null,
            "bottom": null,
            "display": null,
            "flex": null,
            "flex_flow": null,
            "grid_area": null,
            "grid_auto_columns": null,
            "grid_auto_flow": null,
            "grid_auto_rows": null,
            "grid_column": null,
            "grid_gap": null,
            "grid_row": null,
            "grid_template_areas": null,
            "grid_template_columns": null,
            "grid_template_rows": null,
            "height": null,
            "justify_content": null,
            "justify_items": null,
            "left": null,
            "margin": null,
            "max_height": null,
            "max_width": null,
            "min_height": null,
            "min_width": null,
            "object_fit": null,
            "object_position": null,
            "order": null,
            "overflow": null,
            "overflow_x": null,
            "overflow_y": null,
            "padding": null,
            "right": null,
            "top": null,
            "visibility": null,
            "width": null
          }
        },
        "8968547dd6f04b40bb271cf5ce79c1a1": {
          "model_module": "@jupyter-widgets/base",
          "model_module_version": "1.2.0",
          "model_name": "LayoutModel",
          "state": {
            "_model_module": "@jupyter-widgets/base",
            "_model_module_version": "1.2.0",
            "_model_name": "LayoutModel",
            "_view_count": null,
            "_view_module": "@jupyter-widgets/base",
            "_view_module_version": "1.2.0",
            "_view_name": "LayoutView",
            "align_content": null,
            "align_items": null,
            "align_self": null,
            "border": null,
            "bottom": null,
            "display": null,
            "flex": null,
            "flex_flow": null,
            "grid_area": null,
            "grid_auto_columns": null,
            "grid_auto_flow": null,
            "grid_auto_rows": null,
            "grid_column": null,
            "grid_gap": null,
            "grid_row": null,
            "grid_template_areas": null,
            "grid_template_columns": null,
            "grid_template_rows": null,
            "height": null,
            "justify_content": null,
            "justify_items": null,
            "left": null,
            "margin": null,
            "max_height": null,
            "max_width": null,
            "min_height": null,
            "min_width": null,
            "object_fit": null,
            "object_position": null,
            "order": null,
            "overflow": null,
            "overflow_x": null,
            "overflow_y": null,
            "padding": null,
            "right": null,
            "top": null,
            "visibility": null,
            "width": null
          }
        },
        "8ae9d8cb380948508ab0e94a334202d3": {
          "model_module": "@jupyter-widgets/controls",
          "model_module_version": "1.5.0",
          "model_name": "HBoxModel",
          "state": {
            "_dom_classes": [],
            "_model_module": "@jupyter-widgets/controls",
            "_model_module_version": "1.5.0",
            "_model_name": "HBoxModel",
            "_view_count": null,
            "_view_module": "@jupyter-widgets/controls",
            "_view_module_version": "1.5.0",
            "_view_name": "HBoxView",
            "box_style": "",
            "children": [
              "IPY_MODEL_5195c6f4cf5c4acab524415b6704bc90",
              "IPY_MODEL_65a8e5da029044e885b7d6cd8d921399",
              "IPY_MODEL_00fd447c83a64cedb8588462c0727a33"
            ],
            "layout": "IPY_MODEL_10705d3c995e4fa998aa7df79d40777d"
          }
        },
        "8bb96a742d3745ddaacd495dd9a9c25f": {
          "model_module": "@jupyter-widgets/base",
          "model_module_version": "1.2.0",
          "model_name": "LayoutModel",
          "state": {
            "_model_module": "@jupyter-widgets/base",
            "_model_module_version": "1.2.0",
            "_model_name": "LayoutModel",
            "_view_count": null,
            "_view_module": "@jupyter-widgets/base",
            "_view_module_version": "1.2.0",
            "_view_name": "LayoutView",
            "align_content": null,
            "align_items": null,
            "align_self": null,
            "border": null,
            "bottom": null,
            "display": null,
            "flex": null,
            "flex_flow": null,
            "grid_area": null,
            "grid_auto_columns": null,
            "grid_auto_flow": null,
            "grid_auto_rows": null,
            "grid_column": null,
            "grid_gap": null,
            "grid_row": null,
            "grid_template_areas": null,
            "grid_template_columns": null,
            "grid_template_rows": null,
            "height": null,
            "justify_content": null,
            "justify_items": null,
            "left": null,
            "margin": null,
            "max_height": null,
            "max_width": null,
            "min_height": null,
            "min_width": null,
            "object_fit": null,
            "object_position": null,
            "order": null,
            "overflow": null,
            "overflow_x": null,
            "overflow_y": null,
            "padding": null,
            "right": null,
            "top": null,
            "visibility": null,
            "width": null
          }
        },
        "8ce6d71570ba4d2db6b04c6cd51b8cde": {
          "model_module": "@jupyter-widgets/base",
          "model_module_version": "1.2.0",
          "model_name": "LayoutModel",
          "state": {
            "_model_module": "@jupyter-widgets/base",
            "_model_module_version": "1.2.0",
            "_model_name": "LayoutModel",
            "_view_count": null,
            "_view_module": "@jupyter-widgets/base",
            "_view_module_version": "1.2.0",
            "_view_name": "LayoutView",
            "align_content": null,
            "align_items": null,
            "align_self": null,
            "border": null,
            "bottom": null,
            "display": null,
            "flex": null,
            "flex_flow": null,
            "grid_area": null,
            "grid_auto_columns": null,
            "grid_auto_flow": null,
            "grid_auto_rows": null,
            "grid_column": null,
            "grid_gap": null,
            "grid_row": null,
            "grid_template_areas": null,
            "grid_template_columns": null,
            "grid_template_rows": null,
            "height": null,
            "justify_content": null,
            "justify_items": null,
            "left": null,
            "margin": null,
            "max_height": null,
            "max_width": null,
            "min_height": null,
            "min_width": null,
            "object_fit": null,
            "object_position": null,
            "order": null,
            "overflow": null,
            "overflow_x": null,
            "overflow_y": null,
            "padding": null,
            "right": null,
            "top": null,
            "visibility": null,
            "width": null
          }
        },
        "8e5772a3e7fc456fb25a9112d52dfa2e": {
          "model_module": "@jupyter-widgets/controls",
          "model_module_version": "1.5.0",
          "model_name": "HTMLModel",
          "state": {
            "_dom_classes": [],
            "_model_module": "@jupyter-widgets/controls",
            "_model_module_version": "1.5.0",
            "_model_name": "HTMLModel",
            "_view_count": null,
            "_view_module": "@jupyter-widgets/controls",
            "_view_module_version": "1.5.0",
            "_view_name": "HTMLView",
            "description": "",
            "description_tooltip": null,
            "layout": "IPY_MODEL_b1459ce8ef6142ce95ff5bb1a3ee228d",
            "placeholder": "​",
            "style": "IPY_MODEL_75911b16a2014a939b88d928b4fb9d43",
            "value": " 9.98G/9.98G [00:55&lt;00:00, 183MB/s]"
          }
        },
        "936d735c59f04037be5561157be3f11b": {
          "model_module": "@jupyter-widgets/controls",
          "model_module_version": "1.5.0",
          "model_name": "HTMLModel",
          "state": {
            "_dom_classes": [],
            "_model_module": "@jupyter-widgets/controls",
            "_model_module_version": "1.5.0",
            "_model_name": "HTMLModel",
            "_view_count": null,
            "_view_module": "@jupyter-widgets/controls",
            "_view_module_version": "1.5.0",
            "_view_name": "HTMLView",
            "description": "",
            "description_tooltip": null,
            "layout": "IPY_MODEL_f87424cea7fa4ffcbb64a897b3692dc9",
            "placeholder": "​",
            "style": "IPY_MODEL_0d4077de87aa43bc85408863b1c3b46b",
            "value": "config.json: 100%"
          }
        },
        "963804a7052c484a8d7e3fe71644eb61": {
          "model_module": "@jupyter-widgets/controls",
          "model_module_version": "1.5.0",
          "model_name": "DescriptionStyleModel",
          "state": {
            "_model_module": "@jupyter-widgets/controls",
            "_model_module_version": "1.5.0",
            "_model_name": "DescriptionStyleModel",
            "_view_count": null,
            "_view_module": "@jupyter-widgets/base",
            "_view_module_version": "1.2.0",
            "_view_name": "StyleView",
            "description_width": ""
          }
        },
        "969785e4678b4feabf1fcaf848c84f6a": {
          "model_module": "@jupyter-widgets/controls",
          "model_module_version": "1.5.0",
          "model_name": "DescriptionStyleModel",
          "state": {
            "_model_module": "@jupyter-widgets/controls",
            "_model_module_version": "1.5.0",
            "_model_name": "DescriptionStyleModel",
            "_view_count": null,
            "_view_module": "@jupyter-widgets/base",
            "_view_module_version": "1.2.0",
            "_view_name": "StyleView",
            "description_width": ""
          }
        },
        "97a65f91d0604e178afe2f7860b8e2c0": {
          "model_module": "@jupyter-widgets/base",
          "model_module_version": "1.2.0",
          "model_name": "LayoutModel",
          "state": {
            "_model_module": "@jupyter-widgets/base",
            "_model_module_version": "1.2.0",
            "_model_name": "LayoutModel",
            "_view_count": null,
            "_view_module": "@jupyter-widgets/base",
            "_view_module_version": "1.2.0",
            "_view_name": "LayoutView",
            "align_content": null,
            "align_items": null,
            "align_self": null,
            "border": null,
            "bottom": null,
            "display": null,
            "flex": null,
            "flex_flow": null,
            "grid_area": null,
            "grid_auto_columns": null,
            "grid_auto_flow": null,
            "grid_auto_rows": null,
            "grid_column": null,
            "grid_gap": null,
            "grid_row": null,
            "grid_template_areas": null,
            "grid_template_columns": null,
            "grid_template_rows": null,
            "height": null,
            "justify_content": null,
            "justify_items": null,
            "left": null,
            "margin": null,
            "max_height": null,
            "max_width": null,
            "min_height": null,
            "min_width": null,
            "object_fit": null,
            "object_position": null,
            "order": null,
            "overflow": null,
            "overflow_x": null,
            "overflow_y": null,
            "padding": null,
            "right": null,
            "top": null,
            "visibility": null,
            "width": null
          }
        },
        "97c168c7d0784ca0a1d730bb8f5a45f2": {
          "model_module": "@jupyter-widgets/controls",
          "model_module_version": "1.5.0",
          "model_name": "HTMLModel",
          "state": {
            "_dom_classes": [],
            "_model_module": "@jupyter-widgets/controls",
            "_model_module_version": "1.5.0",
            "_model_name": "HTMLModel",
            "_view_count": null,
            "_view_module": "@jupyter-widgets/controls",
            "_view_module_version": "1.5.0",
            "_view_name": "HTMLView",
            "description": "",
            "description_tooltip": null,
            "layout": "IPY_MODEL_1bb1b7c4375e4af0b2eb6df9d17235fd",
            "placeholder": "​",
            "style": "IPY_MODEL_31aa646b188549de8e5ad52a11fdaaab",
            "value": "tokenizer.model: 100%"
          }
        },
        "97e274213a0c431a98a2e1e833d1d221": {
          "model_module": "@jupyter-widgets/controls",
          "model_module_version": "1.5.0",
          "model_name": "FloatProgressModel",
          "state": {
            "_dom_classes": [],
            "_model_module": "@jupyter-widgets/controls",
            "_model_module_version": "1.5.0",
            "_model_name": "FloatProgressModel",
            "_view_count": null,
            "_view_module": "@jupyter-widgets/controls",
            "_view_module_version": "1.5.0",
            "_view_name": "ProgressView",
            "bar_style": "success",
            "description": "",
            "description_tooltip": null,
            "layout": "IPY_MODEL_8927898de41e4292b5723fd8b0a4f3cc",
            "max": 500058,
            "min": 0,
            "orientation": "horizontal",
            "style": "IPY_MODEL_04355e4b72d840f0b2beef5e60e03d59",
            "value": 500058
          }
        },
        "98746d68500e4581b4767afd33937359": {
          "model_module": "@jupyter-widgets/base",
          "model_module_version": "1.2.0",
          "model_name": "LayoutModel",
          "state": {
            "_model_module": "@jupyter-widgets/base",
            "_model_module_version": "1.2.0",
            "_model_name": "LayoutModel",
            "_view_count": null,
            "_view_module": "@jupyter-widgets/base",
            "_view_module_version": "1.2.0",
            "_view_name": "LayoutView",
            "align_content": null,
            "align_items": null,
            "align_self": null,
            "border": null,
            "bottom": null,
            "display": null,
            "flex": null,
            "flex_flow": null,
            "grid_area": null,
            "grid_auto_columns": null,
            "grid_auto_flow": null,
            "grid_auto_rows": null,
            "grid_column": null,
            "grid_gap": null,
            "grid_row": null,
            "grid_template_areas": null,
            "grid_template_columns": null,
            "grid_template_rows": null,
            "height": null,
            "justify_content": null,
            "justify_items": null,
            "left": null,
            "margin": null,
            "max_height": null,
            "max_width": null,
            "min_height": null,
            "min_width": null,
            "object_fit": null,
            "object_position": null,
            "order": null,
            "overflow": null,
            "overflow_x": null,
            "overflow_y": null,
            "padding": null,
            "right": null,
            "top": null,
            "visibility": null,
            "width": null
          }
        },
        "9a33dce8c40e423ab522a77cf27574df": {
          "model_module": "@jupyter-widgets/controls",
          "model_module_version": "1.5.0",
          "model_name": "DescriptionStyleModel",
          "state": {
            "_model_module": "@jupyter-widgets/controls",
            "_model_module_version": "1.5.0",
            "_model_name": "DescriptionStyleModel",
            "_view_count": null,
            "_view_module": "@jupyter-widgets/base",
            "_view_module_version": "1.2.0",
            "_view_name": "StyleView",
            "description_width": ""
          }
        },
        "9a49e259c4744022b68271daa4ea6385": {
          "model_module": "@jupyter-widgets/controls",
          "model_module_version": "1.5.0",
          "model_name": "HTMLModel",
          "state": {
            "_dom_classes": [],
            "_model_module": "@jupyter-widgets/controls",
            "_model_module_version": "1.5.0",
            "_model_name": "HTMLModel",
            "_view_count": null,
            "_view_module": "@jupyter-widgets/controls",
            "_view_module_version": "1.5.0",
            "_view_name": "HTMLView",
            "description": "",
            "description_tooltip": null,
            "layout": "IPY_MODEL_e52673e38ef64c8a8cd4521df0d1b230",
            "placeholder": "​",
            "style": "IPY_MODEL_c57221aeb2c7412eafa8abf7daecbf01",
            "value": "model-00001-of-00002.safetensors: 100%"
          }
        },
        "9abe9243a0144a6496d751e0dcc032b3": {
          "model_module": "@jupyter-widgets/controls",
          "model_module_version": "1.5.0",
          "model_name": "HTMLModel",
          "state": {
            "_dom_classes": [],
            "_model_module": "@jupyter-widgets/controls",
            "_model_module_version": "1.5.0",
            "_model_name": "HTMLModel",
            "_view_count": null,
            "_view_module": "@jupyter-widgets/controls",
            "_view_module_version": "1.5.0",
            "_view_name": "HTMLView",
            "description": "",
            "description_tooltip": null,
            "layout": "IPY_MODEL_c9daf91813284015813fbbb780f81f05",
            "placeholder": "​",
            "style": "IPY_MODEL_b2b9c1d9ec9e4c77a26cf1c802eac334",
            "value": " 116/116 [00:00&lt;00:00, 10.2kB/s]"
          }
        },
        "a28b092bf753413fb27ea645b5cab6a0": {
          "model_module": "@jupyter-widgets/controls",
          "model_module_version": "1.5.0",
          "model_name": "HBoxModel",
          "state": {
            "_dom_classes": [],
            "_model_module": "@jupyter-widgets/controls",
            "_model_module_version": "1.5.0",
            "_model_name": "HBoxModel",
            "_view_count": null,
            "_view_module": "@jupyter-widgets/controls",
            "_view_module_version": "1.5.0",
            "_view_name": "HBoxView",
            "box_style": "",
            "children": [
              "IPY_MODEL_d720c5171ce142d0a974689ddd1d8aec",
              "IPY_MODEL_a41da729c1634d90994a1a2e0993e5d3",
              "IPY_MODEL_0af982892ed544c381e8ee71ef9b254c"
            ],
            "layout": "IPY_MODEL_14abda7aa330476cbca1ad1888900839"
          }
        },
        "a35aad4777674f1388114f35942c9f2b": {
          "model_module": "@jupyter-widgets/controls",
          "model_module_version": "1.5.0",
          "model_name": "DescriptionStyleModel",
          "state": {
            "_model_module": "@jupyter-widgets/controls",
            "_model_module_version": "1.5.0",
            "_model_name": "DescriptionStyleModel",
            "_view_count": null,
            "_view_module": "@jupyter-widgets/base",
            "_view_module_version": "1.2.0",
            "_view_name": "StyleView",
            "description_width": ""
          }
        },
        "a41da729c1634d90994a1a2e0993e5d3": {
          "model_module": "@jupyter-widgets/controls",
          "model_module_version": "1.5.0",
          "model_name": "FloatProgressModel",
          "state": {
            "_dom_classes": [],
            "_model_module": "@jupyter-widgets/controls",
            "_model_module_version": "1.5.0",
            "_model_name": "FloatProgressModel",
            "_view_count": null,
            "_view_module": "@jupyter-widgets/controls",
            "_view_module_version": "1.5.0",
            "_view_name": "ProgressView",
            "bar_style": "success",
            "description": "",
            "description_tooltip": null,
            "layout": "IPY_MODEL_40b3e173533c4d4c8e7eb7566096294e",
            "max": 2,
            "min": 0,
            "orientation": "horizontal",
            "style": "IPY_MODEL_5324e9542ba14f8fb2b2c1af9b7f839c",
            "value": 2
          }
        },
        "a658721a91554f7abcae6830079ad379": {
          "model_module": "@jupyter-widgets/controls",
          "model_module_version": "1.5.0",
          "model_name": "FloatProgressModel",
          "state": {
            "_dom_classes": [],
            "_model_module": "@jupyter-widgets/controls",
            "_model_module_version": "1.5.0",
            "_model_name": "FloatProgressModel",
            "_view_count": null,
            "_view_module": "@jupyter-widgets/controls",
            "_view_module_version": "1.5.0",
            "_view_name": "ProgressView",
            "bar_style": "success",
            "description": "",
            "description_tooltip": null,
            "layout": "IPY_MODEL_46f2adf8939a479f9675d4456de4ac97",
            "max": 637,
            "min": 0,
            "orientation": "horizontal",
            "style": "IPY_MODEL_786dbe4448444f68a3a8a650a5b79d2a",
            "value": 637
          }
        },
        "aa1a88533cd8443ea26059ae6e44ea5c": {
          "model_module": "@jupyter-widgets/controls",
          "model_module_version": "1.5.0",
          "model_name": "HBoxModel",
          "state": {
            "_dom_classes": [],
            "_model_module": "@jupyter-widgets/controls",
            "_model_module_version": "1.5.0",
            "_model_name": "HBoxModel",
            "_view_count": null,
            "_view_module": "@jupyter-widgets/controls",
            "_view_module_version": "1.5.0",
            "_view_name": "HBoxView",
            "box_style": "",
            "children": [
              "IPY_MODEL_248f440ab64a4187995b17229e5f61d5",
              "IPY_MODEL_b26068614b8e4672b55d90fe330bff02",
              "IPY_MODEL_d678c539208e4e909733aa29b83b061b"
            ],
            "layout": "IPY_MODEL_8968547dd6f04b40bb271cf5ce79c1a1"
          }
        },
        "aa40041c1ba6476fa1e2c5726f163bdc": {
          "model_module": "@jupyter-widgets/base",
          "model_module_version": "1.2.0",
          "model_name": "LayoutModel",
          "state": {
            "_model_module": "@jupyter-widgets/base",
            "_model_module_version": "1.2.0",
            "_model_name": "LayoutModel",
            "_view_count": null,
            "_view_module": "@jupyter-widgets/base",
            "_view_module_version": "1.2.0",
            "_view_name": "LayoutView",
            "align_content": null,
            "align_items": null,
            "align_self": null,
            "border": null,
            "bottom": null,
            "display": null,
            "flex": null,
            "flex_flow": null,
            "grid_area": null,
            "grid_auto_columns": null,
            "grid_auto_flow": null,
            "grid_auto_rows": null,
            "grid_column": null,
            "grid_gap": null,
            "grid_row": null,
            "grid_template_areas": null,
            "grid_template_columns": null,
            "grid_template_rows": null,
            "height": null,
            "justify_content": null,
            "justify_items": null,
            "left": null,
            "margin": null,
            "max_height": null,
            "max_width": null,
            "min_height": null,
            "min_width": null,
            "object_fit": null,
            "object_position": null,
            "order": null,
            "overflow": null,
            "overflow_x": null,
            "overflow_y": null,
            "padding": null,
            "right": null,
            "top": null,
            "visibility": null,
            "width": null
          }
        },
        "ab9863542c56455a83264b28315a35ef": {
          "model_module": "@jupyter-widgets/controls",
          "model_module_version": "1.5.0",
          "model_name": "ProgressStyleModel",
          "state": {
            "_model_module": "@jupyter-widgets/controls",
            "_model_module_version": "1.5.0",
            "_model_name": "ProgressStyleModel",
            "_view_count": null,
            "_view_module": "@jupyter-widgets/base",
            "_view_module_version": "1.2.0",
            "_view_name": "StyleView",
            "bar_color": null,
            "description_width": ""
          }
        },
        "acbef1d6e6544da4aa7aa5d060517014": {
          "model_module": "@jupyter-widgets/base",
          "model_module_version": "1.2.0",
          "model_name": "LayoutModel",
          "state": {
            "_model_module": "@jupyter-widgets/base",
            "_model_module_version": "1.2.0",
            "_model_name": "LayoutModel",
            "_view_count": null,
            "_view_module": "@jupyter-widgets/base",
            "_view_module_version": "1.2.0",
            "_view_name": "LayoutView",
            "align_content": null,
            "align_items": null,
            "align_self": null,
            "border": null,
            "bottom": null,
            "display": null,
            "flex": null,
            "flex_flow": null,
            "grid_area": null,
            "grid_auto_columns": null,
            "grid_auto_flow": null,
            "grid_auto_rows": null,
            "grid_column": null,
            "grid_gap": null,
            "grid_row": null,
            "grid_template_areas": null,
            "grid_template_columns": null,
            "grid_template_rows": null,
            "height": null,
            "justify_content": null,
            "justify_items": null,
            "left": null,
            "margin": null,
            "max_height": null,
            "max_width": null,
            "min_height": null,
            "min_width": null,
            "object_fit": null,
            "object_position": null,
            "order": null,
            "overflow": null,
            "overflow_x": null,
            "overflow_y": null,
            "padding": null,
            "right": null,
            "top": null,
            "visibility": null,
            "width": null
          }
        },
        "ad5732d1910a43cb8ed9790125867daa": {
          "model_module": "@jupyter-widgets/controls",
          "model_module_version": "1.5.0",
          "model_name": "DescriptionStyleModel",
          "state": {
            "_model_module": "@jupyter-widgets/controls",
            "_model_module_version": "1.5.0",
            "_model_name": "DescriptionStyleModel",
            "_view_count": null,
            "_view_module": "@jupyter-widgets/base",
            "_view_module_version": "1.2.0",
            "_view_name": "StyleView",
            "description_width": ""
          }
        },
        "b1459ce8ef6142ce95ff5bb1a3ee228d": {
          "model_module": "@jupyter-widgets/base",
          "model_module_version": "1.2.0",
          "model_name": "LayoutModel",
          "state": {
            "_model_module": "@jupyter-widgets/base",
            "_model_module_version": "1.2.0",
            "_model_name": "LayoutModel",
            "_view_count": null,
            "_view_module": "@jupyter-widgets/base",
            "_view_module_version": "1.2.0",
            "_view_name": "LayoutView",
            "align_content": null,
            "align_items": null,
            "align_self": null,
            "border": null,
            "bottom": null,
            "display": null,
            "flex": null,
            "flex_flow": null,
            "grid_area": null,
            "grid_auto_columns": null,
            "grid_auto_flow": null,
            "grid_auto_rows": null,
            "grid_column": null,
            "grid_gap": null,
            "grid_row": null,
            "grid_template_areas": null,
            "grid_template_columns": null,
            "grid_template_rows": null,
            "height": null,
            "justify_content": null,
            "justify_items": null,
            "left": null,
            "margin": null,
            "max_height": null,
            "max_width": null,
            "min_height": null,
            "min_width": null,
            "object_fit": null,
            "object_position": null,
            "order": null,
            "overflow": null,
            "overflow_x": null,
            "overflow_y": null,
            "padding": null,
            "right": null,
            "top": null,
            "visibility": null,
            "width": null
          }
        },
        "b245223a593744bdbfbc004a0ec080c2": {
          "model_module": "@jupyter-widgets/base",
          "model_module_version": "1.2.0",
          "model_name": "LayoutModel",
          "state": {
            "_model_module": "@jupyter-widgets/base",
            "_model_module_version": "1.2.0",
            "_model_name": "LayoutModel",
            "_view_count": null,
            "_view_module": "@jupyter-widgets/base",
            "_view_module_version": "1.2.0",
            "_view_name": "LayoutView",
            "align_content": null,
            "align_items": null,
            "align_self": null,
            "border": null,
            "bottom": null,
            "display": null,
            "flex": null,
            "flex_flow": null,
            "grid_area": null,
            "grid_auto_columns": null,
            "grid_auto_flow": null,
            "grid_auto_rows": null,
            "grid_column": null,
            "grid_gap": null,
            "grid_row": null,
            "grid_template_areas": null,
            "grid_template_columns": null,
            "grid_template_rows": null,
            "height": null,
            "justify_content": null,
            "justify_items": null,
            "left": null,
            "margin": null,
            "max_height": null,
            "max_width": null,
            "min_height": null,
            "min_width": null,
            "object_fit": null,
            "object_position": null,
            "order": null,
            "overflow": null,
            "overflow_x": null,
            "overflow_y": null,
            "padding": null,
            "right": null,
            "top": null,
            "visibility": null,
            "width": null
          }
        },
        "b26068614b8e4672b55d90fe330bff02": {
          "model_module": "@jupyter-widgets/controls",
          "model_module_version": "1.5.0",
          "model_name": "FloatProgressModel",
          "state": {
            "_dom_classes": [],
            "_model_module": "@jupyter-widgets/controls",
            "_model_module_version": "1.5.0",
            "_model_name": "FloatProgressModel",
            "_view_count": null,
            "_view_module": "@jupyter-widgets/controls",
            "_view_module_version": "1.5.0",
            "_view_name": "ProgressView",
            "bar_style": "success",
            "description": "",
            "description_tooltip": null,
            "layout": "IPY_MODEL_87324a9fbcf84d68be2ec48f33c11b8b",
            "max": 2,
            "min": 0,
            "orientation": "horizontal",
            "style": "IPY_MODEL_68e70c7edd6e4f119a6dca1bf8b3a3d7",
            "value": 2
          }
        },
        "b2b9c1d9ec9e4c77a26cf1c802eac334": {
          "model_module": "@jupyter-widgets/controls",
          "model_module_version": "1.5.0",
          "model_name": "DescriptionStyleModel",
          "state": {
            "_model_module": "@jupyter-widgets/controls",
            "_model_module_version": "1.5.0",
            "_model_name": "DescriptionStyleModel",
            "_view_count": null,
            "_view_module": "@jupyter-widgets/base",
            "_view_module_version": "1.2.0",
            "_view_name": "StyleView",
            "description_width": ""
          }
        },
        "b62090ec72d8445a96f60e123ecbd071": {
          "model_module": "@jupyter-widgets/base",
          "model_module_version": "1.2.0",
          "model_name": "LayoutModel",
          "state": {
            "_model_module": "@jupyter-widgets/base",
            "_model_module_version": "1.2.0",
            "_model_name": "LayoutModel",
            "_view_count": null,
            "_view_module": "@jupyter-widgets/base",
            "_view_module_version": "1.2.0",
            "_view_name": "LayoutView",
            "align_content": null,
            "align_items": null,
            "align_self": null,
            "border": null,
            "bottom": null,
            "display": null,
            "flex": null,
            "flex_flow": null,
            "grid_area": null,
            "grid_auto_columns": null,
            "grid_auto_flow": null,
            "grid_auto_rows": null,
            "grid_column": null,
            "grid_gap": null,
            "grid_row": null,
            "grid_template_areas": null,
            "grid_template_columns": null,
            "grid_template_rows": null,
            "height": null,
            "justify_content": null,
            "justify_items": null,
            "left": null,
            "margin": null,
            "max_height": null,
            "max_width": null,
            "min_height": null,
            "min_width": null,
            "object_fit": null,
            "object_position": null,
            "order": null,
            "overflow": null,
            "overflow_x": null,
            "overflow_y": null,
            "padding": null,
            "right": null,
            "top": null,
            "visibility": null,
            "width": null
          }
        },
        "bab5fc4bdf0642a38809371cf0aaa56d": {
          "model_module": "@jupyter-widgets/base",
          "model_module_version": "1.2.0",
          "model_name": "LayoutModel",
          "state": {
            "_model_module": "@jupyter-widgets/base",
            "_model_module_version": "1.2.0",
            "_model_name": "LayoutModel",
            "_view_count": null,
            "_view_module": "@jupyter-widgets/base",
            "_view_module_version": "1.2.0",
            "_view_name": "LayoutView",
            "align_content": null,
            "align_items": null,
            "align_self": null,
            "border": null,
            "bottom": null,
            "display": null,
            "flex": null,
            "flex_flow": null,
            "grid_area": null,
            "grid_auto_columns": null,
            "grid_auto_flow": null,
            "grid_auto_rows": null,
            "grid_column": null,
            "grid_gap": null,
            "grid_row": null,
            "grid_template_areas": null,
            "grid_template_columns": null,
            "grid_template_rows": null,
            "height": null,
            "justify_content": null,
            "justify_items": null,
            "left": null,
            "margin": null,
            "max_height": null,
            "max_width": null,
            "min_height": null,
            "min_width": null,
            "object_fit": null,
            "object_position": null,
            "order": null,
            "overflow": null,
            "overflow_x": null,
            "overflow_y": null,
            "padding": null,
            "right": null,
            "top": null,
            "visibility": null,
            "width": null
          }
        },
        "bbaf99a1e17f400e96a45cd78001d026": {
          "model_module": "@jupyter-widgets/controls",
          "model_module_version": "1.5.0",
          "model_name": "HTMLModel",
          "state": {
            "_dom_classes": [],
            "_model_module": "@jupyter-widgets/controls",
            "_model_module_version": "1.5.0",
            "_model_name": "HTMLModel",
            "_view_count": null,
            "_view_module": "@jupyter-widgets/controls",
            "_view_module_version": "1.5.0",
            "_view_name": "HTMLView",
            "description": "",
            "description_tooltip": null,
            "layout": "IPY_MODEL_578525cf759346bdb318b552bcaa6fe8",
            "placeholder": "​",
            "style": "IPY_MODEL_37db6cb1dd394817bbc5cb960ed76867",
            "value": "generation_config.json: 100%"
          }
        },
        "bdd4aa67882644488fd4082afb410415": {
          "model_module": "@jupyter-widgets/controls",
          "model_module_version": "1.5.0",
          "model_name": "HBoxModel",
          "state": {
            "_dom_classes": [],
            "_model_module": "@jupyter-widgets/controls",
            "_model_module_version": "1.5.0",
            "_model_name": "HBoxModel",
            "_view_count": null,
            "_view_module": "@jupyter-widgets/controls",
            "_view_module_version": "1.5.0",
            "_view_name": "HBoxView",
            "box_style": "",
            "children": [
              "IPY_MODEL_9a49e259c4744022b68271daa4ea6385",
              "IPY_MODEL_8580674c819f40acab3ab3043e736843",
              "IPY_MODEL_8e5772a3e7fc456fb25a9112d52dfa2e"
            ],
            "layout": "IPY_MODEL_f9b469aa2ab349829d2795b1ef6b3b03"
          }
        },
        "c22652ea27ac4f02ad12424f4b5dd3b1": {
          "model_module": "@jupyter-widgets/controls",
          "model_module_version": "1.5.0",
          "model_name": "HBoxModel",
          "state": {
            "_dom_classes": [],
            "_model_module": "@jupyter-widgets/controls",
            "_model_module_version": "1.5.0",
            "_model_name": "HBoxModel",
            "_view_count": null,
            "_view_module": "@jupyter-widgets/controls",
            "_view_module_version": "1.5.0",
            "_view_name": "HBoxView",
            "box_style": "",
            "children": [
              "IPY_MODEL_356ff13400cd4a2dabc5e74dd87271c1",
              "IPY_MODEL_ffa1e24a336f4f029e62090b6467a527",
              "IPY_MODEL_151670e9f96441579be634e2ff4102ef"
            ],
            "layout": "IPY_MODEL_3c8493ec16104167ac08a8b2a3b71dc7"
          }
        },
        "c51e3f9c10a9425e9f791e7f47be96ae": {
          "model_module": "@jupyter-widgets/controls",
          "model_module_version": "1.5.0",
          "model_name": "HBoxModel",
          "state": {
            "_dom_classes": [],
            "_model_module": "@jupyter-widgets/controls",
            "_model_module_version": "1.5.0",
            "_model_name": "HBoxModel",
            "_view_count": null,
            "_view_module": "@jupyter-widgets/controls",
            "_view_module_version": "1.5.0",
            "_view_name": "HBoxView",
            "box_style": "",
            "children": [
              "IPY_MODEL_822a0be70cf845eeb5268b919347f67a",
              "IPY_MODEL_7212f2622d264ccd8448a9f9d287f555",
              "IPY_MODEL_1d70dec0425f4c75845cc2a95c81ed93"
            ],
            "layout": "IPY_MODEL_54fc1cddb6a34f0c8e88c8e34964c79e"
          }
        },
        "c5599c302b0a499f9ebf62fd68ae98e0": {
          "model_module": "@jupyter-widgets/controls",
          "model_module_version": "1.5.0",
          "model_name": "DescriptionStyleModel",
          "state": {
            "_model_module": "@jupyter-widgets/controls",
            "_model_module_version": "1.5.0",
            "_model_name": "DescriptionStyleModel",
            "_view_count": null,
            "_view_module": "@jupyter-widgets/base",
            "_view_module_version": "1.2.0",
            "_view_name": "StyleView",
            "description_width": ""
          }
        },
        "c57221aeb2c7412eafa8abf7daecbf01": {
          "model_module": "@jupyter-widgets/controls",
          "model_module_version": "1.5.0",
          "model_name": "DescriptionStyleModel",
          "state": {
            "_model_module": "@jupyter-widgets/controls",
            "_model_module_version": "1.5.0",
            "_model_name": "DescriptionStyleModel",
            "_view_count": null,
            "_view_module": "@jupyter-widgets/base",
            "_view_module_version": "1.2.0",
            "_view_name": "StyleView",
            "description_width": ""
          }
        },
        "c5e50d19d96e442dbcf267a805f122ce": {
          "model_module": "@jupyter-widgets/base",
          "model_module_version": "1.2.0",
          "model_name": "LayoutModel",
          "state": {
            "_model_module": "@jupyter-widgets/base",
            "_model_module_version": "1.2.0",
            "_model_name": "LayoutModel",
            "_view_count": null,
            "_view_module": "@jupyter-widgets/base",
            "_view_module_version": "1.2.0",
            "_view_name": "LayoutView",
            "align_content": null,
            "align_items": null,
            "align_self": null,
            "border": null,
            "bottom": null,
            "display": null,
            "flex": null,
            "flex_flow": null,
            "grid_area": null,
            "grid_auto_columns": null,
            "grid_auto_flow": null,
            "grid_auto_rows": null,
            "grid_column": null,
            "grid_gap": null,
            "grid_row": null,
            "grid_template_areas": null,
            "grid_template_columns": null,
            "grid_template_rows": null,
            "height": null,
            "justify_content": null,
            "justify_items": null,
            "left": null,
            "margin": null,
            "max_height": null,
            "max_width": null,
            "min_height": null,
            "min_width": null,
            "object_fit": null,
            "object_position": null,
            "order": null,
            "overflow": null,
            "overflow_x": null,
            "overflow_y": null,
            "padding": null,
            "right": null,
            "top": null,
            "visibility": null,
            "width": null
          }
        },
        "c9daf91813284015813fbbb780f81f05": {
          "model_module": "@jupyter-widgets/base",
          "model_module_version": "1.2.0",
          "model_name": "LayoutModel",
          "state": {
            "_model_module": "@jupyter-widgets/base",
            "_model_module_version": "1.2.0",
            "_model_name": "LayoutModel",
            "_view_count": null,
            "_view_module": "@jupyter-widgets/base",
            "_view_module_version": "1.2.0",
            "_view_name": "LayoutView",
            "align_content": null,
            "align_items": null,
            "align_self": null,
            "border": null,
            "bottom": null,
            "display": null,
            "flex": null,
            "flex_flow": null,
            "grid_area": null,
            "grid_auto_columns": null,
            "grid_auto_flow": null,
            "grid_auto_rows": null,
            "grid_column": null,
            "grid_gap": null,
            "grid_row": null,
            "grid_template_areas": null,
            "grid_template_columns": null,
            "grid_template_rows": null,
            "height": null,
            "justify_content": null,
            "justify_items": null,
            "left": null,
            "margin": null,
            "max_height": null,
            "max_width": null,
            "min_height": null,
            "min_width": null,
            "object_fit": null,
            "object_position": null,
            "order": null,
            "overflow": null,
            "overflow_x": null,
            "overflow_y": null,
            "padding": null,
            "right": null,
            "top": null,
            "visibility": null,
            "width": null
          }
        },
        "cc0a41cb769c4db9ba0f64548dd97d10": {
          "model_module": "@jupyter-widgets/controls",
          "model_module_version": "1.5.0",
          "model_name": "DescriptionStyleModel",
          "state": {
            "_model_module": "@jupyter-widgets/controls",
            "_model_module_version": "1.5.0",
            "_model_name": "DescriptionStyleModel",
            "_view_count": null,
            "_view_module": "@jupyter-widgets/base",
            "_view_module_version": "1.2.0",
            "_view_name": "StyleView",
            "description_width": ""
          }
        },
        "ccadf08595f44e1b88766244d8f70998": {
          "model_module": "@jupyter-widgets/base",
          "model_module_version": "1.2.0",
          "model_name": "LayoutModel",
          "state": {
            "_model_module": "@jupyter-widgets/base",
            "_model_module_version": "1.2.0",
            "_model_name": "LayoutModel",
            "_view_count": null,
            "_view_module": "@jupyter-widgets/base",
            "_view_module_version": "1.2.0",
            "_view_name": "LayoutView",
            "align_content": null,
            "align_items": null,
            "align_self": null,
            "border": null,
            "bottom": null,
            "display": null,
            "flex": null,
            "flex_flow": null,
            "grid_area": null,
            "grid_auto_columns": null,
            "grid_auto_flow": null,
            "grid_auto_rows": null,
            "grid_column": null,
            "grid_gap": null,
            "grid_row": null,
            "grid_template_areas": null,
            "grid_template_columns": null,
            "grid_template_rows": null,
            "height": null,
            "justify_content": null,
            "justify_items": null,
            "left": null,
            "margin": null,
            "max_height": null,
            "max_width": null,
            "min_height": null,
            "min_width": null,
            "object_fit": null,
            "object_position": null,
            "order": null,
            "overflow": null,
            "overflow_x": null,
            "overflow_y": null,
            "padding": null,
            "right": null,
            "top": null,
            "visibility": null,
            "width": null
          }
        },
        "ce0da75f76c948ed8bedd5d04b64372e": {
          "model_module": "@jupyter-widgets/base",
          "model_module_version": "1.2.0",
          "model_name": "LayoutModel",
          "state": {
            "_model_module": "@jupyter-widgets/base",
            "_model_module_version": "1.2.0",
            "_model_name": "LayoutModel",
            "_view_count": null,
            "_view_module": "@jupyter-widgets/base",
            "_view_module_version": "1.2.0",
            "_view_name": "LayoutView",
            "align_content": null,
            "align_items": null,
            "align_self": null,
            "border": null,
            "bottom": null,
            "display": null,
            "flex": null,
            "flex_flow": null,
            "grid_area": null,
            "grid_auto_columns": null,
            "grid_auto_flow": null,
            "grid_auto_rows": null,
            "grid_column": null,
            "grid_gap": null,
            "grid_row": null,
            "grid_template_areas": null,
            "grid_template_columns": null,
            "grid_template_rows": null,
            "height": null,
            "justify_content": null,
            "justify_items": null,
            "left": null,
            "margin": null,
            "max_height": null,
            "max_width": null,
            "min_height": null,
            "min_width": null,
            "object_fit": null,
            "object_position": null,
            "order": null,
            "overflow": null,
            "overflow_x": null,
            "overflow_y": null,
            "padding": null,
            "right": null,
            "top": null,
            "visibility": null,
            "width": null
          }
        },
        "d1b75b72713c4d528a04222670efac25": {
          "model_module": "@jupyter-widgets/controls",
          "model_module_version": "1.5.0",
          "model_name": "DescriptionStyleModel",
          "state": {
            "_model_module": "@jupyter-widgets/controls",
            "_model_module_version": "1.5.0",
            "_model_name": "DescriptionStyleModel",
            "_view_count": null,
            "_view_module": "@jupyter-widgets/base",
            "_view_module_version": "1.2.0",
            "_view_name": "StyleView",
            "description_width": ""
          }
        },
        "d228ed4d57274086b7c274e85b6f88a8": {
          "model_module": "@jupyter-widgets/controls",
          "model_module_version": "1.5.0",
          "model_name": "HBoxModel",
          "state": {
            "_dom_classes": [],
            "_model_module": "@jupyter-widgets/controls",
            "_model_module_version": "1.5.0",
            "_model_name": "HBoxModel",
            "_view_count": null,
            "_view_module": "@jupyter-widgets/controls",
            "_view_module_version": "1.5.0",
            "_view_name": "HBoxView",
            "box_style": "",
            "children": [
              "IPY_MODEL_bbaf99a1e17f400e96a45cd78001d026",
              "IPY_MODEL_61fe521f516c4209ae5f33a4ad59652a",
              "IPY_MODEL_9abe9243a0144a6496d751e0dcc032b3"
            ],
            "layout": "IPY_MODEL_55c8eafdf3e240c6915f333ee8867fdc"
          }
        },
        "d5cea9ec293641bfb88373c09d75e141": {
          "model_module": "@jupyter-widgets/controls",
          "model_module_version": "1.5.0",
          "model_name": "HTMLModel",
          "state": {
            "_dom_classes": [],
            "_model_module": "@jupyter-widgets/controls",
            "_model_module_version": "1.5.0",
            "_model_name": "HTMLModel",
            "_view_count": null,
            "_view_module": "@jupyter-widgets/controls",
            "_view_module_version": "1.5.0",
            "_view_name": "HTMLView",
            "description": "",
            "description_tooltip": null,
            "layout": "IPY_MODEL_0aa0f3498fb145cd94df933e512d5eed",
            "placeholder": "​",
            "style": "IPY_MODEL_c5599c302b0a499f9ebf62fd68ae98e0",
            "value": "model.safetensors.index.json: 100%"
          }
        },
        "d678c539208e4e909733aa29b83b061b": {
          "model_module": "@jupyter-widgets/controls",
          "model_module_version": "1.5.0",
          "model_name": "HTMLModel",
          "state": {
            "_dom_classes": [],
            "_model_module": "@jupyter-widgets/controls",
            "_model_module_version": "1.5.0",
            "_model_name": "HTMLModel",
            "_view_count": null,
            "_view_module": "@jupyter-widgets/controls",
            "_view_module_version": "1.5.0",
            "_view_name": "HTMLView",
            "description": "",
            "description_tooltip": null,
            "layout": "IPY_MODEL_acbef1d6e6544da4aa7aa5d060517014",
            "placeholder": "​",
            "style": "IPY_MODEL_969785e4678b4feabf1fcaf848c84f6a",
            "value": " 2/2 [00:24&lt;00:00, 10.39s/it]"
          }
        },
        "d720c5171ce142d0a974689ddd1d8aec": {
          "model_module": "@jupyter-widgets/controls",
          "model_module_version": "1.5.0",
          "model_name": "HTMLModel",
          "state": {
            "_dom_classes": [],
            "_model_module": "@jupyter-widgets/controls",
            "_model_module_version": "1.5.0",
            "_model_name": "HTMLModel",
            "_view_count": null,
            "_view_module": "@jupyter-widgets/controls",
            "_view_module_version": "1.5.0",
            "_view_name": "HTMLView",
            "description": "",
            "description_tooltip": null,
            "layout": "IPY_MODEL_5db146baac47418dba5e1d018d67c10a",
            "placeholder": "​",
            "style": "IPY_MODEL_ef995f87404143ae9473c492610f191f",
            "value": "Loading checkpoint shards: 100%"
          }
        },
        "d858c326a3614db0830f81ab5999d78b": {
          "model_module": "@jupyter-widgets/base",
          "model_module_version": "1.2.0",
          "model_name": "LayoutModel",
          "state": {
            "_model_module": "@jupyter-widgets/base",
            "_model_module_version": "1.2.0",
            "_model_name": "LayoutModel",
            "_view_count": null,
            "_view_module": "@jupyter-widgets/base",
            "_view_module_version": "1.2.0",
            "_view_name": "LayoutView",
            "align_content": null,
            "align_items": null,
            "align_self": null,
            "border": null,
            "bottom": null,
            "display": null,
            "flex": null,
            "flex_flow": null,
            "grid_area": null,
            "grid_auto_columns": null,
            "grid_auto_flow": null,
            "grid_auto_rows": null,
            "grid_column": null,
            "grid_gap": null,
            "grid_row": null,
            "grid_template_areas": null,
            "grid_template_columns": null,
            "grid_template_rows": null,
            "height": null,
            "justify_content": null,
            "justify_items": null,
            "left": null,
            "margin": null,
            "max_height": null,
            "max_width": null,
            "min_height": null,
            "min_width": null,
            "object_fit": null,
            "object_position": null,
            "order": null,
            "overflow": null,
            "overflow_x": null,
            "overflow_y": null,
            "padding": null,
            "right": null,
            "top": null,
            "visibility": null,
            "width": null
          }
        },
        "d96abd07c6d345deaccc225895550327": {
          "model_module": "@jupyter-widgets/controls",
          "model_module_version": "1.5.0",
          "model_name": "ProgressStyleModel",
          "state": {
            "_model_module": "@jupyter-widgets/controls",
            "_model_module_version": "1.5.0",
            "_model_name": "ProgressStyleModel",
            "_view_count": null,
            "_view_module": "@jupyter-widgets/base",
            "_view_module_version": "1.2.0",
            "_view_name": "StyleView",
            "bar_color": null,
            "description_width": ""
          }
        },
        "d9e1433838d54158b0a0381a897e58bb": {
          "model_module": "@jupyter-widgets/base",
          "model_module_version": "1.2.0",
          "model_name": "LayoutModel",
          "state": {
            "_model_module": "@jupyter-widgets/base",
            "_model_module_version": "1.2.0",
            "_model_name": "LayoutModel",
            "_view_count": null,
            "_view_module": "@jupyter-widgets/base",
            "_view_module_version": "1.2.0",
            "_view_name": "LayoutView",
            "align_content": null,
            "align_items": null,
            "align_self": null,
            "border": null,
            "bottom": null,
            "display": null,
            "flex": null,
            "flex_flow": null,
            "grid_area": null,
            "grid_auto_columns": null,
            "grid_auto_flow": null,
            "grid_auto_rows": null,
            "grid_column": null,
            "grid_gap": null,
            "grid_row": null,
            "grid_template_areas": null,
            "grid_template_columns": null,
            "grid_template_rows": null,
            "height": null,
            "justify_content": null,
            "justify_items": null,
            "left": null,
            "margin": null,
            "max_height": null,
            "max_width": null,
            "min_height": null,
            "min_width": null,
            "object_fit": null,
            "object_position": null,
            "order": null,
            "overflow": null,
            "overflow_x": null,
            "overflow_y": null,
            "padding": null,
            "right": null,
            "top": null,
            "visibility": null,
            "width": null
          }
        },
        "da648c236a00474d9e9ff6e2e4c7674c": {
          "model_module": "@jupyter-widgets/controls",
          "model_module_version": "1.5.0",
          "model_name": "DescriptionStyleModel",
          "state": {
            "_model_module": "@jupyter-widgets/controls",
            "_model_module_version": "1.5.0",
            "_model_name": "DescriptionStyleModel",
            "_view_count": null,
            "_view_module": "@jupyter-widgets/base",
            "_view_module_version": "1.2.0",
            "_view_name": "StyleView",
            "description_width": ""
          }
        },
        "daecc05b5dcb4bf58fe14463981b9480": {
          "model_module": "@jupyter-widgets/base",
          "model_module_version": "1.2.0",
          "model_name": "LayoutModel",
          "state": {
            "_model_module": "@jupyter-widgets/base",
            "_model_module_version": "1.2.0",
            "_model_name": "LayoutModel",
            "_view_count": null,
            "_view_module": "@jupyter-widgets/base",
            "_view_module_version": "1.2.0",
            "_view_name": "LayoutView",
            "align_content": null,
            "align_items": null,
            "align_self": null,
            "border": null,
            "bottom": null,
            "display": null,
            "flex": null,
            "flex_flow": null,
            "grid_area": null,
            "grid_auto_columns": null,
            "grid_auto_flow": null,
            "grid_auto_rows": null,
            "grid_column": null,
            "grid_gap": null,
            "grid_row": null,
            "grid_template_areas": null,
            "grid_template_columns": null,
            "grid_template_rows": null,
            "height": null,
            "justify_content": null,
            "justify_items": null,
            "left": null,
            "margin": null,
            "max_height": null,
            "max_width": null,
            "min_height": null,
            "min_width": null,
            "object_fit": null,
            "object_position": null,
            "order": null,
            "overflow": null,
            "overflow_x": null,
            "overflow_y": null,
            "padding": null,
            "right": null,
            "top": null,
            "visibility": null,
            "width": null
          }
        },
        "dda1a64fae0f47f18ebb822ffb045afb": {
          "model_module": "@jupyter-widgets/controls",
          "model_module_version": "1.5.0",
          "model_name": "DescriptionStyleModel",
          "state": {
            "_model_module": "@jupyter-widgets/controls",
            "_model_module_version": "1.5.0",
            "_model_name": "DescriptionStyleModel",
            "_view_count": null,
            "_view_module": "@jupyter-widgets/base",
            "_view_module_version": "1.2.0",
            "_view_name": "StyleView",
            "description_width": ""
          }
        },
        "deb3697b576b43e18ea8136b31c4d6f6": {
          "model_module": "@jupyter-widgets/controls",
          "model_module_version": "1.5.0",
          "model_name": "HBoxModel",
          "state": {
            "_dom_classes": [],
            "_model_module": "@jupyter-widgets/controls",
            "_model_module_version": "1.5.0",
            "_model_name": "HBoxModel",
            "_view_count": null,
            "_view_module": "@jupyter-widgets/controls",
            "_view_module_version": "1.5.0",
            "_view_name": "HBoxView",
            "box_style": "",
            "children": [
              "IPY_MODEL_6e2bc7d004f94aaabe67551e61b8a8cb",
              "IPY_MODEL_eddc9e1586374b53aec866e85331c6a7",
              "IPY_MODEL_52f3dd8065bd4c0d89bf5cd48f5b7213"
            ],
            "layout": "IPY_MODEL_b62090ec72d8445a96f60e123ecbd071"
          }
        },
        "e52673e38ef64c8a8cd4521df0d1b230": {
          "model_module": "@jupyter-widgets/base",
          "model_module_version": "1.2.0",
          "model_name": "LayoutModel",
          "state": {
            "_model_module": "@jupyter-widgets/base",
            "_model_module_version": "1.2.0",
            "_model_name": "LayoutModel",
            "_view_count": null,
            "_view_module": "@jupyter-widgets/base",
            "_view_module_version": "1.2.0",
            "_view_name": "LayoutView",
            "align_content": null,
            "align_items": null,
            "align_self": null,
            "border": null,
            "bottom": null,
            "display": null,
            "flex": null,
            "flex_flow": null,
            "grid_area": null,
            "grid_auto_columns": null,
            "grid_auto_flow": null,
            "grid_auto_rows": null,
            "grid_column": null,
            "grid_gap": null,
            "grid_row": null,
            "grid_template_areas": null,
            "grid_template_columns": null,
            "grid_template_rows": null,
            "height": null,
            "justify_content": null,
            "justify_items": null,
            "left": null,
            "margin": null,
            "max_height": null,
            "max_width": null,
            "min_height": null,
            "min_width": null,
            "object_fit": null,
            "object_position": null,
            "order": null,
            "overflow": null,
            "overflow_x": null,
            "overflow_y": null,
            "padding": null,
            "right": null,
            "top": null,
            "visibility": null,
            "width": null
          }
        },
        "ebca4a233f52463dadb9aaf1a8b48b7c": {
          "model_module": "@jupyter-widgets/controls",
          "model_module_version": "1.5.0",
          "model_name": "DescriptionStyleModel",
          "state": {
            "_model_module": "@jupyter-widgets/controls",
            "_model_module_version": "1.5.0",
            "_model_name": "DescriptionStyleModel",
            "_view_count": null,
            "_view_module": "@jupyter-widgets/base",
            "_view_module_version": "1.2.0",
            "_view_name": "StyleView",
            "description_width": ""
          }
        },
        "ecb561e205e242c489a363067bf9b1a8": {
          "model_module": "@jupyter-widgets/base",
          "model_module_version": "1.2.0",
          "model_name": "LayoutModel",
          "state": {
            "_model_module": "@jupyter-widgets/base",
            "_model_module_version": "1.2.0",
            "_model_name": "LayoutModel",
            "_view_count": null,
            "_view_module": "@jupyter-widgets/base",
            "_view_module_version": "1.2.0",
            "_view_name": "LayoutView",
            "align_content": null,
            "align_items": null,
            "align_self": null,
            "border": null,
            "bottom": null,
            "display": null,
            "flex": null,
            "flex_flow": null,
            "grid_area": null,
            "grid_auto_columns": null,
            "grid_auto_flow": null,
            "grid_auto_rows": null,
            "grid_column": null,
            "grid_gap": null,
            "grid_row": null,
            "grid_template_areas": null,
            "grid_template_columns": null,
            "grid_template_rows": null,
            "height": null,
            "justify_content": null,
            "justify_items": null,
            "left": null,
            "margin": null,
            "max_height": null,
            "max_width": null,
            "min_height": null,
            "min_width": null,
            "object_fit": null,
            "object_position": null,
            "order": null,
            "overflow": null,
            "overflow_x": null,
            "overflow_y": null,
            "padding": null,
            "right": null,
            "top": null,
            "visibility": null,
            "width": null
          }
        },
        "eddc9e1586374b53aec866e85331c6a7": {
          "model_module": "@jupyter-widgets/controls",
          "model_module_version": "1.5.0",
          "model_name": "FloatProgressModel",
          "state": {
            "_dom_classes": [],
            "_model_module": "@jupyter-widgets/controls",
            "_model_module_version": "1.5.0",
            "_model_name": "FloatProgressModel",
            "_view_count": null,
            "_view_module": "@jupyter-widgets/controls",
            "_view_module_version": "1.5.0",
            "_view_name": "ProgressView",
            "bar_style": "success",
            "description": "",
            "description_tooltip": null,
            "layout": "IPY_MODEL_98746d68500e4581b4767afd33937359",
            "max": 2,
            "min": 0,
            "orientation": "horizontal",
            "style": "IPY_MODEL_4c50dd6f6e2340399cd943d8cba66b8b",
            "value": 2
          }
        },
        "ef3062d7419d40769470ba934144f08e": {
          "model_module": "@jupyter-widgets/controls",
          "model_module_version": "1.5.0",
          "model_name": "HBoxModel",
          "state": {
            "_dom_classes": [],
            "_model_module": "@jupyter-widgets/controls",
            "_model_module_version": "1.5.0",
            "_model_name": "HBoxModel",
            "_view_count": null,
            "_view_module": "@jupyter-widgets/controls",
            "_view_module_version": "1.5.0",
            "_view_name": "HBoxView",
            "box_style": "",
            "children": [
              "IPY_MODEL_d5cea9ec293641bfb88373c09d75e141",
              "IPY_MODEL_83556189d6ec4a0293c538f9cf1d4908",
              "IPY_MODEL_35f3665e08934607997b53fe735eae4d"
            ],
            "layout": "IPY_MODEL_d9e1433838d54158b0a0381a897e58bb"
          }
        },
        "ef995f87404143ae9473c492610f191f": {
          "model_module": "@jupyter-widgets/controls",
          "model_module_version": "1.5.0",
          "model_name": "DescriptionStyleModel",
          "state": {
            "_model_module": "@jupyter-widgets/controls",
            "_model_module_version": "1.5.0",
            "_model_name": "DescriptionStyleModel",
            "_view_count": null,
            "_view_module": "@jupyter-widgets/base",
            "_view_module_version": "1.2.0",
            "_view_name": "StyleView",
            "description_width": ""
          }
        },
        "f118ef8f8cf1479c91c87c81e0f84d60": {
          "model_module": "@jupyter-widgets/controls",
          "model_module_version": "1.5.0",
          "model_name": "FloatProgressModel",
          "state": {
            "_dom_classes": [],
            "_model_module": "@jupyter-widgets/controls",
            "_model_module_version": "1.5.0",
            "_model_name": "FloatProgressModel",
            "_view_count": null,
            "_view_module": "@jupyter-widgets/controls",
            "_view_module_version": "1.5.0",
            "_view_name": "ProgressView",
            "bar_style": "success",
            "description": "",
            "description_tooltip": null,
            "layout": "IPY_MODEL_b245223a593744bdbfbc004a0ec080c2",
            "max": 411,
            "min": 0,
            "orientation": "horizontal",
            "style": "IPY_MODEL_881c367a33e645cbbb88628688587216",
            "value": 411
          }
        },
        "f1c1a9f6726b4779900f8c6354bc9e88": {
          "model_module": "@jupyter-widgets/controls",
          "model_module_version": "1.5.0",
          "model_name": "HTMLModel",
          "state": {
            "_dom_classes": [],
            "_model_module": "@jupyter-widgets/controls",
            "_model_module_version": "1.5.0",
            "_model_name": "HTMLModel",
            "_view_count": null,
            "_view_module": "@jupyter-widgets/controls",
            "_view_module_version": "1.5.0",
            "_view_name": "HTMLView",
            "description": "",
            "description_tooltip": null,
            "layout": "IPY_MODEL_8bb96a742d3745ddaacd495dd9a9c25f",
            "placeholder": "​",
            "style": "IPY_MODEL_a35aad4777674f1388114f35942c9f2b",
            "value": " 411/411 [00:00&lt;00:00, 24.5kB/s]"
          }
        },
        "f207cf2e5199463eb0e1f67c4c9ac832": {
          "model_module": "@jupyter-widgets/base",
          "model_module_version": "1.2.0",
          "model_name": "LayoutModel",
          "state": {
            "_model_module": "@jupyter-widgets/base",
            "_model_module_version": "1.2.0",
            "_model_name": "LayoutModel",
            "_view_count": null,
            "_view_module": "@jupyter-widgets/base",
            "_view_module_version": "1.2.0",
            "_view_name": "LayoutView",
            "align_content": null,
            "align_items": null,
            "align_self": null,
            "border": null,
            "bottom": null,
            "display": null,
            "flex": null,
            "flex_flow": null,
            "grid_area": null,
            "grid_auto_columns": null,
            "grid_auto_flow": null,
            "grid_auto_rows": null,
            "grid_column": null,
            "grid_gap": null,
            "grid_row": null,
            "grid_template_areas": null,
            "grid_template_columns": null,
            "grid_template_rows": null,
            "height": null,
            "justify_content": null,
            "justify_items": null,
            "left": null,
            "margin": null,
            "max_height": null,
            "max_width": null,
            "min_height": null,
            "min_width": null,
            "object_fit": null,
            "object_position": null,
            "order": null,
            "overflow": null,
            "overflow_x": null,
            "overflow_y": null,
            "padding": null,
            "right": null,
            "top": null,
            "visibility": null,
            "width": null
          }
        },
        "f87424cea7fa4ffcbb64a897b3692dc9": {
          "model_module": "@jupyter-widgets/base",
          "model_module_version": "1.2.0",
          "model_name": "LayoutModel",
          "state": {
            "_model_module": "@jupyter-widgets/base",
            "_model_module_version": "1.2.0",
            "_model_name": "LayoutModel",
            "_view_count": null,
            "_view_module": "@jupyter-widgets/base",
            "_view_module_version": "1.2.0",
            "_view_name": "LayoutView",
            "align_content": null,
            "align_items": null,
            "align_self": null,
            "border": null,
            "bottom": null,
            "display": null,
            "flex": null,
            "flex_flow": null,
            "grid_area": null,
            "grid_auto_columns": null,
            "grid_auto_flow": null,
            "grid_auto_rows": null,
            "grid_column": null,
            "grid_gap": null,
            "grid_row": null,
            "grid_template_areas": null,
            "grid_template_columns": null,
            "grid_template_rows": null,
            "height": null,
            "justify_content": null,
            "justify_items": null,
            "left": null,
            "margin": null,
            "max_height": null,
            "max_width": null,
            "min_height": null,
            "min_width": null,
            "object_fit": null,
            "object_position": null,
            "order": null,
            "overflow": null,
            "overflow_x": null,
            "overflow_y": null,
            "padding": null,
            "right": null,
            "top": null,
            "visibility": null,
            "width": null
          }
        },
        "f9b469aa2ab349829d2795b1ef6b3b03": {
          "model_module": "@jupyter-widgets/base",
          "model_module_version": "1.2.0",
          "model_name": "LayoutModel",
          "state": {
            "_model_module": "@jupyter-widgets/base",
            "_model_module_version": "1.2.0",
            "_model_name": "LayoutModel",
            "_view_count": null,
            "_view_module": "@jupyter-widgets/base",
            "_view_module_version": "1.2.0",
            "_view_name": "LayoutView",
            "align_content": null,
            "align_items": null,
            "align_self": null,
            "border": null,
            "bottom": null,
            "display": null,
            "flex": null,
            "flex_flow": null,
            "grid_area": null,
            "grid_auto_columns": null,
            "grid_auto_flow": null,
            "grid_auto_rows": null,
            "grid_column": null,
            "grid_gap": null,
            "grid_row": null,
            "grid_template_areas": null,
            "grid_template_columns": null,
            "grid_template_rows": null,
            "height": null,
            "justify_content": null,
            "justify_items": null,
            "left": null,
            "margin": null,
            "max_height": null,
            "max_width": null,
            "min_height": null,
            "min_width": null,
            "object_fit": null,
            "object_position": null,
            "order": null,
            "overflow": null,
            "overflow_x": null,
            "overflow_y": null,
            "padding": null,
            "right": null,
            "top": null,
            "visibility": null,
            "width": null
          }
        },
        "fec6f89171e24794a5f96836ac68dc29": {
          "model_module": "@jupyter-widgets/controls",
          "model_module_version": "1.5.0",
          "model_name": "DescriptionStyleModel",
          "state": {
            "_model_module": "@jupyter-widgets/controls",
            "_model_module_version": "1.5.0",
            "_model_name": "DescriptionStyleModel",
            "_view_count": null,
            "_view_module": "@jupyter-widgets/base",
            "_view_module_version": "1.2.0",
            "_view_name": "StyleView",
            "description_width": ""
          }
        },
        "ffa1e24a336f4f029e62090b6467a527": {
          "model_module": "@jupyter-widgets/controls",
          "model_module_version": "1.5.0",
          "model_name": "FloatProgressModel",
          "state": {
            "_dom_classes": [],
            "_model_module": "@jupyter-widgets/controls",
            "_model_module_version": "1.5.0",
            "_model_name": "FloatProgressModel",
            "_view_count": null,
            "_view_module": "@jupyter-widgets/controls",
            "_view_module_version": "1.5.0",
            "_view_name": "ProgressView",
            "bar_style": "success",
            "description": "",
            "description_tooltip": null,
            "layout": "IPY_MODEL_86ff31c695e545408e65f25f04d13ff1",
            "max": 749,
            "min": 0,
            "orientation": "horizontal",
            "style": "IPY_MODEL_4a2d12f3c7c34ac8bb19f8b745afbd6d",
            "value": 749
          }
        }
      }
    }
  },
  "nbformat": 4,
  "nbformat_minor": 0
}
