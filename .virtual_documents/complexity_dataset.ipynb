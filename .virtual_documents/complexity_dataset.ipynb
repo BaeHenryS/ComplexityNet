!pip install openai


import openai
import os
# Check to see if there is an environment variable with you API keys, if not, use what you put below
openai.api_key = os.environ.get('OPENAI_API_KEY',"")


from openai import OpenAI
client = OpenAI(
  api_key=os.environ.get('OPENAI_API_KEY',""), 
)

response = client.chat.completions.create(
  model="gpt-4-1106-preview",
  messages=[
    {
      "role": "system",
      "content": "You will generate a Python Script that will complete the task outlined by the user. You will not provide any explanations, and only return the Python Script without the explanation of the code. "
    },
    {
      "role": "user",
      "content": "\t\nWrite a function to find the longest chain which can be formed from the given set of pairs. The name of the function should be \n\nClass Pair(object)\n\ndef max_chain_length(arr, n)\n\n"
    }
  ],
  temperature=1,
  max_tokens=2047,
  top_p=1,
  frequency_penalty=0,
  presence_penalty=0
)


print(response.choices[0].message.content)


responseText = response.choices[0].message.content

# Remove the ```python and ``` from the response
responseText = responseText.replace("```python", "")
responseText = responseText.replace("```", "")

# Run the code
exec(responseText)

# Assertion Code:

assertion_code = [ "assert max_chain_length([Pair(5, 24), Pair(15, 25),Pair(27, 40), Pair(50, 60)], 4) == 3", "assert max_chain_length([Pair(1, 2), Pair(3, 4),Pair(5, 6), Pair(7, 8)], 4) == 4", "assert max_chain_length([Pair(19, 10), Pair(11, 12),Pair(13, 14), Pair(15, 16), Pair(31, 54)], 5) == 5" ]

# Execute and print if the code passes the assertions

for assertion in assertion_code:
    exec(assertion)

print("Code Passed Assertions")



def getCodeFormat(code_input):
    # Make an OPENAI API Call to only return the function call and its inputs
    '''EXAMPLE:
    INPUT: class Pair(object): def __init__(self, a, b): self.a = a self.b = b def max_chain_length(arr, n): max = 0 mcl = [1 for i in range(n)] for i in range(1, n): for j in range(0, i): if (arr[i].a > arr[j].b and mcl[i] < mcl[j] + 1): mcl[i] = mcl[j] + 1 for i in range(n): if (max < mcl[i]): max = mcl[i] return max
    
    OUTPUT: Class Pair(object) def max_chain_length(arr, n)
    '''

    client = OpenAI(
        api_key=os.environ.get('OPENAI_API_KEY',"")
    )

    response = client.chat.completions.create(
        model="gpt-3.5-turbo-1106",
        messages=[
            {
                "role": "system",
                "content": "Return only the function definition and its inputs from the code given by the user. Example: INPUT: class Pair(object): def __init__(self, a, b): self.a = a self.b = b def max_chain_length(arr, n): max = 0 mcl = [1 for i in range(n)] for i in range(1, n): for j in range(0, i): if (arr[i].a > arr[j].b and mcl[i] < mcl[j] + 1): mcl[i] = mcl[j] + 1 for i in range(n): if (max < mcl[i]): max = mcl[i] return max OUTPUT: Class Pair(object) def max_chain_length(arr, n) "
            },
            {
                "role": "user",
                "content": code_input
            }
        ],
        temperature=1,
        max_tokens=1024,
        top_p=1,
        frequency_penalty=0,
        presence_penalty=0
    )
    
    responseText = response.choices[0].message.content

    # Remove the ```python and ``` from the response
    responseText = responseText.replace("```python", "")
    responseText = responseText.replace("```", "")

    return responseText

    


# The entire loop now for each examples

import jsonlines
import os
import openai
from openai import OpenAI

openai.api_key = os.environ.get('OPENAI_API_KEY',"")

max_loop = 10
i = 0

success = 0

# Open JSONL File:
with jsonlines.open('mbpp.jsonl') as reader: 
# Loop through each example
    for obj in reader:
        print("Running Example: " + str(i))
        prompt = obj['text']
        code = obj['code']
        #print(obj['code'])
        # Call the getCodeFormat function to get the function call and its inputs
        function_call = getCodeFormat(code)
        print(function_call)
        userPrompt =  prompt + " The name of the function should be "  + function_call + "\n\n"
        client = OpenAI(
  api_key=os.environ.get('OPENAI_API_KEY',""), 
)

        response = client.chat.completions.create(
        model="gpt-4-1106-preview",
        messages=[
            {
            "role": "system",
            "content": "You will generate a Python Script that will complete the task outlined by the user. You will not provide any explanations, and only return the Python Script without the explanation of the code. "
            },
            {
            "role": "user",
            "content": userPrompt
            }
        ],
        temperature=1,
        max_tokens=2047,
        top_p=1,
        frequency_penalty=0,
        presence_penalty=0
        )

        responseText = response.choices[0].message.content

        # Remove the ```python and ``` from the response
        responseText = responseText.replace("```python", "")
        responseText = responseText.replace("```", "")
        
        # Run the code
        exec(responseText)

        # Assertion Code:
        assertion_code = obj['test_list']
        # Execute and print if the code passes the assertions
        for assertion in assertion_code:

            try:
                exec(assertion)
                print("Code Passed Assertions")
                success += 1
            except:
                # Continue to the next example and print the error
                print("Code Failed Assertions")
                break

        import time 
        time.sleep(5)
        
        # terminate loop for testing
        i += 1
        if i == max_loop:
            break




            
        
    



print("Success: " + str(success) + " out of " + str(i))


print("Success: " + str(success) + " out of " + str(i))


# See number of examples in the JSONL file

with jsonlines.open('mbpp.jsonl') as reader:
    i = 0
    for obj in reader:
        i += 1
print("Number of Examples: " + str(i))


!pip install heapq



