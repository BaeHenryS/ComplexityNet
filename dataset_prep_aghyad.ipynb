{
 "cells": [
  {
   "cell_type": "code",
   "execution_count": 3,
   "id": "2f75654f-a2eb-4ab6-80dc-1e17432025d6",
   "metadata": {},
   "outputs": [
    {
     "name": "stdout",
     "output_type": "stream",
     "text": [
      "\n",
      "\u001b[1m[\u001b[0m\u001b[34;49mnotice\u001b[0m\u001b[1;39;49m]\u001b[0m\u001b[39;49m A new release of pip is available: \u001b[0m\u001b[31;49m23.2.1\u001b[0m\u001b[39;49m -> \u001b[0m\u001b[32;49m23.3.1\u001b[0m\n",
      "\u001b[1m[\u001b[0m\u001b[34;49mnotice\u001b[0m\u001b[1;39;49m]\u001b[0m\u001b[39;49m To update, run: \u001b[0m\u001b[32;49m/opt/homebrew/Cellar/jupyterlab/4.0.6_1/libexec/bin/python -m pip install --upgrade pip\u001b[0m\n",
      "Note: you may need to restart the kernel to use updated packages.\n"
     ]
    }
   ],
   "source": [
    "pip install pandas -q"
   ]
  },
  {
   "cell_type": "code",
   "execution_count": 33,
   "id": "ace119d6-5863-4ec4-aaa4-5e9b78931bd5",
   "metadata": {},
   "outputs": [
    {
     "data": {
      "text/html": [
       "<div>\n",
       "<style scoped>\n",
       "    .dataframe tbody tr th:only-of-type {\n",
       "        vertical-align: middle;\n",
       "    }\n",
       "\n",
       "    .dataframe tbody tr th {\n",
       "        vertical-align: top;\n",
       "    }\n",
       "\n",
       "    .dataframe thead th {\n",
       "        text-align: right;\n",
       "    }\n",
       "</style>\n",
       "<table border=\"1\" class=\"dataframe\">\n",
       "  <thead>\n",
       "    <tr style=\"text-align: right;\">\n",
       "      <th></th>\n",
       "      <th>text</th>\n",
       "      <th>code</th>\n",
       "      <th>task_id</th>\n",
       "      <th>test_setup_code</th>\n",
       "      <th>test_list</th>\n",
       "      <th>challenge_test_list</th>\n",
       "      <th>method2_gpt4_output</th>\n",
       "      <th>method2_gpt3_5_output</th>\n",
       "      <th>method2_gpt4_success</th>\n",
       "      <th>method2_gpt3_5_success</th>\n",
       "      <th>method2_llama_output</th>\n",
       "      <th>method2_llama_success</th>\n",
       "    </tr>\n",
       "  </thead>\n",
       "  <tbody>\n",
       "    <tr>\n",
       "      <th>0</th>\n",
       "      <td>Write a function to find the minimum cost path...</td>\n",
       "      <td>R = 3\\r\\nC = 3\\r\\ndef min_cost(cost, m, n): \\r...</td>\n",
       "      <td>1</td>\n",
       "      <td></td>\n",
       "      <td>[assert min_cost([[1, 2, 3], [4, 8, 2], [1, 5,...</td>\n",
       "      <td>[]</td>\n",
       "      <td>\\ndef min_cost(cost, m, n):\\n    dp = [[0 for ...</td>\n",
       "      <td>\\ndef min_cost(cost, m, n):\\n    dp = [[0 for ...</td>\n",
       "      <td>True</td>\n",
       "      <td>False</td>\n",
       "      <td>def min_cost(cost, m, n):\\n    # code here\\n  ...</td>\n",
       "      <td>False</td>\n",
       "    </tr>\n",
       "    <tr>\n",
       "      <th>1</th>\n",
       "      <td>Write a function to find the similar elements ...</td>\n",
       "      <td>def similar_elements(test_tup1, test_tup2):\\r\\...</td>\n",
       "      <td>2</td>\n",
       "      <td></td>\n",
       "      <td>[assert similar_elements((3, 4, 5, 6),(5, 7, 4...</td>\n",
       "      <td>[]</td>\n",
       "      <td>\\ndef similar_elements(test_tup1, test_tup2):\\...</td>\n",
       "      <td>\\ndef similar_elements(test_tup1, test_tup2):\\...</td>\n",
       "      <td>False</td>\n",
       "      <td>False</td>\n",
       "      <td>def similar_elements(test_tup1, test_tup2):\\n ...</td>\n",
       "      <td>True</td>\n",
       "    </tr>\n",
       "    <tr>\n",
       "      <th>2</th>\n",
       "      <td>Write a python function to identify non-prime ...</td>\n",
       "      <td>import math\\r\\ndef is_not_prime(n):\\r\\n    res...</td>\n",
       "      <td>3</td>\n",
       "      <td></td>\n",
       "      <td>[assert is_not_prime(2) == False, assert is_no...</td>\n",
       "      <td>[]</td>\n",
       "      <td>\\ndef is_not_prime(n):\\n    if n &lt;= 1:\\n      ...</td>\n",
       "      <td>\\ndef is_not_prime(n):\\n    if n &lt;= 1:\\n      ...</td>\n",
       "      <td>True</td>\n",
       "      <td>True</td>\n",
       "      <td>def is_not_prime(n):\\n    if n == 2:\\n        ...</td>\n",
       "      <td>True</td>\n",
       "    </tr>\n",
       "    <tr>\n",
       "      <th>3</th>\n",
       "      <td>Write a function to find the largest integers ...</td>\n",
       "      <td>import heapq as hq\\r\\ndef heap_queue_largest(n...</td>\n",
       "      <td>4</td>\n",
       "      <td></td>\n",
       "      <td>[assert heap_queue_largest( [25, 35, 22, 85, 1...</td>\n",
       "      <td>[]</td>\n",
       "      <td>\\nimport heapq\\n\\ndef heap_queue_largest(nums,...</td>\n",
       "      <td>\\nimport heapq\\n\\ndef heap_queue_largest(nums,...</td>\n",
       "      <td>True</td>\n",
       "      <td>True</td>\n",
       "      <td>def heap_queue_largest(nums,n):\\n    heap = []...</td>\n",
       "      <td>False</td>\n",
       "    </tr>\n",
       "    <tr>\n",
       "      <th>4</th>\n",
       "      <td>Write a function to find the number of ways to...</td>\n",
       "      <td>def count_ways(n): \\r\\n\\tA = [0] * (n + 1) \\r\\...</td>\n",
       "      <td>5</td>\n",
       "      <td></td>\n",
       "      <td>[assert count_ways(2) == 3, assert count_ways(...</td>\n",
       "      <td>[]</td>\n",
       "      <td>\\ndef count_ways(n):\\n    a, b = 1, 0\\n    for...</td>\n",
       "      <td>\\ndef count_ways(n):\\n    if n % 2 != 0:\\n    ...</td>\n",
       "      <td>False</td>\n",
       "      <td>True</td>\n",
       "      <td>def count_ways(n):\\n    # Fill the first row w...</td>\n",
       "      <td>False</td>\n",
       "    </tr>\n",
       "  </tbody>\n",
       "</table>\n",
       "</div>"
      ],
      "text/plain": [
       "                                                text  \\\n",
       "0  Write a function to find the minimum cost path...   \n",
       "1  Write a function to find the similar elements ...   \n",
       "2  Write a python function to identify non-prime ...   \n",
       "3  Write a function to find the largest integers ...   \n",
       "4  Write a function to find the number of ways to...   \n",
       "\n",
       "                                                code  task_id test_setup_code  \\\n",
       "0  R = 3\\r\\nC = 3\\r\\ndef min_cost(cost, m, n): \\r...        1                   \n",
       "1  def similar_elements(test_tup1, test_tup2):\\r\\...        2                   \n",
       "2  import math\\r\\ndef is_not_prime(n):\\r\\n    res...        3                   \n",
       "3  import heapq as hq\\r\\ndef heap_queue_largest(n...        4                   \n",
       "4  def count_ways(n): \\r\\n\\tA = [0] * (n + 1) \\r\\...        5                   \n",
       "\n",
       "                                           test_list challenge_test_list  \\\n",
       "0  [assert min_cost([[1, 2, 3], [4, 8, 2], [1, 5,...                  []   \n",
       "1  [assert similar_elements((3, 4, 5, 6),(5, 7, 4...                  []   \n",
       "2  [assert is_not_prime(2) == False, assert is_no...                  []   \n",
       "3  [assert heap_queue_largest( [25, 35, 22, 85, 1...                  []   \n",
       "4  [assert count_ways(2) == 3, assert count_ways(...                  []   \n",
       "\n",
       "                                 method2_gpt4_output  \\\n",
       "0  \\ndef min_cost(cost, m, n):\\n    dp = [[0 for ...   \n",
       "1  \\ndef similar_elements(test_tup1, test_tup2):\\...   \n",
       "2  \\ndef is_not_prime(n):\\n    if n <= 1:\\n      ...   \n",
       "3  \\nimport heapq\\n\\ndef heap_queue_largest(nums,...   \n",
       "4  \\ndef count_ways(n):\\n    a, b = 1, 0\\n    for...   \n",
       "\n",
       "                               method2_gpt3_5_output method2_gpt4_success  \\\n",
       "0  \\ndef min_cost(cost, m, n):\\n    dp = [[0 for ...                 True   \n",
       "1  \\ndef similar_elements(test_tup1, test_tup2):\\...                False   \n",
       "2  \\ndef is_not_prime(n):\\n    if n <= 1:\\n      ...                 True   \n",
       "3  \\nimport heapq\\n\\ndef heap_queue_largest(nums,...                 True   \n",
       "4  \\ndef count_ways(n):\\n    if n % 2 != 0:\\n    ...                False   \n",
       "\n",
       "  method2_gpt3_5_success                               method2_llama_output  \\\n",
       "0                  False  def min_cost(cost, m, n):\\n    # code here\\n  ...   \n",
       "1                  False  def similar_elements(test_tup1, test_tup2):\\n ...   \n",
       "2                   True  def is_not_prime(n):\\n    if n == 2:\\n        ...   \n",
       "3                   True  def heap_queue_largest(nums,n):\\n    heap = []...   \n",
       "4                   True  def count_ways(n):\\n    # Fill the first row w...   \n",
       "\n",
       "   method2_llama_success  \n",
       "0                  False  \n",
       "1                   True  \n",
       "2                   True  \n",
       "3                  False  \n",
       "4                  False  "
      ]
     },
     "execution_count": 33,
     "metadata": {},
     "output_type": "execute_result"
    }
   ],
   "source": [
    "import pandas as pd\n",
    "\n",
    "# Replace 'your_file.jsonl' with your JSONL file path\n",
    "file_path1 = './mbpp_label.jsonl'\n",
    "file_path2 = './mbpp_label_llama.jsonl'\n",
    "\n",
    "# Read the JSONL file\n",
    "df1 = pd.read_json(file_path1, lines=True)\n",
    "df2 = pd.read_json(file_path2, lines=True)\n",
    "merged_df_corrected = pd.merge(df1, df2, on='task_id', how='outer', suffixes=('', '_df2'))\n",
    "\n",
    "# We now remove the duplicate columns from df2 that are already present in df1 except those starting with 'method2'\n",
    "columns_to_drop = [col for col in merged_df_corrected if col.endswith('_df2') and not col.startswith('method2')]\n",
    "merged_df_corrected.drop(columns=columns_to_drop, inplace=True)\n",
    "\n",
    "# Renaming the columns to remove the '_df2' suffix from the 'method2' columns from df2\n",
    "merged_df_corrected.rename(columns=lambda x: x.replace('_df2', ''), inplace=True)\n",
    "merged_df_corrected.head()\n",
    "df = merged_df_corrected\n",
    "df.head()"
   ]
  },
  {
   "cell_type": "code",
   "execution_count": 34,
   "id": "b5bf8092-f8a4-4fb7-81fa-74fdd9d1ee6f",
   "metadata": {},
   "outputs": [],
   "source": [
    "# List of columns to delete, replace these with your column names\n",
    "columns_to_delete = ['code', 'task_id', 'test_setup_code', 'test_list', 'challenge_test_list', 'method2_gpt4_output', 'method2_gpt3_5_output', 'method2_llama_output']\n",
    "\n",
    "# Delete the columns\n",
    "df.drop(columns=columns_to_delete, inplace=True)"
   ]
  },
  {
   "cell_type": "code",
   "execution_count": 35,
   "id": "068c4616-4929-44ad-a9b5-8c309c262f81",
   "metadata": {},
   "outputs": [
    {
     "data": {
      "text/html": [
       "<div>\n",
       "<style scoped>\n",
       "    .dataframe tbody tr th:only-of-type {\n",
       "        vertical-align: middle;\n",
       "    }\n",
       "\n",
       "    .dataframe tbody tr th {\n",
       "        vertical-align: top;\n",
       "    }\n",
       "\n",
       "    .dataframe thead th {\n",
       "        text-align: right;\n",
       "    }\n",
       "</style>\n",
       "<table border=\"1\" class=\"dataframe\">\n",
       "  <thead>\n",
       "    <tr style=\"text-align: right;\">\n",
       "      <th></th>\n",
       "      <th>text</th>\n",
       "      <th>method2_gpt4_success</th>\n",
       "      <th>method2_gpt3_5_success</th>\n",
       "      <th>method2_llama_success</th>\n",
       "    </tr>\n",
       "  </thead>\n",
       "  <tbody>\n",
       "    <tr>\n",
       "      <th>0</th>\n",
       "      <td>Write a function to find the minimum cost path...</td>\n",
       "      <td>True</td>\n",
       "      <td>False</td>\n",
       "      <td>False</td>\n",
       "    </tr>\n",
       "    <tr>\n",
       "      <th>1</th>\n",
       "      <td>Write a function to find the similar elements ...</td>\n",
       "      <td>False</td>\n",
       "      <td>False</td>\n",
       "      <td>True</td>\n",
       "    </tr>\n",
       "    <tr>\n",
       "      <th>2</th>\n",
       "      <td>Write a python function to identify non-prime ...</td>\n",
       "      <td>True</td>\n",
       "      <td>True</td>\n",
       "      <td>True</td>\n",
       "    </tr>\n",
       "    <tr>\n",
       "      <th>3</th>\n",
       "      <td>Write a function to find the largest integers ...</td>\n",
       "      <td>True</td>\n",
       "      <td>True</td>\n",
       "      <td>False</td>\n",
       "    </tr>\n",
       "    <tr>\n",
       "      <th>4</th>\n",
       "      <td>Write a function to find the number of ways to...</td>\n",
       "      <td>False</td>\n",
       "      <td>True</td>\n",
       "      <td>False</td>\n",
       "    </tr>\n",
       "  </tbody>\n",
       "</table>\n",
       "</div>"
      ],
      "text/plain": [
       "                                                text method2_gpt4_success  \\\n",
       "0  Write a function to find the minimum cost path...                 True   \n",
       "1  Write a function to find the similar elements ...                False   \n",
       "2  Write a python function to identify non-prime ...                 True   \n",
       "3  Write a function to find the largest integers ...                 True   \n",
       "4  Write a function to find the number of ways to...                False   \n",
       "\n",
       "  method2_gpt3_5_success  method2_llama_success  \n",
       "0                  False                  False  \n",
       "1                  False                   True  \n",
       "2                   True                   True  \n",
       "3                   True                  False  \n",
       "4                   True                  False  "
      ]
     },
     "execution_count": 35,
     "metadata": {},
     "output_type": "execute_result"
    }
   ],
   "source": [
    "df.head()"
   ]
  },
  {
   "cell_type": "code",
   "execution_count": 36,
   "id": "c615db05-3766-463b-b1ee-bf8516e7087e",
   "metadata": {},
   "outputs": [
    {
     "data": {
      "text/html": [
       "<div>\n",
       "<style scoped>\n",
       "    .dataframe tbody tr th:only-of-type {\n",
       "        vertical-align: middle;\n",
       "    }\n",
       "\n",
       "    .dataframe tbody tr th {\n",
       "        vertical-align: top;\n",
       "    }\n",
       "\n",
       "    .dataframe thead th {\n",
       "        text-align: right;\n",
       "    }\n",
       "</style>\n",
       "<table border=\"1\" class=\"dataframe\">\n",
       "  <thead>\n",
       "    <tr style=\"text-align: right;\">\n",
       "      <th></th>\n",
       "      <th>text</th>\n",
       "      <th>method2_gpt4_success</th>\n",
       "      <th>method2_gpt3_5_success</th>\n",
       "      <th>method2_llama_success</th>\n",
       "      <th>complexity</th>\n",
       "    </tr>\n",
       "  </thead>\n",
       "  <tbody>\n",
       "    <tr>\n",
       "      <th>0</th>\n",
       "      <td>Write a function to find the minimum cost path...</td>\n",
       "      <td>True</td>\n",
       "      <td>False</td>\n",
       "      <td>False</td>\n",
       "      <td>2</td>\n",
       "    </tr>\n",
       "    <tr>\n",
       "      <th>1</th>\n",
       "      <td>Write a function to find the similar elements ...</td>\n",
       "      <td>False</td>\n",
       "      <td>False</td>\n",
       "      <td>True</td>\n",
       "      <td>0</td>\n",
       "    </tr>\n",
       "    <tr>\n",
       "      <th>2</th>\n",
       "      <td>Write a python function to identify non-prime ...</td>\n",
       "      <td>True</td>\n",
       "      <td>True</td>\n",
       "      <td>True</td>\n",
       "      <td>0</td>\n",
       "    </tr>\n",
       "    <tr>\n",
       "      <th>3</th>\n",
       "      <td>Write a function to find the largest integers ...</td>\n",
       "      <td>True</td>\n",
       "      <td>True</td>\n",
       "      <td>False</td>\n",
       "      <td>1</td>\n",
       "    </tr>\n",
       "    <tr>\n",
       "      <th>4</th>\n",
       "      <td>Write a function to find the number of ways to...</td>\n",
       "      <td>False</td>\n",
       "      <td>True</td>\n",
       "      <td>False</td>\n",
       "      <td>1</td>\n",
       "    </tr>\n",
       "    <tr>\n",
       "      <th>...</th>\n",
       "      <td>...</td>\n",
       "      <td>...</td>\n",
       "      <td>...</td>\n",
       "      <td>...</td>\n",
       "      <td>...</td>\n",
       "    </tr>\n",
       "    <tr>\n",
       "      <th>969</th>\n",
       "      <td>Write a function to find the maximum number of...</td>\n",
       "      <td>True</td>\n",
       "      <td>False</td>\n",
       "      <td>False</td>\n",
       "      <td>2</td>\n",
       "    </tr>\n",
       "    <tr>\n",
       "      <th>970</th>\n",
       "      <td>Write a function to concatenate the given two ...</td>\n",
       "      <td>False</td>\n",
       "      <td>False</td>\n",
       "      <td>True</td>\n",
       "      <td>0</td>\n",
       "    </tr>\n",
       "    <tr>\n",
       "      <th>971</th>\n",
       "      <td>Write a python function to left rotate the str...</td>\n",
       "      <td>True</td>\n",
       "      <td>True</td>\n",
       "      <td>True</td>\n",
       "      <td>0</td>\n",
       "    </tr>\n",
       "    <tr>\n",
       "      <th>972</th>\n",
       "      <td>Write a function to find the minimum total pat...</td>\n",
       "      <td>True</td>\n",
       "      <td>True</td>\n",
       "      <td>False</td>\n",
       "      <td>1</td>\n",
       "    </tr>\n",
       "    <tr>\n",
       "      <th>973</th>\n",
       "      <td>NaN</td>\n",
       "      <td>NaN</td>\n",
       "      <td>NaN</td>\n",
       "      <td>False</td>\n",
       "      <td>1</td>\n",
       "    </tr>\n",
       "  </tbody>\n",
       "</table>\n",
       "<p>974 rows × 5 columns</p>\n",
       "</div>"
      ],
      "text/plain": [
       "                                                  text method2_gpt4_success  \\\n",
       "0    Write a function to find the minimum cost path...                 True   \n",
       "1    Write a function to find the similar elements ...                False   \n",
       "2    Write a python function to identify non-prime ...                 True   \n",
       "3    Write a function to find the largest integers ...                 True   \n",
       "4    Write a function to find the number of ways to...                False   \n",
       "..                                                 ...                  ...   \n",
       "969  Write a function to find the maximum number of...                 True   \n",
       "970  Write a function to concatenate the given two ...                False   \n",
       "971  Write a python function to left rotate the str...                 True   \n",
       "972  Write a function to find the minimum total pat...                 True   \n",
       "973                                                NaN                  NaN   \n",
       "\n",
       "    method2_gpt3_5_success  method2_llama_success  complexity  \n",
       "0                    False                  False           2  \n",
       "1                    False                   True           0  \n",
       "2                     True                   True           0  \n",
       "3                     True                  False           1  \n",
       "4                     True                  False           1  \n",
       "..                     ...                    ...         ...  \n",
       "969                  False                  False           2  \n",
       "970                  False                   True           0  \n",
       "971                   True                   True           0  \n",
       "972                   True                  False           1  \n",
       "973                    NaN                  False           1  \n",
       "\n",
       "[974 rows x 5 columns]"
      ]
     },
     "execution_count": 36,
     "metadata": {},
     "output_type": "execute_result"
    }
   ],
   "source": [
    "# Update the function to incorporate the new condition\n",
    "def determine_value_updated(row):\n",
    "    if row['method2_llama_success']:\n",
    "        return 0\n",
    "    elif row['method2_gpt3_5_success']:\n",
    "        return 1\n",
    "    elif row['method2_gpt4_success']:\n",
    "        return 2\n",
    "    elif not row['method2_gpt4_success'] and not row['method2_gpt3_5_success']:\n",
    "        return 3\n",
    "    return None  # This case should not occur based on the provided conditions\n",
    "\n",
    "# Apply the updated function to the DataFrame\n",
    "df['complexity'] = df.apply(determine_value_updated, axis=1)\n",
    "\n",
    "# Show the updated DataFrame\n",
    "df"
   ]
  },
  {
   "cell_type": "code",
   "execution_count": 37,
   "id": "69d439e5-fdbd-41e5-ace5-eadf4374f0d8",
   "metadata": {},
   "outputs": [],
   "source": [
    "columns_to_delete = ['method2_gpt4_success', 'method2_gpt3_5_success', 'method2_llama_success']\n",
    "\n",
    "# Delete the columns\n",
    "df.drop(columns=columns_to_delete, inplace=True)"
   ]
  },
  {
   "cell_type": "code",
   "execution_count": 44,
   "id": "40dcaee3-ef55-45be-8d4e-a71280e44e1a",
   "metadata": {
    "scrolled": true
   },
   "outputs": [],
   "source": [
    "df_train = df[:800]\n",
    "df_test = df[800:]"
   ]
  },
  {
   "cell_type": "code",
   "execution_count": 45,
   "id": "57c550e8-7841-47ed-afd1-783ad84922e0",
   "metadata": {},
   "outputs": [
    {
     "data": {
      "text/plain": [
       "<BarContainer object of 4 artists>"
      ]
     },
     "execution_count": 45,
     "metadata": {},
     "output_type": "execute_result"
    },
    {
     "data": {
      "image/png": "[encoded data removed]",
      "text/plain": [
       "<Figure size 640x480 with 1 Axes>"
      ]
     },
     "metadata": {},
     "output_type": "display_data"
    }
   ],
   "source": [
    "import matplotlib.pyplot as plt\n",
    "\n",
    "class_counts = df['complexity'].value_counts()\n",
    "plt.bar(class_counts.index, class_counts.values)"
   ]
  },
  {
   "cell_type": "code",
   "execution_count": 46,
   "id": "c2f115de-e7b5-4afb-b53e-e423242900d6",
   "metadata": {},
   "outputs": [],
   "source": [
    "output_file_path_train = './mbpp_complexity_train.jsonl'\n",
    "output_file_path_test = './mbpp_complexity_test.jsonl'\n",
    "df_train.to_json(output_file_path_train, orient='records', lines=True)\n",
    "df_test.to_json(output_file_path_test, orient='records', lines=True)"
   ]
  },
  {
   "cell_type": "code",
   "execution_count": 47,
   "id": "bd9692ad-4b30-4a5f-bbab-5748078c9cec",
   "metadata": {},
   "outputs": [],
   "source": [
    "# For a chate model, we want a completion model\n",
    "\n",
    "# import json\n",
    "\n",
    "# # Let's assume we read this data from 'current_dataset.jsonl'\n",
    "# input_file_path = './mbpp_complexity.jsonl'  # Replace with your actual file path\n",
    "\n",
    "# # Read the JSONL file\n",
    "# with open(input_file_path, 'r') as file:\n",
    "#     current_data = [json.loads(line) for line in file]\n",
    "\n",
    "# # Define the system message that will be constant for all entries\n",
    "# system_message = {\n",
    "#     \"role\": \"system\",\n",
    "#     \"content\": \"Output 0, 1, or 2 based solely on the difficulty of creating the correct code for the task. \"\n",
    "#                 \"Choose the least complex model that will solve the task accurately; avoid considering the time \"\n",
    "#                 \"taken for solving. 0 represents a simpler task, 1 represents a moderately challenging task, and 2 \"\n",
    "#                 \"represents a highly complex problem. provide the following fields in a JSON dict: 'complexity'\"\n",
    "# }\n",
    "\n",
    "# # Transform the current data to the desired format\n",
    "# transformed_data = []\n",
    "\n",
    "# for item in current_data:\n",
    "#     user_message = {\n",
    "#         \"role\": \"user\",\n",
    "#         \"content\": item[\"text\"]\n",
    "#     }\n",
    "#     assistant_message = {\n",
    "#         \"role\": \"assistant\",\n",
    "#         \"content\": json.dumps({\"complexity\": str(item[\"complexity\"])})\n",
    "#     }\n",
    "#     message_block = {\n",
    "#         \"messages\": [system_message, user_message, assistant_message]\n",
    "#     }\n",
    "#     transformed_data.append(message_block)\n",
    "\n",
    "# # Write the transformed data to a new JSONL file\n",
    "# output_file_path = './mbpp_assistant.jsonl'\n",
    "# with open(output_file_path, 'w') as outfile:\n",
    "#     for entry in transformed_data:\n",
    "#         json_record = json.dumps(entry)\n",
    "#         outfile.write(f\"{json_record}\\n\")\n",
    "\n",
    "# output_file_path"
   ]
  },
  {
   "cell_type": "code",
   "execution_count": null,
   "id": "d8ddbe6c-4cb7-4ee8-9704-309308613fb7",
   "metadata": {},
   "outputs": [],
   "source": []
  },
  {
   "cell_type": "code",
   "execution_count": 48,
   "id": "e2bf2d6d-112f-4eab-8b8d-61f908a28a31",
   "metadata": {},
   "outputs": [
    {
     "data": {
      "text/plain": [
       "'./mbpp_completion_train.jsonl'"
      ]
     },
     "execution_count": 48,
     "metadata": {},
     "output_type": "execute_result"
    }
   ],
   "source": [
    "import json\n",
    "\n",
    "input_file_path = './mbpp_complexity_train.jsonl'  # Path to the provided JSONL file\n",
    "output_file_path = './mbpp_completion_train.jsonl'  # Path for the output JSONL file\n",
    "\n",
    "# Read the JSONL file\n",
    "with open(input_file_path, 'r') as file:\n",
    "    current_data = [json.loads(line) for line in file]\n",
    "\n",
    "# Perform the transformation\n",
    "transformed_data = []\n",
    "\n",
    "for item in current_data:\n",
    "    transformed_entry = {\n",
    "        \"prompt\": f\"On a scale of 0 to 2 based solely on the complexity of creating the correct code for the task, \"\n",
    "                  f\"where 0 represents a simpler task, 1 represents a moderately challenging task, and 2 represents \"\n",
    "                  f\"a highly complex problem, the complexity of the task \\\"{item['text']}\\\" is: \",\n",
    "        \"completion\": str(item[\"complexity\"])\n",
    "    }\n",
    "    transformed_data.append(transformed_entry)\n",
    "\n",
    "# Write the transformed data to a new JSONL file\n",
    "with open(output_file_path, 'w') as outfile:\n",
    "    for entry in transformed_data:\n",
    "        json_record = json.dumps(entry)\n",
    "        outfile.write(f\"{json_record}\\n\")\n",
    "\n",
    "output_file_path\n"
   ]
  },
  {
   "cell_type": "code",
   "execution_count": 49,
   "id": "209b5c86-ec91-44e9-98da-50804e044c11",
   "metadata": {},
   "outputs": [
    {
     "data": {
      "text/plain": [
       "'./mbpp_completion_test.jsonl'"
      ]
     },
     "execution_count": 49,
     "metadata": {},
     "output_type": "execute_result"
    }
   ],
   "source": [
    "import json\n",
    "\n",
    "input_file_path = './mbpp_complexity_test.jsonl'  # Path to the provided JSONL file\n",
    "output_file_path = './mbpp_completion_test.jsonl'  # Path for the output JSONL file\n",
    "\n",
    "# Read the JSONL file\n",
    "with open(input_file_path, 'r') as file:\n",
    "    current_data = [json.loads(line) for line in file]\n",
    "\n",
    "# Perform the transformation\n",
    "transformed_data = []\n",
    "\n",
    "for item in current_data:\n",
    "    transformed_entry = {\n",
    "        \"prompt\": f\"On a scale of 0 to 2 based solely on the complexity of creating the correct code for the task, \"\n",
    "                  f\"where 0 represents a simpler task, 1 represents a moderately challenging task, and 2 represents \"\n",
    "                  f\"a highly complex problem, the complexity of the task \\\"{item['text']}\\\" is: \",\n",
    "        \"completion\": str(item[\"complexity\"])\n",
    "    }\n",
    "    transformed_data.append(transformed_entry)\n",
    "\n",
    "# Write the transformed data to a new JSONL file\n",
    "with open(output_file_path, 'w') as outfile:\n",
    "    for entry in transformed_data:\n",
    "        json_record = json.dumps(entry)\n",
    "        outfile.write(f\"{json_record}\\n\")\n",
    "\n",
    "output_file_path\n"
   ]
  },
  {
   "cell_type": "code",
   "execution_count": 58,
   "id": "f50d8e64-fb02-4680-92ad-2e418452fd2a",
   "metadata": {},
   "outputs": [
    {
     "name": "stdout",
     "output_type": "stream",
     "text": [
      "Num examples: 38\n",
      "First example:\n"
     ]
    },
    {
     "ename": "KeyError",
     "evalue": "'messages'",
     "output_type": "error",
     "traceback": [
      "\u001b[0;31m---------------------------------------------------------------------------\u001b[0m",
      "\u001b[0;31mKeyError\u001b[0m                                  Traceback (most recent call last)",
      "Cell \u001b[0;32mIn[58], line 10\u001b[0m\n\u001b[1;32m      8\u001b[0m \u001b[38;5;28mprint\u001b[39m(\u001b[38;5;124m\"\u001b[39m\u001b[38;5;124mNum examples:\u001b[39m\u001b[38;5;124m\"\u001b[39m, \u001b[38;5;28mlen\u001b[39m(dataset))\n\u001b[1;32m      9\u001b[0m \u001b[38;5;28mprint\u001b[39m(\u001b[38;5;124m\"\u001b[39m\u001b[38;5;124mFirst example:\u001b[39m\u001b[38;5;124m\"\u001b[39m)\n\u001b[0;32m---> 10\u001b[0m \u001b[38;5;28;01mfor\u001b[39;00m message \u001b[38;5;129;01min\u001b[39;00m \u001b[43mdataset\u001b[49m\u001b[43m[\u001b[49m\u001b[38;5;241;43m0\u001b[39;49m\u001b[43m]\u001b[49m\u001b[43m[\u001b[49m\u001b[38;5;124;43m\"\u001b[39;49m\u001b[38;5;124;43mmessages\u001b[39;49m\u001b[38;5;124;43m\"\u001b[39;49m\u001b[43m]\u001b[49m:\n\u001b[1;32m     11\u001b[0m     \u001b[38;5;28mprint\u001b[39m(message)\n",
      "\u001b[0;31mKeyError\u001b[0m: 'messages'"
     ]
    }
   ],
   "source": [
    "data_path = \"./mbpp_completion.jsonl\"\n",
    "\n",
    "# Load the dataset\n",
    "with open(data_path, 'r', encoding='utf-8') as f:\n",
    "    dataset = [json.loads(line) for line in f]\n",
    "\n",
    "# Initial dataset stats\n",
    "print(\"Num examples:\", len(dataset))\n",
    "print(\"First example:\")\n",
    "for message in dataset[0][\"messages\"]:\n",
    "    print(message)"
   ]
  },
  {
   "cell_type": "code",
   "execution_count": 31,
   "id": "37d2ed7c-dc22-4d2f-bf94-eba0829464d3",
   "metadata": {},
   "outputs": [
    {
     "name": "stdout",
     "output_type": "stream",
     "text": [
      "\n",
      "\u001b[1m[\u001b[0m\u001b[34;49mnotice\u001b[0m\u001b[1;39;49m]\u001b[0m\u001b[39;49m A new release of pip is available: \u001b[0m\u001b[31;49m23.2.1\u001b[0m\u001b[39;49m -> \u001b[0m\u001b[32;49m23.3.1\u001b[0m\n",
      "\u001b[1m[\u001b[0m\u001b[34;49mnotice\u001b[0m\u001b[1;39;49m]\u001b[0m\u001b[39;49m To update, run: \u001b[0m\u001b[32;49m/opt/homebrew/Cellar/jupyterlab/4.0.6_1/libexec/bin/python -m pip install --upgrade pip\u001b[0m\n",
      "Note: you may need to restart the kernel to use updated packages.\n"
     ]
    }
   ],
   "source": [
    "pip install tiktoken -q"
   ]
  },
  {
   "cell_type": "code",
   "execution_count": 32,
   "id": "1f621982-bf23-414e-9a23-16cfff5e54e9",
   "metadata": {},
   "outputs": [
    {
     "name": "stdout",
     "output_type": "stream",
     "text": [
      "\n",
      "\u001b[1m[\u001b[0m\u001b[34;49mnotice\u001b[0m\u001b[1;39;49m]\u001b[0m\u001b[39;49m A new release of pip is available: \u001b[0m\u001b[31;49m23.2.1\u001b[0m\u001b[39;49m -> \u001b[0m\u001b[32;49m23.3.1\u001b[0m\n",
      "\u001b[1m[\u001b[0m\u001b[34;49mnotice\u001b[0m\u001b[1;39;49m]\u001b[0m\u001b[39;49m To update, run: \u001b[0m\u001b[32;49m/opt/homebrew/Cellar/jupyterlab/4.0.6_1/libexec/bin/python -m pip install --upgrade pip\u001b[0m\n",
      "Note: you may need to restart the kernel to use updated packages.\n"
     ]
    }
   ],
   "source": [
    "pip install collection -q"
   ]
  },
  {
   "cell_type": "code",
   "execution_count": 33,
   "id": "52ab4a05-0aee-401f-9bbd-58a0da0fc47d",
   "metadata": {},
   "outputs": [
    {
     "name": "stdout",
     "output_type": "stream",
     "text": [
      "No errors found\n"
     ]
    }
   ],
   "source": [
    "import tiktoken # for token counting\n",
    "import numpy as np\n",
    "from collections import defaultdict\n",
    "# Format error checks\n",
    "format_errors = defaultdict(int)\n",
    "\n",
    "for ex in dataset:\n",
    "    if not isinstance(ex, dict):\n",
    "        format_errors[\"data_type\"] += 1\n",
    "        continue\n",
    "        \n",
    "    messages = ex.get(\"messages\", None)\n",
    "    if not messages:\n",
    "        format_errors[\"missing_messages_list\"] += 1\n",
    "        continue\n",
    "        \n",
    "    for message in messages:\n",
    "        if \"role\" not in message or \"content\" not in message:\n",
    "            format_errors[\"message_missing_key\"] += 1\n",
    "        \n",
    "        if any(k not in (\"role\", \"content\", \"name\", \"function_call\") for k in message):\n",
    "            format_errors[\"message_unrecognized_key\"] += 1\n",
    "        \n",
    "        if message.get(\"role\", None) not in (\"system\", \"user\", \"assistant\", \"function\"):\n",
    "            format_errors[\"unrecognized_role\"] += 1\n",
    "            \n",
    "        content = message.get(\"content\", None)\n",
    "        function_call = message.get(\"function_call\", None)\n",
    "        \n",
    "        if (not content and not function_call) or not isinstance(content, str):\n",
    "            format_errors[\"missing_content\"] += 1\n",
    "    \n",
    "    if not any(message.get(\"role\", None) == \"assistant\" for message in messages):\n",
    "        format_errors[\"example_missing_assistant_message\"] += 1\n",
    "\n",
    "if format_errors:\n",
    "    print(\"Found errors:\")\n",
    "    for k, v in format_errors.items():\n",
    "        print(f\"{k}: {v}\")\n",
    "else:\n",
    "    print(\"No errors found\")"
   ]
  },
  {
   "cell_type": "code",
   "execution_count": 34,
   "id": "0f108c2b-b396-4221-860c-374f63c86a5a",
   "metadata": {},
   "outputs": [],
   "source": [
    "encoding = tiktoken.get_encoding(\"cl100k_base\")\n",
    "\n",
    "# not exact!\n",
    "# simplified from https://github.com/openai/openai-cookbook/blob/main/examples/How_to_count_tokens_with_tiktoken.ipynb\n",
    "def num_tokens_from_messages(messages, tokens_per_message=3, tokens_per_name=1):\n",
    "    num_tokens = 0\n",
    "    for message in messages:\n",
    "        num_tokens += tokens_per_message\n",
    "        for key, value in message.items():\n",
    "            num_tokens += len(encoding.encode(value))\n",
    "            if key == \"name\":\n",
    "                num_tokens += tokens_per_name\n",
    "    num_tokens += 3\n",
    "    return num_tokens\n",
    "\n",
    "def num_assistant_tokens_from_messages(messages):\n",
    "    num_tokens = 0\n",
    "    for message in messages:\n",
    "        if message[\"role\"] == \"assistant\":\n",
    "            num_tokens += len(encoding.encode(message[\"content\"]))\n",
    "    return num_tokens\n",
    "\n",
    "def print_distribution(values, name):\n",
    "    print(f\"\\n#### Distribution of {name}:\")\n",
    "    print(f\"min / max: {min(values)}, {max(values)}\")\n",
    "    print(f\"mean / median: {np.mean(values)}, {np.median(values)}\")\n",
    "    print(f\"p5 / p95: {np.quantile(values, 0.1)}, {np.quantile(values, 0.9)}\")"
   ]
  },
  {
   "cell_type": "code",
   "execution_count": 35,
   "id": "356773cf-3395-447e-bc93-35b9d5b632a1",
   "metadata": {},
   "outputs": [
    {
     "name": "stdout",
     "output_type": "stream",
     "text": [
      "Num examples missing system message: 0\n",
      "Num examples missing user message: 0\n",
      "\n",
      "#### Distribution of num_messages_per_example:\n",
      "min / max: 3, 3\n",
      "mean / median: 3.0, 3.0\n",
      "p5 / p95: 3.0, 3.0\n",
      "\n",
      "#### Distribution of num_total_tokens_per_example:\n",
      "min / max: 114, 145\n",
      "mean / median: 119.63157894736842, 118.0\n",
      "p5 / p95: 114.0, 122.9\n",
      "\n",
      "#### Distribution of num_assistant_tokens_per_example:\n",
      "min / max: 7, 7\n",
      "mean / median: 7.0, 7.0\n",
      "p5 / p95: 7.0, 7.0\n",
      "\n",
      "0 examples may be over the 4096 token limit, they will be truncated during fine-tuning\n"
     ]
    }
   ],
   "source": [
    "# Warnings and tokens counts\n",
    "n_missing_system = 0\n",
    "n_missing_user = 0\n",
    "n_messages = []\n",
    "convo_lens = []\n",
    "assistant_message_lens = []\n",
    "\n",
    "for ex in dataset:\n",
    "    messages = ex[\"messages\"]\n",
    "    if not any(message[\"role\"] == \"system\" for message in messages):\n",
    "        n_missing_system += 1\n",
    "    if not any(message[\"role\"] == \"user\" for message in messages):\n",
    "        n_missing_user += 1\n",
    "    n_messages.append(len(messages))\n",
    "    convo_lens.append(num_tokens_from_messages(messages))\n",
    "    assistant_message_lens.append(num_assistant_tokens_from_messages(messages))\n",
    "    \n",
    "print(\"Num examples missing system message:\", n_missing_system)\n",
    "print(\"Num examples missing user message:\", n_missing_user)\n",
    "print_distribution(n_messages, \"num_messages_per_example\")\n",
    "print_distribution(convo_lens, \"num_total_tokens_per_example\")\n",
    "print_distribution(assistant_message_lens, \"num_assistant_tokens_per_example\")\n",
    "n_too_long = sum(l > 4096 for l in convo_lens)\n",
    "print(f\"\\n{n_too_long} examples may be over the 4096 token limit, they will be truncated during fine-tuning\")"
   ]
  },
  {
   "cell_type": "code",
   "execution_count": 36,
   "id": "cdd9ec57-ee1c-4ce6-ac90-f35b90ac3a32",
   "metadata": {},
   "outputs": [
    {
     "name": "stdout",
     "output_type": "stream",
     "text": [
      "Dataset has ~4546 tokens that will be charged for during training\n",
      "By default, you'll train for 3 epochs on this dataset\n",
      "By default, you'll be charged for ~13638 tokens\n"
     ]
    }
   ],
   "source": [
    "# Pricing and default n_epochs estimate\n",
    "MAX_TOKENS_PER_EXAMPLE = 4096\n",
    "\n",
    "TARGET_EPOCHS = 3\n",
    "MIN_TARGET_EXAMPLES = 100\n",
    "MAX_TARGET_EXAMPLES = 25000\n",
    "MIN_DEFAULT_EPOCHS = 1\n",
    "MAX_DEFAULT_EPOCHS = 25\n",
    "\n",
    "n_epochs = TARGET_EPOCHS\n",
    "n_train_examples = len(dataset)\n",
    "if n_train_examples * TARGET_EPOCHS < MIN_TARGET_EXAMPLES:\n",
    "    n_epochs = min(MAX_DEFAULT_EPOCHS, MIN_TARGET_EXAMPLES // n_train_examples)\n",
    "elif n_train_examples * TARGET_EPOCHS > MAX_TARGET_EXAMPLES:\n",
    "    n_epochs = max(MIN_DEFAULT_EPOCHS, MAX_TARGET_EXAMPLES // n_train_examples)\n",
    "\n",
    "n_billing_tokens_in_dataset = sum(min(MAX_TOKENS_PER_EXAMPLE, length) for length in convo_lens)\n",
    "print(f\"Dataset has ~{n_billing_tokens_in_dataset} tokens that will be charged for during training\")\n",
    "print(f\"By default, you'll train for {n_epochs} epochs on this dataset\")\n",
    "print(f\"By default, you'll be charged for ~{n_epochs * n_billing_tokens_in_dataset} tokens\")"
   ]
  },
  {
   "cell_type": "code",
   "execution_count": 37,
   "id": "549f63db-53cb-4d20-8e41-ce94218e187f",
   "metadata": {},
   "outputs": [],
   "source": [
    "tokens = n_epochs * n_billing_tokens_in_dataset"
   ]
  },
  {
   "cell_type": "code",
   "execution_count": 39,
   "id": "fde41db2-5e83-4aa2-949a-ea9b4e0d4ba9",
   "metadata": {},
   "outputs": [
    {
     "data": {
      "text/plain": [
       "0.081828"
      ]
     },
     "execution_count": 39,
     "metadata": {},
     "output_type": "execute_result"
    }
   ],
   "source": [
    "cost_dvnci = n_epochs * n_billing_tokens_in_dataset * 0.001 * 0.006\n",
    "cost_dvnci"
   ]
  },
  {
   "cell_type": "code",
   "execution_count": null,
   "id": "5f0154d7-a0be-4864-b2c6-4d9d67da56e3",
   "metadata": {},
   "outputs": [],
   "source": []
  }
 ],
 "metadata": {
  "kernelspec": {
   "display_name": "Python 3 (ipykernel)",
   "language": "python",
   "name": "python3"
  },
  "language_info": {
   "codemirror_mode": {
    "name": "ipython",
    "version": 3
   },
   "file_extension": ".py",
   "mimetype": "text/x-python",
   "name": "python",
   "nbconvert_exporter": "python",
   "pygments_lexer": "ipython3",
   "version": "3.11.6"
  }
 },
 "nbformat": 4,
 "nbformat_minor": 5
}
